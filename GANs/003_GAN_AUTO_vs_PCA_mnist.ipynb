{
 "cells": [
  {
   "cell_type": "code",
   "execution_count": 0,
   "metadata": {
    "colab": {},
    "colab_type": "code",
    "id": "nm9efSj8hpC0"
   },
   "outputs": [],
   "source": [
    "# General libraries\n",
    "import numpy as np\n",
    "import tensorflow as tf\n",
    "import matplotlib.pyplot as plt\n",
    "# Libraries for autoencoding\n",
    "from tensorflow.keras import datasets\n",
    "from tensorflow.keras.optimizers import SGD \n",
    "from tensorflow.keras.models import Sequential\n",
    "from tensorflow.keras.layers import Dense, Flatten, Reshape\n",
    "# Libraries for PCA\n",
    "from sklearn.decomposition import PCA\n",
    "from sklearn.preprocessing import StandardScaler"
   ]
  },
  {
   "cell_type": "code",
   "execution_count": 2,
   "metadata": {
    "colab": {
     "base_uri": "https://localhost:8080/",
     "height": 51
    },
    "colab_type": "code",
    "id": "B5etuySThwN7",
    "outputId": "9f6bd3c9-690e-4fea-e1c2-27ac346dab31"
   },
   "outputs": [
    {
     "name": "stdout",
     "output_type": "stream",
     "text": [
      "Downloading data from https://storage.googleapis.com/tensorflow/tf-keras-datasets/mnist.npz\n",
      "11493376/11490434 [==============================] - 0s 0us/step\n"
     ]
    }
   ],
   "source": [
    "# Importing the image data and normalizing\n",
    "(X_train, y_train), (X_test, y_test) = datasets.mnist.load_data()\n",
    "X_train, X_test = X_train / 255.0, X_test / 255.0"
   ]
  },
  {
   "cell_type": "code",
   "execution_count": 0,
   "metadata": {
    "colab": {},
    "colab_type": "code",
    "id": "iIQFP1tPh79R"
   },
   "outputs": [],
   "source": [
    "# Try different sizes!\n",
    "size_hidden_layer = 20"
   ]
  },
  {
   "cell_type": "code",
   "execution_count": 0,
   "metadata": {
    "colab": {},
    "colab_type": "code",
    "id": "Gc_v917DiA8W"
   },
   "outputs": [],
   "source": [
    "# Encoder with just one hidden layer\n",
    "class Encoder(Sequential):\n",
    "    def __init__(self):\n",
    "        super().__init__()\n",
    "\n",
    "        self.add(Flatten(input_shape=(28, 28)))\n",
    "        self.add(Dense(size_hidden_layer, activation='relu'))"
   ]
  },
  {
   "cell_type": "code",
   "execution_count": 0,
   "metadata": {
    "colab": {},
    "colab_type": "code",
    "id": "X20Y4jv0iJm6"
   },
   "outputs": [],
   "source": [
    "# Decoder with a dense layer with 28x28 units.\n",
    "class Decoder(Sequential):\n",
    "    def __init__(self):\n",
    "        super().__init__()\n",
    "\n",
    "        self.add(Dense(784,   activation='sigmoid',\n",
    "                       input_shape=[size_hidden_layer]))\n",
    "        self.add(Reshape([28, 28]))"
   ]
  },
  {
   "cell_type": "code",
   "execution_count": 0,
   "metadata": {
    "colab": {},
    "colab_type": "code",
    "id": "9z0gLhe1iNkJ"
   },
   "outputs": [],
   "source": [
    "encoder = Encoder()\n",
    "decoder = Decoder()"
   ]
  },
  {
   "cell_type": "code",
   "execution_count": 0,
   "metadata": {
    "colab": {},
    "colab_type": "code",
    "id": "BRVbtehriQu0"
   },
   "outputs": [],
   "source": [
    "# Autoencoder can be created as a sequential model with\n",
    "# encoder and decoder.\n",
    "autoencoder = Sequential([encoder, decoder])\n",
    "\n",
    "autoencoder.compile(loss= 'mean_squared_error',\n",
    "                    optimizer= SGD(1.5),\n",
    "                    metrics=['accuracy'])"
   ]
  },
  {
   "cell_type": "code",
   "execution_count": 8,
   "metadata": {
    "colab": {
     "base_uri": "https://localhost:8080/",
     "height": 187
    },
    "colab_type": "code",
    "id": "wR5XI4T5iVzv",
    "outputId": "1c16f8b4-a59f-4757-ee5b-227dd7a410ac"
   },
   "outputs": [
    {
     "name": "stdout",
     "output_type": "stream",
     "text": [
      "Epoch 1/5\n",
      "1875/1875 [==============================] - 3s 2ms/step - loss: 0.0643 - accuracy: 0.1061\n",
      "Epoch 2/5\n",
      "1875/1875 [==============================] - 3s 2ms/step - loss: 0.0405 - accuracy: 0.1734\n",
      "Epoch 3/5\n",
      "1875/1875 [==============================] - 3s 2ms/step - loss: 0.0342 - accuracy: 0.1973\n",
      "Epoch 4/5\n",
      "1875/1875 [==============================] - 3s 2ms/step - loss: 0.0304 - accuracy: 0.2092\n",
      "Epoch 5/5\n",
      "1875/1875 [==============================] - 3s 2ms/step - loss: 0.0278 - accuracy: 0.2171\n"
     ]
    }
   ],
   "source": [
    "# Note that here X_test is not obligatory.\n",
    "autoencoder_hidden_layer_results = autoencoder.fit(X_train, X_train,\n",
    "                                                   epochs= 5)"
   ]
  },
  {
   "cell_type": "code",
   "execution_count": 0,
   "metadata": {
    "colab": {},
    "colab_type": "code",
    "id": "iAxYK237icUw"
   },
   "outputs": [],
   "source": [
    "# Prediction for the first 10 images\n",
    "X_rec_autoencoder = autoencoder.predict(X_test[:10])\n",
    "# This will show the difference between the prediction\n",
    "# and the original data\n",
    "diff_autoencoder = X_rec_autoencoder - X_test[:10]"
   ]
  },
  {
   "cell_type": "markdown",
   "metadata": {
    "colab_type": "text",
    "id": "11eUjJcGhwe4"
   },
   "source": [
    "Now, let's do the same for PCA:"
   ]
  },
  {
   "cell_type": "code",
   "execution_count": 0,
   "metadata": {
    "colab": {},
    "colab_type": "code",
    "id": "A_6zwKQMigaE"
   },
   "outputs": [],
   "source": [
    "X_train = X_train.reshape([X_train.shape[0], X_train.shape[1] * X_train.shape[2]])\n",
    "X_test = X_test.reshape([X_test.shape[0], X_test.shape[1] * X_test.shape[2]])"
   ]
  },
  {
   "cell_type": "code",
   "execution_count": 0,
   "metadata": {
    "colab": {},
    "colab_type": "code",
    "id": "m-dfsoENilp-"
   },
   "outputs": [],
   "source": [
    "n_components = 20\n",
    "\n",
    "pca = PCA(n_components=n_components)\n",
    "pca.fit(X_train)\n",
    "\n",
    "num_elements = X_test.shape[0]\n",
    "X_test_PCA = pca.fit_transform(X_test)"
   ]
  },
  {
   "cell_type": "code",
   "execution_count": 0,
   "metadata": {
    "colab": {},
    "colab_type": "code",
    "id": "Pz-N-7XznSpq"
   },
   "outputs": [],
   "source": [
    "X_rec_pca = pca.inverse_transform(X_test_PCA)"
   ]
  },
  {
   "cell_type": "code",
   "execution_count": 0,
   "metadata": {
    "colab": {},
    "colab_type": "code",
    "id": "6WJg20Pqi4Yw"
   },
   "outputs": [],
   "source": [
    "X_rec_pca = np.reshape(X_rec_pca[:10], (10,28,28))\n",
    "X_test = np.reshape(X_test[:10], (10,28,28))\n",
    "# This will show the difference between the prediction\n",
    "# and the original data\n",
    "diff_pca = X_rec_pca - X_test"
   ]
  },
  {
   "cell_type": "code",
   "execution_count": 0,
   "metadata": {
    "colab": {},
    "colab_type": "code",
    "id": "dMbeHAPgitOE"
   },
   "outputs": [],
   "source": [
    "# Function for plotting the data and results\n",
    "def plotter(data, title):\n",
    "    fig = plt.figure(figsize=(12, 6))\n",
    "    fig.subplots_adjust(left=0, right=1, bottom=0, top=1, hspace=0.05, wspace=0.05)\n",
    "    for i in range(10):\n",
    "        ax = fig.add_subplot(1, 10, i + 1, xticks=[], yticks=[])\n",
    "        ax.imshow(data[i], \n",
    "                cmap=plt.cm.binary, interpolation='nearest')\n",
    "    ax.yaxis.set_label_position(\"right\")\n",
    "    ax.set_ylabel(title, fontsize='medium')"
   ]
  },
  {
   "cell_type": "code",
   "execution_count": 18,
   "metadata": {
    "colab": {
     "base_uri": "https://localhost:8080/",
     "height": 317
    },
    "colab_type": "code",
    "id": "fXLAOBd4i1A5",
    "outputId": "c19aafbd-986a-436d-cbbe-a35528f35dd7"
   },
   "outputs": [
    {
     "data": {
      "image/png": "[encoded data removed]",
      "text/plain": [
       "<Figure size 864x432 with 10 Axes>"
      ]
     },
     "metadata": {
      "tags": []
     },
     "output_type": "display_data"
    },
    {
     "data": {
      "image/png": "[encoded data removed]",
      "text/plain": [
       "<Figure size 864x432 with 10 Axes>"
      ]
     },
     "metadata": {
      "tags": []
     },
     "output_type": "display_data"
    },
    {
     "data": {
      "image/png": "[encoded data removed]",
      "text/plain": [
       "<Figure size 864x432 with 10 Axes>"
      ]
     },
     "metadata": {
      "tags": []
     },
     "output_type": "display_data"
    }
   ],
   "source": [
    "# Now let's see how the predictions look\n",
    "# Along with the difference from the original\n",
    "plotter(X_test,'X_test')\n",
    "plotter(X_rec_autoencoder,'Autoencoder')\n",
    "plotter(X_rec_pca,'PCA')"
   ]
  }
 ],
 "metadata": {
  "colab": {
   "collapsed_sections": [],
   "name": "003_GAN_AUTO_vs_PCA_mnist.ipynb",
   "provenance": []
  },
  "kernelspec": {
   "display_name": "Python 3",
   "language": "python",
   "name": "python3"
  },
  "language_info": {
   "codemirror_mode": {
    "name": "ipython",
    "version": 3
   },
   "file_extension": ".py",
   "mimetype": "text/x-python",
   "name": "python",
   "nbconvert_exporter": "python",
   "pygments_lexer": "ipython3",
   "version": "3.7.0"
  }
 },
 "nbformat": 4,
 "nbformat_minor": 1
}
