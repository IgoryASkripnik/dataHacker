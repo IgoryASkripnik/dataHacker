{
 "cells": [
  {
   "cell_type": "code",
   "execution_count": 0,
   "metadata": {
    "colab": {},
    "colab_type": "code",
    "id": "KBvGHC1fuSdz"
   },
   "outputs": [],
   "source": [
    "# So, this is exactly the same as the first way, which is also the easiest one.\n",
    "# The only difference is we're building the model using model subclassing with Keras."
   ]
  },
  {
   "cell_type": "code",
   "execution_count": 0,
   "metadata": {
    "colab": {},
    "colab_type": "code",
    "id": "Hhc_EB9Xuuce"
   },
   "outputs": [],
   "source": [
    "import matplotlib.pyplot as plt\n",
    "from tensorflow.keras import Model\n",
    "from tensorflow.keras import datasets\n",
    "from tensorflow.keras.optimizers import SGD \n",
    "from tensorflow.keras.layers import Dense, Flatten, Reshape"
   ]
  },
  {
   "cell_type": "code",
   "execution_count": 0,
   "metadata": {
    "colab": {},
    "colab_type": "code",
    "id": "jMBo9qZwuw_f"
   },
   "outputs": [],
   "source": [
    "# Creating an encoder\n",
    "class Encoder(Model):\n",
    "    def __init__(self):\n",
    "        super(Encoder, self).__init__()\n",
    "        self.flatten = Flatten(input_shape=(28, 28))\n",
    "        self.dense_1 = Dense(400, activation='relu')\n",
    "        self.dense_2 = Dense(200, activation='relu')\n",
    "        self.dense_3 = Dense(100, activation='relu')\n",
    "        self.dense_4 = Dense(50,  activation='relu')\n",
    "        self.dense_5 = Dense(25,  activation='relu')\n",
    "\n",
    "    def call(self, x):\n",
    "        x = self.flatten(x)\n",
    "        x = self.dense_1(x)\n",
    "        x = self.dense_2(x)\n",
    "        x = self.dense_3(x)\n",
    "        x = self.dense_4(x)\n",
    "\n",
    "        return self.dense_5(x)"
   ]
  },
  {
   "cell_type": "code",
   "execution_count": 0,
   "metadata": {
    "colab": {},
    "colab_type": "code",
    "id": "-dnXHBg_u0mE"
   },
   "outputs": [],
   "source": [
    "# Creating a decoder\n",
    "class Decoder(Model):\n",
    "    def __init__(self):\n",
    "        super(Decoder, self).__init__()\n",
    "        self.dense_1 = Dense(50,   activation='relu', input_shape=[25])\n",
    "        self.dense_2 = Dense(100,  activation='relu')\n",
    "        self.dense_3 = Dense(200,  activation='relu')\n",
    "        self.dense_4 = Dense(400,  activation='relu')\n",
    "        self.dense_5 = Dense(784,  activation='sigmoid')\n",
    "        self.reshape = Reshape([28, 28])\n",
    "\n",
    "    def call(self, x):\n",
    "        x = self.dense_1(x)\n",
    "        x = self.dense_2(x)\n",
    "        x = self.dense_3(x)\n",
    "        x = self.dense_4(x)\n",
    "        x = self.dense_5(x)\n",
    "\n",
    "        return self.reshape(x)"
   ]
  },
  {
   "cell_type": "code",
   "execution_count": 0,
   "metadata": {
    "colab": {},
    "colab_type": "code",
    "id": "WoccrLm1u-qa"
   },
   "outputs": [],
   "source": [
    "# Creating the model\n",
    "class Autoencoder(Model):\n",
    "    def __init__(self):\n",
    "        super(Autoencoder, self).__init__()\n",
    "        self.encoder = Encoder()\n",
    "        self.decoder = Decoder()\n",
    "  \n",
    "    def call(self, input_features):\n",
    "        code = self.encoder(input_features)\n",
    "        reconstructed = self.decoder(code)\n",
    "        return reconstructed"
   ]
  },
  {
   "cell_type": "code",
   "execution_count": 0,
   "metadata": {
    "colab": {},
    "colab_type": "code",
    "id": "3uEVXDx-vCAU"
   },
   "outputs": [],
   "source": [
    "# Create an instance of the model\n",
    "autoencoder = Autoencoder()"
   ]
  },
  {
   "cell_type": "code",
   "execution_count": 0,
   "metadata": {
    "colab": {},
    "colab_type": "code",
    "id": "0ktQIu0wvHZh"
   },
   "outputs": [],
   "source": [
    "autoencoder.compile(loss= 'mean_squared_error',\n",
    "                    optimizer= SGD(1.5),\n",
    "                    metrics=['accuracy'])"
   ]
  },
  {
   "cell_type": "code",
   "execution_count": 16,
   "metadata": {
    "colab": {
     "base_uri": "https://localhost:8080/",
     "height": 51
    },
    "colab_type": "code",
    "id": "JTboDX-Vv-Ip",
    "outputId": "7b55c9c5-c731-4781-f3f1-77fcc88da8a6"
   },
   "outputs": [
    {
     "name": "stdout",
     "output_type": "stream",
     "text": [
      "Downloading data from https://storage.googleapis.com/tensorflow/tf-keras-datasets/mnist.npz\n",
      "11493376/11490434 [==============================] - 0s 0us/step\n"
     ]
    }
   ],
   "source": [
    "# Importing the image data and normalizing\n",
    "(X_train, y_train), (X_test, y_test) = datasets.mnist.load_data()\n",
    "X_train, X_test = X_train / 255.0, X_test / 255.0"
   ]
  },
  {
   "cell_type": "code",
   "execution_count": 17,
   "metadata": {
    "colab": {
     "base_uri": "https://localhost:8080/",
     "height": 204
    },
    "colab_type": "code",
    "id": "vO4XuptdvywX",
    "outputId": "66ffe920-bf34-4ba7-a5af-cebf9ab3f8bf"
   },
   "outputs": [
    {
     "name": "stdout",
     "output_type": "stream",
     "text": [
      "Epoch 1/5\n",
      "1875/1875 [==============================] - 14s 7ms/step - loss: 0.0719 - accuracy: 0.0730\n",
      "Epoch 2/5\n",
      "1875/1875 [==============================] - 14s 7ms/step - loss: 0.0528 - accuracy: 0.1143\n",
      "Epoch 3/5\n",
      "1875/1875 [==============================] - 13s 7ms/step - loss: 0.0403 - accuracy: 0.1648\n",
      "Epoch 4/5\n",
      "1875/1875 [==============================] - 13s 7ms/step - loss: 0.0323 - accuracy: 0.1941\n",
      "Epoch 5/5\n",
      "1875/1875 [==============================] - 13s 7ms/step - loss: 0.0283 - accuracy: 0.2090\n"
     ]
    },
    {
     "data": {
      "text/plain": [
       "<tensorflow.python.keras.callbacks.History at 0x7f95ba91a7f0>"
      ]
     },
     "execution_count": 17,
     "metadata": {
      "tags": []
     },
     "output_type": "execute_result"
    }
   ],
   "source": [
    "autoencoder.fit(X_train, X_train,\n",
    "                epochs= 5)"
   ]
  },
  {
   "cell_type": "code",
   "execution_count": 0,
   "metadata": {
    "colab": {},
    "colab_type": "code",
    "id": "bQavsR-Dv1gM"
   },
   "outputs": [],
   "source": [
    "# Prediction for the first 10 images\n",
    "X_keras_autoencoder = autoencoder.predict(X_test[:10])"
   ]
  },
  {
   "cell_type": "code",
   "execution_count": 0,
   "metadata": {
    "colab": {},
    "colab_type": "code",
    "id": "3vxfSecHwZsZ"
   },
   "outputs": [],
   "source": [
    "# Function for plotting the data and results\n",
    "def plotter(data, title):\n",
    "    fig = plt.figure(figsize=(12, 6))\n",
    "    fig.subplots_adjust(left=0, right=1, bottom=0, top=1, hspace=0.05, wspace=0.05)\n",
    "    for i in range(10):\n",
    "        ax = fig.add_subplot(1, 10, i + 1, xticks=[], yticks=[])\n",
    "        ax.imshow(data[i], \n",
    "                cmap=plt.cm.binary, interpolation='nearest')\n",
    "    ax.yaxis.set_label_position(\"right\")\n",
    "    ax.set_ylabel(title, fontsize='medium')"
   ]
  },
  {
   "cell_type": "code",
   "execution_count": 23,
   "metadata": {
    "colab": {
     "base_uri": "https://localhost:8080/",
     "height": 225
    },
    "colab_type": "code",
    "id": "aWFrait1wgGM",
    "outputId": "eede5ea2-a616-4cfb-d8ad-e632e18ffd19"
   },
   "outputs": [
    {
     "data": {
      "image/png": "[encoded data removed]",
      "text/plain": [
       "<Figure size 864x432 with 10 Axes>"
      ]
     },
     "metadata": {
      "tags": []
     },
     "output_type": "display_data"
    },
    {
     "data": {
      "image/png": "[encoded data removed]",
      "text/plain": [
       "<Figure size 864x432 with 10 Axes>"
      ]
     },
     "metadata": {
      "tags": []
     },
     "output_type": "display_data"
    }
   ],
   "source": [
    "# Now let's see how the predictions look\n",
    "plotter(X_test,'X_test')\n",
    "plotter(X_keras_autoencoder,'Autoencoder keras')"
   ]
  }
 ],
 "metadata": {
  "colab": {
   "collapsed_sections": [],
   "name": "003_GAN_keras.ipynb",
   "provenance": []
  },
  "kernelspec": {
   "display_name": "Python 3",
   "language": "python",
   "name": "python3"
  },
  "language_info": {
   "codemirror_mode": {
    "name": "ipython",
    "version": 3
   },
   "file_extension": ".py",
   "mimetype": "text/x-python",
   "name": "python",
   "nbconvert_exporter": "python",
   "pygments_lexer": "ipython3",
   "version": "3.7.0"
  }
 },
 "nbformat": 4,
 "nbformat_minor": 1
}
