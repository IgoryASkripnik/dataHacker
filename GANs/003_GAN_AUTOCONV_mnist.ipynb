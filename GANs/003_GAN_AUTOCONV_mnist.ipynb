{
 "cells": [
  {
   "cell_type": "code",
   "execution_count": 0,
   "metadata": {
    "colab": {},
    "colab_type": "code",
    "id": "sd8XwoOMk5Zq"
   },
   "outputs": [],
   "source": [
    "# General libraries\n",
    "import numpy as np\n",
    "import tensorflow as tf\n",
    "import matplotlib.pyplot as plt\n",
    "# Libraries for Conv\n",
    "from tensorflow.keras import datasets\n",
    "from tensorflow.keras.optimizers import SGD \n",
    "from tensorflow.keras.models import Sequential\n",
    "from tensorflow.keras.layers import Dense, Flatten, Reshape\n",
    "from tensorflow.keras.layers import Conv2D, MaxPooling2D, UpSampling2D\n",
    "# Libraries for PCA\n",
    "from sklearn.decomposition import PCA\n",
    "from sklearn.preprocessing import StandardScaler"
   ]
  },
  {
   "cell_type": "code",
   "execution_count": 0,
   "metadata": {
    "colab": {},
    "colab_type": "code",
    "id": "Rd94kQZsk95Y"
   },
   "outputs": [],
   "source": [
    "# Importing the data and normalizing it\n",
    "(X_train, y_train), (X_test, y_test) = datasets.mnist.load_data()\n",
    "X_train, X_test = X_train / 255.0, X_test / 255.0"
   ]
  },
  {
   "cell_type": "code",
   "execution_count": 37,
   "metadata": {
    "colab": {
     "base_uri": "https://localhost:8080/",
     "height": 51
    },
    "colab_type": "code",
    "id": "3yzs2ycclA7p",
    "outputId": "b9ab308e-220a-44cb-f603-9a9b80cf363d"
   },
   "outputs": [
    {
     "name": "stdout",
     "output_type": "stream",
     "text": [
      "(60000, 28, 28, 1)\n",
      "(10000, 28, 28, 1)\n"
     ]
    }
   ],
   "source": [
    "# Preparing the data\n",
    "X_train = X_train.reshape(X_train.shape[0], X_train.shape[1], X_train.shape[2], 1)\n",
    "X_test = X_test.reshape(X_test.shape[0], X_test.shape[1], X_test.shape[2], 1)\n",
    "\n",
    "print(X_train.shape)\n",
    "print(X_test.shape)"
   ]
  },
  {
   "cell_type": "code",
   "execution_count": 0,
   "metadata": {
    "colab": {},
    "colab_type": "code",
    "id": "t3MICmCMlEab"
   },
   "outputs": [],
   "source": [
    "class Encoder(Sequential):\n",
    "    def __init__(self):\n",
    "        super().__init__()\n",
    "        # Notice the Conv2D layers\n",
    "        self.add(Conv2D(16, (3, 3), activation='relu', padding='same'))\n",
    "        self.add(MaxPooling2D((2, 2), padding='same'))\n",
    "        self.add(Conv2D(8, (3, 3), activation='relu', padding='same'))\n",
    "        self.add(MaxPooling2D((2, 2), padding='same'))\n",
    "        self.add(Conv2D(8, (3, 3), activation='relu', padding='same'))\n",
    "        self.add(MaxPooling2D((2, 2), padding='same'))"
   ]
  },
  {
   "cell_type": "code",
   "execution_count": 0,
   "metadata": {
    "colab": {},
    "colab_type": "code",
    "id": "ClWSEuqJlIy8"
   },
   "outputs": [],
   "source": [
    "class Decoder(Sequential):\n",
    "    def __init__(self):\n",
    "        super().__init__()\n",
    "        # Adding the Conv2D layers to the decoder as well\n",
    "        self.add(Conv2D(8, (3, 3), activation='relu', padding='same'))\n",
    "        self.add(UpSampling2D((2, 2)))\n",
    "        self.add(Conv2D(8, (3, 3), activation='relu', padding='same'))\n",
    "        self.add(UpSampling2D((2, 2)))\n",
    "        self.add(Conv2D(16, (3, 3), activation='relu'))\n",
    "        self.add(UpSampling2D((2, 2)))\n",
    "        self.add(Conv2D(1, (3,3), activation='sigmoid', padding='same'))"
   ]
  },
  {
   "cell_type": "code",
   "execution_count": 0,
   "metadata": {
    "colab": {},
    "colab_type": "code",
    "id": "6wezBsgqlLN5"
   },
   "outputs": [],
   "source": [
    "encoder = Encoder()\n",
    "decoder = Decoder()"
   ]
  },
  {
   "cell_type": "code",
   "execution_count": 0,
   "metadata": {
    "colab": {},
    "colab_type": "code",
    "id": "TvyqTn7nlN0m"
   },
   "outputs": [],
   "source": [
    "autoencoder = Sequential([encoder, decoder])\n",
    "\n",
    "autoencoder.compile(loss= 'mean_squared_error',\n",
    "                                               optimizer= SGD(1.5),\n",
    "                                               metrics=['accuracy'])"
   ]
  },
  {
   "cell_type": "code",
   "execution_count": 42,
   "metadata": {
    "colab": {
     "base_uri": "https://localhost:8080/",
     "height": 187
    },
    "colab_type": "code",
    "id": "NEie8lD3lQ5p",
    "outputId": "4ccc35fe-3c00-4c76-9e5c-abf6f5cb2209"
   },
   "outputs": [
    {
     "name": "stdout",
     "output_type": "stream",
     "text": [
      "Epoch 1/5\n",
      "1875/1875 [==============================] - 87s 46ms/step - loss: 0.0357 - accuracy: 0.7998\n",
      "Epoch 2/5\n",
      "1875/1875 [==============================] - 87s 46ms/step - loss: 0.0231 - accuracy: 0.8069\n",
      "Epoch 3/5\n",
      "1875/1875 [==============================] - 87s 47ms/step - loss: 0.0201 - accuracy: 0.8086\n",
      "Epoch 4/5\n",
      "1875/1875 [==============================] - 87s 46ms/step - loss: 0.0184 - accuracy: 0.8096\n",
      "Epoch 5/5\n",
      "1875/1875 [==============================] - 87s 46ms/step - loss: 0.0172 - accuracy: 0.8103\n"
     ]
    }
   ],
   "source": [
    "autoencoder_conv_results = autoencoder.fit(X_train, X_train,\n",
    "                epochs= 5)"
   ]
  },
  {
   "cell_type": "code",
   "execution_count": 0,
   "metadata": {
    "colab": {},
    "colab_type": "code",
    "id": "lc44o66MlT4l"
   },
   "outputs": [],
   "source": [
    "image_batch = autoencoder.predict(X_test[:10])"
   ]
  },
  {
   "cell_type": "code",
   "execution_count": 0,
   "metadata": {
    "colab": {},
    "colab_type": "code",
    "id": "ss0a0xK9nAXv"
   },
   "outputs": [],
   "source": [
    "X_train = X_train.reshape([X_train.shape[0], X_train.shape[1] * X_train.shape[2]])\n",
    "X_test = X_test.reshape([X_test.shape[0], X_test.shape[1] * X_test.shape[2]])"
   ]
  },
  {
   "cell_type": "markdown",
   "metadata": {
    "colab_type": "text",
    "id": "oTPrVGkdneVi"
   },
   "source": [
    "Let's see how PCA compares now:"
   ]
  },
  {
   "cell_type": "code",
   "execution_count": 0,
   "metadata": {
    "colab": {},
    "colab_type": "code",
    "id": "b-GY8cX6nI7Z"
   },
   "outputs": [],
   "source": [
    "n_components = 20\n",
    "\n",
    "pca = PCA(n_components=n_components)\n",
    "pca.fit(X_train)\n",
    "\n",
    "num_elements = X_test.shape[0]\n",
    "X_test_PCA = pca.fit_transform(X_test)"
   ]
  },
  {
   "cell_type": "code",
   "execution_count": 0,
   "metadata": {
    "colab": {},
    "colab_type": "code",
    "id": "rt5IFH7FnITK"
   },
   "outputs": [],
   "source": [
    "X_rec_pca = pca.inverse_transform(X_test_PCA)"
   ]
  },
  {
   "cell_type": "code",
   "execution_count": 0,
   "metadata": {
    "colab": {},
    "colab_type": "code",
    "id": "g7BQzf_PnWZs"
   },
   "outputs": [],
   "source": [
    "X_rec_pca = np.reshape(X_rec_pca[:10], (10,28,28))\n",
    "X_test = np.reshape(X_test[:10], (10,28,28))"
   ]
  },
  {
   "cell_type": "code",
   "execution_count": 0,
   "metadata": {
    "colab": {},
    "colab_type": "code",
    "id": "LTD6jLFFl2bx"
   },
   "outputs": [],
   "source": [
    "# The function is a little different here than in the previous examples\n",
    "def plotter(data, title):\n",
    "    fig = plt.figure(figsize=(12, 6))\n",
    "    fig.subplots_adjust(left=0, right=1, bottom=0, top=1, hspace=0.05, wspace=0.05)\n",
    "    for i in range(10):\n",
    "        ax = fig.add_subplot(1, 10, i + 1, xticks=[], yticks=[])\n",
    "        ax.imshow(data[i].reshape(28,28), \n",
    "                cmap=plt.cm.binary, interpolation='nearest')\n",
    "    ax.yaxis.set_label_position(\"right\")\n",
    "    ax.set_ylabel(title, fontsize='medium')"
   ]
  },
  {
   "cell_type": "code",
   "execution_count": 49,
   "metadata": {
    "colab": {
     "base_uri": "https://localhost:8080/",
     "height": 322
    },
    "colab_type": "code",
    "id": "7afOp06yvrrn",
    "outputId": "5773020f-5063-4b77-d8d8-bd7d0c67040e"
   },
   "outputs": [
    {
     "data": {
      "image/png": "[encoded data removed]",
      "text/plain": [
       "<Figure size 864x432 with 10 Axes>"
      ]
     },
     "metadata": {
      "tags": []
     },
     "output_type": "display_data"
    },
    {
     "data": {
      "image/png": "[encoded data removed]",
      "text/plain": [
       "<Figure size 864x432 with 10 Axes>"
      ]
     },
     "metadata": {
      "tags": []
     },
     "output_type": "display_data"
    },
    {
     "data": {
      "image/png": "[encoded data removed]",
      "text/plain": [
       "<Figure size 864x432 with 10 Axes>"
      ]
     },
     "metadata": {
      "tags": []
     },
     "output_type": "display_data"
    }
   ],
   "source": [
    "plotter(X_test, 'X_test')\n",
    "plotter(image_batch, 'Autoencoder conv')\n",
    "plotter(X_rec_pca, 'PCA')"
   ]
  }
 ],
 "metadata": {
  "colab": {
   "collapsed_sections": [],
   "name": "003_GAN_AUTOCONV_mnist.ipynb",
   "provenance": []
  },
  "kernelspec": {
   "display_name": "Python 3",
   "language": "python",
   "name": "python3"
  },
  "language_info": {
   "codemirror_mode": {
    "name": "ipython",
    "version": 3
   },
   "file_extension": ".py",
   "mimetype": "text/x-python",
   "name": "python",
   "nbconvert_exporter": "python",
   "pygments_lexer": "ipython3",
   "version": "3.7.0"
  }
 },
 "nbformat": 4,
 "nbformat_minor": 1
}
