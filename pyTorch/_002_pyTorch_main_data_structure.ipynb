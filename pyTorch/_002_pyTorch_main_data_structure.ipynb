{
  "nbformat": 4,
  "nbformat_minor": 0,
  "metadata": {
    "colab": {
      "name": "#002 PyTorch - The main data structure of PyTorch.ipynb",
      "provenance": []
    },
    "kernelspec": {
      "name": "python3",
      "display_name": "Python 3"
    }
  },
  "cells": [
    {
      "cell_type": "code",
      "metadata": {
        "id": "oZhNi36zM0Mj",
        "colab_type": "code",
        "colab": {
          "base_uri": "https://localhost:8080/",
          "height": 274
        },
        "outputId": "3f0b01f3-e5d6-4756-fec6-4735bb263d15"
      },
      "source": [
        "# Import necessary library\n",
        "import torch\n",
        "\n",
        "vector_data = [20., 40., 60., 80., 100.]\n",
        "vector = torch.tensor(vector_data)\n",
        "print(vector, end='\\n\\n')\n",
        "\n",
        "# Create a 2D Tensor of size 2x3\n",
        "Matrix_data = [[20., 40., 60.], [80., 100., 120.]]\n",
        "Matrix = torch.tensor(Matrix_data)\n",
        "print(Matrix, end='\\n\\n')\n",
        "\n",
        "# Create a 3D tensor of size 3x2x2.\n",
        "Tensor_data = [[[20., 40.], [60., 80.]],\n",
        "          [[100., 120.], [140., 160.]],\n",
        "          [[180., 200.], [220., 240.]]]\n",
        "Tensor = torch.tensor(Tensor_data)\n",
        "print(Tensor, end='\\n\\n')"
      ],
      "execution_count": null,
      "outputs": [
        {
          "output_type": "stream",
          "text": [
            "tensor([ 20.,  40.,  60.,  80., 100.])\n",
            "\n",
            "tensor([[ 20.,  40.,  60.],\n",
            "        [ 80., 100., 120.]])\n",
            "\n",
            "tensor([[[ 20.,  40.],\n",
            "         [ 60.,  80.]],\n",
            "\n",
            "        [[100., 120.],\n",
            "         [140., 160.]],\n",
            "\n",
            "        [[180., 200.],\n",
            "         [220., 240.]]])\n",
            "\n"
          ],
          "name": "stdout"
        }
      ]
    },
    {
      "cell_type": "code",
      "metadata": {
        "id": "Dx98SX1iNOFe",
        "colab_type": "code",
        "colab": {
          "base_uri": "https://localhost:8080/",
          "height": 109
        },
        "outputId": "5c469d24-3c4a-4327-9c1f-543ed4f13281"
      },
      "source": [
        "# Indexing into vector and get a scalar\n",
        "print(vector[0])\n",
        "\n",
        "# Get a Python number from it\n",
        "print(vector[0].item())\n",
        "\n",
        "# Indexing into Matrix and get a vector\n",
        "print(Matrix[0])\n",
        "\n",
        "# Indexing into Tensor and get a matrix\n",
        "print(Tensor[0])"
      ],
      "execution_count": null,
      "outputs": [
        {
          "output_type": "stream",
          "text": [
            "tensor(20.)\n",
            "20.0\n",
            "tensor([20., 40., 60.])\n",
            "tensor([[20., 40.],\n",
            "        [60., 80.]])\n"
          ],
          "name": "stdout"
        }
      ]
    },
    {
      "cell_type": "code",
      "metadata": {
        "id": "_cWP7OYNNOOq",
        "colab_type": "code",
        "colab": {
          "base_uri": "https://localhost:8080/",
          "height": 90
        },
        "outputId": "2116eb51-eec1-4c30-b439-4493c50dafc5"
      },
      "source": [
        "z = torch.randn((4, 4))\n",
        "print(z)"
      ],
      "execution_count": null,
      "outputs": [
        {
          "output_type": "stream",
          "text": [
            "tensor([[ 0.2887,  0.7928,  0.4076, -1.1513],\n",
            "        [ 1.1598, -0.0620,  0.3933, -1.1523],\n",
            "        [ 1.8673, -0.7979,  1.7806, -0.5694],\n",
            "        [-2.6755, -0.2938,  0.1893, -0.6120]])\n"
          ],
          "name": "stdout"
        }
      ]
    },
    {
      "cell_type": "code",
      "metadata": {
        "id": "xADkIWC4NORS",
        "colab_type": "code",
        "colab": {
          "base_uri": "https://localhost:8080/",
          "height": 35
        },
        "outputId": "7f91ca2d-4ccf-4db9-aadb-d5e464bd2753"
      },
      "source": [
        "x = torch.tensor([4., 2., 6.])\n",
        "y = torch.tensor([3., 19., 12.])\n",
        "\n",
        "# Addition\n",
        "torch.add(x, y)"
      ],
      "execution_count": null,
      "outputs": [
        {
          "output_type": "execute_result",
          "data": {
            "text/plain": [
              "tensor([ 7., 21., 18.])"
            ]
          },
          "metadata": {
            "tags": []
          },
          "execution_count": 5
        }
      ]
    },
    {
      "cell_type": "code",
      "metadata": {
        "id": "HcB5TmwaNOUC",
        "colab_type": "code",
        "colab": {
          "base_uri": "https://localhost:8080/",
          "height": 35
        },
        "outputId": "4aa2b4c7-c565-48d7-b197-d24943518f24"
      },
      "source": [
        "# Subtraction\n",
        "torch.sub(x, y)"
      ],
      "execution_count": null,
      "outputs": [
        {
          "output_type": "execute_result",
          "data": {
            "text/plain": [
              "tensor([  1., -17.,  -6.])"
            ]
          },
          "metadata": {
            "tags": []
          },
          "execution_count": 6
        }
      ]
    },
    {
      "cell_type": "code",
      "metadata": {
        "id": "lKro4v9FNl2p",
        "colab_type": "code",
        "colab": {
          "base_uri": "https://localhost:8080/",
          "height": 35
        },
        "outputId": "0382e4d7-0414-497d-f69c-7e94206d831e"
      },
      "source": [
        "# Multiplication\n",
        "torch.mul(x, y)"
      ],
      "execution_count": null,
      "outputs": [
        {
          "output_type": "execute_result",
          "data": {
            "text/plain": [
              "tensor([12., 38., 72.])"
            ]
          },
          "metadata": {
            "tags": []
          },
          "execution_count": 7
        }
      ]
    },
    {
      "cell_type": "code",
      "metadata": {
        "id": "yXdSIGSBNpRL",
        "colab_type": "code",
        "colab": {
          "base_uri": "https://localhost:8080/",
          "height": 35
        },
        "outputId": "16fe759a-cf88-47c9-8dfd-b01197722e6c"
      },
      "source": [
        "# Division\n",
        "torch.div(x, y)"
      ],
      "execution_count": null,
      "outputs": [
        {
          "output_type": "execute_result",
          "data": {
            "text/plain": [
              "tensor([1.3333, 0.1053, 0.5000])"
            ]
          },
          "metadata": {
            "tags": []
          },
          "execution_count": 8
        }
      ]
    },
    {
      "cell_type": "code",
      "metadata": {
        "id": "Eek3a5gKNtLP",
        "colab_type": "code",
        "colab": {
          "base_uri": "https://localhost:8080/",
          "height": 90
        },
        "outputId": "e0a53033-1e3e-40e5-e076-11690064af13"
      },
      "source": [
        "# Concatenate columns: Row-wise, axis=0 is by default.\n",
        "a_1 = torch.randn(2, 2)\n",
        "b_1 = torch.randn(2, 2)\n",
        "c_1 = torch.cat([a_1, b_1], axis=0)\n",
        "print(c_"
      ],
      "execution_count": null,
      "outputs": [
        {
          "output_type": "stream",
          "text": [
            "tensor([[ 1.8691, -0.2951],\n",
            "        [ 0.1459,  0.5055],\n",
            "        [-0.7777,  0.5227],\n",
            "        [-0.5544,  0.5988]])\n"
          ],
          "name": "stdout"
        }
      ]
    },
    {
      "cell_type": "code",
      "metadata": {
        "id": "H6IPVYEzNtOS",
        "colab_type": "code",
        "colab": {
          "base_uri": "https://localhost:8080/",
          "height": 54
        },
        "outputId": "1e62e368-93fc-41d9-df2f-0b6b27b1da46"
      },
      "source": [
        "# Concatenate columns: Column-wise, axis=1.\n",
        "a_2 = torch.randn(2, 3)\n",
        "b_2 = torch.randn(2, 1)\n",
        "\n",
        "c_2 = torch.cat([a_2, b_2], axis=1)\n",
        "print(c_2)"
      ],
      "execution_count": null,
      "outputs": [
        {
          "output_type": "stream",
          "text": [
            "tensor([[-0.0278, -1.0007, -1.2034,  0.0247],\n",
            "        [ 1.1118,  0.5623, -0.6332,  0.0814]])\n"
          ],
          "name": "stdout"
        }
      ]
    },
    {
      "cell_type": "code",
      "metadata": {
        "id": "T5d4K5t1NtRP",
        "colab_type": "code",
        "colab": {}
      },
      "source": [
        "# If we have tensors of different shape, torch will raise an exception.\n",
        "torch.cat([a_2, b_2])"
      ],
      "execution_count": null,
      "outputs": []
    },
    {
      "cell_type": "code",
      "metadata": {
        "id": "22kTB1FOQmYa",
        "colab_type": "code",
        "colab": {
          "base_uri": "https://localhost:8080/",
          "height": 219
        },
        "outputId": "912d3ac8-face-4053-fff6-7b699c6ee53b"
      },
      "source": [
        "x = torch.randn(6, 1, 2)\n",
        "print(x)"
      ],
      "execution_count": null,
      "outputs": [
        {
          "output_type": "stream",
          "text": [
            "tensor([[[-0.1935,  0.0053]],\n",
            "\n",
            "        [[-0.1847, -0.0165]],\n",
            "\n",
            "        [[-2.5749,  0.6514]],\n",
            "\n",
            "        [[ 0.8537, -2.1573]],\n",
            "\n",
            "        [[ 0.5601, -0.4538]],\n",
            "\n",
            "        [[-0.8082, -1.6591]]])\n"
          ],
          "name": "stdout"
        }
      ]
    },
    {
      "cell_type": "code",
      "metadata": {
        "id": "y6ZJ9s5sQmhS",
        "colab_type": "code",
        "colab": {
          "base_uri": "https://localhost:8080/",
          "height": 72
        },
        "outputId": "add1eb38-11c4-4109-e7bb-28d8ba669303"
      },
      "source": [
        "print(x.view(3, 4))  # Reshape to 3 rows, 4 columns"
      ],
      "execution_count": null,
      "outputs": [
        {
          "output_type": "stream",
          "text": [
            "tensor([[-0.1935,  0.0053, -0.1847, -0.0165],\n",
            "        [-2.5749,  0.6514,  0.8537, -2.1573],\n",
            "        [ 0.5601, -0.4538, -0.8082, -1.6591]])\n"
          ],
          "name": "stdout"
        }
      ]
    },
    {
      "cell_type": "code",
      "metadata": {
        "id": "HUpJdXTKQmlC",
        "colab_type": "code",
        "colab": {
          "base_uri": "https://localhost:8080/",
          "height": 72
        },
        "outputId": "427ae787-2c6c-43fb-e473-9aa92b9117a2"
      },
      "source": [
        "# Same as above. If one of the dimensions is -1, its size can be deduced\n",
        "print(x.view(3, -1))"
      ],
      "execution_count": null,
      "outputs": [
        {
          "output_type": "stream",
          "text": [
            "tensor([[-0.1935,  0.0053, -0.1847, -0.0165],\n",
            "        [-2.5749,  0.6514,  0.8537, -2.1573],\n",
            "        [ 0.5601, -0.4538, -0.8082, -1.6591]])\n"
          ],
          "name": "stdout"
        }
      ]
    },
    {
      "cell_type": "code",
      "metadata": {
        "id": "D2CNfxddUoes",
        "colab_type": "code",
        "colab": {
          "base_uri": "https://localhost:8080/",
          "height": 109
        },
        "outputId": "6046e9f6-87db-4224-ac43-655a0c019b3b"
      },
      "source": [
        "import numpy as np # Numerical Computation Library\n",
        "\n",
        "X = np.random.randn(4, 4) # Generate random numbers \n",
        "print(X)\n",
        "print(type(X)) # A numpy array"
      ],
      "execution_count": null,
      "outputs": [
        {
          "output_type": "stream",
          "text": [
            "[[-0.46981217  0.9257731  -0.25390769 -0.8545052 ]\n",
            " [-0.64592634 -0.53178916  0.85764578  1.78075961]\n",
            " [ 1.40394094  0.63343998 -0.53284549  0.80508047]\n",
            " [-0.57380618 -0.02222501 -1.70550022  1.42014203]]\n",
            "<class 'numpy.ndarray'>\n"
          ],
          "name": "stdout"
        }
      ]
    },
    {
      "cell_type": "code",
      "metadata": {
        "id": "UkNk2PLTUohl",
        "colab_type": "code",
        "colab": {
          "base_uri": "https://localhost:8080/",
          "height": 109
        },
        "outputId": "9e5ea530-c0f7-43fd-a2e4-efaa29d025c8"
      },
      "source": [
        "y = torch.from_numpy(X) # Create a tensor from numpy array\n",
        "print(y)\n",
        "print(type(y)) # A tensor"
      ],
      "execution_count": null,
      "outputs": [
        {
          "output_type": "stream",
          "text": [
            "tensor([[-0.4698,  0.9258, -0.2539, -0.8545],\n",
            "        [-0.6459, -0.5318,  0.8576,  1.7808],\n",
            "        [ 1.4039,  0.6334, -0.5328,  0.8051],\n",
            "        [-0.5738, -0.0222, -1.7055,  1.4201]], dtype=torch.float64)\n",
            "<class 'torch.Tensor'>\n"
          ],
          "name": "stdout"
        }
      ]
    },
    {
      "cell_type": "code",
      "metadata": {
        "id": "484I-x6eUokR",
        "colab_type": "code",
        "colab": {
          "base_uri": "https://localhost:8080/",
          "height": 109
        },
        "outputId": "8eeb6cad-f9d8-45bc-c879-56a76babc5f5"
      },
      "source": [
        "print(y.numpy()) # Convert the tensor into Numpy array\n",
        "print(type(y.numpy()))"
      ],
      "execution_count": null,
      "outputs": [
        {
          "output_type": "stream",
          "text": [
            "[[-0.46981217  0.9257731  -0.25390769 -0.8545052 ]\n",
            " [-0.64592634 -0.53178916  0.85764578  1.78075961]\n",
            " [ 1.40394094  0.63343998 -0.53284549  0.80508047]\n",
            " [-0.57380618 -0.02222501 -1.70550022  1.42014203]]\n",
            "<class 'numpy.ndarray'>\n"
          ],
          "name": "stdout"
        }
      ]
    },
    {
      "cell_type": "code",
      "metadata": {
        "id": "JVEwhCuEUomX",
        "colab_type": "code",
        "colab": {}
      },
      "source": [
        "from torch.autograd import Variable\n",
        "\n",
        "x = Variable(torch.Tensor([2]), requires_grad=True)\n",
        "y = (6 * x) ** 2"
      ],
      "execution_count": null,
      "outputs": []
    },
    {
      "cell_type": "code",
      "metadata": {
        "id": "KgxhrZ_5Uoo6",
        "colab_type": "code",
        "colab": {
          "base_uri": "https://localhost:8080/",
          "height": 35
        },
        "outputId": "b659dc45-57ff-43ca-e78f-c31040dc3039"
      },
      "source": [
        "# The last operation performed\n",
        "print(y.grad_fn) "
      ],
      "execution_count": null,
      "outputs": [
        {
          "output_type": "stream",
          "text": [
            "<PowBackward0 object at 0x7f43570acbe0>\n"
          ],
          "name": "stdout"
        }
      ]
    },
    {
      "cell_type": "code",
      "metadata": {
        "id": "QYxp4R7fUort",
        "colab_type": "code",
        "colab": {
          "base_uri": "https://localhost:8080/",
          "height": 35
        },
        "outputId": "eda25603-5746-4e88-a16b-8f53b41fc5f4"
      },
      "source": [
        "print(x.grad)"
      ],
      "execution_count": null,
      "outputs": [
        {
          "output_type": "stream",
          "text": [
            "None\n"
          ],
          "name": "stdout"
        }
      ]
    },
    {
      "cell_type": "code",
      "metadata": {
        "id": "cgde3GEoXQY6",
        "colab_type": "code",
        "colab": {
          "base_uri": "https://localhost:8080/",
          "height": 35
        },
        "outputId": "7c3b4005-a771-47f5-d454-5b8fbc4dd39e"
      },
      "source": [
        "y.backward()\n",
        "print(x.grad)"
      ],
      "execution_count": null,
      "outputs": [
        {
          "output_type": "stream",
          "text": [
            "tensor([144.])\n"
          ],
          "name": "stdout"
        }
      ]
    }
  ]
}