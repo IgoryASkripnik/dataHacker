{
 "cells": [
  {
   "cell_type": "markdown",
   "metadata": {},
   "source": [
    "### Iris dataset i linearni klasifikator LDA"
   ]
  },
  {
   "cell_type": "code",
   "execution_count": 1,
   "metadata": {
    "collapsed": true
   },
   "outputs": [],
   "source": [
    "# uvozimo standardne biblioteke\n",
    "import numpy as np\n",
    "import matplotlib.pyplot as plt\n",
    "%matplotlib inline"
   ]
  },
  {
   "cell_type": "code",
   "execution_count": 2,
   "metadata": {
    "collapsed": true
   },
   "outputs": [],
   "source": [
    "# importovanje Iris dataseta\n",
    "# u samom Anaconda okruzenju instalirana je i biblioteka sklearn\n",
    "# u okviru nje se nalaze dataset-ovi koji su odlicni za ucenje\n",
    "\n",
    "from sklearn.datasets import load_iris"
   ]
  },
  {
   "cell_type": "code",
   "execution_count": 3,
   "metadata": {
    "collapsed": true
   },
   "outputs": [],
   "source": [
    "# Ove tri naredbe su nam dovoljne da ucitamo iris dataset\n",
    "# ne moramo za sada razmisljati sta se nalazi u load_iris()\n",
    "iris = load_iris()\n",
    "X = iris.data\n",
    "y = iris.target"
   ]
  },
  {
   "cell_type": "markdown",
   "metadata": {},
   "source": [
    "### Exploratory Data Analysis - EDA"
   ]
  },
  {
   "cell_type": "code",
   "execution_count": 24,
   "metadata": {},
   "outputs": [
    {
     "name": "stdout",
     "output_type": "stream",
     "text": [
      "<class 'numpy.ndarray'>\n",
      "<class 'numpy.ndarray'>\n"
     ]
    }
   ],
   "source": [
    "# prvi korak je da pogledamo podatke X i y\n",
    "print(type(X))\n",
    "print(type(y))\n",
    "# Videcemo da su u pitanju numpy nizovi"
   ]
  },
  {
   "cell_type": "code",
   "execution_count": 25,
   "metadata": {},
   "outputs": [
    {
     "name": "stdout",
     "output_type": "stream",
     "text": [
      "(150, 4)\n",
      "(150,)\n"
     ]
    }
   ],
   "source": [
    "print(X.shape)\n",
    "print(y.shape)"
   ]
  },
  {
   "cell_type": "code",
   "execution_count": 26,
   "metadata": {},
   "outputs": [
    {
     "name": "stdout",
     "output_type": "stream",
     "text": [
      "[0 0 0 0 0 0 0 0 0 0 0 0 0 0 0 0 0 0 0 0 0 0 0 0 0 0 0 0 0 0 0 0 0 0 0 0 0\n",
      " 0 0 0 0 0 0 0 0 0 0 0 0 0 1 1 1 1 1 1 1 1 1 1 1 1 1 1 1 1 1 1 1 1 1 1 1 1\n",
      " 1 1 1 1 1 1 1 1 1 1 1 1 1 1 1 1 1 1 1 1 1 1 1 1 1 1 2 2 2 2 2 2 2 2 2 2 2\n",
      " 2 2 2 2 2 2 2 2 2 2 2 2 2 2 2 2 2 2 2 2 2 2 2 2 2 2 2 2 2 2 2 2 2 2 2 2 2\n",
      " 2 2]\n"
     ]
    }
   ],
   "source": [
    "# Uz komentare o samom datasetu koji dati u blogu (opisu dataseta), mozemo potvrditi da se zaista radi o formatu od 150 cvetova. \n",
    "# Svaki cvet predstabljen je sa 4 parametra duzine. \n",
    "# u promenljivoj y nalazi se pripadnost klasi\n",
    "# u ovosm slucaju tri vrste cveta iris kodovane su brojevima 0, 1 i 2\n",
    "print(y)\n",
    "# prvih 50 elemenata su nule, zatim imamo 50 jedinica i 50 dvojki. "
   ]
  },
  {
   "cell_type": "code",
   "execution_count": 27,
   "metadata": {},
   "outputs": [
    {
     "name": "stdout",
     "output_type": "stream",
     "text": [
      "[ 5.1  3.5  1.4  0.2]\n"
     ]
    }
   ],
   "source": [
    "# Hajde da pogledamo kakve su to dimenzije u pitanju. Pogledajmo prvi, treci i 125-ti cvet. \n",
    "# Potrebno je pristupiti odgovarajucim elementima, ali se moramo podsetiti da indeksiranje krece od nule!\n",
    "print (X[0,0:4]) # ovo je prvi cvet i njegova cetiri elementa. indeks od 0:4 uzima ustvari 0, 1, 2 i 3 !"
   ]
  },
  {
   "cell_type": "code",
   "execution_count": 28,
   "metadata": {},
   "outputs": [
    {
     "name": "stdout",
     "output_type": "stream",
     "text": [
      "Treci cvet ima dimenzije  [ 4.7  3.2  1.3  0.2]\n",
      "125-ti cvet ima dimenzije  [ 6.7  3.3  5.7  2.1]\n"
     ]
    }
   ],
   "source": [
    "print(\"Treci cvet ima dimenzije \", X[2,:])\n",
    "print(\"125-ti cvet ima dimenzije \", X[124, :])\n",
    "# koriscenje : u ovom slucaju je skraceni oblik za \"od prvog do poslednjeg elementa\". U ovom slucaju to je 0:4"
   ]
  },
  {
   "cell_type": "code",
   "execution_count": 23,
   "metadata": {},
   "outputs": [
    {
     "name": "stdout",
     "output_type": "stream",
     "text": [
      "Cvetovi 1, 3 i 125 pripadaju redom klasama: 0 0 2\n"
     ]
    }
   ],
   "source": [
    "# Za svaki redni element mozemo i pojedinacno proveriti pripadnost klasi\n",
    "print(\"Cvetovi 1, 3 i 125 pripadaju redom klasama:\" , y[0], y[2] , y[124])\n",
    "# Dakle prva dva cveta iz klase 0, a treci iz klase 2. "
   ]
  },
  {
   "cell_type": "markdown",
   "metadata": {},
   "source": [
    "# EDA - Vizuelizacija"
   ]
  },
  {
   "cell_type": "code",
   "execution_count": 33,
   "metadata": {},
   "outputs": [
    {
     "data": {
      "text/plain": [
       "<matplotlib.collections.PathCollection at 0xa2297b8>"
      ]
     },
     "execution_count": 33,
     "metadata": {},
     "output_type": "execute_result"
    },
    {
     "data": {
      "image/png": "[encoded data removed]",
      "text/plain": [
       "<matplotlib.figure.Figure at 0x9e53630>"
      ]
     },
     "metadata": {},
     "output_type": "display_data"
    }
   ],
   "source": [
    "# Nacrtajmo sada dimenzije ovih cvetova na jednom grafu. \n",
    "# Odmah se namece pitanje ? Kako iscrtati 4 dimenzije, kada imamo samo mogucnost crtanja u 2D (i 3D) sistemu. \n",
    "# Izabracemo prve dve kolone\n",
    "plt.scatter(X[:,0], X[:,1])"
   ]
  },
  {
   "cell_type": "code",
   "execution_count": 37,
   "metadata": {},
   "outputs": [
    {
     "data": {
      "text/plain": [
       "<matplotlib.collections.PathCollection at 0xa2646a0>"
      ]
     },
     "execution_count": 37,
     "metadata": {},
     "output_type": "execute_result"
    },
    {
     "data": {
      "image/png": "[encoded data removed]",
      "text/plain": [
       "<matplotlib.figure.Figure at 0xa52c320>"
      ]
     },
     "metadata": {},
     "output_type": "display_data"
    }
   ],
   "source": [
    "# pazljivim brojanjem vidimo da su zaista sve tacke prisutne :-)\n",
    "# Da bismo shvatili sa koliko lakim ili teskim problemom se suocavamao potrebno je ove tacke iscrtati razlicitim bojama\n",
    "# Kako je ovaj dataset sortiran, mozemo crtati tacke u tri etape po 50\n",
    "plt.scatter(X[0:50,0],    X[0:50,1]) # ovo je default vrednost - plava\n",
    "plt.scatter(X[50:100,0],  X[50:100,1], c=u'r' )\n",
    "plt.scatter(X[100:150,0], X[100:150,1], c = u'g')"
   ]
  },
  {
   "cell_type": "code",
   "execution_count": null,
   "metadata": {
    "collapsed": true
   },
   "outputs": [],
   "source": []
  }
 ],
 "metadata": {
  "kernelspec": {
   "display_name": "Python 3",
   "language": "python",
   "name": "python3"
  },
  "language_info": {
   "codemirror_mode": {
    "name": "ipython",
    "version": 3
   },
   "file_extension": ".py",
   "mimetype": "text/x-python",
   "name": "python",
   "nbconvert_exporter": "python",
   "pygments_lexer": "ipython3",
   "version": "3.6.1"
  }
 },
 "nbformat": 4,
 "nbformat_minor": 2
}
