{
  "nbformat": 4,
  "nbformat_minor": 0,
  "metadata": {
    "colab": {
      "name": "face_detection_algorithms_comparison.ipynb",
      "provenance": [],
      "collapsed_sections": [
        "hLQq_CVzJINg",
        "EVZ8RWXeJYoB",
        "7DOrERJ6JbaD",
        "YHJB6p3WKfNz",
        "DQtROpXwLLSe",
        "6IMuWWLDLPPm",
        "ygrOekURI-2W",
        "ii4afYWisnPB",
        "qvoeGgBHszOW",
        "aqB_nTans08J",
        "fdi4DOqntjkC",
        "Kv4zxZtMt7nk",
        "Zxy6IpRPuz-U",
        "4l0ZW7gYvqoY"
      ]
    },
    "kernelspec": {
      "name": "python3",
      "display_name": "Python 3"
    },
    "accelerator": "GPU",
    "widgets": {
      "application/vnd.jupyter.widget-state+json": {
        "afadb84c67004bf1b427140773a7b285": {
          "model_module": "@jupyter-widgets/controls",
          "model_name": "HBoxModel",
          "state": {
            "_view_name": "HBoxView",
            "_dom_classes": [],
            "_model_name": "HBoxModel",
            "_view_module": "@jupyter-widgets/controls",
            "_model_module_version": "1.5.0",
            "_view_count": null,
            "_view_module_version": "1.5.0",
            "box_style": "",
            "layout": "IPY_MODEL_23d5289d4bfe46c8845fbf8f2826dba2",
            "_model_module": "@jupyter-widgets/controls",
            "children": [
              "IPY_MODEL_47571e4d70e649c8a21e3512a70d94e6",
              "IPY_MODEL_188c6edc864c4195b19fe91df67c53d9"
            ]
          }
        },
        "23d5289d4bfe46c8845fbf8f2826dba2": {
          "model_module": "@jupyter-widgets/base",
          "model_name": "LayoutModel",
          "state": {
            "_view_name": "LayoutView",
            "grid_template_rows": null,
            "right": null,
            "justify_content": null,
            "_view_module": "@jupyter-widgets/base",
            "overflow": null,
            "_model_module_version": "1.2.0",
            "_view_count": null,
            "flex_flow": null,
            "width": null,
            "min_width": null,
            "border": null,
            "align_items": null,
            "bottom": null,
            "_model_module": "@jupyter-widgets/base",
            "top": null,
            "grid_column": null,
            "overflow_y": null,
            "overflow_x": null,
            "grid_auto_flow": null,
            "grid_area": null,
            "grid_template_columns": null,
            "flex": null,
            "_model_name": "LayoutModel",
            "justify_items": null,
            "grid_row": null,
            "max_height": null,
            "align_content": null,
            "visibility": null,
            "align_self": null,
            "height": null,
            "min_height": null,
            "padding": null,
            "grid_auto_rows": null,
            "grid_gap": null,
            "max_width": null,
            "order": null,
            "_view_module_version": "1.2.0",
            "grid_template_areas": null,
            "object_position": null,
            "object_fit": null,
            "grid_auto_columns": null,
            "margin": null,
            "display": null,
            "left": null
          }
        },
        "47571e4d70e649c8a21e3512a70d94e6": {
          "model_module": "@jupyter-widgets/controls",
          "model_name": "FloatProgressModel",
          "state": {
            "_view_name": "ProgressView",
            "style": "IPY_MODEL_322fde2ef9ac4845ad2393454e407c70",
            "_dom_classes": [],
            "description": "100%",
            "_model_name": "FloatProgressModel",
            "bar_style": "success",
            "max": 699,
            "_view_module": "@jupyter-widgets/controls",
            "_model_module_version": "1.5.0",
            "value": 699,
            "_view_count": null,
            "_view_module_version": "1.5.0",
            "orientation": "horizontal",
            "min": 0,
            "description_tooltip": null,
            "_model_module": "@jupyter-widgets/controls",
            "layout": "IPY_MODEL_8d32b2f17c304072a04b07033f8580b7"
          }
        },
        "188c6edc864c4195b19fe91df67c53d9": {
          "model_module": "@jupyter-widgets/controls",
          "model_name": "HTMLModel",
          "state": {
            "_view_name": "HTMLView",
            "style": "IPY_MODEL_1f4f643a67b24547b739c769c8d2118e",
            "_dom_classes": [],
            "description": "",
            "_model_name": "HTMLModel",
            "placeholder": "​",
            "_view_module": "@jupyter-widgets/controls",
            "_model_module_version": "1.5.0",
            "value": " 699/699 [05:37&lt;00:00,  2.07it/s]",
            "_view_count": null,
            "_view_module_version": "1.5.0",
            "description_tooltip": null,
            "_model_module": "@jupyter-widgets/controls",
            "layout": "IPY_MODEL_e03a251f2cbf40809d9a6c4df7c0f4d6"
          }
        },
        "322fde2ef9ac4845ad2393454e407c70": {
          "model_module": "@jupyter-widgets/controls",
          "model_name": "ProgressStyleModel",
          "state": {
            "_view_name": "StyleView",
            "_model_name": "ProgressStyleModel",
            "description_width": "initial",
            "_view_module": "@jupyter-widgets/base",
            "_model_module_version": "1.5.0",
            "_view_count": null,
            "_view_module_version": "1.2.0",
            "bar_color": null,
            "_model_module": "@jupyter-widgets/controls"
          }
        },
        "8d32b2f17c304072a04b07033f8580b7": {
          "model_module": "@jupyter-widgets/base",
          "model_name": "LayoutModel",
          "state": {
            "_view_name": "LayoutView",
            "grid_template_rows": null,
            "right": null,
            "justify_content": null,
            "_view_module": "@jupyter-widgets/base",
            "overflow": null,
            "_model_module_version": "1.2.0",
            "_view_count": null,
            "flex_flow": null,
            "width": null,
            "min_width": null,
            "border": null,
            "align_items": null,
            "bottom": null,
            "_model_module": "@jupyter-widgets/base",
            "top": null,
            "grid_column": null,
            "overflow_y": null,
            "overflow_x": null,
            "grid_auto_flow": null,
            "grid_area": null,
            "grid_template_columns": null,
            "flex": null,
            "_model_name": "LayoutModel",
            "justify_items": null,
            "grid_row": null,
            "max_height": null,
            "align_content": null,
            "visibility": null,
            "align_self": null,
            "height": null,
            "min_height": null,
            "padding": null,
            "grid_auto_rows": null,
            "grid_gap": null,
            "max_width": null,
            "order": null,
            "_view_module_version": "1.2.0",
            "grid_template_areas": null,
            "object_position": null,
            "object_fit": null,
            "grid_auto_columns": null,
            "margin": null,
            "display": null,
            "left": null
          }
        },
        "1f4f643a67b24547b739c769c8d2118e": {
          "model_module": "@jupyter-widgets/controls",
          "model_name": "DescriptionStyleModel",
          "state": {
            "_view_name": "StyleView",
            "_model_name": "DescriptionStyleModel",
            "description_width": "",
            "_view_module": "@jupyter-widgets/base",
            "_model_module_version": "1.5.0",
            "_view_count": null,
            "_view_module_version": "1.2.0",
            "_model_module": "@jupyter-widgets/controls"
          }
        },
        "e03a251f2cbf40809d9a6c4df7c0f4d6": {
          "model_module": "@jupyter-widgets/base",
          "model_name": "LayoutModel",
          "state": {
            "_view_name": "LayoutView",
            "grid_template_rows": null,
            "right": null,
            "justify_content": null,
            "_view_module": "@jupyter-widgets/base",
            "overflow": null,
            "_model_module_version": "1.2.0",
            "_view_count": null,
            "flex_flow": null,
            "width": null,
            "min_width": null,
            "border": null,
            "align_items": null,
            "bottom": null,
            "_model_module": "@jupyter-widgets/base",
            "top": null,
            "grid_column": null,
            "overflow_y": null,
            "overflow_x": null,
            "grid_auto_flow": null,
            "grid_area": null,
            "grid_template_columns": null,
            "flex": null,
            "_model_name": "LayoutModel",
            "justify_items": null,
            "grid_row": null,
            "max_height": null,
            "align_content": null,
            "visibility": null,
            "align_self": null,
            "height": null,
            "min_height": null,
            "padding": null,
            "grid_auto_rows": null,
            "grid_gap": null,
            "max_width": null,
            "order": null,
            "_view_module_version": "1.2.0",
            "grid_template_areas": null,
            "object_position": null,
            "object_fit": null,
            "grid_auto_columns": null,
            "margin": null,
            "display": null,
            "left": null
          }
        }
      }
    }
  },
  "cells": [
    {
      "cell_type": "code",
      "metadata": {
        "id": "-YlRiYhpK5Lk"
      },
      "source": [
        "!pip install dlib\n",
        "!pip install mtcnn\n",
        "!pip install facenet_pytorch"
      ],
      "execution_count": null,
      "outputs": []
    },
    {
      "cell_type": "code",
      "metadata": {
        "id": "jPLnUbBrG5vD"
      },
      "source": [
        "import cv2\n",
        "import numpy as np\n",
        "from dlib import get_frontal_face_detector\n",
        "import torch\n",
        "\n",
        "from google.colab.patches import cv2_imshow"
      ],
      "execution_count": 13,
      "outputs": []
    },
    {
      "cell_type": "markdown",
      "metadata": {
        "id": "hLQq_CVzJINg"
      },
      "source": [
        "# Implementation of algorithms"
      ]
    },
    {
      "cell_type": "markdown",
      "metadata": {
        "id": "EVZ8RWXeJYoB"
      },
      "source": [
        "## HAARCASCADE CLASSIFIER"
      ]
    },
    {
      "cell_type": "code",
      "metadata": {
        "id": "26Bqw_FGJLD7"
      },
      "source": [
        "#Load the haarcascade file\n",
        "faceCascade = cv2.CascadeClassifier(cv2.data.haarcascades + 'haarcascade_frontalface_default.xml')\n",
        "\n",
        "cap = cv2.VideoCapture(\"friends.mp4\")\n",
        " \n",
        "while True:\n",
        "  ret, frame = cap.read()\n",
        "  if ret:\n",
        "  \n",
        "    faces = faceCascade.detectMultiScale2(frame, scaleFactor=1.1, minNeighbors=5, flags=cv2.CASCADE_SCALE_IMAGE)\n",
        "  \n",
        "    for (x, y, w, h) in faces[0]:\n",
        "      conf = faces[1][0][0]\n",
        "      if conf > 5:\n",
        "        text = f\"{conf*10:.2f}%\"\n",
        "        # cv2.putText(frame, text, (x, y-20), cv2.FONT_HERSHEY_SIMPLEX, 1,(170, 170, 170), 1)\n",
        "        cv2.rectangle(frame, (x, y), (x+w, y+h), (255, 255, 255), 1)\n",
        "\n",
        "    cv2.imshow(\"Frame\", frame)\n",
        "\n",
        "  else:\n",
        "    break\n",
        " \n",
        "cap.release()\n",
        "cv2.destroyAllWindows()"
      ],
      "execution_count": null,
      "outputs": []
    },
    {
      "cell_type": "markdown",
      "metadata": {
        "id": "7DOrERJ6JbaD"
      },
      "source": [
        "## OpenCV DNN"
      ]
    },
    {
      "cell_type": "code",
      "metadata": {
        "id": "WJDRUsTgDaQY"
      },
      "source": [
        "!wget https://raw.githubusercontent.com/opencv/opencv/master/samples/dnn/face_detector/opencv_face_detector.pbtxt\n",
        "!wget https://github.com/spmallick/learnopencv/blob/master/AgeGender/opencv_face_detector_uint8.pb?raw=true -O opencv_face_detector_uint8.pb"
      ],
      "execution_count": null,
      "outputs": []
    },
    {
      "cell_type": "code",
      "metadata": {
        "id": "2ti7cYY1JauC"
      },
      "source": [
        "modelFile = \"opencv_face_detector_uint8.pb\"\n",
        "configFile= \"opencv_face_detector.pbtxt\"\n",
        "net = cv2.dnn.readNetFromTensorflow(modelFile, configFile)\n",
        "\n",
        "cap = cv2.VideoCapture(\"friends.mp4\")\n",
        " \n",
        "\n",
        "while True:\n",
        "  ret, frame = cap.read()\n",
        "  if ret:      \n",
        "    blob = cv2.dnn.blobFromImage(cv2.resize(frame, (300, 300)), 1.0, (300, 300), (104.0, 177.0, 123.0))\n",
        "    net.setInput(blob)\n",
        "    detection = net.forward()\n",
        "  \n",
        "    h, w = frame.shape[:2]\n",
        "    for i in range(detection.shape[2]):\n",
        "\n",
        "      confidence = detections[0, 0, i, 2]\n",
        "      if confidence > 0.5:\n",
        "        \n",
        "        box = detection[0, 0, i, 3:7] * np.array([w, h, w, h])\n",
        "        (x1, y1, x2, y2) = box.astype(\"int\")\n",
        "            \n",
        "        cv2.rectangle(frame, (x1, y1), (x2, y2), (255, 0, 255), 1)\n",
        "\n",
        "  else:\n",
        "    break\n",
        " \n",
        "cap.release()\n",
        "cv2.destroyAllWindows()"
      ],
      "execution_count": null,
      "outputs": []
    },
    {
      "cell_type": "markdown",
      "metadata": {
        "id": "YHJB6p3WKfNz"
      },
      "source": [
        "## DLIB"
      ]
    },
    {
      "cell_type": "code",
      "metadata": {
        "id": "trhvNJkwKmaC"
      },
      "source": [
        "face_detect = get_frontal_face_detector()\n",
        "\n",
        "cap = cv2.VideoCapture(\"friends.mp4\")\n",
        " \n",
        "while True:\n",
        "  ret, frame = cap.read()\n",
        "  if ret:    \n",
        "    faces = face_detect(frame, 1)\n",
        "    for face in faces:\n",
        "\n",
        "      x1 = face.left()\n",
        "      y1 = face.bottom()\n",
        "      x2 = face.right()\n",
        "      y2 = face.top()\n",
        "      cv2.rectangle(frame, (x1, y1), (x2, y2), (255, 0, 0), 1)\n",
        "    \n",
        "  else:\n",
        "    break\n",
        "\n",
        "cap.release()\n",
        "cv2.destroyAllWindows()"
      ],
      "execution_count": 5,
      "outputs": []
    },
    {
      "cell_type": "markdown",
      "metadata": {
        "id": "DQtROpXwLLSe"
      },
      "source": [
        "## MTCNN"
      ]
    },
    {
      "cell_type": "code",
      "metadata": {
        "id": "4qAYVopDLI9M",
        "colab": {
          "base_uri": "https://localhost:8080/"
        },
        "outputId": "0d37b328-66b8-4f29-e54e-bc7bece4b428"
      },
      "source": [
        "from mtcnn import MTCNN\n",
        "\n",
        "detector = MTCNN()\n",
        "#Load a video, if we were using google colab we would\n",
        "#need to upload the video to Google Colab\n",
        "cap = cv2.VideoCapture(\"friends.mp4\")\n",
        "\n",
        "while True:\n",
        "  ret, frame = cap.read()\n",
        "  if ret:\n",
        "    boxes = detector.detect_faces(frame)\n",
        "    if boxes:\n",
        "      box = boxes[0]['box']\n",
        "      conf = boxes[0]['confidence']\n",
        "      x, y, w, h = box[0], box[1], box[2], box[3]\n",
        "    \n",
        "      if conf > 0.5:\n",
        "        cv2.rectangle(frame, (x, y), (x+w, y+h), (0, 255, 255), 1)   \n",
        "  else:\n",
        "    break\n",
        "cap.release()\n",
        "cv2.destroyAllWindows()"
      ],
      "execution_count": 15,
      "outputs": [
        {
          "output_type": "stream",
          "text": [
            "WARNING:tensorflow:5 out of the last 24 calls to <function Model.make_predict_function.<locals>.predict_function at 0x7f224024e9d8> triggered tf.function retracing. Tracing is expensive and the excessive number of tracings could be due to (1) creating @tf.function repeatedly in a loop, (2) passing tensors with different shapes, (3) passing Python objects instead of tensors. For (1), please define your @tf.function outside of the loop. For (2), @tf.function has experimental_relax_shapes=True option that relaxes argument shapes that can avoid unnecessary retracing. For (3), please refer to https://www.tensorflow.org/tutorials/customization/performance#python_or_tensor_args and https://www.tensorflow.org/api_docs/python/tf/function for  more details.\n"
          ],
          "name": "stdout"
        }
      ]
    },
    {
      "cell_type": "markdown",
      "metadata": {
        "id": "6IMuWWLDLPPm"
      },
      "source": [
        "## FACENET"
      ]
    },
    {
      "cell_type": "code",
      "metadata": {
        "id": "m4WEhErALQc-"
      },
      "source": [
        "from facenet_pytorch import MTCNN\n",
        "\n",
        "device = torch.device('cuda:0' if torch.cuda.is_available() else 'cpu')\n",
        "mtcnn = MTCNN(keep_all=True, device=device)\n",
        " \n",
        "cap = cv2.VideoCapture(\"friends.mp4\")\n",
        "while True:\n",
        "  ret, frame = cap.read()\n",
        "  if ret:\n",
        "    boxes, conf = mtcnn.detect(frame)\n",
        "\n",
        "    if conf[0] !=  None:\n",
        "      for (x, y, w, h) in boxes:\n",
        "        text = f\"{conf[0]*100:.2f}%\"\n",
        "        cv2.putText(frame, text, (x, y-20), \n",
        "                cv2.FONT_HERSHEY_SIMPLEX, 1,(170, 170, 170), 1)\n",
        "        x, y, w, h = int(x), int(y), int(w), int(h)\n",
        "\n",
        "        cv2.rectangle(frame, (x, y), (w, h), (255, 255, 255), 1)\n",
        "  else:\n",
        "    break\n",
        " \n",
        "cap.release()\n",
        "cv2.destroyAllWindows()"
      ],
      "execution_count": 22,
      "outputs": []
    },
    {
      "cell_type": "markdown",
      "metadata": {
        "id": "ygrOekURI-2W"
      },
      "source": [
        "# EXECUTION TIME"
      ]
    },
    {
      "cell_type": "code",
      "metadata": {
        "id": "azq6TSidJRvn"
      },
      "source": [
        "from matplotlib import pyplot as plt\n",
        "from PIL import Image\n",
        "from tqdm.notebook import tqdm\n",
        "import time"
      ],
      "execution_count": null,
      "outputs": []
    },
    {
      "cell_type": "markdown",
      "metadata": {
        "id": "ii4afYWisnPB"
      },
      "source": [
        "## Initialization steps"
      ]
    },
    {
      "cell_type": "code",
      "metadata": {
        "id": "Z0Bsp7U-Iu2i"
      },
      "source": [
        "cap = cv2.VideoCapture(\"output.mp4\")"
      ],
      "execution_count": null,
      "outputs": []
    },
    {
      "cell_type": "code",
      "metadata": {
        "colab": {
          "base_uri": "https://localhost:8080/",
          "height": 100,
          "referenced_widgets": [
            "afadb84c67004bf1b427140773a7b285",
            "23d5289d4bfe46c8845fbf8f2826dba2",
            "47571e4d70e649c8a21e3512a70d94e6",
            "188c6edc864c4195b19fe91df67c53d9",
            "322fde2ef9ac4845ad2393454e407c70",
            "8d32b2f17c304072a04b07033f8580b7",
            "1f4f643a67b24547b739c769c8d2118e",
            "e03a251f2cbf40809d9a6c4df7c0f4d6"
          ]
        },
        "id": "3ux_tGl8IngZ",
        "outputId": "90883d8e-16c6-4930-8bfe-16bacdd3e2dc"
      },
      "source": [
        "images = []\n",
        "for i in tqdm(range(int(cap.get(cv2.CAP_PROP_FRAME_COUNT)))):\n",
        "    _, image = cap.read()\n",
        "    image = cv2.cvtColor(image, cv2.COLOR_BGR2RGB)\n",
        "    images.append(image)\n",
        "cap.release()\n",
        "\n",
        "images = np.stack(images)\n",
        "\n",
        "print('Shapes:')\n",
        "print(images.shape)"
      ],
      "execution_count": null,
      "outputs": [
        {
          "output_type": "display_data",
          "data": {
            "application/vnd.jupyter.widget-view+json": {
              "model_id": "afadb84c67004bf1b427140773a7b285",
              "version_minor": 0,
              "version_major": 2
            },
            "text/plain": [
              "HBox(children=(FloatProgress(value=0.0, max=699.0), HTML(value='')))"
            ]
          },
          "metadata": {
            "tags": []
          }
        },
        {
          "output_type": "stream",
          "text": [
            "\n",
            "Shapes:\n",
            "(699, 400, 600, 3)\n"
          ],
          "name": "stdout"
        }
      ]
    },
    {
      "cell_type": "code",
      "metadata": {
        "id": "JwRUOzlfG9Os"
      },
      "source": [
        "def timer(detector, detect_fn, images, *args):\n",
        "    start = time.time()\n",
        "    faces = detect_fn(detector, images)\n",
        "    elapsed = time.time() - start\n",
        "    print(f'{elapsed:.3f} seconds')\n",
        "    return elapsed"
      ],
      "execution_count": null,
      "outputs": []
    },
    {
      "cell_type": "markdown",
      "metadata": {
        "id": "qvoeGgBHszOW"
      },
      "source": [
        "## HAARCASCADE"
      ]
    },
    {
      "cell_type": "code",
      "metadata": {
        "id": "I8_vdbygI8mm"
      },
      "source": [
        "cascade = cv2.CascadeClassifier(cv2.data.haarcascades + 'haarcascade_frontalface_default.xml')\n",
        "def detect_haar(detector, images):\n",
        "    for img in images:\n",
        "      detector.detectMultiScale(img)"
      ],
      "execution_count": null,
      "outputs": []
    },
    {
      "cell_type": "code",
      "metadata": {
        "colab": {
          "base_uri": "https://localhost:8080/"
        },
        "id": "6z10Rm7KIgEo",
        "outputId": "18bb7fe1-a6ba-404a-857c-263c42fce82c"
      },
      "source": [
        "data_haar = timer(cascade, detect_haar, images)"
      ],
      "execution_count": null,
      "outputs": [
        {
          "output_type": "stream",
          "text": [
            "111.880 seconds\n"
          ],
          "name": "stdout"
        }
      ]
    },
    {
      "cell_type": "markdown",
      "metadata": {
        "id": "aqB_nTans08J"
      },
      "source": [
        "## DNN OPENCV"
      ]
    },
    {
      "cell_type": "code",
      "metadata": {
        "colab": {
          "base_uri": "https://localhost:8080/"
        },
        "id": "ymvNDax0sS16",
        "outputId": "b402eb81-7e15-41c6-bba1-9bdbb8a1ebb7"
      },
      "source": [
        "!wget https://raw.githubusercontent.com/opencv/opencv/master/samples/dnn/face_detector/opencv_face_detector.pbtxt\n",
        "modelFile = \"opencv_face_detector_uint8.pb\"\n",
        "configFile= \"opencv_face_detector.pbtxt\"\n",
        "net = cv2.dnn.readNetFromTensorflow(modelFile, configFile)"
      ],
      "execution_count": null,
      "outputs": [
        {
          "output_type": "stream",
          "text": [
            "--2020-11-30 07:34:44--  https://raw.githubusercontent.com/opencv/opencv/master/samples/dnn/face_detector/opencv_face_detector.pbtxt\n",
            "Resolving raw.githubusercontent.com (raw.githubusercontent.com)... 151.101.0.133, 151.101.64.133, 151.101.128.133, ...\n",
            "Connecting to raw.githubusercontent.com (raw.githubusercontent.com)|151.101.0.133|:443... connected.\n",
            "HTTP request sent, awaiting response... 200 OK\n",
            "Length: 34975 (34K) [text/plain]\n",
            "Saving to: ‘opencv_face_detector.pbtxt’\n",
            "\n",
            "opencv_face_detecto 100%[===================>]  34.16K  --.-KB/s    in 0s      \n",
            "\n",
            "2020-11-30 07:34:44 (90.8 MB/s) - ‘opencv_face_detector.pbtxt’ saved [34975/34975]\n",
            "\n"
          ],
          "name": "stdout"
        }
      ]
    },
    {
      "cell_type": "code",
      "metadata": {
        "id": "QEVaSLVGscUd"
      },
      "source": [
        "def detect_dnn(detector, images):\n",
        "  for img in images:\n",
        "    blob = cv2.dnn.blobFromImage(cv2.resize(img, (300, 300)), 1.0, (300, 300), (104.0, 177.0, 123.0))\n",
        "    detector.setInput(blob)\n",
        "    detection = detector.forward()"
      ],
      "execution_count": null,
      "outputs": []
    },
    {
      "cell_type": "code",
      "metadata": {
        "colab": {
          "base_uri": "https://localhost:8080/"
        },
        "id": "bEzMr8vFtF_s",
        "outputId": "7e15702d-ec0d-456c-bc08-9ba69a7257eb"
      },
      "source": [
        "data_dnn = timer(net, detect_dnn, images)"
      ],
      "execution_count": null,
      "outputs": [
        {
          "output_type": "stream",
          "text": [
            "63.856 seconds\n"
          ],
          "name": "stdout"
        }
      ]
    },
    {
      "cell_type": "markdown",
      "metadata": {
        "id": "fdi4DOqntjkC"
      },
      "source": [
        "## DLIB"
      ]
    },
    {
      "cell_type": "code",
      "metadata": {
        "id": "1P-OREZmtLSC"
      },
      "source": [
        "detector = get_frontal_face_detector()\n",
        "\n",
        "def detect_dlib(detector, images):\n",
        "  for img in images:\n",
        "    detection = detector(img)"
      ],
      "execution_count": null,
      "outputs": []
    },
    {
      "cell_type": "code",
      "metadata": {
        "colab": {
          "base_uri": "https://localhost:8080/"
        },
        "id": "jfZ5FztxtvXd",
        "outputId": "b7ecee41-d0b3-40b8-8bc2-ec2889a839f7"
      },
      "source": [
        "data_dlib = timer(detector, detect_dlib, images)"
      ],
      "execution_count": null,
      "outputs": [
        {
          "output_type": "stream",
          "text": [
            "30.591 seconds\n"
          ],
          "name": "stdout"
        }
      ]
    },
    {
      "cell_type": "markdown",
      "metadata": {
        "id": "Kv4zxZtMt7nk"
      },
      "source": [
        "## MTCNN"
      ]
    },
    {
      "cell_type": "code",
      "metadata": {
        "id": "LuYZG7F2tzCC"
      },
      "source": [
        "from mtcnn import MTCNN\n",
        "detector = MTCNN()\n",
        "\n",
        "def detect_mtcnn(detector, images):\n",
        "  for img in images:\n",
        "    detection = detector.detect_faces(img)"
      ],
      "execution_count": null,
      "outputs": []
    },
    {
      "cell_type": "code",
      "metadata": {
        "colab": {
          "base_uri": "https://localhost:8080/"
        },
        "id": "g3tbF7fwuEFU",
        "outputId": "6d597a3a-acdf-47a7-ff74-ee803ccbccb3"
      },
      "source": [
        "data_mtcnn = timer(detector, detect_mtcnn, images)"
      ],
      "execution_count": null,
      "outputs": [
        {
          "output_type": "stream",
          "text": [
            "315.166 seconds\n"
          ],
          "name": "stdout"
        }
      ]
    },
    {
      "cell_type": "markdown",
      "metadata": {
        "id": "Zxy6IpRPuz-U"
      },
      "source": [
        "## FACENET"
      ]
    },
    {
      "cell_type": "code",
      "metadata": {
        "id": "Vv35kHVWu1Xt"
      },
      "source": [
        "from facenet_pytorch import MTCNN\n",
        "device = 'cuda:0' if torch.cuda.is_available() else 'cpu'\n",
        "detector = MTCNN(device=device, post_process=False)\n",
        "\n",
        "def detect_facenet(detector, images):\n",
        "  for img in images:\n",
        "    detection = detector(img)"
      ],
      "execution_count": null,
      "outputs": []
    },
    {
      "cell_type": "code",
      "metadata": {
        "colab": {
          "base_uri": "https://localhost:8080/"
        },
        "id": "yxRPNtZavHxs",
        "outputId": "f5f56d14-6f6f-4a07-c39b-1f7861e8d44f"
      },
      "source": [
        "data_facenet = timer(detector, detect_facenet, images)"
      ],
      "execution_count": null,
      "outputs": [
        {
          "output_type": "stream",
          "text": [
            "45.227 seconds\n"
          ],
          "name": "stdout"
        }
      ]
    },
    {
      "cell_type": "markdown",
      "metadata": {
        "id": "4l0ZW7gYvqoY"
      },
      "source": [
        "## RESULTS"
      ]
    },
    {
      "cell_type": "code",
      "metadata": {
        "id": "QqabfJjXvqH_"
      },
      "source": [
        "all_data = [data_haar, data_dnn, data_dlib, data_facenet]\n",
        "cap = cv2.VideoCapture(\"output.mp4\")"
      ],
      "execution_count": null,
      "outputs": []
    },
    {
      "cell_type": "code",
      "metadata": {
        "colab": {
          "base_uri": "https://localhost:8080/",
          "height": 394
        },
        "id": "5Wf81U_8yb0k",
        "outputId": "f2512adf-7e26-485f-a16e-483326b64fa6"
      },
      "source": [
        "fig, ax = plt.subplots(figsize=(10,6))\n",
        "\n",
        "pos = np.arange(1)\n",
        "plt.bar(pos, data_haar, 0.2, label='OpenCV_Haar')\n",
        "plt.bar(pos + 0.2, data_dnn, 0.2, label='OpenCV_DNN')\n",
        "plt.bar(pos + 0.4, data_dlib, 0.2, label='Dlib')\n",
        "plt.bar(pos + 0.6, data_facenet, 0.2, label='Facenet')\n",
        "plt.bar(pos + 0.8, data_mtcnn, 0.2, label='MTCNN')\n",
        "\n",
        "ax.set_ylabel('Elapsed time (seconds)')\n",
        "ax.get_xaxis().set_visible(False)\n",
        "ax.set_title(\"Time needed to process \" + str(int(cap.get(cv2.CAP_PROP_FRAME_COUNT))) + \" frames \\n Algorithms were run on Google Colab using its GPU hardware accelerator\")\n",
        "plt.legend();"
      ],
      "execution_count": null,
      "outputs": [
        {
          "output_type": "display_data",
          "data": {
            "image/png": "[encoded data removed]",
            "text/plain": [
              "<Figure size 720x432 with 1 Axes>"
            ]
          },
          "metadata": {
            "tags": [],
            "needs_background": "light"
          }
        }
      ]
    },
    {
      "cell_type": "code",
      "metadata": {
        "id": "5GqSCnwt0bGl"
      },
      "source": [
        "cap.release()"
      ],
      "execution_count": null,
      "outputs": []
    }
  ]
}