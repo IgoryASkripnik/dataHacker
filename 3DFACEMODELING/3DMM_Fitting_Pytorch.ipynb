{
  "nbformat": 4,
  "nbformat_minor": 0,
  "metadata": {
    "colab": {
      "provenance": [],
      "include_colab_link": true
    },
    "kernelspec": {
      "name": "python3",
      "display_name": "Python 3"
    },
    "language_info": {
      "name": "python"
    },
    "accelerator": "GPU",
    "gpuClass": "standard",
    "widgets": {
      "application/vnd.jupyter.widget-state+json": {
        "efeeed0bc8a6457ba10c6048f5f03d20": {
          "model_module": "@jupyter-widgets/controls",
          "model_name": "HBoxModel",
          "model_module_version": "1.5.0",
          "state": {
            "_dom_classes": [],
            "_model_module": "@jupyter-widgets/controls",
            "_model_module_version": "1.5.0",
            "_model_name": "HBoxModel",
            "_view_count": null,
            "_view_module": "@jupyter-widgets/controls",
            "_view_module_version": "1.5.0",
            "_view_name": "HBoxView",
            "box_style": "",
            "children": [
              "IPY_MODEL_ea18771eb6d34eb7a02d9368a95d7d65",
              "IPY_MODEL_b25403c7f9ed48ad9af75f1845f6a1b3",
              "IPY_MODEL_92983fc3904b4a3b8becedd5099ee59e"
            ],
            "layout": "IPY_MODEL_008e5ef4f3194ba1a8465a3cbf86739f"
          }
        },
        "ea18771eb6d34eb7a02d9368a95d7d65": {
          "model_module": "@jupyter-widgets/controls",
          "model_name": "HTMLModel",
          "model_module_version": "1.5.0",
          "state": {
            "_dom_classes": [],
            "_model_module": "@jupyter-widgets/controls",
            "_model_module_version": "1.5.0",
            "_model_name": "HTMLModel",
            "_view_count": null,
            "_view_module": "@jupyter-widgets/controls",
            "_view_module_version": "1.5.0",
            "_view_name": "HTMLView",
            "description": "",
            "description_tooltip": null,
            "layout": "IPY_MODEL_efc22a6147534fbd950628b6c66d70bf",
            "placeholder": "​",
            "style": "IPY_MODEL_6d8b51e1956e48ac8da0229f14f6b17a",
            "value": "100%"
          }
        },
        "b25403c7f9ed48ad9af75f1845f6a1b3": {
          "model_module": "@jupyter-widgets/controls",
          "model_name": "FloatProgressModel",
          "model_module_version": "1.5.0",
          "state": {
            "_dom_classes": [],
            "_model_module": "@jupyter-widgets/controls",
            "_model_module_version": "1.5.0",
            "_model_name": "FloatProgressModel",
            "_view_count": null,
            "_view_module": "@jupyter-widgets/controls",
            "_view_module_version": "1.5.0",
            "_view_name": "ProgressView",
            "bar_style": "success",
            "description": "",
            "description_tooltip": null,
            "layout": "IPY_MODEL_385536d50be2421ca33e918635a3f5d1",
            "max": 89843225,
            "min": 0,
            "orientation": "horizontal",
            "style": "IPY_MODEL_b794574699ae493581cee173b0bba817",
            "value": 89843225
          }
        },
        "92983fc3904b4a3b8becedd5099ee59e": {
          "model_module": "@jupyter-widgets/controls",
          "model_name": "HTMLModel",
          "model_module_version": "1.5.0",
          "state": {
            "_dom_classes": [],
            "_model_module": "@jupyter-widgets/controls",
            "_model_module_version": "1.5.0",
            "_model_name": "HTMLModel",
            "_view_count": null,
            "_view_module": "@jupyter-widgets/controls",
            "_view_module_version": "1.5.0",
            "_view_name": "HTMLView",
            "description": "",
            "description_tooltip": null,
            "layout": "IPY_MODEL_c768e6d0090e4890b7444371b9b32fdb",
            "placeholder": "​",
            "style": "IPY_MODEL_c90aa771f0fb43729245138d37550120",
            "value": " 85.7M/85.7M [00:07&lt;00:00, 15.4MB/s]"
          }
        },
        "008e5ef4f3194ba1a8465a3cbf86739f": {
          "model_module": "@jupyter-widgets/base",
          "model_name": "LayoutModel",
          "model_module_version": "1.2.0",
          "state": {
            "_model_module": "@jupyter-widgets/base",
            "_model_module_version": "1.2.0",
            "_model_name": "LayoutModel",
            "_view_count": null,
            "_view_module": "@jupyter-widgets/base",
            "_view_module_version": "1.2.0",
            "_view_name": "LayoutView",
            "align_content": null,
            "align_items": null,
            "align_self": null,
            "border": null,
            "bottom": null,
            "display": null,
            "flex": null,
            "flex_flow": null,
            "grid_area": null,
            "grid_auto_columns": null,
            "grid_auto_flow": null,
            "grid_auto_rows": null,
            "grid_column": null,
            "grid_gap": null,
            "grid_row": null,
            "grid_template_areas": null,
            "grid_template_columns": null,
            "grid_template_rows": null,
            "height": null,
            "justify_content": null,
            "justify_items": null,
            "left": null,
            "margin": null,
            "max_height": null,
            "max_width": null,
            "min_height": null,
            "min_width": null,
            "object_fit": null,
            "object_position": null,
            "order": null,
            "overflow": null,
            "overflow_x": null,
            "overflow_y": null,
            "padding": null,
            "right": null,
            "top": null,
            "visibility": null,
            "width": null
          }
        },
        "efc22a6147534fbd950628b6c66d70bf": {
          "model_module": "@jupyter-widgets/base",
          "model_name": "LayoutModel",
          "model_module_version": "1.2.0",
          "state": {
            "_model_module": "@jupyter-widgets/base",
            "_model_module_version": "1.2.0",
            "_model_name": "LayoutModel",
            "_view_count": null,
            "_view_module": "@jupyter-widgets/base",
            "_view_module_version": "1.2.0",
            "_view_name": "LayoutView",
            "align_content": null,
            "align_items": null,
            "align_self": null,
            "border": null,
            "bottom": null,
            "display": null,
            "flex": null,
            "flex_flow": null,
            "grid_area": null,
            "grid_auto_columns": null,
            "grid_auto_flow": null,
            "grid_auto_rows": null,
            "grid_column": null,
            "grid_gap": null,
            "grid_row": null,
            "grid_template_areas": null,
            "grid_template_columns": null,
            "grid_template_rows": null,
            "height": null,
            "justify_content": null,
            "justify_items": null,
            "left": null,
            "margin": null,
            "max_height": null,
            "max_width": null,
            "min_height": null,
            "min_width": null,
            "object_fit": null,
            "object_position": null,
            "order": null,
            "overflow": null,
            "overflow_x": null,
            "overflow_y": null,
            "padding": null,
            "right": null,
            "top": null,
            "visibility": null,
            "width": null
          }
        },
        "6d8b51e1956e48ac8da0229f14f6b17a": {
          "model_module": "@jupyter-widgets/controls",
          "model_name": "DescriptionStyleModel",
          "model_module_version": "1.5.0",
          "state": {
            "_model_module": "@jupyter-widgets/controls",
            "_model_module_version": "1.5.0",
            "_model_name": "DescriptionStyleModel",
            "_view_count": null,
            "_view_module": "@jupyter-widgets/base",
            "_view_module_version": "1.2.0",
            "_view_name": "StyleView",
            "description_width": ""
          }
        },
        "385536d50be2421ca33e918635a3f5d1": {
          "model_module": "@jupyter-widgets/base",
          "model_name": "LayoutModel",
          "model_module_version": "1.2.0",
          "state": {
            "_model_module": "@jupyter-widgets/base",
            "_model_module_version": "1.2.0",
            "_model_name": "LayoutModel",
            "_view_count": null,
            "_view_module": "@jupyter-widgets/base",
            "_view_module_version": "1.2.0",
            "_view_name": "LayoutView",
            "align_content": null,
            "align_items": null,
            "align_self": null,
            "border": null,
            "bottom": null,
            "display": null,
            "flex": null,
            "flex_flow": null,
            "grid_area": null,
            "grid_auto_columns": null,
            "grid_auto_flow": null,
            "grid_auto_rows": null,
            "grid_column": null,
            "grid_gap": null,
            "grid_row": null,
            "grid_template_areas": null,
            "grid_template_columns": null,
            "grid_template_rows": null,
            "height": null,
            "justify_content": null,
            "justify_items": null,
            "left": null,
            "margin": null,
            "max_height": null,
            "max_width": null,
            "min_height": null,
            "min_width": null,
            "object_fit": null,
            "object_position": null,
            "order": null,
            "overflow": null,
            "overflow_x": null,
            "overflow_y": null,
            "padding": null,
            "right": null,
            "top": null,
            "visibility": null,
            "width": null
          }
        },
        "b794574699ae493581cee173b0bba817": {
          "model_module": "@jupyter-widgets/controls",
          "model_name": "ProgressStyleModel",
          "model_module_version": "1.5.0",
          "state": {
            "_model_module": "@jupyter-widgets/controls",
            "_model_module_version": "1.5.0",
            "_model_name": "ProgressStyleModel",
            "_view_count": null,
            "_view_module": "@jupyter-widgets/base",
            "_view_module_version": "1.2.0",
            "_view_name": "StyleView",
            "bar_color": null,
            "description_width": ""
          }
        },
        "c768e6d0090e4890b7444371b9b32fdb": {
          "model_module": "@jupyter-widgets/base",
          "model_name": "LayoutModel",
          "model_module_version": "1.2.0",
          "state": {
            "_model_module": "@jupyter-widgets/base",
            "_model_module_version": "1.2.0",
            "_model_name": "LayoutModel",
            "_view_count": null,
            "_view_module": "@jupyter-widgets/base",
            "_view_module_version": "1.2.0",
            "_view_name": "LayoutView",
            "align_content": null,
            "align_items": null,
            "align_self": null,
            "border": null,
            "bottom": null,
            "display": null,
            "flex": null,
            "flex_flow": null,
            "grid_area": null,
            "grid_auto_columns": null,
            "grid_auto_flow": null,
            "grid_auto_rows": null,
            "grid_column": null,
            "grid_gap": null,
            "grid_row": null,
            "grid_template_areas": null,
            "grid_template_columns": null,
            "grid_template_rows": null,
            "height": null,
            "justify_content": null,
            "justify_items": null,
            "left": null,
            "margin": null,
            "max_height": null,
            "max_width": null,
            "min_height": null,
            "min_width": null,
            "object_fit": null,
            "object_position": null,
            "order": null,
            "overflow": null,
            "overflow_x": null,
            "overflow_y": null,
            "padding": null,
            "right": null,
            "top": null,
            "visibility": null,
            "width": null
          }
        },
        "c90aa771f0fb43729245138d37550120": {
          "model_module": "@jupyter-widgets/controls",
          "model_name": "DescriptionStyleModel",
          "model_module_version": "1.5.0",
          "state": {
            "_model_module": "@jupyter-widgets/controls",
            "_model_module_version": "1.5.0",
            "_model_name": "DescriptionStyleModel",
            "_view_count": null,
            "_view_module": "@jupyter-widgets/base",
            "_view_module_version": "1.2.0",
            "_view_name": "StyleView",
            "description_width": ""
          }
        },
        "d4e63c03410345b5a9b43cc8a82a3059": {
          "model_module": "@jupyter-widgets/controls",
          "model_name": "HBoxModel",
          "model_module_version": "1.5.0",
          "state": {
            "_dom_classes": [],
            "_model_module": "@jupyter-widgets/controls",
            "_model_module_version": "1.5.0",
            "_model_name": "HBoxModel",
            "_view_count": null,
            "_view_module": "@jupyter-widgets/controls",
            "_view_module_version": "1.5.0",
            "_view_name": "HBoxView",
            "box_style": "",
            "children": [
              "IPY_MODEL_fd591d517c2547bf97df957dae5d4796",
              "IPY_MODEL_f0186ab96c86495b8d3fbb48b0525da8",
              "IPY_MODEL_5999903f680a4ddf88b1b5c4bc355cb4"
            ],
            "layout": "IPY_MODEL_5ae34276c03740e9aed4df7ef57aa24d"
          }
        },
        "fd591d517c2547bf97df957dae5d4796": {
          "model_module": "@jupyter-widgets/controls",
          "model_name": "HTMLModel",
          "model_module_version": "1.5.0",
          "state": {
            "_dom_classes": [],
            "_model_module": "@jupyter-widgets/controls",
            "_model_module_version": "1.5.0",
            "_model_name": "HTMLModel",
            "_view_count": null,
            "_view_module": "@jupyter-widgets/controls",
            "_view_module_version": "1.5.0",
            "_view_name": "HTMLView",
            "description": "",
            "description_tooltip": null,
            "layout": "IPY_MODEL_8150c087b0674a889760bbb9d536ef99",
            "placeholder": "​",
            "style": "IPY_MODEL_f303216cc9c643bda976a683d06bbb15",
            "value": "100%"
          }
        },
        "f0186ab96c86495b8d3fbb48b0525da8": {
          "model_module": "@jupyter-widgets/controls",
          "model_name": "FloatProgressModel",
          "model_module_version": "1.5.0",
          "state": {
            "_dom_classes": [],
            "_model_module": "@jupyter-widgets/controls",
            "_model_module_version": "1.5.0",
            "_model_name": "FloatProgressModel",
            "_view_count": null,
            "_view_module": "@jupyter-widgets/controls",
            "_view_module_version": "1.5.0",
            "_view_name": "ProgressView",
            "bar_style": "success",
            "description": "",
            "description_tooltip": null,
            "layout": "IPY_MODEL_2416d7c43869481981ad275e2f3b9ab2",
            "max": 96316515,
            "min": 0,
            "orientation": "horizontal",
            "style": "IPY_MODEL_57dbafac5d6649f194097588cdcda64c",
            "value": 96316515
          }
        },
        "5999903f680a4ddf88b1b5c4bc355cb4": {
          "model_module": "@jupyter-widgets/controls",
          "model_name": "HTMLModel",
          "model_module_version": "1.5.0",
          "state": {
            "_dom_classes": [],
            "_model_module": "@jupyter-widgets/controls",
            "_model_module_version": "1.5.0",
            "_model_name": "HTMLModel",
            "_view_count": null,
            "_view_module": "@jupyter-widgets/controls",
            "_view_module_version": "1.5.0",
            "_view_name": "HTMLView",
            "description": "",
            "description_tooltip": null,
            "layout": "IPY_MODEL_c5ccd88bfe96480d8f998d9d3bea1186",
            "placeholder": "​",
            "style": "IPY_MODEL_1fc1336d083b47fa9374f832d9fd7e32",
            "value": " 91.9M/91.9M [00:07&lt;00:00, 14.8MB/s]"
          }
        },
        "5ae34276c03740e9aed4df7ef57aa24d": {
          "model_module": "@jupyter-widgets/base",
          "model_name": "LayoutModel",
          "model_module_version": "1.2.0",
          "state": {
            "_model_module": "@jupyter-widgets/base",
            "_model_module_version": "1.2.0",
            "_model_name": "LayoutModel",
            "_view_count": null,
            "_view_module": "@jupyter-widgets/base",
            "_view_module_version": "1.2.0",
            "_view_name": "LayoutView",
            "align_content": null,
            "align_items": null,
            "align_self": null,
            "border": null,
            "bottom": null,
            "display": null,
            "flex": null,
            "flex_flow": null,
            "grid_area": null,
            "grid_auto_columns": null,
            "grid_auto_flow": null,
            "grid_auto_rows": null,
            "grid_column": null,
            "grid_gap": null,
            "grid_row": null,
            "grid_template_areas": null,
            "grid_template_columns": null,
            "grid_template_rows": null,
            "height": null,
            "justify_content": null,
            "justify_items": null,
            "left": null,
            "margin": null,
            "max_height": null,
            "max_width": null,
            "min_height": null,
            "min_width": null,
            "object_fit": null,
            "object_position": null,
            "order": null,
            "overflow": null,
            "overflow_x": null,
            "overflow_y": null,
            "padding": null,
            "right": null,
            "top": null,
            "visibility": null,
            "width": null
          }
        },
        "8150c087b0674a889760bbb9d536ef99": {
          "model_module": "@jupyter-widgets/base",
          "model_name": "LayoutModel",
          "model_module_version": "1.2.0",
          "state": {
            "_model_module": "@jupyter-widgets/base",
            "_model_module_version": "1.2.0",
            "_model_name": "LayoutModel",
            "_view_count": null,
            "_view_module": "@jupyter-widgets/base",
            "_view_module_version": "1.2.0",
            "_view_name": "LayoutView",
            "align_content": null,
            "align_items": null,
            "align_self": null,
            "border": null,
            "bottom": null,
            "display": null,
            "flex": null,
            "flex_flow": null,
            "grid_area": null,
            "grid_auto_columns": null,
            "grid_auto_flow": null,
            "grid_auto_rows": null,
            "grid_column": null,
            "grid_gap": null,
            "grid_row": null,
            "grid_template_areas": null,
            "grid_template_columns": null,
            "grid_template_rows": null,
            "height": null,
            "justify_content": null,
            "justify_items": null,
            "left": null,
            "margin": null,
            "max_height": null,
            "max_width": null,
            "min_height": null,
            "min_width": null,
            "object_fit": null,
            "object_position": null,
            "order": null,
            "overflow": null,
            "overflow_x": null,
            "overflow_y": null,
            "padding": null,
            "right": null,
            "top": null,
            "visibility": null,
            "width": null
          }
        },
        "f303216cc9c643bda976a683d06bbb15": {
          "model_module": "@jupyter-widgets/controls",
          "model_name": "DescriptionStyleModel",
          "model_module_version": "1.5.0",
          "state": {
            "_model_module": "@jupyter-widgets/controls",
            "_model_module_version": "1.5.0",
            "_model_name": "DescriptionStyleModel",
            "_view_count": null,
            "_view_module": "@jupyter-widgets/base",
            "_view_module_version": "1.2.0",
            "_view_name": "StyleView",
            "description_width": ""
          }
        },
        "2416d7c43869481981ad275e2f3b9ab2": {
          "model_module": "@jupyter-widgets/base",
          "model_name": "LayoutModel",
          "model_module_version": "1.2.0",
          "state": {
            "_model_module": "@jupyter-widgets/base",
            "_model_module_version": "1.2.0",
            "_model_name": "LayoutModel",
            "_view_count": null,
            "_view_module": "@jupyter-widgets/base",
            "_view_module_version": "1.2.0",
            "_view_name": "LayoutView",
            "align_content": null,
            "align_items": null,
            "align_self": null,
            "border": null,
            "bottom": null,
            "display": null,
            "flex": null,
            "flex_flow": null,
            "grid_area": null,
            "grid_auto_columns": null,
            "grid_auto_flow": null,
            "grid_auto_rows": null,
            "grid_column": null,
            "grid_gap": null,
            "grid_row": null,
            "grid_template_areas": null,
            "grid_template_columns": null,
            "grid_template_rows": null,
            "height": null,
            "justify_content": null,
            "justify_items": null,
            "left": null,
            "margin": null,
            "max_height": null,
            "max_width": null,
            "min_height": null,
            "min_width": null,
            "object_fit": null,
            "object_position": null,
            "order": null,
            "overflow": null,
            "overflow_x": null,
            "overflow_y": null,
            "padding": null,
            "right": null,
            "top": null,
            "visibility": null,
            "width": null
          }
        },
        "57dbafac5d6649f194097588cdcda64c": {
          "model_module": "@jupyter-widgets/controls",
          "model_name": "ProgressStyleModel",
          "model_module_version": "1.5.0",
          "state": {
            "_model_module": "@jupyter-widgets/controls",
            "_model_module_version": "1.5.0",
            "_model_name": "ProgressStyleModel",
            "_view_count": null,
            "_view_module": "@jupyter-widgets/base",
            "_view_module_version": "1.2.0",
            "_view_name": "StyleView",
            "bar_color": null,
            "description_width": ""
          }
        },
        "c5ccd88bfe96480d8f998d9d3bea1186": {
          "model_module": "@jupyter-widgets/base",
          "model_name": "LayoutModel",
          "model_module_version": "1.2.0",
          "state": {
            "_model_module": "@jupyter-widgets/base",
            "_model_module_version": "1.2.0",
            "_model_name": "LayoutModel",
            "_view_count": null,
            "_view_module": "@jupyter-widgets/base",
            "_view_module_version": "1.2.0",
            "_view_name": "LayoutView",
            "align_content": null,
            "align_items": null,
            "align_self": null,
            "border": null,
            "bottom": null,
            "display": null,
            "flex": null,
            "flex_flow": null,
            "grid_area": null,
            "grid_auto_columns": null,
            "grid_auto_flow": null,
            "grid_auto_rows": null,
            "grid_column": null,
            "grid_gap": null,
            "grid_row": null,
            "grid_template_areas": null,
            "grid_template_columns": null,
            "grid_template_rows": null,
            "height": null,
            "justify_content": null,
            "justify_items": null,
            "left": null,
            "margin": null,
            "max_height": null,
            "max_width": null,
            "min_height": null,
            "min_width": null,
            "object_fit": null,
            "object_position": null,
            "order": null,
            "overflow": null,
            "overflow_x": null,
            "overflow_y": null,
            "padding": null,
            "right": null,
            "top": null,
            "visibility": null,
            "width": null
          }
        },
        "1fc1336d083b47fa9374f832d9fd7e32": {
          "model_module": "@jupyter-widgets/controls",
          "model_name": "DescriptionStyleModel",
          "model_module_version": "1.5.0",
          "state": {
            "_model_module": "@jupyter-widgets/controls",
            "_model_module_version": "1.5.0",
            "_model_name": "DescriptionStyleModel",
            "_view_count": null,
            "_view_module": "@jupyter-widgets/base",
            "_view_module_version": "1.2.0",
            "_view_name": "StyleView",
            "description_width": ""
          }
        },
        "b7a83031e42241eb805631266cc8cb37": {
          "model_module": "@jupyter-widgets/controls",
          "model_name": "HBoxModel",
          "model_module_version": "1.5.0",
          "state": {
            "_dom_classes": [],
            "_model_module": "@jupyter-widgets/controls",
            "_model_module_version": "1.5.0",
            "_model_name": "HBoxModel",
            "_view_count": null,
            "_view_module": "@jupyter-widgets/controls",
            "_view_module_version": "1.5.0",
            "_view_name": "HBoxView",
            "box_style": "",
            "children": [
              "IPY_MODEL_4846dea166f94186ba0f9973e10721ca",
              "IPY_MODEL_2ecf25418eb8496db9be763c7d0155c4",
              "IPY_MODEL_c1f05ab2f48741c6a838dba3369043f8"
            ],
            "layout": "IPY_MODEL_706e6694566a4f73bd78cb318dd82f21"
          }
        },
        "4846dea166f94186ba0f9973e10721ca": {
          "model_module": "@jupyter-widgets/controls",
          "model_name": "HTMLModel",
          "model_module_version": "1.5.0",
          "state": {
            "_dom_classes": [],
            "_model_module": "@jupyter-widgets/controls",
            "_model_module_version": "1.5.0",
            "_model_name": "HTMLModel",
            "_view_count": null,
            "_view_module": "@jupyter-widgets/controls",
            "_view_module_version": "1.5.0",
            "_view_name": "HTMLView",
            "description": "",
            "description_tooltip": null,
            "layout": "IPY_MODEL_dbfe4609e74b48458f8e8c461ff276d9",
            "placeholder": "​",
            "style": "IPY_MODEL_5a21f03d04354a9f9dc23b208227bd93",
            "value": "100%"
          }
        },
        "2ecf25418eb8496db9be763c7d0155c4": {
          "model_module": "@jupyter-widgets/controls",
          "model_name": "FloatProgressModel",
          "model_module_version": "1.5.0",
          "state": {
            "_dom_classes": [],
            "_model_module": "@jupyter-widgets/controls",
            "_model_module_version": "1.5.0",
            "_model_name": "FloatProgressModel",
            "_view_count": null,
            "_view_module": "@jupyter-widgets/controls",
            "_view_module_version": "1.5.0",
            "_view_name": "ProgressView",
            "bar_style": "success",
            "description": "",
            "description_tooltip": null,
            "layout": "IPY_MODEL_785e81942e1e4207bab695c4f667be80",
            "max": 235314250,
            "min": 0,
            "orientation": "horizontal",
            "style": "IPY_MODEL_e6a3447eaad345c1ba3ee720f64c92db",
            "value": 235314250
          }
        },
        "c1f05ab2f48741c6a838dba3369043f8": {
          "model_module": "@jupyter-widgets/controls",
          "model_name": "HTMLModel",
          "model_module_version": "1.5.0",
          "state": {
            "_dom_classes": [],
            "_model_module": "@jupyter-widgets/controls",
            "_model_module_version": "1.5.0",
            "_model_name": "HTMLModel",
            "_view_count": null,
            "_view_module": "@jupyter-widgets/controls",
            "_view_module_version": "1.5.0",
            "_view_name": "HTMLView",
            "description": "",
            "description_tooltip": null,
            "layout": "IPY_MODEL_47ebd44d37c94df1b394f740b8c54826",
            "placeholder": "​",
            "style": "IPY_MODEL_682aef8eb3224ef1b9f7cdfc81133c54",
            "value": " 224M/224M [00:17&lt;00:00, 14.4MB/s]"
          }
        },
        "706e6694566a4f73bd78cb318dd82f21": {
          "model_module": "@jupyter-widgets/base",
          "model_name": "LayoutModel",
          "model_module_version": "1.2.0",
          "state": {
            "_model_module": "@jupyter-widgets/base",
            "_model_module_version": "1.2.0",
            "_model_name": "LayoutModel",
            "_view_count": null,
            "_view_module": "@jupyter-widgets/base",
            "_view_module_version": "1.2.0",
            "_view_name": "LayoutView",
            "align_content": null,
            "align_items": null,
            "align_self": null,
            "border": null,
            "bottom": null,
            "display": null,
            "flex": null,
            "flex_flow": null,
            "grid_area": null,
            "grid_auto_columns": null,
            "grid_auto_flow": null,
            "grid_auto_rows": null,
            "grid_column": null,
            "grid_gap": null,
            "grid_row": null,
            "grid_template_areas": null,
            "grid_template_columns": null,
            "grid_template_rows": null,
            "height": null,
            "justify_content": null,
            "justify_items": null,
            "left": null,
            "margin": null,
            "max_height": null,
            "max_width": null,
            "min_height": null,
            "min_width": null,
            "object_fit": null,
            "object_position": null,
            "order": null,
            "overflow": null,
            "overflow_x": null,
            "overflow_y": null,
            "padding": null,
            "right": null,
            "top": null,
            "visibility": null,
            "width": null
          }
        },
        "dbfe4609e74b48458f8e8c461ff276d9": {
          "model_module": "@jupyter-widgets/base",
          "model_name": "LayoutModel",
          "model_module_version": "1.2.0",
          "state": {
            "_model_module": "@jupyter-widgets/base",
            "_model_module_version": "1.2.0",
            "_model_name": "LayoutModel",
            "_view_count": null,
            "_view_module": "@jupyter-widgets/base",
            "_view_module_version": "1.2.0",
            "_view_name": "LayoutView",
            "align_content": null,
            "align_items": null,
            "align_self": null,
            "border": null,
            "bottom": null,
            "display": null,
            "flex": null,
            "flex_flow": null,
            "grid_area": null,
            "grid_auto_columns": null,
            "grid_auto_flow": null,
            "grid_auto_rows": null,
            "grid_column": null,
            "grid_gap": null,
            "grid_row": null,
            "grid_template_areas": null,
            "grid_template_columns": null,
            "grid_template_rows": null,
            "height": null,
            "justify_content": null,
            "justify_items": null,
            "left": null,
            "margin": null,
            "max_height": null,
            "max_width": null,
            "min_height": null,
            "min_width": null,
            "object_fit": null,
            "object_position": null,
            "order": null,
            "overflow": null,
            "overflow_x": null,
            "overflow_y": null,
            "padding": null,
            "right": null,
            "top": null,
            "visibility": null,
            "width": null
          }
        },
        "5a21f03d04354a9f9dc23b208227bd93": {
          "model_module": "@jupyter-widgets/controls",
          "model_name": "DescriptionStyleModel",
          "model_module_version": "1.5.0",
          "state": {
            "_model_module": "@jupyter-widgets/controls",
            "_model_module_version": "1.5.0",
            "_model_name": "DescriptionStyleModel",
            "_view_count": null,
            "_view_module": "@jupyter-widgets/base",
            "_view_module_version": "1.2.0",
            "_view_name": "StyleView",
            "description_width": ""
          }
        },
        "785e81942e1e4207bab695c4f667be80": {
          "model_module": "@jupyter-widgets/base",
          "model_name": "LayoutModel",
          "model_module_version": "1.2.0",
          "state": {
            "_model_module": "@jupyter-widgets/base",
            "_model_module_version": "1.2.0",
            "_model_name": "LayoutModel",
            "_view_count": null,
            "_view_module": "@jupyter-widgets/base",
            "_view_module_version": "1.2.0",
            "_view_name": "LayoutView",
            "align_content": null,
            "align_items": null,
            "align_self": null,
            "border": null,
            "bottom": null,
            "display": null,
            "flex": null,
            "flex_flow": null,
            "grid_area": null,
            "grid_auto_columns": null,
            "grid_auto_flow": null,
            "grid_auto_rows": null,
            "grid_column": null,
            "grid_gap": null,
            "grid_row": null,
            "grid_template_areas": null,
            "grid_template_columns": null,
            "grid_template_rows": null,
            "height": null,
            "justify_content": null,
            "justify_items": null,
            "left": null,
            "margin": null,
            "max_height": null,
            "max_width": null,
            "min_height": null,
            "min_width": null,
            "object_fit": null,
            "object_position": null,
            "order": null,
            "overflow": null,
            "overflow_x": null,
            "overflow_y": null,
            "padding": null,
            "right": null,
            "top": null,
            "visibility": null,
            "width": null
          }
        },
        "e6a3447eaad345c1ba3ee720f64c92db": {
          "model_module": "@jupyter-widgets/controls",
          "model_name": "ProgressStyleModel",
          "model_module_version": "1.5.0",
          "state": {
            "_model_module": "@jupyter-widgets/controls",
            "_model_module_version": "1.5.0",
            "_model_name": "ProgressStyleModel",
            "_view_count": null,
            "_view_module": "@jupyter-widgets/base",
            "_view_module_version": "1.2.0",
            "_view_name": "StyleView",
            "bar_color": null,
            "description_width": ""
          }
        },
        "47ebd44d37c94df1b394f740b8c54826": {
          "model_module": "@jupyter-widgets/base",
          "model_name": "LayoutModel",
          "model_module_version": "1.2.0",
          "state": {
            "_model_module": "@jupyter-widgets/base",
            "_model_module_version": "1.2.0",
            "_model_name": "LayoutModel",
            "_view_count": null,
            "_view_module": "@jupyter-widgets/base",
            "_view_module_version": "1.2.0",
            "_view_name": "LayoutView",
            "align_content": null,
            "align_items": null,
            "align_self": null,
            "border": null,
            "bottom": null,
            "display": null,
            "flex": null,
            "flex_flow": null,
            "grid_area": null,
            "grid_auto_columns": null,
            "grid_auto_flow": null,
            "grid_auto_rows": null,
            "grid_column": null,
            "grid_gap": null,
            "grid_row": null,
            "grid_template_areas": null,
            "grid_template_columns": null,
            "grid_template_rows": null,
            "height": null,
            "justify_content": null,
            "justify_items": null,
            "left": null,
            "margin": null,
            "max_height": null,
            "max_width": null,
            "min_height": null,
            "min_width": null,
            "object_fit": null,
            "object_position": null,
            "order": null,
            "overflow": null,
            "overflow_x": null,
            "overflow_y": null,
            "padding": null,
            "right": null,
            "top": null,
            "visibility": null,
            "width": null
          }
        },
        "682aef8eb3224ef1b9f7cdfc81133c54": {
          "model_module": "@jupyter-widgets/controls",
          "model_name": "DescriptionStyleModel",
          "model_module_version": "1.5.0",
          "state": {
            "_model_module": "@jupyter-widgets/controls",
            "_model_module_version": "1.5.0",
            "_model_name": "DescriptionStyleModel",
            "_view_count": null,
            "_view_module": "@jupyter-widgets/base",
            "_view_module_version": "1.2.0",
            "_view_name": "StyleView",
            "description_width": ""
          }
        }
      }
    }
  },
  "cells": [
    {
      "cell_type": "markdown",
      "metadata": {
        "id": "view-in-github",
        "colab_type": "text"
      },
      "source": [
        "<a href=\"https://colab.research.google.com/github/maticvl/dataHacker/blob/master/3DFACEMODELING/3DMM_Fitting_Pytorch.ipynb\" target=\"_parent\"><img src=\"https://colab.research.google.com/assets/colab-badge.svg\" alt=\"Open In Colab\"/></a>"
      ]
    },
    {
      "cell_type": "markdown",
      "source": [
        "![datahacker.png](data:image/png;base64,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)\n",
        "# 3DMM Model Fitting using PyTorch"
      ],
      "metadata": {
        "id": "9orplDxEafju"
      }
    },
    {
      "cell_type": "markdown",
      "source": [
        "First step for running the code is clonning the GitHub repository from Ascust, which has a very well explained instructions for running the code"
      ],
      "metadata": {
        "id": "kAyj7jlzL2oo"
      }
    },
    {
      "cell_type": "code",
      "execution_count": null,
      "metadata": {
        "id": "6hW4-5vflupu",
        "colab": {
          "base_uri": "https://localhost:8080/"
        },
        "outputId": "f5953e75-0a94-4e5a-b09e-64f55fdd6359"
      },
      "outputs": [
        {
          "output_type": "stream",
          "name": "stdout",
          "text": [
            "fatal: destination path '3DMM-Fitting-Pytorch' already exists and is not an empty directory.\n"
          ]
        }
      ],
      "source": [
        "!git clone https://github.com/ascust/3DMM-Fitting-Pytorch"
      ]
    },
    {
      "cell_type": "markdown",
      "source": [
        "## Downloading face model and expression basis file"
      ],
      "metadata": {
        "id": "0PbDZ09QMMcG"
      }
    },
    {
      "cell_type": "markdown",
      "source": [
        "Download the Basel Face Model and put \"01_MorphableModel.mat\" and put it into \"BFM\".\n",
        "This file can be found at:\n",
        "https://faces.dmi.unibas.ch/bfm/index.php?nav=1-2&id=downloads\n",
        "\n",
        "Download the Expression Basis. Go to the repo, download the \"CoarseData\" and put \"Exp_Pca.bin\" into \"BFM\". You can download the file from:\n",
        "https://github.com/Juyong/3DFace/blob/master/Exp_Pca.bin\n",
        "\n",
        "Or alternatively, run the code blocks below and download them from our public google drive links."
      ],
      "metadata": {
        "id": "2c31imytRiWL"
      }
    },
    {
      "cell_type": "markdown",
      "source": [
        "We need to install `gdown` in order to download the files from google drive. We also need to install a pre-release version to be able to download big files. This can be achieved by adding the `--pre` after the package name, this can be seen in the command below."
      ],
      "metadata": {
        "id": "sRnjjaOou-t0"
      }
    },
    {
      "cell_type": "code",
      "source": [
        "!pip install -U --no-cache-dir gdown --pre"
      ],
      "metadata": {
        "id": "94hhoWucLHaD",
        "colab": {
          "base_uri": "https://localhost:8080/"
        },
        "outputId": "31046488-0416-46c4-fe87-08c72c7a1f5f"
      },
      "execution_count": null,
      "outputs": [
        {
          "output_type": "stream",
          "name": "stdout",
          "text": [
            "Looking in indexes: https://pypi.org/simple, https://us-python.pkg.dev/colab-wheels/public/simple/\n",
            "Requirement already satisfied: gdown in /usr/local/lib/python3.8/dist-packages (4.6.0)\n",
            "Requirement already satisfied: six in /usr/local/lib/python3.8/dist-packages (from gdown) (1.15.0)\n",
            "Requirement already satisfied: requests[socks] in /usr/local/lib/python3.8/dist-packages (from gdown) (2.23.0)\n",
            "Requirement already satisfied: beautifulsoup4 in /usr/local/lib/python3.8/dist-packages (from gdown) (4.6.3)\n",
            "Requirement already satisfied: tqdm in /usr/local/lib/python3.8/dist-packages (from gdown) (4.64.1)\n",
            "Requirement already satisfied: filelock in /usr/local/lib/python3.8/dist-packages (from gdown) (3.8.0)\n",
            "Requirement already satisfied: urllib3!=1.25.0,!=1.25.1,<1.26,>=1.21.1 in /usr/local/lib/python3.8/dist-packages (from requests[socks]->gdown) (1.24.3)\n",
            "Requirement already satisfied: idna<3,>=2.5 in /usr/local/lib/python3.8/dist-packages (from requests[socks]->gdown) (2.10)\n",
            "Requirement already satisfied: certifi>=2017.4.17 in /usr/local/lib/python3.8/dist-packages (from requests[socks]->gdown) (2022.9.24)\n",
            "Requirement already satisfied: chardet<4,>=3.0.2 in /usr/local/lib/python3.8/dist-packages (from requests[socks]->gdown) (3.0.4)\n",
            "Requirement already satisfied: PySocks!=1.5.7,>=1.5.6 in /usr/local/lib/python3.8/dist-packages (from requests[socks]->gdown) (1.7.1)\n"
          ]
        }
      ]
    },
    {
      "cell_type": "code",
      "source": [
        "!gdown --id 1fHhT2WC9ld5tClHJUpK9RASzwRy974pd # Generic face model\n",
        "!gdown --id 19WlNpIeJ9quXMDk0FdFTuPelsTwkIF5e # Emotion expression file"
      ],
      "metadata": {
        "id": "owHUyK-CKgyP",
        "colab": {
          "base_uri": "https://localhost:8080/"
        },
        "outputId": "e1c04af2-0587-4cdf-f0f7-1aea573a0cd9"
      },
      "execution_count": null,
      "outputs": [
        {
          "output_type": "stream",
          "name": "stdout",
          "text": [
            "/usr/local/lib/python3.8/dist-packages/gdown/cli.py:121: FutureWarning: Option `--id` was deprecated in version 4.3.1 and will be removed in 5.0. You don't need to pass it anymore to use a file ID.\n",
            "  warnings.warn(\n",
            "Downloading...\n",
            "From: https://drive.google.com/uc?id=1fHhT2WC9ld5tClHJUpK9RASzwRy974pd\n",
            "To: /content/BaselFaceModel.tgz\n",
            "100% 240M/240M [00:02<00:00, 114MB/s]\n",
            "/usr/local/lib/python3.8/dist-packages/gdown/cli.py:121: FutureWarning: Option `--id` was deprecated in version 4.3.1 and will be removed in 5.0. You don't need to pass it anymore to use a file ID.\n",
            "  warnings.warn(\n",
            "Downloading...\n",
            "From: https://drive.google.com/uc?id=19WlNpIeJ9quXMDk0FdFTuPelsTwkIF5e\n",
            "To: /content/Exp_Pca.bin\n",
            "100% 51.1M/51.1M [00:00<00:00, 163MB/s]\n"
          ]
        }
      ]
    },
    {
      "cell_type": "code",
      "source": [
        "# Unzip the file we just downloaded\n",
        "!tar -xvf /content/BaselFaceModel.tgz"
      ],
      "metadata": {
        "id": "dq31Mb7VouF3",
        "colab": {
          "base_uri": "https://localhost:8080/"
        },
        "outputId": "aaa8480c-655f-43f3-ba6c-082f68a82083"
      },
      "execution_count": null,
      "outputs": [
        {
          "output_type": "stream",
          "name": "stdout",
          "text": [
            "PublicMM1/01_MorphableModel.mat\n",
            "PublicMM1/09_mask/\n",
            "PublicMM1/09_mask/face05_4seg.mat\n",
            "PublicMM1/09_mask/face05_4seg.txt\n",
            "PublicMM1/04_attributes.mat\n",
            "PublicMM1/11_feature_points/Farkas_face05.fp\n",
            "PublicMM1/11_feature_points/fit_face05_9.fp\n",
            "PublicMM1/11_feature_points/MPEG4_FDP_face05.fp\n",
            "PublicMM1/13_symmetry_indices/\n",
            "PublicMM1/13_symmetry_indices/face05_symlist.txt\n",
            "PublicMM1/matlab/\n",
            "PublicMM1/matlab/script_gen_random_head.m\n",
            "PublicMM1/matlab/script_render_fittings.m\n",
            "PublicMM1/matlab/script_load_scan.m\n",
            "PublicMM1/matlab/object2coef.m\n",
            "PublicMM1/matlab/idx2intl.m\n",
            "PublicMM1/matlab/coef2object.m\n",
            "PublicMM1/matlab/defrp.m\n",
            "PublicMM1/matlab/load_model.m\n",
            "PublicMM1/matlab/apply_attributes.m\n",
            "PublicMM1/matlab/display_face.m\n",
            "PublicMM1/matlab/plywrite.m\n"
          ]
        }
      ]
    },
    {
      "cell_type": "markdown",
      "source": [
        "Now that we have the files downloaded we need to place them in the corresponding folders. Inside the repository folder that we downloaded from GitHub, \"3DMM-Fitting-Pytorch\", is a folder called \"BFM\" where we need to place two files we downloaded, '01_MorphableModel.mat' (can be found in the folder \"PublicMM1\") and 'Exp_Pca.bin'. \n",
        "\n",
        "We can achieve this by running the command below, which will copy the files into the folder."
      ],
      "metadata": {
        "id": "4zOhQOCaMeo6"
      }
    },
    {
      "cell_type": "code",
      "source": [
        "!cp /content/PublicMM1/01_MorphableModel.mat /content/3DMM-Fitting-Pytorch/BFM/01_MorphableModel.mat\n",
        "!cp /content/Exp_Pca.bin /content/3DMM-Fitting-Pytorch/BFM/Exp_Pca.bin"
      ],
      "metadata": {
        "id": "qsDXDpparFt-"
      },
      "execution_count": null,
      "outputs": []
    },
    {
      "cell_type": "markdown",
      "source": [
        "We will move into the folder \"3DMM-Fitting-Pytorch\" and work inside of it."
      ],
      "metadata": {
        "id": "2iymPD2nwLn_"
      }
    },
    {
      "cell_type": "code",
      "source": [
        "%cd 3DMM-Fitting-Pytorch"
      ],
      "metadata": {
        "id": "pmCnSiYZlzSl",
        "colab": {
          "base_uri": "https://localhost:8080/"
        },
        "outputId": "aed10ad6-c6e2-427c-e70d-e834e03f43b0"
      },
      "execution_count": null,
      "outputs": [
        {
          "output_type": "stream",
          "name": "stdout",
          "text": [
            "/content/3DMM-Fitting-Pytorch\n"
          ]
        }
      ]
    },
    {
      "cell_type": "markdown",
      "source": [
        "We have downloaded a Generic face model that is called `Basel Face Model` and also some generic expression coefficients `Exp_Pca.bin`. The model that we downloaded contains 53490 vertexes and the expression basis contains 53215 vertexes, while the model we are trying to generate consists of 35709 vertices, so we need to select the corresponding vertex to get our face model. In order to select those that vertices on the 3D model that are corresponding between the `Basel Face Model` and our face model, we will just run the command below, if you want more detail about how this is done, you can open the script `convert_bfm09_data.py`."
      ],
      "metadata": {
        "id": "KSsGYZ8TxMj-"
      }
    },
    {
      "cell_type": "code",
      "source": [
        "!python convert_bfm09_data.py"
      ],
      "metadata": {
        "id": "EtUO4jSSG1PW"
      },
      "execution_count": null,
      "outputs": []
    },
    {
      "cell_type": "markdown",
      "source": [
        "## Dependency installation\n",
        "\n",
        "In order to work with meshes and vertices in Python we will install PyTorch3D, which is a Python library. The installation is not straightforward on Windows, but with collab/linux and CUDA this is pretty easy.\n",
        "\n",
        "We need several dependencies to be able to install PyTorch3D and they are listed and installed in the block below."
      ],
      "metadata": {
        "id": "BBj0FJKfM7eZ"
      }
    },
    {
      "cell_type": "code",
      "source": [
        "!pip install iopath # lightweight I/O abstraction library\n",
        "!pip install fvcore # provides the most common and essential functionality"
      ],
      "metadata": {
        "id": "MP1JrkAjqKvJ"
      },
      "execution_count": null,
      "outputs": []
    },
    {
      "cell_type": "markdown",
      "source": [
        "We will also need some dependencies for face and landmark detection. For the face detection we will go with MTCNN, so we need to install `facenet_pytorch`. For the landmark detection we will use Bulat Landmarks, which can be found inside the `face_alignment` library."
      ],
      "metadata": {
        "id": "vfehYRHpz4p4"
      }
    },
    {
      "cell_type": "code",
      "source": [
        "!pip install facenet_pytorch\n",
        "!pip install face_alignment"
      ],
      "metadata": {
        "id": "eYXjwXrYzjLO"
      },
      "execution_count": null,
      "outputs": []
    },
    {
      "cell_type": "markdown",
      "source": [
        "After installing these dependencies we move on. To install PyTorch3D we just run the code blocks below. Note: if you do no want to install PyTorch (you may have it already installed) depending on your torch and cuda versions you may need to modify the wheel information in the URL."
      ],
      "metadata": {
        "id": "rQxVbCazNMGV"
      }
    },
    {
      "cell_type": "code",
      "source": [
        "!pip install torch==1.12.1+cu113 torchvision==0.13.1+cu113 torchaudio==0.12.1 --extra-index-url https://download.pytorch.org/whl/cu113"
      ],
      "metadata": {
        "id": "3aoVMW3i25pH"
      },
      "execution_count": null,
      "outputs": []
    },
    {
      "cell_type": "code",
      "source": [
        "!pip install --no-index --no-cache-dir pytorch3d -f https://dl.fbaipublicfiles.com/pytorch3d/packaging/wheels/{version_str}/download.html"
      ],
      "metadata": {
        "id": "3MFR8U12rkoM"
      },
      "execution_count": null,
      "outputs": []
    },
    {
      "cell_type": "markdown",
      "source": [
        "## Creating a 3DMM model from an image"
      ],
      "metadata": {
        "id": "anRrlgq-PfOK"
      }
    },
    {
      "cell_type": "markdown",
      "source": [
        "Now, let us import all the needed dependencies and modules. Here we will also import the PyTorch3D functions that we will be using."
      ],
      "metadata": {
        "id": "LRijxbrqNVLS"
      }
    },
    {
      "cell_type": "code",
      "source": [
        "from facenet_pytorch import MTCNN\n",
        "import cv2\n",
        "import face_alignment\n",
        "import numpy as np\n",
        "from core import get_recon_model\n",
        "import os\n",
        "import torch\n",
        "import core.utils as utils\n",
        "from tqdm import tqdm\n",
        "import core.losses as losses\n",
        "from scipy.io import loadmat\n",
        "\n",
        "import torch.nn as nn\n",
        "from pytorch3d.structures import Meshes\n",
        "from pytorch3d.renderer import (\n",
        "    look_at_view_transform,\n",
        "    FoVPerspectiveCameras,\n",
        "    PointLights,\n",
        "    RasterizationSettings,\n",
        "    MeshRenderer,\n",
        "    MeshRasterizer,\n",
        "    SoftPhongShader,\n",
        "    TexturesVertex,\n",
        "    blending\n",
        ")"
      ],
      "metadata": {
        "id": "DHxnFvTbNV-i"
      },
      "execution_count": null,
      "outputs": []
    },
    {
      "cell_type": "markdown",
      "source": [
        "Brace yourselves, a code block with over 10 hyperparameters. But they are not that complex, mostly paths and parameters for the model training and fitting. \n",
        "\n",
        "\n",
        "We have also provided follow up comments if you are interested in exploring them."
      ],
      "metadata": {
        "id": "OZ7-Ba-3PiiG"
      }
    },
    {
      "cell_type": "code",
      "source": [
        "img_path = \"/content/3DMM-Fitting-Pytorch/data/000033.jpg\"\n",
        "\n",
        "device = 'cuda' if torch.cuda.is_available() else 'cpu'\n",
        "recon_model = \"bfm09\"\n",
        "tar_size = 256 # size for rendering window. We use a square window\n",
        "\n",
        "rf_lr = 1e-2 # learning rate for rigid fitting\n",
        "first_rf_iters = 1000 # iteration number of rigid fitting for the first frame in video fitting.\n",
        "lm_loss_w = 100 # weight for landmark loss\n",
        "\n",
        "nrf_lr = 1e-2 # learning rate for non-rigid fitting\n",
        "first_nrf_iters = 500 # iteration number of non-rigid fitting for the first frame in video fitting\n",
        "id_reg_w = 1e-3 # weight for id coefficient regularizer\n",
        "exp_reg_w = 0.8e-3 # weight for expression coefficient regularizer\n",
        "tex_reg_w = 1.7e-6 # weight for texture coefficient regularizer\n",
        "tex_w = 1 # weight for texture reflectance loss.\n",
        "rgb_loss_w = 1.6 # weight for rgb loss\n",
        "\n",
        "res_folder = \"/content/\""
      ],
      "metadata": {
        "id": "Xlfk3S9QNh4G"
      },
      "execution_count": null,
      "outputs": []
    },
    {
      "cell_type": "markdown",
      "source": [
        "As we have our hyperparameters set up, we will load in the face and landmark detection algorithms. In order to detect faces in images, we will be using the MTCNN algorithm. For landmark detection, we will be using the Bulat landmark detection algorithm, that can be found inside the `face_alignment` module. Below you can see how we loaded them in and later how we will use them."
      ],
      "metadata": {
        "id": "jHnJuR7VPwZ1"
      }
    },
    {
      "cell_type": "code",
      "source": [
        "# init face detection and lms detection models\n",
        "print('loading models')\n",
        "mtcnn = MTCNN(device=device, select_largest=False)\n",
        "fa = face_alignment.FaceAlignment(\n",
        "    face_alignment.LandmarksType._3D, flip_input=False)                              "
      ],
      "metadata": {
        "id": "j_PiKi29NgK5",
        "colab": {
          "base_uri": "https://localhost:8080/",
          "height": 182,
          "referenced_widgets": [
            "efeeed0bc8a6457ba10c6048f5f03d20",
            "ea18771eb6d34eb7a02d9368a95d7d65",
            "b25403c7f9ed48ad9af75f1845f6a1b3",
            "92983fc3904b4a3b8becedd5099ee59e",
            "008e5ef4f3194ba1a8465a3cbf86739f",
            "efc22a6147534fbd950628b6c66d70bf",
            "6d8b51e1956e48ac8da0229f14f6b17a",
            "385536d50be2421ca33e918635a3f5d1",
            "b794574699ae493581cee173b0bba817",
            "c768e6d0090e4890b7444371b9b32fdb",
            "c90aa771f0fb43729245138d37550120",
            "d4e63c03410345b5a9b43cc8a82a3059",
            "fd591d517c2547bf97df957dae5d4796",
            "f0186ab96c86495b8d3fbb48b0525da8",
            "5999903f680a4ddf88b1b5c4bc355cb4",
            "5ae34276c03740e9aed4df7ef57aa24d",
            "8150c087b0674a889760bbb9d536ef99",
            "f303216cc9c643bda976a683d06bbb15",
            "2416d7c43869481981ad275e2f3b9ab2",
            "57dbafac5d6649f194097588cdcda64c",
            "c5ccd88bfe96480d8f998d9d3bea1186",
            "1fc1336d083b47fa9374f832d9fd7e32",
            "b7a83031e42241eb805631266cc8cb37",
            "4846dea166f94186ba0f9973e10721ca",
            "2ecf25418eb8496db9be763c7d0155c4",
            "c1f05ab2f48741c6a838dba3369043f8",
            "706e6694566a4f73bd78cb318dd82f21",
            "dbfe4609e74b48458f8e8c461ff276d9",
            "5a21f03d04354a9f9dc23b208227bd93",
            "785e81942e1e4207bab695c4f667be80",
            "e6a3447eaad345c1ba3ee720f64c92db",
            "47ebd44d37c94df1b394f740b8c54826",
            "682aef8eb3224ef1b9f7cdfc81133c54"
          ]
        },
        "outputId": "c81562dc-0a33-4873-ff4f-659d10165013"
      },
      "execution_count": null,
      "outputs": [
        {
          "output_type": "stream",
          "name": "stdout",
          "text": [
            "loading models\n"
          ]
        },
        {
          "output_type": "stream",
          "name": "stderr",
          "text": [
            "Downloading: \"https://www.adrianbulat.com/downloads/python-fan/s3fd-619a316812.pth\" to /root/.cache/torch/hub/checkpoints/s3fd-619a316812.pth\n"
          ]
        },
        {
          "output_type": "display_data",
          "data": {
            "text/plain": [
              "  0%|          | 0.00/85.7M [00:00<?, ?B/s]"
            ],
            "application/vnd.jupyter.widget-view+json": {
              "version_major": 2,
              "version_minor": 0,
              "model_id": "efeeed0bc8a6457ba10c6048f5f03d20"
            }
          },
          "metadata": {}
        },
        {
          "output_type": "stream",
          "name": "stderr",
          "text": [
            "Downloading: \"https://www.adrianbulat.com/downloads/python-fan/3DFAN4-4a694010b9.zip\" to /root/.cache/torch/hub/checkpoints/3DFAN4-4a694010b9.zip\n"
          ]
        },
        {
          "output_type": "display_data",
          "data": {
            "text/plain": [
              "  0%|          | 0.00/91.9M [00:00<?, ?B/s]"
            ],
            "application/vnd.jupyter.widget-view+json": {
              "version_major": 2,
              "version_minor": 0,
              "model_id": "d4e63c03410345b5a9b43cc8a82a3059"
            }
          },
          "metadata": {}
        },
        {
          "output_type": "stream",
          "name": "stderr",
          "text": [
            "Downloading: \"https://www.adrianbulat.com/downloads/python-fan/depth-6c4283c0e0.zip\" to /root/.cache/torch/hub/checkpoints/depth-6c4283c0e0.zip\n"
          ]
        },
        {
          "output_type": "display_data",
          "data": {
            "text/plain": [
              "  0%|          | 0.00/224M [00:00<?, ?B/s]"
            ],
            "application/vnd.jupyter.widget-view+json": {
              "version_major": 2,
              "version_minor": 0,
              "model_id": "b7a83031e42241eb805631266cc8cb37"
            }
          },
          "metadata": {}
        }
      ]
    },
    {
      "cell_type": "markdown",
      "source": [
        "Now comes the interesting part, the model. As every face model consists out of parameters, this one is not any different. This face model consists of 257 parameters, and we are placing them all in a single vector. Breaking this vector into parts:\n",
        " * 80 for identity\n",
        " * 64 for expression\n",
        " * 80 for albedo/texture\n",
        " * 27 for lighting\n",
        " * 3  for rotation \n",
        " * 3  for translation"
      ],
      "metadata": {
        "id": "ZimjTrGariTW"
      }
    },
    {
      "cell_type": "markdown",
      "source": [
        "Inside the \"3DMM-Fitting-Pytorch\" there is a folder named \"core\" and inside of it we can find a `BaseModel.py` script inside of which is a `BaseReconModel` class. This class has some functionalities that we will need further into the code. So, we will create a new class `BFM09ReconModel` which will inherit all the functions inside the `BaseReconModel`. Some of the functions that we will be using is for example `get_packed_tensors()` which returns the 257 long vector of coefficients that our model has learned based on an image input."
      ],
      "metadata": {
        "id": "EnGNOx0J8AV3"
      }
    },
    {
      "cell_type": "code",
      "source": [
        "from core.BaseModel import BaseReconModel"
      ],
      "metadata": {
        "id": "r3hB7HCgsAyn"
      },
      "execution_count": null,
      "outputs": []
    },
    {
      "cell_type": "code",
      "source": [
        "class BFM09ReconModel(BaseReconModel):\n",
        "  def __init__(self, model_dict, **kargs):\n",
        "      super(BFM09ReconModel, self).__init__(**kargs)\n",
        "\n",
        "      self.skinmask = torch.tensor(model_dict['skinmask'], requires_grad=False, device=self.device)\n",
        "\n",
        "      self.kp_inds = torch.tensor(model_dict['keypoints']-1).squeeze().long().to(self.device)\n",
        "\n",
        "      self.meanshape = torch.tensor(model_dict['meanshape'],\n",
        "                                    dtype=torch.float32, requires_grad=False,\n",
        "                                    device=self.device)\n",
        "\n",
        "      self.idBase = torch.tensor(model_dict['idBase'],\n",
        "                                  dtype=torch.float32, requires_grad=False,\n",
        "                                  device=self.device)\n",
        "\n",
        "      self.expBase = torch.tensor(model_dict['exBase'],\n",
        "                                  dtype=torch.float32, requires_grad=False,\n",
        "                                  device=self.device)\n",
        "\n",
        "      self.meantex = torch.tensor(model_dict['meantex'],\n",
        "                                  dtype=torch.float32, requires_grad=False,\n",
        "                                  device=self.device)\n",
        "\n",
        "      self.texBase = torch.tensor(model_dict['texBase'],\n",
        "                                  dtype=torch.float32, requires_grad=False,\n",
        "                                  device=self.device)\n",
        "\n",
        "      self.tri = torch.tensor(model_dict['tri']-1,\n",
        "                              dtype=torch.int64, requires_grad=False,\n",
        "                              device=self.device)\n",
        "\n",
        "      self.point_buf = torch.tensor(model_dict['point_buf']-1,\n",
        "                                    dtype=torch.int64, requires_grad=False,\n",
        "                                    device=self.device)\n",
        "\n",
        "  # Gets particular landmark point\n",
        "  def get_lms(self, vs):\n",
        "      lms = vs[:, self.kp_inds, :]\n",
        "      return lms\n",
        "\n",
        "  # Splits the 257 long vector into different coefficient classes\n",
        "  # Identity, Expression, Texture, Rotation, Lighting, Translation\n",
        "  def split_coeffs(self, coeffs):\n",
        "      id_coeff = coeffs[:, :80]  # identity(shape) coeff of dim 80\n",
        "      exp_coeff = coeffs[:, 80:144]  # expression coeff of dim 64\n",
        "      tex_coeff = coeffs[:, 144:224]  # texture(albedo) coeff of dim 80\n",
        "      # ruler angles(x,y,z) for rotation of dim 3\n",
        "      angles = coeffs[:, 224:227]\n",
        "      # lighting coeff for 3 channel SH function of dim 27\n",
        "      gamma = coeffs[:, 227:254]\n",
        "      translation = coeffs[:, 254:]  # translation coeff of dim 3\n",
        "\n",
        "      return id_coeff, exp_coeff, tex_coeff, angles, gamma, translation\n",
        "\n",
        "  # Combines all the coefficients into a 257 long vector\n",
        "  def merge_coeffs(self, id_coeff, exp_coeff, tex_coeff, angles, gamma, translation):\n",
        "      coeffs = torch.cat([id_coeff, exp_coeff, tex_coeff,\n",
        "                          angles, gamma, translation], dim=1)\n",
        "      return coeffs\n",
        "\n",
        "  # Forward function, used for training\n",
        "  # It is used for RIGID and NON RIGID fitting\n",
        "  # and for obtaining the final coefficients and mesh\n",
        "  def forward(self, coeffs, render=True):\n",
        "      batch_num = coeffs.shape[0]\n",
        "\n",
        "      id_coeff, exp_coeff, tex_coeff, angles, gamma, translation = self.split_coeffs(\n",
        "          coeffs)\n",
        "\n",
        "      vs = self.get_vs(id_coeff, exp_coeff)\n",
        "\n",
        "      rotation = self.compute_rotation_matrix(angles)\n",
        "\n",
        "      vs_t = self.rigid_transform(\n",
        "          vs, rotation, translation)\n",
        "\n",
        "      lms_t = self.get_lms(vs_t)\n",
        "      lms_proj = self.project_vs(lms_t)\n",
        "      lms_proj = torch.stack(\n",
        "          [lms_proj[:, :, 0], self.img_size-lms_proj[:, :, 1]], dim=2)\n",
        "      if render:\n",
        "          face_texture = self.get_color(tex_coeff)\n",
        "          face_norm = self.compute_norm(vs, self.tri, self.point_buf)\n",
        "          face_norm_r = face_norm.bmm(rotation)\n",
        "          face_color = self.add_illumination(\n",
        "              face_texture, face_norm_r, gamma)\n",
        "          face_color_tv = TexturesVertex(face_color)\n",
        "\n",
        "          mesh = Meshes(vs_t, self.tri.repeat(\n",
        "              batch_num, 1, 1), face_color_tv)\n",
        "          rendered_img = self.renderer(mesh)\n",
        "          rendered_img = torch.clamp(rendered_img, 0, 255)\n",
        "\n",
        "          return {'rendered_img': rendered_img,\n",
        "                  'lms_proj': lms_proj,\n",
        "                  'face_texture': face_texture,\n",
        "                  'vs': vs_t,\n",
        "                  'tri': self.tri,\n",
        "                  'color': face_color}\n",
        "      else:\n",
        "          return {'lms_proj': lms_proj}\n",
        "\n",
        "  def get_vs(self, id_coeff, exp_coeff):\n",
        "      n_b = id_coeff.size(0)\n",
        "\n",
        "      face_shape = torch.einsum('ij,aj->ai', self.idBase, id_coeff) + \\\n",
        "          torch.einsum('ij,aj->ai', self.expBase, exp_coeff) + self.meanshape\n",
        "\n",
        "      face_shape = face_shape.view(n_b, -1, 3)\n",
        "      face_shape = face_shape - \\\n",
        "          self.meanshape.view(1, -1, 3).mean(dim=1, keepdim=True)\n",
        "\n",
        "      return face_shape\n",
        "\n",
        "  def get_color(self, tex_coeff):\n",
        "      n_b = tex_coeff.size(0)\n",
        "      face_texture = torch.einsum(\n",
        "          'ij,aj->ai', self.texBase, tex_coeff) + self.meantex\n",
        "\n",
        "      face_texture = face_texture.view(n_b, -1, 3)\n",
        "      return face_texture\n",
        "\n",
        "  def get_skinmask(self):\n",
        "      return self.skinmask\n",
        "\n",
        "  def init_coeff_dims(self):\n",
        "      self.id_dims = 80\n",
        "      self.tex_dims = 80\n",
        "      self.exp_dims = 64\n"
      ],
      "metadata": {
        "id": "-NuYMGe6mZgC"
      },
      "execution_count": null,
      "outputs": []
    },
    {
      "cell_type": "markdown",
      "source": [
        "Now that we have defined our model, we can create an object. We will load the previously created generic face model, `BFM09_model_info.mat`, which is located inside the \"3DMM-Fitting-Pytorch/BFM\" folder. We will load it in using the function `loadmat` from `scipy` and create our `recon_model`."
      ],
      "metadata": {
        "id": "7SOvKZFt9zeE"
      }
    },
    {
      "cell_type": "code",
      "source": [
        "model_path = 'BFM/BFM09_model_info.mat'\n",
        "model_dict = loadmat(model_path)\n",
        "recon_model = BFM09ReconModel(model_dict, \n",
        "                              device=device,\n",
        "                              batch_size=1,\n",
        "                              img_size=tar_size)"
      ],
      "metadata": {
        "id": "txFA8fskmAst"
      },
      "execution_count": null,
      "outputs": []
    },
    {
      "cell_type": "markdown",
      "source": [
        "We will load the image on which we want to detect our 3D face model. As we are loading our image using cv2,  it is loaded in a BGR format, and we need to convert it into RGB. "
      ],
      "metadata": {
        "id": "T9ZoRCyEFtCq"
      }
    },
    {
      "cell_type": "code",
      "source": [
        "print('Loading image')\n",
        "img_arr = cv2.imread(img_path)[:, :, ::-1] # Converting from BGR to RGB\n",
        "orig_h, orig_w = img_arr.shape[:2]\n",
        "\n",
        "print(f'Image is loaded, with the width of: {orig_w}, and height of: {orig_h}')"
      ],
      "metadata": {
        "colab": {
          "base_uri": "https://localhost:8080/"
        },
        "id": "FvMcGW9mFt4p",
        "outputId": "88251aea-19fe-4958-f3db-121646ae1d16"
      },
      "execution_count": null,
      "outputs": [
        {
          "output_type": "stream",
          "name": "stdout",
          "text": [
            "Loading image\n",
            "Image is loaded, with the width of: 250, and height of: 262\n"
          ]
        }
      ]
    },
    {
      "cell_type": "markdown",
      "source": [
        "![image.png](data:image/png;base64,iVBORw0KGgoAAAANSUhEUgAAAn4AAAEeCAYAAAAUzBinAAAgAElEQVR4nOy9V5YjyZXn/TPhCiIidbKSrOIh+7B7Ts/TzOkNzBJmC7ONWcMsY56+FfVQlCBZlSokhAtT34OZOxweQGRkFg9ZWcTNgwQC7jA3N/H3qy+c6EQnOtGJTnSiE53oRCc60YlOdKITnehEJzrRiU50ohOd6EQnOtGJTnSiE53oRCc60YlOdKITnehEJzrRiU50ohOd6EQnOtGJTnSiE53oRCc60YlOdKITnehEJzrRif4GJO47+D/+5/8KAFJKpJQIIQghDK8HX2T0u/7vvk1r7fDd9AXgnBuOH3r33uOcu9O/vTaVGs7vaXof42v21LcphMB7f+fcEALe++HY+BwpJUqpoY1DYzJ+H49n3/74+gDG3e3DeByUUntt9b/v+yi8J3iH854AKKVQaWxs6rsQgkDAj+ZpfB0pFM65Yd601kgphz70bYzvv++T94HgQYkc6NsMcRUKAN/PDj5YvPcgQGuVxjvehw8QAClEfE36CKDYH9dh3OIV8YAL7B2bzosQYhij/v6cczjn8D4gpdpbK9Nx6NvuP0/Xg7UGCAfHuW/HWntwb/TrzxizN9fjdXlsvfbna60Bhv0zHYv+nvpj//f//O978eJE/3j6X//zf/wsMFupu3j8OWK2d+ZHYbb3AucD3jsg7GG293YPs8Ef7IMS8pMxO3gPPpCLiKjxWgyYvUNssAmfEaC0jn3sMSd4ItZJhJAH8U6wPxa78R2hdnAHx348vscwO3iPSvfWj/XHYraxlsDhZ2Pfzk8Js//3//m/BzFbH/pyTONF3i+Q6bH7aHwj49899Lf9zX8MjTehlBI3+f3HtvfQ60Gc+PEmOgQSD6Xxbz708x4spr8fA50ggBAIKfcYJmBYKFrr3e8EyJA2tLF0zpJJTRACGS+KCAFCQCuFzDJCCHGThYB3Du/csBHLXIPQWJPad4FA2mRh3PeA70GEgAl+BIYOqTTiwKZ70Jg+8LzxfI4fODuA3m3McR/ue8COj+02dNhrZ3xPh9oev0/7eofJTWN2CHxgBx5yBIbTdvr5PNHnQz8HzA5hf819jpj9IdB+CGYHBEL0eCM/iNkID0Hig8Uaj3UdWmYIEQCJEBCCIARQSpNlcg+znfM45wfM1nmJFhBMZDKD8wNm+/GtwoDZ8bMZ7s95j1ZywMyPxeyHovaHMLt/ZvxYzO4Zv88Zs+9l/I7dwPhG75vEQ5LZPjNzfEIPSVOH+nWsbSHEINk4Yx583fEgTyfxWD/H500XwrTNh9DBsT7Sj/G9j0EkgucOhMfgJsegNzofwLTtbt6UQihFrjRKZxQhgPcgJUoIjHM4Y7HW4BNo5nmOzvRIYg3gHT54rHcgLSLoqOgLgYCLzKPs1c9RopT0Cx5ESJIrApLEKIQkBIFHpH9AbCbel5zibhqnBCL7cHt8XMcg0n8fx2pQU+7NW3/eWJrvj43PmTJ+h9bNuB/T9vu/xwAw7ee0nalk2b/3D7vpGu3bG9/HiX7a9HPBbGPcZ4/Zx7rxKZgdMa9vcKcBAmjb3fNNqagt1Son04oQih6yEULhnMEah7EWKf1BzA7e43xk5Jy3WAk6CAiRaXQEQhAJbMWArILUxxAGzBYopNhZZ0QI9KgNIvF0CcOk3wPt/m7DwPjdj9ofwuy7iP1pmN0zfp8zZj+I8Zt2rn/1UsK004c23lSl+qGNd6itQ5/H7Uz7eWjjHuPAj9FDJYHpdx97rek9HAaw4wvsELBOxzfusp2mbwo8SimqosBaizEG533U2HmPF3GrbjYbhFKokcZNS0mmNVprvHMYYwatolJx3p33OGPwOGZVhgsBIUF4EU3AIUQTdAhIudvse/ciQKIIIm3hvTUzlaD2v0f0x8bjdPhBMf370PyJvg8HjvfzJ6XcM6U85EH2seuyb3e69oa50fcr9Xvp8JDZ4L59eaKfJp0w+6eF2XcQ/CMxu0es+zC7KKoBs713OOfxXiGEBwSbzQalBFKqoV0pNVpnaK1xzmOM2WkVBzOpwxiHw5NVM0JwIAXCC8LAiKT1JOVRzFZIhAjJVLy774Gx6+e/fx8NXghhfwzFXY3ddCzHbU7PmV5zfP4/E2Z/0NQ7bbj/e9z58QCJycTc14n7JvCQ5HmsT1OJ7xCw3Xf8IYM1vca4rfvA4jAD9zA6JglM+97TWJLopZy+HSklnkCQAp8UiAHw6ecy3Ye1UaWfKUWepG8RGKTBp4+f4Al46/CEeCz9Xbdd8m8ArbMoSeYZmdIIJZEIggBjPbJXYkqJcwFrffRZ8R6EQiJGyBA7K+j9SwRB9ozX/ryFxBAelA3HQEs4OF+H1t8h6Wm6xh9K47XyoT1ybK3C3bk+Bj5KqeFhMX5gHJImD62fsU/XiT4fOmH2zwOzAx4hAwif8Ct9BkKQe5itVIbWeWwj7PwEnzx+SsDjrI/e20EMf3dtHfe3EGRak+c5Wa7RKkMqgUCCCHhriJK6iIK5c3hrscmqowTp3HQvgQGzo1UDhAyD1m2P6U3HD2n0xsMYOIxzJ8zeHX8oZt/L+N3HyU43x4c24njDfYhDPjTQD+G8p230jp2M2pgC30MA6kP3AzuJrP/NHSfZB0qQ0/P2pPVw9/zx+PQLZtzvYROIGBwRerFr3AY7Z2jnHCr9RiDAB6wxtF2H6Tq6rqOzFmcMJvnwdV1HXdfUTbMnnfbOqFkWmcA8y1BZRrWYobQmzzJ0npErjZCaPFP4oKPiX0ok4EOIIBYSpkiBCyF+vzc/Yu+tH8bjG/zw2up/M3aonY7zbjMeV9PfudqB86YS/vT8vh/Tc8Zr4tDaGvd1fM7Ud6Q/52P2w4l+2vRzwWwhdt99zpjNxFfxYzBbiIR/IjC+pUOYLYQaMDt4MMbSdS1dZ+i6Dmu7qL1zBuf8gNlNU8PICjTF7CzLyTLFbFGhtYp/5xqtcrQUqCxHBw9I4tBJQvCJ8YsaRyEhBEdIftzDfQ43NEzQ/fMHB9dW/5uHYHbgMBYfvN7PGLPvZfwO3cD42LHG7+OEx5zqQ7juQxLb9Fh/zX7h9oMxDPSR9j7EvU/PO3b8mDTaf/7UB+eYg5dS4qw72pceLKb+DT1JKUHIYeGHkH7T9zMEJILFckHbtmw3G7brNZv1hnqzYVvXdKZlPpshlERLidAKGUCIQKYkFBmmMzhrEsMWaIVASYnSCq00SIF9Y1FaU+Q5RVkxqyqKckaRZUilyXSGVAotI8MaVZQxolgKhQ8WnE/OumHwBxQiahSBwRdjb57jQKWJ2x+7KU0fEOPv+waOSZ/jdfiQB8h0rYzP7699CED6+xx/P72H3rTXj8PYMXj83RiUxvd5Yvo+L/q5YPZ4g/4zY7YUMGDNMEZ99GvUyPWYvdlsWa+3bNYbNpuaut7Smo7ZbI5U0byrtIAgY4CeysgKMJ3B2MiYxedCi5RqwGwhwb6xaK3I84KqLKiqGbOyIMsKtJJkOkMpiZIaIZJSUsSIYiVkDBB0MUglCDH4Awohknqwx7KpyXzkK/kjMXvM9E3n4Z8Nsx+k8ZsCyRgQxgNx6EbHA7PHeR+QPg9d+xBojN/HEz2V4PrvDkVOHVo4n7rhp2PRL6DpsYeA5rQ/+xN/V3qcvvcSx3ju+uNKSjyk1ADR4VYnp9fgoj/f1dUV69WKq4sLri6vaOqa4D1Z70yaO6SSKBlTBNRNy2a7oakbOmMQpBB4JVFSIZVChGgKNtZig2Pb1jGdjIz+JEVWkJcFZV6htObp46dRI6hzpFYooWM7WRbvxUcQJERTc28VliJ+OOoCPB5/IQYgvU9b0G/EY5t0OlfjNqYgMl3v0wfaofOnzsZToJk+DKfXnaar2EVN7tbl2FH42OtEnwedMPth9PfC7Gls5cdidkwZFSNj4zGJlBoQeBejcK+urlit1lxcXHF1eUVdN9H8qiJeujwglUTKmIqrbeoBs43pALGH2UrFwDlnPdYaXLDU7RaIKayUkhRZQVHmVHmJ1oqnj59GxlDnKC3RIp6XZWk9+QGyIYheCkeI3jx8GLUPQPYJs/nxmP0gH7/pAPYNj3MQjTnUKXe7x3yk34w57Puud2iCD038oQ01cM9wZzCmQNf39dD1x1L0tC/9BLiUtmScC+lQ3w+N0xhsp9fpr+3TeBtjhlD7cWh313UURbE3xtP+Oh9SahuBTKkBgg+YrqPebqnrLZfv3nN7c8t2vSI4TyZVVP2rnKLMY06kxmGFSNo4T6Y0IcuGnZ3lOVlK7dI0TXQ6DoHkWYJxhiBj5C5S0rFFbjSFLpBac3NxyWyx4Mn5I8r5nExqhFQ4rVFZhgvgZdxgwTmElGRZhohRIThrMMZGv8LEXA5znMY/0zLl49s91KZS1nj9jVM99NHKhx5Q47keO9L3v+3nebcvjq/tfv2O252ukfE6mz6s+v5NJcbxPR8CyP7+D+3BE30e9Lljdq/5+ZwxOwT/ozE7eEcILgm2O8zuOsN2W7Ota96/u+T25pbVeot3ASVj0EauMvKyGDBbCNtDNlplZFkYmLE8z+5gdggxnYzDY5wBGSN3pYQtHXojKXSB1pLLixsWixmPzp8wn5domaGkQGtHlikIDpGiiJ0LSCnIsgwpBQQw1mGNSZpJiVJj/EkaZ539KMwOCQt/LGZzZN321/4cMPvB6VymNzim6Qb9W0hn993AIS57CiTDRPSvIxLCdHNPjx/rw7SvY/XutB+HxuIQ13+MQtqd1oe95JDTRKnTxJE97dTC0W8uSl0BZyymbVmv16xubtiu1mw3GzabDaYzaCFBpoUXAsF7qlmJkGLQ+gEYY2i0ThFmBXmeE0LAOkeewCQuWIuxHUIFWmuwXYexMRmy9x7fxeSYZ4slt9fXNOs11WzOo7Nz5ssFMmRYY6i7Fi8EWZ6jlEZphc8LgrMgJD44yjzHJQfm1hogOiVrnaPk8eSuYyCZzv2xNX2MxqaD8VzurrEzuR+SDD+Gjv3uvu+OSbXT86Y5o07006WfA2b3qP25Y3YIELz9UZgthSCBMCGANY62NazXa25uVqxXWzab7YDZUugBs2PC+0A5qwbM7pPOG2PQurmD2c5ZsiwfxtY6R2cNQQmMbek6i7OGkAIPbBfNs8vFGdfXt6zXDfNZxfnZIxbLOVmQGGNpuxohPHmeoVU0Ixe5x7qAFOCCJ89LPC5Zh9rk0y3JdRT8fwqYHcS+pehzxewHafyO0bGbPSYhTW/0kFQ2Hsxj17hvsj+0Icd0SCKeAt2HJmYsHfRtTgFiHCJ+6NoPpUMLv3fGnQLr+Dr9996nqhchavk26zW3t7fUmw2uM/RZx6uq4smjR8xnc3KlsC5KYwKP0ooQLNZYurT5XUrh4r2jbRu6rsV7h5QRVKqqTH0E6wy362uss7RJytNCo1SGFFGzKSVYY9g02+hruFpRzWaURYHSGp3n6KJABI+TCiEFtmuxRUGWZSAFXgiQpDZjUtJYNUSC1HfSWow1Ib1EdWiN7K+V++er99+Zzv1unu6q/qdzeN86OdzmcToGGh96aH4ovcCJPh86Yfbnh9kkjVfXGdbrDbe3t2w2NaZze5j96NET5rM5SuVRyDYWj0BphQ0Bayzed3uY7bynaVvarsP5WNmiKArKqor7PgSMs1yvb7HO4myLMRYtdHL/icEcyMjgbZsNm82W1WrLbFZRFGXyDdQUhcYHgZIOIQVtZykKm6w1IISP+VyFjMmgnQMfkEKhJX8TzP4QaH8Is8Po788Zs38043fsJu/b1B8apIds4vGgTfsxBaAw+f7Y9aZ9PjQxx9o4JoXeJ4WMjz0EVMYmifGrjwzrN8YhcAwh4J3HdJamaViv16zXa9q2RQFlWVKWJYsvv4ybqG8nBKx1KQm25exsjrMdTdPQti1d1wFRda/1rkxOvLanbRvqeksIIQGeggAh+elJdvkD8zwfQFErj9UymjTqFdt6hVYapXV0KM7zXQUPKcmLnPliwWKxpCgLnDXoIkdJRXCWtm6w3lEUhrIsUTq7M2fT0Pjp3O2/3wXr+x5+h8C9b+OhWppPoWP3MO3bsfUnxN3qAif6fOlzweyxUHRfX/8ZMNt25g5mgxow+8svF6mdHoPAWYsxDhsC87MzOuv2MDsAQkpUYhD6Pe5DoGlbtnU9YKLSesDsOCRyyB84xmyvNFJbTNexqres6i1aabRWFFlGnuuhgoeUgrzIWSzmLBcLirLAWEdeaJRUWBdo6hbnLaYoKMuSTKsfhdnTVfApmB1Gn+8c+4ww+0cxfuPN8CGOFO5u/g/RIU76Q23ckT5H30/7Pp348e8PtTvu0zHpYnze1E4/vf7HUt9GbwboJcK+FuEx/xvnHN55gvN0dcNNcgYOBOZlxaysIoNEdBY2nY0aPikoy5JqPkeL6KFnu21KMQCBaApouhbTdVjbg1hfDkijZAzMkFKQ5wVlUWBMFx1/pU6Mo4h5A7PoZ5JlirbtCM5QZApZZCBElGK7lqaOKQiEVPQJAbMsYz2fsV2cMV/OmS/PAIeXmm2z5eb6ltZ1zKo588WCR0+eoZLZYyxJTukYIPenf2idT3Mxjedu+tD62DUxXr/jdXzogTru1/icQ+t5vH+FEHs+Kyf6vOlzwOxjTN8/I2Z7F2jqjqurG9arFYFAVc6pytmA2d45bJf8mhNmz+cVQmg8gW1nCcEPmO2cpe0aus7gUg5AhEArhc4ydArgEFLGzAtFSWdMyrSQ0XVdCuLLUrqXmKara1uMC6isICtieTjrHG1nqOuY6ktJ0acDJMsyZvM1Z4st8+Wcs+UcB2jp2TZbbq9v6FzLvJqxWMx59uTRj8Jswl18PHTePwNm/2gbziHOt3//GMDo6aHnH1PvH+K872tzev6H1LSHJNZD4HZfmx+SmO+jXlocO632IDJuq1+s/SI2pqNebVnfbmibBolA64xMZXjn6dqYoy/6fugIHuWMxWJBlmW0TcO2rtmubvE+nts0TcoRlYq2SxG1cknCzfM8Mo5VRVEUEeScZ3V7G8u1FVGi7XNKWWvJssgw9tKplJKiyJPqOhBwsYB7qjsZUw16uqama2s2qxXldcWTZ8+YLWaUZUVnDda0dF1DsNHEMV8skUW1l0erH9+pf8RhDcD+8enG3Tl4h4PnjZ2Mj4HIQ9bEfVLfVPI7BCKw78x/6HXS+P286ITZnwdmd8awXdVsbtc0TYsgVki6D7Nn5XzA7KZpqestt6stnfefjNneBW5vV4QgDmK2zjJ0lu1hdl4U0ZwNOAJC9Un5xYDZddNRtx2r1YbquuTZsyfMFjOqssTYjtZYmq7D2YAxhuViTlXIT8bsMWj/s2P2j2b87pOkxu/jz1MO9b7f9DS9xsdIfNPPhzZ138ahvt0nWUwl0HFbh+7pUyUF2EkeOpVHs9buTfC41Ey/MKy11HVNWzdcvr+g2TRUZTmUZru9vsZaO6jrszynqirm8zllWSKTj19rOpq2pTMd1rY0TU3TNFjn0CqaHYqyjH54Sg3l3qSSSBVD9jfbLavbW7ptjbOWrutok7bQh1SXUono2yGICaSFZ70JSAIImUrB6RhdJhQqi+ZevMP0GsFmy3qzYr5ccv7oEeWsQmtJ7jWma6jrmmo25+z8MYvFYhiv8RqYfj4094fWwn1rbgxO8Xr7DOTHPnA/hsYPuWP3dIxOwR0/Lzph9ueB2U3dcvH+kmbTUJbVUJrt+vp2D7PzPNvDbKUkzlk600afa9PRWkvdNDRNg3MWpXQyFRcURZl822K5tzFmb7cbbm9X1Nto0ekxu+vMgNlCSZzzA2Z7AWGzJhDzEEop0CJWblJCorNoAXI++ny3nWHbNKw2a5bLOY8enVPNSqTWaJ/TdIa6rpnPKh6fn/1DMXsK2p8rZv/Ngjs+Vmrrf/MhGp/zMZLe0Ie+gqDYgU1SFMWi0bGhg21JIXZRwRwGon5jH3QuFWJfykiv/nN/7BgIMjofonpbKhWZn0PpB9IVerW29dGvY73asFmvMcaSaY0ATLfz0xNCUM7nzGYzhFKUZYEQgvVmjTFmGLuQNrrSirwsQAg608WUMM4S2gZj7RCm33UmSqPrNVpr6u2Wm8trRMoZ6Pp8gjIycSE4nIlmZp1rdJaBkARrcbbD+TRmHryLe1Bplc5LUo4QCKVomprNZsXq+pLZcsl8uUAplTSXLW+kJgQxmJdJYxYjjKfrVgD7cz+e60MPw0Oq+J56iV6kJITT+T+koThKqd+BwZKR9gmxFFK8QrqLuBt27caXEH3aAlJZJIYaoYIQGesT/Szoc8FsCHuYvVurMr0fbise36H2x2L2BLKH6/af+2P3783d9zFlTPRrU0oexGxBjxngfPTB3qzWrNebiIU6AyKejjF7Pi+ZzWYoJSjK8iBm+9RPpRVFmSMEA2ZbZ2jagLVmSIdlkgZxvY6M6nZbc315g3cC5/weZishcSFgjYsBH3m01kgB1gY668CnKiwecJFxUlqRZTHRc8RBUEpQNw2rzYbL6xXL5YzFco5SiqZpaestWr5BhDCYlxP0xbrBEw3XPmL/7TA7iN18fSpm9/2Gifk5hBFiJ96gR+0J76L6/gkR8T30az7+Vsr7+3B/Opd+g017PHoyiKH//TD3jwyGDk8dMGHfbt4P2Iekxqn0eZ80OrQLeBn7IgJIYqUHCYiwWyBp+AjDkO+2fACc933OyXTNxBj2Az4we3GNK4ih3yJtbed29WnFeIR2QyaE3FuwMjplRLNo6p/znjZFY1kXtUYyAaJzAaXixjNdx2azYb1es91saZuGXGfoTKWAixrnPGVZslwuKMsSISVN22K9xXeWzXZLXcdky5lSCAmPlkuciwxdpzvatqVJkuTGbAEoUnStTVq9XpI1xtA1LVqoJPnGCh5qcDLWiBBNB4FeIxZ9A8kzjLFY62I6FuFjQmhjsabdrR8pkFlGWZZ0TcPtZsXq9pr5cpFAUqG84ObiPbNqzqPlkrzP8+cDQQQIyQwk+rXVM04jCmmtHNFqjIHkGNCMvzok1X0IQAQQkjAQECk5d+y/iOiEjugagUBJnA8EIRFK4zxRuxp3Az49KKQgSv1CgIhR1idj7+dBghHIsA/ZO2gWe5i9Q+yfBmZDAOkjOgYxQuxYg7ZH5fQITih6F7VjovrRA0xEnAxJUBLjnyTUFqk8mkDgHAwOaWnchhFLl5Rid714hkxju3uieO8wJmY68M5CSPnwhCAkiwkiBrKNMbtpWjKdozJN07bUdY13LgbhLZfRIiMFbdtgvcV2nu12Q13XQEzgjBQsl48wKYp3itlbswHux+y26VAiaiut92itkFKhtUIDNgiyLPoTknCsyHOyPGZncNbGdCwiJoS2xtIau8NICVkmKcuSpulYbW65vl2xWM4HzBZe8f7ihnk1Y7l8hFJ5XE8egojP9hACsbydiM/e3eSym7Yfh9lM1uvHCzYiPadlWh+RaRVpQcZLaLwnKXggeIcUAa0E9FrZftUFT/TfjFpaIWTcIlJyH2rfy/jJfoAmQJGEMaTYr2s43rjjQe0XUQ8mY5v81M9hb4gODP702BiUetqzb0sIqmf8RGT2Qr/Xdw93H+IwhaQ6kekkKUQyW9pkZtwlSgwEXPBxPOSoHBrEdCJCIGTqp99B0h4DSc9simG8k+plGPPgAp6A0hoPsW6ulIggRw0prGmRIkbNblYb3r17x3q1hhDIs4y261gbg0+OsXmZU81nZEWOcZZ2G8EJ4VAIvDVkSpKXBfNqRpZr5lXFdrVibddoqSETSCRaxuSaSkYTgbMOGSRKaLw3mJSvqqpmeOfwwuGtGhhZ4aLvXpZMDN6BMR3OW0SIEqFSOuUFTNoyqfAuMsNRS5dezuA6yLUCHbV5ZrOiNh3L5ZLlfMG7qw3dZo2tt4iqQusMF+K495Lsbjn2ay1qPSNTGjVl/Vo8tA96YBiX1+mTcw4baSSXHlv/x7QyUgi8d5FpFprOxbQ1UgiUgIAn1xJnDFly3O6sxwQBIgMRQTsQa3z64HHeIhVkWqMk+KReDeJ+TdCJfhokEiYfwmwQRzE7Pnd+OpiNCgNm078Qqfxrn3HAA1GLFAKEVAVCCIn3DuuiwCOE3MNsH1zkLWVC38QVCxG1Tz1m48eIPdaAiAGzh/Hueb8RZgd8ynTg6boWKQ0yiKEZJaA1NqaYmmB2CJBlOV3XYsw6pqNKmD2bV+RFFs2k2xbnPU6AQGGsR6qMosyZVXN0nlFVc1ar7YDZIgNJDK6LASZqD7O1UBgfmTQhBLOqito+4VHWD4ysc9G6IlXEElz0S7TeReFTKbSK9X19CAQhUDKe572Lmro0bMYBnUPpnCxmkWG1MXSmZrlcspgv2Vy9Y73p2NaWqhLRetXPZbIYDRq0tN6CSAItARHCrkTpJ2L2PmJ/PGYLIXGJedYCvOvwzsV1JBSegNQ5xrgUPKPxtkMEQ9Yvw2BRaf354ON4Kxk1w1Lh8VG5eg9mP8jUe8g345C0N1XxQxiAZgoqH1KJHuS2J3/3/ZhKjUPfhEiAljj51G6v+evJ9Tl7xK7fvVYziF1bqWN3VMjpwrvJ7Y/1C3tgoPepbyeVNaQ30YrJ8XhOjKBFilRWR0GIvhxtE9XzZ4sF9bbm5vqWm5sb6vUGZx1aa6TUBO/wIYbyz+dzlsslUgo263XU7IWAziR5kVFUBVmuMSZufusMrrE4Y9FS8ujRE6SQGNOx3dbRvABJk+ewzrHdbOg6i5SK5SKWY/PO0ZkGaQXK2sHnxXtHCOCc4Hw5J4RAlqVM7c4CKeJOSSSKoCTKO5wTSOfwfufQKhLAKBHn3gePsw5HoKujVjWTCtu1bDdb5osFWmQgQkwzI2NNYHptn0hzEmKy0l5gUCLWvJyu+x44xiWpDq31QVt8hKZrewooLgS0UvgA1nmM9Xgvd9Kej6X2dB6z6HvnU0JWcAKCzPBCRwCXkiAkQQnQ4ISI+Rtth9IKTozfZ0WfitkB/qGYHb+OTOXT7U4AACAASURBVEL8fdo7SfPXU8SLHWYneX0Ps8dy9Hif7e5r3EeR2k3aRLH//egu+h4A/ZiOzxuNOx7nLEIyYLYMMdK1a1qMMSwWZ9TbmtvrG25ubtis6wGztYwa+i7hTo/ZQkrW682A2TLTZEVOURXoPBsw2ziLbRzWOKTUPHn0CCkknTHU2+0eZjsf+7rZbLFdh5KSarFEa4VznsZ0CCuxVg2Y7ZLPm3CO+fJ8D7Oti8++HrMVEqkCziuEczgnEaPoWSEESAVCJWYtYnbAIetUVk5mtJ1lu9myWMzJhI4ygQ8J72PAXxAi1WyPCp0Ag8AgRa/V/XTMvg8JP4TZITiU0hCiMslbg/R+sKp4n6Kl85S02sV5wXYgHJkMaOERzsW0OCIgVAANQrjo22ltzLd7j/LxQbV6h4mZ0LRczlR1Ov3dFIAOq/nZ++34vPv6M1XX9oyeTGAg0s3KMNK6wU5L1zN3Iwm5V11HaYWkHRy92ElvwUdYSlAV+xhAHmHk4t87H8JY0mwczQNTKVOkqCLrotYulsWRyEyjpGC9WnPx/j1XV1dYa1FCJaYvAqZSiuVyyXw2Yz6bEUJgtbqlSyWFiqJAyBhBddO1w3da61QEfMOsqPYeAv3YRSfjHC8Eiox5nlPNF8y20fyrtU61fbeUoaBuYoUQa+1wnSLPopOx7YYNGBm/neOzkjKVMdpfC9M0DF3XDZF0fR/7ZKei61DZnLZtWa9WLJZLMl0SpBzGXSYTjxAChN+ti97cEyWK4XrTzf4hADm8IiZHR/tkaj7r58CGgFCCICReKoTOEUoRvMUbz9Y4ylxibIwkRGlEpnE2VoIJQuGkiD6jSqCVQOcSpQXeddD11z4xfp8Dfe6YDQKCHDSUoOPfE9QeM4rDJQKDi0g0f4X02oG2GLUTfICE2gOSB0EYW1Im637s9R2Cx++ZEsMda45MVYKMszjnyaSOZtJMIqRivVrz/v3FBzF7Npszm0WB+Ha1SimxIm4GmUyy3c1BzK6K2b2YLYQnQ5Hncxbziu12Buwwe9vUFKFk09R3MDvLYzBfZ/0eZgvnR1pjFV1MfgRmd51gninatmW1Wkf3JJ0h5U5ZIhPjJ0QKMAm7eUiLYxAGPhWzP4SCD8HsECxCRaZNSU+uBUoJrA9443Fmi8xLvDU454iGK0GwjuAtSgSEjL6jQkW3HZlrhFZ0ziO6nTB0jB7E+B2S0qbHxwM4HAsxbPvYOeM2jtEhten4t1OA2Zcek2dI4vp7pg92WjYYgaHvAREgJFV0wAEhOeglaEKEMASHCNH7c8QW5WjCe8HRjxiF2Pru3Yupdm96FkRFfv8peWUJCN7HZJ3WcnHxnpubGKVbliVFVmCNjRnabaxdWxTFEHp/e3tLXW9RSpFpjXV2SHcSnB02vhCC7XbLdrulyVvWmw3ttgYpWMzmVPMZ82qGkIpqNqOqKvIsw3tP27ZY6/DBY9oWpSVKwHxRcX5+Psyb957NesVqtWJeFcMGBPDODHmbrANvXWT+2M+uvvcbv6vLOF4jxhiCUJTZHNt2bLdr6s2GqpqhsiI+AhKzP2bExyt/HETzELX/9PiH1vwhGpvdhrQDgHEWoWMwjfEC76O2QgmF0AXWN2ip4xrxnkxnCF3gvMV6gc5Kcp2TFTllmVOVOVVVoDOJsy1Nu+XN2zecvPw+D/o5YHb0z0li9B4TtkPtwTTsd07ugejjGnelQ8idBjHu13FwiBize4ixlrNXlQTP/vCNUFt4DqH2PmIDU9QWcY9a67DW8P7iguubm4OYba1DKpH87/SA2du6RimF1lmqphFxzbpwELPbvGGzWVNvW4SE+WzBbF4xq+YoKZjNKqqqiibZhNnOWnzwtK1B6qiJqxbzO5i9Wm9YrVYU1XwPf43zu1x7zuKsx/locv0UzFYiMM9Kutay3m7ZbGpmVUWRqWh4D+IuIz76PA6i2dPK/p0xG2JQTaajIkf4WP4uCIESikILGm/RUsfnpjdkOqPQAusdwlvKTJPrnLzIyMuSvKwoqgqZaVrr2LYNb96+uRexP0rj95Cb31Nr7t3wPhh9yGRwCBym1zkkVe4iJnemAsWU+9996tm1gaGLDe5p4qLqeOQwOmX6hAAph9+r8b315ofheglwenCZDMMAJwl/+n7I4AnGkWlNVcYSaN45VqsVN1e3rNfreN9SUOY5RZYBHmNbnHUInaOUxBjD+/fvccaglOTs7IyiKGjqmuvra5p2S1EUzKuSEAI3Nzc0TYOUkizLuLq+pm0NAsjzAqE0HklrHY4O4zw3t2uMtYMvoZQSnWXMqpLl8pz1+mZPwqqqirIsaZtzVqsVm9XNnbkfysIFjxrA/G6Oo34++ozyYwm3N1F01lPMlngiqDRtS9e2FFIjVJ/J3g6mCiEGVm+4RtQU+928jh5eh9bq+JxhBSYJ9Rj1548l0UGgkbFUUj5bUCzPKIo5rRNstobWWKy3yS+9xOU5KIcNTfSlwUNWspid8/zlF7z4xStm8xmLxYyqigFAzrVs1itu1zf8+Ycf+lV5op84/VjMhvAPx+yBYRpp2Xf/xz5OUTsMavg++0AYXvF6PXO303TGZ7JI3yn2mg+j/d6j9hHMHlA7agSGBnyQOBPQOqMsq8SUeVarFbdXN3uYneclWVZEH25rcNaR66iJ7zHbmBjI1WN2XTdcX1+zbZtUZm1+ELOvr68wbQvEoAutBBKPsy0dDu8M69sbrDWDL2H8raasZpwvl9ys1wcx+7xp4zNotbkz92PMRqidrvQTMNvbjuWsIOCjdrNtaNsOLYsY9ABYH+dhx0zuomN7pisK9HcFjodituy1x0foQ5jtQ2AxyzlbFsyLAuFazHaDNTGoEikohSDPHU5BEyw4gwfKDM5nC754+ZxXv3jBbD5jtliQVRUq07TOsVpvuFnf8sMPf/7xGr+epht/mivmDsgcGNC7Nu/j1xgvgOm543bGYDI+v39gy9Ar6Ec6HDFs+SFdRZQI4uHoEBqDNLwEpBiOiaTPj79PHH0gMSSDDIkM0f/Dj6cg7C+cPVeS0efoy7wDPCEEeSbJkp9I13V0dUO92dK2Ld576rqO5XisZ5tMrABlXrFYzHHBsdluCCFwfn7Os2dPyfOc7XaLd47z83OyOtYqbJomSZ0xKGM+j4lBn7/4Atn7GMJwTpZlzGYzpJQx11Pb7jmBK6Uoq4pHZwt+85uv2KxveP36Ne/evePm5ibVhYzXxdtBNd5LgdEkEat3xPFIppZRTcWppNhvwH4t9AlUkZEBznONFgFnO9q2Ic/7RNEM2rz9Nda/doKB4O66HKZ6sv4PPYQ/9GCeRlJODpKVJc+/eMWvvvwt2eycm/WW128vePv2NTfXV/h2y8aBCIoOjXGBIi949uIVv/rqtzx5/pIszynKgkwrWtNwcXHD9dU73r9/y9XVe7ohcOZEP3X6sZgdwuE2/p6YDSIFrvUP6YTaA+6O01WIAbRDCvaINV89MbPLDrR7NJWDWTcyJKOWCEEmwX+k7Q+TZ/2YARzjtxhH6ifmMstjdG2IuNjUHdtNfQezvQ17mF3lJfPF4g5mP332bMBs5zzn5+eoOrsXs7948TxmTvgEzK6qksXZI776zW+4WW/uYLYPxHyunqOYbWN49C7Q4hMwW8rYb53nBKFjCbq2vYPZU2XADrGBEWr/ozBbSijLjFdfPOe3X/6K81nGdn3DxdvXvH77lqvrG7atB7dBBYEmVbDKC169eMZvv/oVL58/Ic8zirJA6YzGtNxcXPDu6pq379/z/uqK4LtPZ/zuo6lEeHfzAiNV53Ry++/ukyI/hqZ9GAY99MyVjA7tCKzogz5AIUBliBCSPdbhxkxf0vR5kcJBQgwd32n1xB6DoEbMZQgRW0IgWiyIpoYYMLxbjgPDKcRg9h0Y1fS3FIIMiQietmlZbTZsV5uUkNMhhWC7WtN1HS4l9yyLisViwWKxoKwK1psNUkoWiwVPnzxhsVhEBrLrCCHETO0K1us1TWOQcqcR7F+d8bsEo02fFsaltDBLHj16xDzlBDTGDOdtt1su3r/nz8Hx7NljykLjvSfLsiH7vLMxT1WmxF5me63EsLmFhOBS4fJ71oIxsf/TOplaa5Aa0zbMqgVFnoG3dF2MjstldAyWQu6ku/6hkRj5AetHe2BMY9PFMYr7xt8LItOH6J37FIJt22BDoDw75/kXX/FMaM5eXjL/yzPevX/D6798x+3tTYr4FpSzOY9evOJXv/1XXv3y1+TVDOMcnXdc3dzw7u1r3r3+K1cXb1mtbthuNyyX5V4w1Ik+T3oIZke56B+P2YQkUgsX9TYiBnjFvajIFIQQo3wdEIKjZ/riKyCTOTak9oYo/HSR4Z6IkbepE/E5EALI3ncsSuK9Qw99KyExeoPZNzGq6W8hJJIMHwRt07LZrNistgNmCyFZr7apkkYs31YV5YDZRVWy2awHzH7y5OlBzEZJ1us1Jmn5ppjtTffJmP3+/QUu/JnHz56hi/IOZptUA1iobA+zhdIDZiMF3oX4eD2CIx/CbC2haQ2LakaWF1gfs1t47xAyJwZuyMGK0itn4tzvBNcfi9n+Hjzuz7kPs4UINO2WECznZyVfffEcLZ5x+fKMZ3+Z8+b9O777y2tubm9pjUUIyXxW8urFI/71t7/i1798xazKcc7gfMfNzRWv377jr6/f8fbiipvVis12S7lcMg6GmtKDo3oPSWuHahre0baNElZO33uOfjxoP5b6QR9Ai/iA9D6abA0SG0iJGCUWge6lsxj0TUDi8JHpEgIn4nf7yjkRuZAkU1gCFkGWJFKRnFlFwpAoZ8YxUTtdI4Q0PSItmiRr9tpJGXbXbJsaJQTBeZwxbNZrLq+uaOoaHwJ5FjOwqyRtnZ894vz8PDr6mo6qqnjy9ClVVaGVwpjIID5+/JiVUlxeXvL6zffMZjNevnzJcrkkhEDTNMOGMMZOkojOybKMPI9JNS8vL/HeU1VVOj9u5uVyia1K6s2ai4sLlouK3iyxWq3QWjOfVZydnYF3dF07SMX9KxYYbxJTxuDjN16P/YNpusF3jrXxgSBURqYERaFBBJw1hBAfMoGAlGpI0YPotQpipxE58AA8ZuqannfMjHDIt2S87+6Y3EJgtd7y+s07stnX3LaB+eNniHLOi1//hsevXuGk5vb3/8lq01CWOefnz3jy6ivOX3yBkRmrdU0gsN6sePf6B/765294/+41rmvIM8F8ucB5e2+E2Il+evSpmA3iH47ZkWmKPtZCBCQGgk2fBaJHbSHwSHp09jgQvZnXJcTeobYg5qjcaYFsaiuidvBpvEKPy7tgEDFC7ZAUCWPMBr/TTgY5XLNuWoRQeBcwxrFeb7i6uqSuG0LwlFmeGB1Fnuc8OjsfMLszLVVV8fTpE6qqQimNTXj6+PFjlFpxeXnJ929e34vZ1kwTPz8cs8vKst7UXFxcUC2WdzC7ms05OzvDJUbsEGY3XZeC5eTg4/exmO2FJFMCoTJ0URAEGBuVNH2SYyXlkKKnh+ydwJ7yM/6DMTsE2K5XvHvzmq9nGaG95dnjOfNS8Jtfv+DVq8do6fjP39/SbFbkZcmz83O+evWEL16ck0lDvY41m1ebNT+8fsc3f/4rr9+9p+kcIstZLOcxxcunpnM5dlOHaKy+PfT78fFjgz8etLHa9xiX3n8npYzJJUflcLTWyQFWUxQ5379+TfXoEV5nrOoGoQRKCHKV4awjA5AaSKVgkHgpCCplJ3cOpEJriZIRBFyIkZEihBhZI2LUqU/lynyI0qJSCtt1aBGlGaEkWiZTRogpRLRWSCFouzb6fBQ5QYhYq9DHKKp5WbBer9ncrrlZrbi5uuTm+hpcICsLjGkSKMsUUm/iQ9t6miaG/lezWdzQRazO4b3jzZs3vH//nm29Zblc8uLFC2ZlEf1HttvBYfj169f4kJJEhjBIf1mWDZFoz549I4TAZrNJ5ogoybZtS9s0tM0WJQOXl/Ug0S2Xy+jfIaK2scyjtNgDWF9XMssylFY4E2vvOu8GCRF2+cV688B0I/ZrUGYy5vISMZKsvllTlC3VbMF8vojMd1T5IqRCaR0dnAlgAdencNiPkhw78u7n69tf571kvPM/2k8aOl7/cY52fjdaxweeS5VPqqri9vaW//z973H5jH998SWdUKyahmo249//239wvW1oQlxT86fPOXv+C2S5oAuCoHOuri/5w//7Pd9+8yfq7ZpcBTKdpzQUkiwvcN4c3Pcn+mnRzwWz86Lg9evvefSoItOepl4hVNTaZSrHWQdk6Mh/xf1GQEiPVIEQYmoLJUFqjZKKKLjFyMgQYgR7zPEX3VtcsiSIhNNdZ5Ei1bFVIqbEotc0xryqQsg9zBYi0HUN1rsY+VrOWa/XrG83rFY3XF7dcH19Q3BQlBlNyqggibhgnMV6h7eBumkIITCbVSyXS4oiVudw3h/E7KKcHcRsGfxQbOBjMbtpWrZNS5CK+vLyDmYjorZR5+W9mG2MozX2R2G2C54gopvT+qamLQsWs4rFfB6Zb+8RHpQUaK1QOgnuFkJUCw/rerwO++8egtm9n//fArN///v/ZJY7vnzxryjR0TQrZrOK//hv/06zvUaEhrzIef50zi+en7EoJSJ05DpweX3F7//fH/jTN9+y3tYElZPrmLBbSkWRZxjvOEafZOqd3tyYMx8P2H3GoSkw3AcUD+3PODy8Bx/vPattjRHRXGikos0y5stzvAustzWVymJiZkAEDSpG83oJQQmkUBRC7S2U/r69czFc3xhkCHhvo9k43UumM3KtybKCYAyNtRgfE+oWSqGkGip04AKZTEhmHQFQIcQEnz6wvr3l9evXXLx9j3EOLSWL2QxrUvRUCLS2Raucs+XZIDnWdc16vWaxWKQyPFu65M9xdXXJd999R9e2vHz5ksdPzofN26XqH730KKVEqwyR6ZjDLm22zjToRiK1pG1jxFmWac6Wi1SL1+DxzKqKqsjouhrvdhuqD9mXIv6dMGM4dtccJYb6vBGw3TAnh97HG7P/rISg3kYzSl6UFEWGMS3rzYq8mEXQkNEc65xLkY4hzrdzIHZR1uO+fcgM0L/H6DV7+N5GYNJrX6YP1HgxcLajcR2mNvzxD1/jiiUvXv0aWVQ0PuZf/O1//Xc6Abc3N8weP2P26CmdzKIGYrPmD19/wx+//Y7tesOrX7zgyy9eUhWaRaF5fDbjm6//hHXdA3fjiX6K9FDMPmaK2x3/+2B2vV0hhInMoDRkWRvzezpPvV2TqYoYrCHRQeBTkn6kR6iImUoUBzHbpVQjxhhCkFgfE7L395LpDK1jgJwxAWsbjDcolaFUkQT/VKHDgZQxgbGzEE3IMQ9o8HB7u+b169e8f3uBcwYpNbPZAjdUroDWtuRKfxCz27bDOcfl1RXfffcdbdvx8uVLzp88vhezM6XRWXyO9UJtYzpko5FaUrcxdZfOMhbLsz3MrqoZWVFRdx3CRYZpjNmIqGToQfs+zO7r834qZguhWG/r5MaUkxUFrTGsNmtmRY7UCiFjAEeP2QFi8mnXR2jf1VZ/DGbbY8+jj8Dszjo612Bqw9d/+CPLwvHrVy+oConwDcZZ/v2//hZEx83NLc8ez3j6aEYmO5wxrDdrvvn6D3z37R/ZrLe8+MUrXn7xJbqo0MWC2dlj/vT1N3TOHr2vT/bxG3O4H1J/HhvY+4DkvsmY9qOnqaTp08ZqPCxffMEvf/c7GgRvbm+plmeIIDCbmqfVnFJIcqJ7hsdj8VgJXgmkzsmzcg9EYF8VvVqt6KxJ5shdHdzbtsXVNTOtKJUm1xku1aTtuo5MCMrBObWXOJKZA8hE1E5ZY6jXG5rNNlbU0JpZWWKcY+021G2HQKKk5Hw55/nTx5SzirqOpXnSqHB7e8ubN29ScuV2CN1/8uQJz58/Ryp4+/Yt15cXdF3Hdrtls9mglOLRo0eUVUFVVVRFFbWmyUDurMMkX5KqLFmcLVksFgCYtqNuG7q2pWsbNsHSBjtIWdZGEJQJ9I3xg4TUF8beRdcKpJLooDjkI3dIdX9wrQrP+uaG4OH5ixlFnmFNS7OpUTpHZXmUkvsSTy4KAyFASL5C++apu2t7fHys7t9JmfsP2kPmjv78HkT2rxGjvJTxrAxcX1/w52//wuz8OU9/sWTTOazTPHv1K17VLbOrax69fIWczWiN43Kz4U9//CPffP01ZVXy619/yW+/+hXPHy/JlWCeK84XJV+++gLnDf/fsU14os+CPgfMDr1TtG/44sWS3/3ulwgabm/fcLasEEFQbwzz6ilSlEAOXuATaiMtQsWKNWWWfxCzje3uYHbb3lLXDqVnaFWS6RwXYiLkrusQIkPrMrbXP+hJ5RIRSJHhgscYy2Zds900GOtTdO8M5wwbt6Zr61iMTirmy3MeP31ONStpko8dydDcY/Zmsx3Mqda6AbNRkrdv33JxeX0Qs4uq3MNsiYqGcetipQ1rKcuK5dliwOyuNTRtTdt2NG2HDRtsaO9gdqyS4vEpafSO8eMOZqugD/rIPRSzvYCbmzX4wOzFc7K8oDWWetOQa0WeqajBTQm8vUupfUJATawrx9b2hzC7L8ow/s3HYDZCsJid440Cs+Li+pq/fPtnnp/PWP7iKa7boJ3lV6+e0davuL6a8erlI2YziTMtm80lf/zjn/j6628oq5Ivf/1rfvXVb1k+fo5QOSqfUy7O+eLVl0njdxi1H5zH79D3U0fIMefb37CbcPLHrjMe9IcCyLQ/47Z6ssDWeb549pJ/++//gc0z5Lff0hiHEoqZzMnajspDFmLaFEcYGD+nJEppMqkRQg0JJlHRB0wIAVLwUims93TW0troIHt1c8Pl5SX16oZ2dR3z8ASLDlBoTS4zXAi03iGdJxOQ00unPiayFIKubWP9xvUanyK2GEVx4TxlnkOAxdk5T58+RSnFxcUF19c3OOeYzecxV16qBblerRCCATz6hM6vX//A27dv2axuB9PLfD6nLEsePXrErIyAJ/EQomk7si8evKXQCing9uqS26tLhJQUeUFWZMyKAiUCdb0a5mqsfch01Kr2pYKGNA97ayz+F2tFHg/Dn66r6TGf8h+29ZamrclthUSgdEtuOnReRsk+OhMObfUmivHDcQxcx/ozNY31e6Q/fSoZHpIqp2MmgeAtwjkKWbDqOn74618pH79AzJYEpVFas647zp4858mLL9AqY9Vamsbwlzdv+cv337M8O+PffvcvfPXLX7IoNaWEKlf4rubd27f89dtvCO5k6v0c6G+B2TFQ4h+H2WDxbsvLZ1/wH//938hyy7ffSpxpUEKRyxldm4GvIGT4IAm4gfGTKta/1TJDpT0bXzGhcrQYgFIv8d5ibYexsRbuzc0Vl5eX3KxqrldtzHcZBASN1gWZzAnB4XyLdxJERlQZRCYwmiwDbdtFnF1vsdYnPGPAbO8gz0sIcH622MPsm+trnHPM57M9zF6t1iDEgNl9QucfXr/m7du33K42BzG7LGNCZk8MLJTJ7O0JWA9KFyAkl1e3XF7dIqUYMLsoZgShWNX1MFdjzFY6QwgxlOTsMZsxaouYG1dJSUjm4A+thWOYba1jW7fUbUNlcwSSVis6k1Pm+u+C2T1ofwpmg8T6gHOCQhZ03Yq//vUHXjwuWc4EWkW3r65e8/zJGV+8eEKmNLZdYZqGt2/+wvff/4WzsyX/8rt/45e//ApdLkCWqLyi7jxv377jm2//inGf6OM3pakte0xTJ81o6o3+a4dAoR+UvfxNo/b7ARs7Et/Xr7H6uO+P0joyTghqQCyXPH75C86s5/aHN5i6JSgo+pKPCGSIvgQWiRUC7wXGB1rfxXIvKvp8qSygsiwlt5QIqZF5zGZ+VpaQaV7ZmGzStjXff/cnLl5/z8X3P7DebpjpjGWeQ/DY1qEIqdRW8hmUAqmjNLWpa66ur9ncXHF9ecUq5UzK8xydZRR5STGrIoNXFRhjuLi44DJlg58v5ggxxzmLSdFjjx8/ZjabcX5+RlWWbDYbLi7eY1LVjOhMrCjLkizLokkGsKbj9vaK1c0K6x1VUVHOCjKVDeVzpBRonQ2Z4YOWBAcmgHUdWbYrKzSV8oQQdOkYRNPBkIxHiOib56MvTj/3e4JGkjjvmlUnucm8Qwhw3nB7c4Vxjmp+jvVgfMB6QTWbo7I8cZu9iTm+xpnwx3tjuld6mpow+jUKdx+aY2AdS4x3tDUhQGfAOnRekKG4Xa/5/vu/cv7iFzx79QVCKW5WN5RlRZ7nGGNp2453V1e8vbxk8egJ/+Vffs2LJ48oigJnO5yCrnNcvXnDn//0e958/10qm3eiz40+N8zWOpXUogNqlkvBL14+xtsz3vxwS1sbUAF8AZ4YsBGiVURiEcJGrYw3dL6NJl8Vfb5Cpsiy6PslBWgpUHlMal+WZ+gMrH0Vk7q3lj999z3fv77gh+8v2GzXZHpGni/xAVxrCShkKjISgtjD7LrecH19xdXNhqvLazarKOzGgApNmRdUswLnHEU1GzD76ury/2fvzZrkuLLs3O9MPkXkhBlFsFhUq81aT9KTpN+g/u2SzFTVNbEIksUByCQSmZExufuZ7sM+7hEJgqihS/dWXaObATlFRkS6H19nD2uvNWP2QokUSgz+Hmafnp3RNC3b7ZY319eM5efvw2zQjD5wc3fHerUmpkBbt9RdgzMHm0qlNc7aGbO1zRAzZM8Yw5/EbO/He5g9CfEopYg5kVIRzeCvx+yYMiiFT5Gb1R0xes4Wrch/JY9KgUXXlsrf0Wv9jTFbwV+N2TmDH4UWUFcWg2OzuePb777j2ZMznv/sEcYoVusVbdNQVRXBe8Zh4Obme96+veLB+ZJP/ulfOH/wRJQ2QgQTiePI5eUNn738mj9+d0mIPz6h/Fdz/N5XEj0ue/7Y8e5jfixT/FC74U+9t3vPoQ3VIhofAwAAIABJREFUomOfFGsfWHYdZ89+xm1SXH37HW83ex65hsYUcc+cUIXPlQ1krdHK4LLIeyhlwGqUdeCsZDBGM0bJcmplwDnqdkHTViyUQanI458/Z3P7htd//Jpvv/iS77/5hqvVHTVw4hxd5Qg5iUAxWQQGymj96u5OWsm7PeMwQEy0S/FtBBgGz/p2Rd21rNdrhuHtLN3y+NEjLh4+oGlbjKnoB5ECWHQdy+WSEDybzYYYI8vlCT4MLBYLQmkDTzdh3/ds13fEsRfbnnHE1TW1MfhBMaZ+JmrXdc3JyQm2cpATQ78nBk/lHFYfVU3LYYw5ah388ObLJIi53PwRUpQJu3eq6O+ToXh3XWqti28tOCciyOv1mm0/0vWedgy47Q4/BhZn5xL8WYeaSLpa3FiOCcLvtiretx6nje44K9azgOwPAeJdkPqx52ytDPP0KAyZHBK31zdcXV3RXTyk6mrahbRvVusN1laSwe/2aOf4+ccvePjoIU1lcdaidWJ9+5arb7/m8psvWb+9IscRPkAU/un4+z/+kTDb6Ey3qFBpT/Brum7Jz56dodIt3317xX7zlsY9QptGBjuyIhWtVkxGa+H46exQSmOUQltwVmEdWJvRJpPiKCoLqsY5WLQ1Vdtg1IKoFM9//pg3txu+/uNrvvziW7755nvuVldAjXMnuKoj5VC4ZAYweC/afHd3Mvm6340Mw0iK4lY0YbYfBla3a9quZr1e83YYZumWR48e8+DhBW3bUBnDOAh3r+tEl8+HMGP2yXLJEDyLxYJhDD/A7Lv1ln6MbItvel0LT1ENnj6NP8BsV4k2374f8CHiXIXR9i/G7EQmR2bMlhhEumPHx5+L2UobiAntHCkXalW/xfcdYWzZbR1h9JyfLVh0Lc6aUoCwpQKo/iaYjZ5VIP9qzDa2lXkCejKGFDI317dcXV3x8KKj7iqWC5mw3qxXVNZKp2y3xjnNi49/zsNHD8tAjSNpzdvbNV9/e8WX31xy9XbNGDMfiPv+/Fbvu2XL95VDf7Bh/wkQ+FMtgj8FSO++7tRXP36/ISWStUTnCNoRjaG9eMAT7UhJcff6e4Z+pEoRnRQmJ3F0IDEmSCbjdJFoyZCLb6uadKayDDloV6OcIbqaXmsiYFMqlS/N4ukTHnz0hI8+/QXPf/EJn//qV3z72ecMN7dEEl4pckqYKDeNT4lhv2N1e8vdSrgbKUbqqmLRdiyWS4yrCul3L367lZs1obqm4fziggcPH9ItFmLX1nR0MTMMA4uuwznHfr9DKcWiCHm+ub4ihECP6CrFGGdNp/1+Txj2KDKnywXLs1MWTUvMiaHvCTnRVA5rNOu7W76/fM0wDjjrOL845+GDh1RtQ7/bs9/v35txWWvnbHW6UafqHFCkE0AVhfzpMceCoSklOV8pzSB4vEbEDziQs9hTxZQJsSdnTcyaupOJbJ9Ee6puWkzhYWojVdkY4wyE72bBc/XkPdnjBBBiZ/Sn1/y76/n4aw2MfY+2jhwjCsP56SksxIf47u6OU3tBu3QMgyckIThHBe1ySdMuuTg/ldcFUgisbm/45uUf+PrlH9iv3lCR6Gr3Z9+LPx3/3x7/f8DslALWJpyLOB0wJvLgosXpJ6iU+P71HWM/EFOFSpqUhbOW8JBGskko7YpcliIpqbSI84YuFp6Z2mmMU9QuonUPRFIqCZC1PHm64MlHD/jFpx/xyS+e86tffc7nn33L7c1AIqKUF5mwWF4/eXb7gdvbFberO9FUjYmqqunaBcvlgsoZwdJhwPsRV5lZe7VpOi4uznn48AGLRYc2iq6pybFjGAa6TmRYdgU7u05s0q6u30gQRv9ezN4PgYxisTzl9GxJ2yxIOdL3AykHXNWgjeX2bs3ry+9/gNlNW7Hf9X8RZk/VOThgdlZF8OavxOwgKtESaKdIHwM6Z3SOxK6GLJVecqJtaqwVfNZGlyGPfz9mvw+0/xLMBk3fjziriTFjUJyenrNYMGP2hT3FLVv8MJBSkPOoIstly7JtOD2/mF6ZEBI3tyv+8PIb/vDya96s9iQqXN198F780xW/H/ndH2sF3Cv7c7jo73vs9PH48+MT9ecc7wLd9G8SYc45c7u65eGTZ+TKsQf2KuNOl5w8egRDIFyKjlFSqoy9RxQKq+QEqJiIQThtSiswBl1aw5OmVEgDznQ4Y6iqGlPVKKdRVpOtYhs9o1LU3YJn//wfOXn4gGc//5ivfvs7Xr/8gnG7ZaE0ViVszuQQ2Gx33K5WDPu9tFljIRJrxWa3Zbf7nl2/p6kbLh6cgdYED01Tc35+QbdcknPmbrWSNqy6I2WFs5W8d7UneE9dVex2kqVKFXBDSrlMriXI4GzF6ekZOTTkFNBKZG2GYiSdlaJbdMQQ6MeBnBLOWfFTLNIxl69fsxsHum7JfuhFmLPIDkAu7XlF0zQziHg/SpVPLjYqHgYiZPBDrNXQFlc1VOX5gk+IphfzNFtWSjQAtZiAex9Q2uGMJWZNjJ4UR4xaMg49w35LaCVANlqjyeLG8metzHfW6dF6jSkR38O1mm0Ay9d5+hxdZAQkAUml7R2VYuczy+4cazrO2zPOPvqU5vwx+uSE5cML+pDZj5kQFc1yiY+Jfhh58PicylnUCLXTjP2eb159xx8//x23V99hkmex7HDRo0JfquA/Hf8Qx78Dsyk6lu992v/LmD2JME+Y/ezJQ1yVgT1Z7VmeOh49OiEM8PYylCBB5FdiLs67ykoSExUpRBHL1wpjgCSaf5N265ACnXEY46iriroyaKfQVqFsxsctSo0supr/+M/PePDwhI9//ozf/fYrvnj5mu12RKsFSVlytoSQ2W03rFa37PcDoMkxlIpVZrvb8P1ux77f0dQNZw8upOrvA3XTcHF+znIpXOvV6g5U5k5lVE5U1qHI7JXC+0BV1ex3O1Z3dyyXSzYhkJOoGk5GO5V1nJ2e0gSRHZsw24dhlpPqFh0hRIaxJ6WMdY627WbMfv36kmHcsew6+mF/D7MzpRpnzT3MHr2fMTtnUPGg8JFSImRZZ1YjhQJbSbvXB1LhcE+qEUpN71sCweA9TiuscegcRXw+JpbK0A8j2/1A14YSiBoymjz5Pv/Fx3HgF0nvdD1k3R60fGX9C2prFEJZoChIpvL4SPY7zrslnbGcted8+tEZj88bTk40Fw+X5NCTxz0qBpbLhhQ949Bz/vgB1lUwKrSr2fcj3736ht99/ke+u7rFJ0O3XOCjow9SBf+x44OBX4gebUCraiZoipuBqGMfZ5ITX0kubp4Nmo3R86YmJ7E8eRIeW4oJNY3058PUldYaZUp1Rp5UwEVOORxnsIXMiZrKzBS3Dbk4y6oFndCtY5MjOyPP8eTZE85xfHu9Ydys6Hd7VPSosuBE8FORsyJEJPBTRUpEaxkfL+3gXDma0xO0H3HqAqsN1tVAFr0/rdGNYVAQMJhHj/nZySnu/ALVdVx+9hk3V9/TpsijpuXm9par15cQAnEI+ODJKeNDJI0epbJoIjmFcYBNeD9Q1TVdV6NNxo89MYhswRgiWVu0qVF64Ga1JpUArm3qEtzI0IRSlhQ1Y0ikIC1sYxzKWtrlQjTdssIYTS5DJuMwMPpIymUSV4Tw8NGz7belhWMw1jD6gRQD+3EgZyFcawPDsIdR2giiswfKGkxSoESfSasalCLGRBg9XgdSioSY2GxF4BqlMKaSEZ0QSVGmpbWy5AjDXmQiQkykHJhcAmLO9Ls13ntOTs9Z33r6/Y6Hj57w+PETdLb4YcBYS105mWaOnhjv85/QCqstVe1IxVYuxEQs50ZkJ0BpOzV60UrcYHS5N1JKpb1cM4wyjKGso2pbYszsR09yNdc4OH/BR5/8B04ePMI0J1A1JOsYo/BGc9ZgFD5nkrLUC9GV8imh0sjQA2Pg85cv+e6bP9JVioxHK3AmYbz/ybnjH+TwMYDRVJMPdNmcdPn8Xcye21ZzFTqji6aamrgUUyKfmDFba/VezNZmItMLr0swWhVeFD+K2eK6kUuypmirJUmDazUxb8DsUMCTZ09wnLO5/pbVZmS/6/FRCadMqZLQapHUiqHYranyfsFYuRe0zrgqc3LaMHrNhXIYbandpNUX0TpgGg1qwBB4/MhwevIzLs4dXaf47LNLvr+6IaaWtnnE7e0Nl6+vCAHCEGfMjsHjxyRmACminAZnSBYG76nrirrryEbTj54UYnEyGrE6UxvNoBXr1Q0hJbTS1E2Lc050RrXGKoWO4mmbQlGEMAZrFYtli08SBGtjSCmXCeaR6MfCwSs8PHgvZg9+JMTEMO4lAdcajEjBTJgdcxKctgqVjOC3NtRlLaYY8WMgaE9MSfaA7QalhJNXGUMgE0OaMdsqDTHj90Pxpw+EnGY3rpwj651UOs9PT/C3a3b7niePHvLk8WNs1gyDx1qDq4rXb4wQ4z3MVhqstri6mjE7xfADzLZyIwkaKo24wWhykanRWlFbSxgHfN/jrKJtK3KM+HFP7RKOa16cw3/45CMePTjhpDE0FTibyHFEa9A5S2yRvRSDFpPurmdMCvqBMMLLl5/zx2++Q1UdngxKk4zDewl6f+z4cMVPyZ2Z1aSBM5GBc1HyV3N1Yrq5psh3iv7FMPu+28AENurHUlNKBjllkcdVxCyn/d5v5nfKyVmqOyix31IkqZOohCcRFMXhQoka+ugJw0gYR1QMGJVRRGxOJYs06NKV10qhskKl0jNTCjTEYWTT77m7vcG8amkvzrh4+oQHzx/TXSzolUxw7qPCx4wzhu6s4+EvPkKpTOMcr9Rv2L1+zaur79lf3xDHAN6Tij2PL2P3lbMMvmfYrgk+MFqNHacsTjEMe1mEyhBjJngJjHxURCWtQa0laNMKfAicLBZ0Xcvt7Vq8HrVm0S0xUzZOJueE0YkY/FFAM4qkgRUOSCrG3BGxm3FWgEkpVYRQZUGKXl8Rb1WycUxfS/n/sKHEJJpMoSQQVVVjjCVXiqwNuTCHU0r4QmxwRiNCjKXunKbgTK5nnvTMckapJBskoFKC6CF4kk5ErRj2WzZ3KxSZbnmCs2I3p42ap9Z/0AJTEMpARJRFK98sU2GqfE+VfFBo2BQXl7mvjZozdUdShtEn9qMnoNGu5V/+y3+mPn/IycMntIuOqAwhQ1IaYzRhmuxSihglIZO3oVA5Y5UWkNGGp0+fopVn9eYV29trFosapTPWKNxPgd8/xCF4B6kYzGrK2lQK1CFxnittJfg7xuz0g1aV/E75zR9/7ZzJeareHVUYc2aqfRwefJ+2IRXDyQItF8SWNm3CgxIRe6WNuA6NgXEIjGMgREVWhogiZYtCYRRopr9Nz5itYrm9NIxDZN9vuLm9o31lOLtoefL0gsfPH7C46NCqL12GPTmKjl931vHRLx6SlcK5ht+oV7x+veP7q1fcXO8JY8R7GMcJ0zxt02BdRe8H1tuB4APajgyjnTF7XxwvjNLkKHJfKQZU9PQq4qwu10c29xA8i8UJbdexvr0VHVStWHaLEkgVF6icSdpIwaBg9hiDYLmVwkqMUhwIiPWnsa4UAKaJaOl2HGN2KgH7MWaj1A8wWynZB+qqwhqDqoTDmVKeg6VUFAO0cdJJy6XWlso6BIySgpKsMenOqYKpKSl8BB8g6YTSke1+YHW3IaM4WXbChUsJZTTT1PqHMDtPhQdmyCaXm0vNEcgBtedid4acpLPktMGoRPIjftyjCbRO85//y7/w8LzmycMTukWLURFyQKsk+2N5D0oha6FgttKanJUUMLJw1Z8+fYpXmldvVlzfbqkXC7JWKGPJYkvx3uODgd+U1ZUYqvxVxz3wQ1D3vp651lrU0KfzetQemIQ7j1sE73JMZvA4ft5yhY6/P531XB5DWfRTWywlyWTzNB2KPmyuKTL2e+IwShZwdElNlgUnQU8UVWwmvp+W6TcgKymlhyHRA3Gl0Ku3bNcrtpsVywfnnH/0DNs1VBaMsQg/DZpuwce/+IRzV/G4bfj6l7/id5f/k/XdmloV2ZK6IZN58OIFbduiteJufUt169jvtxKgZ8moxjySYkbrQW6sMgSbMmAqtFOobMU5RCui94zDjlBbFA0xjJCRm9TaGZRzscexlQhnGi2l+DCODIMQUZ2zeD+y324Z/Qg545zFWjevF0lK9IFrl6Tq5r3c/DFGrDUHft/Er0gCkLlsTlrbIumiJOgr1YqQJFtU+UAangBD1rNCG0sKRZ6kqPCjEymLbV/K0mLGWJQ2bDcbvA+EGGm7DmsM/TjOivv5aF0f3wMTqE8/N1qCrJloj7rXgTi0BfIMooP3JG2wlSMozRAiSSnOzi84ffYzXnzyCbk7oV2eoKxmN0T6XU9UBtvUBQSKg0zxNlWIgLVVmtppXEzkHHjx8QsePjjhs9+M9Os3kv0HkR/6UNvgp+Pv55i7J1Piy31a0nFQ92OYnY4mbf9SzGZe38w/P1T88ruQDUxBHzNmZ4QKMWF2htI6k9+ICfb9yDhEYuQoqNSQjSR2pdOi9Nx4Q0/3OpmsMjkF0hCAHrWKvF1pVustq82W8wdLnn10TtNZsBK0SDCSWHQNn/ziYyp3TtM+5le//Jr/efk71ndrlBJsbGpLJvPihditKa25Xd/hbiu2+70UTrKIC495JMfEoEWov6gcQ05UBpQTkWqtLUqD95HdMGLrQIOSqc4s+4q1ai5+xCD7VlVZ6npqfWbGMdAOAwDWOUbv2W73jH4kZ/meK5zmVKKwKRaYMDvkdA+zTUmGp2t+jNlay9dWS8tWWSsey3ESEw9S4TsS0Z4Sc6W1dD6MxocynJEhJzFYUDmR0KQsLWZrpDO02WwJ3hNjoOvE7m4cD85Wk2vSj2H29HOhBekfxexD6p7nYoX3A0YnXGXRKhDDgFKJi/MzfvbslE8+ecFJlzlZtmiriMOOftdjVKRuLEpL4CEJi4FU7gxl0MqiXU2KjpAzLz5+wcmDh4y/+Yw36x5IhOAh2w/Scz4Y+B1fyHtEx3gAigkQDjZex5o1R6fnCECO/x2rqv+Qg/LuKPR9gKEEeT+2JeU8+S1KG80Uoc0590yKcfT4QearrQKnDVYJl8sqqJSW1nGKTBU/rbSc1JL1xJyJKaCnViaZfrfndnzNZrVCtzUvthvOnz3h4vFDmtbiYyYOnkSmdRXPnz/ngTGo9ZrP/tf/LgMYLV3T0laOFCMPHz5i8CP7/U6yLFfLIEa/Y4hDqbhlhuDJeSAGDpUuZWi6mqoSu55F12GMFhu1oScV2YDJa3FyH9FGFZNsuem3mw2uckUywIpTZs7FONxjtKEpQJdzwmox3BbnC/kYQ3jvdT0kC3FeQ7lUxvQcLMrUWQphvsbTZjMPTZTq3/vG6iWL1dLODkEERVFlMjCRiegoE2tSCAzAwL6XtvTp6Rl13R7W0NG65ujr6f6Zp9be0XwqhQ35R2l9cfRcSklCkZNkd2Xq3MeIa1qePnvG808/xdYNuIroA6v1lpv1jn3MVIsTmspJOyKVOIBMVawKSYnshfRtbUUyhuWyo2s1+xcfEfYr4vqGftzj1CTO8NPx9378GGYT0w8we7LxmqvffwPMzkfff38iP90i70dt2VyLwoIyRXPugNoqgR9HxsEL/UZZjHbkUgVBWaEmIUNbU8VPKy3Ji5reXxRbNa0x1pCRtvHr8ZbVakPdajbbFzx5ds7DxxfYtiFHjx8imUTlWp4/f44xD1ivFf/7f33GMAy03YK26XBVS4yJRw8fMvqB3V66MLWrCCGw6/sZs3NM+DAw5AwhzpUuoxDZleKp23ULtDH0/UA/DFKpC3HG7Nl9xOhixybTuJvNdsZs6xwKPWO2H0eMNrRtg9ZiemC0nTFbIwNwIcS/GrOtMZCTDGfM6+MoQPwzMFsbg1UyzJCz+CKrooIRyZgoFoAkRVCKAfG2J2fOTk9p6/qwhmaontb3/fvn4CTz7sS7opDl5Xn0IfZQpQKZVSblMnRiirVr9LSN49mzp3z66XOa2lI5CD6yXa/YrW/Icc/JopJBGynZl8RNoUyFUoaUIHjB4spajEl0yyW67fjoxZ7VPnCzjuzHnqzcu33Re8cHA7/JY+64jSuVEyBnYpHY4KgtoPWkYH4/OLx/ou9/732L6fiEfzDwmz6fr40qXx9+32CEc6cNsTxEJUg+MPY9MQZsThglPXyVJDghFrHkueJXLr7WkA8buQEabchGy4BIkgrZ6D05RsLQ88d/+zV312+Jn37Mg2ePqboWqzW2VF+apiZVFevthtu7FSln6rqmtoaukUBjdXvLzd2Kvt9jndy83nvG0gq21pWibC62RBKkWmsxtqJyFqvFo7KpHW3bMFaWzVpK8/v9Hl0Wb4yBGKQCGozBGgGRpu6wjYBIVYncdD02s8+jD1GC/8IvSFk4G5k4B24hDKX9U65rAtDFrFwThFB5AJEp4NZicSftgQIecChEK40xTqgJRkzBpwCWJIrrU9ZqbFVeX4ZDYi7ZbeEn3l9BAgjb7Zabt2/puiXtomWqQE8c1nu/kw/rXU/VlaP1LBzIYxv4w3/T45TWmNK6jWR8kqrr2XLB42dPePz4EantuBtGXl9+z5evX9NnOHvylPr0nKwVIYkUjs5gEEtAkxLDdsfm9hadMu7RYxZdA0RCgifPnjLuVnz9+1WpFFsUPw13/CMcx5g9tXFzzoXrKa2jaZOaMbbQPuD/Lmb/Kcg+vt8MRmREtAVKfzYpgk/0/UiIkZQtKIPSlpQUIURC4dvKPZ2FSyt/IvrongSD0Q3aCNUjJ00MWYbJYqYfAr/+tz/y9vqOjz+NPH72gLarEL9eEfOvm4aqSmy2a1Z3t+QssijG1rRNByhub1es7m7Y9z3a2R9gtrN2xuwUI6pw+Ky1VNZgXSVcYGNxdUPTtthqJK83M2ajtCSJMRKDaOgZE2bM7uoG19gZs0HTjPXBmzf4Mhgy7duJFCKRPAduQ1FBmDCbJAg/YXYMgqOzpAkScButZ8zOsfRxyVOGUHjEhqSy+CEr5gBWlmSeMbuyUrEM83NEea/p8NjjVTRh9tu3Nyy7bsZsZqqDvv87+Xi963nvn9ZzSkwpCXP5SE2/PVUIFUYZZOgwEpMn58hiecaTZ4959PgxXZsYhzu+v3zN69dfQu55+uSM81Oh1qQUirewRrQiHSkZdtuB29sNOWkeP3I03YIIkAJPnz1htRtZ/f5ryAlrIP21gV/OkwK39NEnsq+Sq4oqUXpOmaTuVzTePd4tqcpJuu+heNxuUEqBPvqd+T3JV4cN9vDze63efOAHKq2wWrI+EWkGTRYS7SATqKos1hwDfhwYd1sYByxJLgZiEK1BJkPRkhEISx/XtJBE4LlS0gKstFRbYojcvbnhbT+Q+h3jdsfjF885vzijchYdIzlm3ly/4ff/9ms2V5d0TYtzln63Iw0jzlqub28ZgscYjXM1IUzj75q6Fs2qDCiVJEhSGmsddd1Q1TW2qtFlKssZTWUtKmcG5xg2G/w40tb1DNgpJwlgh3FuWZ6en5FGRc4DIWbqSuzNmlb4PcPQE7xM0cUYCTESCifQWYuz0zpRTCLM0tU43JCTc8e0Ocx51VyV0FIhKxk9CpQyZGNxVlaCLlNhOSVU8eacMkchoVdFX0qmbEW0FkkMiqC3tgJalXNYRKLg7u6O882abtmV8v4huEscbSz5yGauVKUnu6J5/c+bnboHOuUJyx9WvDCztHirrubJ86c8+9kz6qbmZr3h8vKKzz5/yeXdmvPnH3F6dkq7aNnHgLJW7pGUsEpRKVA+sLm75fqbr/GDx6bE4pOPcU4zDuKpfHp6SkJ4N1ll4geIwj8dfz9HmjZdKEHEoRKtFOSkZszWKv3NMVvpw2Nn1M4zm2/68ujnR63enOf7XmlpbWolk7iyCWpiSAxDkVEplZcQM8Po2e5GhhESlqzFxk146nrGbKWF+acVtI3DJDBGYZQERFqLBVwMkZs3dwz9W3Z9Yrcdef7iMWcX51hXEaOeMfvX//Z7Lq82tE2HdY7drmccRMrr9vYaHwa0MdTOMRZOnFYKV9fl+mRS6UhpZXDW0tS1DH1UFmtLBc/IBGzOCucGNpuBcfTUdXsPs2PIM2YrlTk7P0WNiSFncpSJ4MoZctugcqYfBpQPYAwxxiL0L/qE1jp0cecQDJsWmqyhKfGdnDumi6uOrvXkMqS0KpAv0ZJR4lSRrTCIJ8xOKctUdsFsY6RyWBlNTJFcJmxzmjKJKBWyI8x2rgIsOUXu7u5Yb85/gNkSzxzuAcmPDpgtha53PK3zIfR7F7PVlGQo2ftilr247iqePn8yY/ZmfcPV5SUvP/+M9d0lHz0/nzE7xL2060ttQCkLqiJ4xe3dhq+/ucYPnpQsH3+yEF3DYaRtO05PT4GEM5IIiKjc+4+/WMBZH7WkXOMIITKOXlpvSollylFGeAwU08fjLFA4WJPNyzsnfr4gh3betFFO30N9gG6c86wdpJD6Spw+L4s0BtH90aVGlULAD3v67YbY73FElM5kJSX+qcwkgZ9kpVpp/LBHW4txNbpuaJyTNnFMjDFyajS+71m/uiSNnhQ8Nn/E2fkpGthutrz8w+d8/tvfwjDQnJ8z+pF+u2XrpYU65kRVV1RVRSrTtCllkSvJJUspPJlJbHoi51pjZNDCWrQR54owDnKNJMamHwaG/U4Mu6ebfeJ4yp3J6AO6LMqcEf/JtqNtFyxPItvNlt1uw9DvGYZeAqtMkcMJ5KwOtjqASoFctBDlQh2ullCVSgt2TsxU4UiaeV9RukwtMlUPBbBiDKJvVdoUU+aoDVLpyxqyyB/kXILPosTvg8dW1bwea+cIKTOOA+v1HRcPLjCVndu9SkmDSqS/5b3qo5U5i4fO/9RMDVYc1vAMQhR+qkqEHFHZoKxjuVzy5PlTusWC29tbPv/8G7789jWXb6+pLx7w7NkzHjy4IDiDH3qqymKeLF2aAAAgAElEQVTROKVplKIhE6Inbu7YXl+xvttSGcXpouHx04dURrwu26bFuRq/3xN+Kvb9Qx9T5Q8Es2MI+HEsVmL8TTH7kPcc2nnTRjl978OtXpg0Og93iaC2KgNyMqgA00hUCIn94Nlse/Z9JOLIWhFVERIuT6eLl7nVBq00+8FjraZ2hqbWONegVUWKiRhHtDml7z2Xr9b4MeFD4qNsOT0/AzTbzZbP//CS3/72c4YBzs8bRj+y3fZ4v5VKVx5/gNm5DHFIxWtCbPn7Jos5bQzGWIx14mZiNDFlhjGU4oYUHIahZ7eXlrEr1V6ty96ZJRAPfpSApYC2s5aubVi0LfFkyXazZbPbsS8t5JxKohkiIYPK+R5mh6SKrJVg9jRQpGUxzJg9lXEVwhk3MGO2vMdSY0yixOGsLYWCUPiJB8zGaEIWCpYsD3n+CbMh44Onquy8Hp2rySkwjCN36zUXDy6wlSlracLaI9RWlPUmx4H6MCH29PiJQPZOVVzCVpJKxBwwWeGsYrlc8vT5ExaLjtvbW775/HNef/sl128veXBR8+zZMy4ePMC4QD+UfQeLVg6lGjINPgbuNpGr6y3buzXKVDSLUx4+fYw2FVlp2qaldo793kP6sNPSBwO/jz/++KjVq49ucPk4DAPb7Zb13Yb9vi837UF88bgNIDf1oeIxZYu2ePe9Cyxaa2mn52kk4wAM9yp+8zEFDur4O5Bl6EGyg/IERd5AOC4JzaT3Vn4hJnIM5OjJKmF0BlWyjFiqQ8gkWTaOrLQQY9EoY6nalmZ5QtU08jWKqDSjUuwHz/bqe17ngCFi4wsuzk64vrrks1/+H+6uLmnaBqM167s7dBALorHvaU5PaFuxZru5uWEYe5qmBqvY9VvqahqiKCrl70wvhRSx1glPznvG0WGNxRrNomuFQOt9udlkCiqEIAM6SZ7XhIQ1ChDSa0ryuXM1VS03RsrSah58QOmEtQqljQRCWotht5HpvETCjoExWDm3ZLyPco20pFCGY0V0hdZOMiEk2BUuRlkrUbiXbdMyjgMwkNShvSWcoUQcRVIgxJJhlvVRIJixH6jrFrJMrjlXUTtLPwxsNmv2uy0n7uzemiUfV6IPKzO9Q7I1WjwzVaTITRxeF6UK8ZwSUMo5yIUQ6CpLXVdstmt+/9nv+faba66+vwZrefb0CU8ePwSFiMM6K+u4bChWKUyMpLEn77ek7Ybh7pbrV5rv2orz04a2q0mxOLt0Cy7fXNE29b3786fj7/f4Mcye6AYTZm/u1vT7Is3xN8Rs1PT9I9R+p+I3HRM+3y86yn0YC85ONA6pNwiXPOVMmgb0SvCQouic+phFsFkboqLIhuRSncoYlXEmo1Vm9CMamVpv24qTZUPTVFijUFRoFVFqxA97vr/aEvJrIoYX0XJydsHl1TX/55efcXl1R9M2aG24u1sTguBi34+cnDb3MLsfB+qmQVnY9jtcVcuZKef3MIRfBjRSECs1I64gbhyxxqKNpe0WaGNnzHbT4EUIMqCTyvMGgzIWQ5EJSQkD1M6haqHr5JxIMRL8QNIKZS2mdLS0ZsZsYyyJRBgtNsggYSYTvcg/TZidMDNmK8AVyRko1JcygCQt7jxj9jCODECcqtGlEpoAP057sGgW5pTuYfbQTx0rCCFIp8bVDEPPerNhu9tz5k7urdk8ZenzgpTjXczW2kiEG1WJdNX8umrC55RLHKFmzM4KbOWo6pr1dsPvP/s91998y/X3V1gLT54+4+HjJ6CQ4RTnRK9XZWQ62xKjoR8T231ms03c3g3oV9dU7Xc0p+fUXcsYE123YNEtuXpzSd20H8TsDwZ+//qv/wOUtCqNNYVvcVBb3+32vHr1ii+//Iovv/yK7WZbInkkqymaQccn+t2P77YQ7pVOj1u2x+hwDE5ztF1Si3LSp8eVnE/kP+5xALKQTlPCzPG7LOKiCoVWeeb9oZkFoaV5MAGJSL7knMTQ2w9EP5D8SO6WtIuOpqoJMWGVJYQgrYnbFddff0ujNA3P+frlF7z8zW8gBFLdMA4Dw3ZHg8IZPU/jrdfrGYC1MlSuRmtRf89JvGxjSHNGHo4GKXyIKD3gnBPPyBhwVojDTdMU2x+Z1ApBstMQBoZhlARLa1wlE55ZGRKaMcSS4aZZs9FYR8oiHyKEalPs1coNow2m2LdlBbUD4yvCMJI1UkGerxIYbYWwrMW6J4hrG1VVY50TvSWZOBLPxrIhGFuRveg+1dZhnSlTrQG0rM0Yk2TcasoChUcYUiSMgVQnlJZzaQpZ1w8jb9++pWoabF3Nk5BTa0JaIkc7Wtnh8vHa1woVOdoUDxWSSGmzIxm7LsBHcUj5+qsvSUrz1Vff4kcNMXB2fs4nLz6iMpocZU2Oe6lCV3UlrgU5olMg7Xf0q1vyfotLHr9bc/vmkts3D7j4p0/pQ0/tHHXlpPqgDlNwPx1/38f/+Nd/vYfZVhf3goLZ+92OV69e8dWXX/LVl1+y3WzLJizcbGPMzPeDfx9mvwey731/wmx1KJ5Ii6vgsEzS5iPElsnVlEAhlZv8LmorzcT7K6KYcyCaC2onJYifSjI8+MDgI6NPLLtMt2ipq4YUw4zZOQZWtwPffn2NVg3Pafji5df85jcvCQGaOjEMI7vtgKIRikRRvTjGbKM0taswWjOOIypl0dEL8b2YHYNn0GrG7BAdlXX3MNuPMqGbQhB9vhDE2jOJfR2VQ+WEURlNIgbpJCXvZ81GZw0qJ+GAFr47ZXhBqsJKfI61lWzV1VTeMA4BdMaPIxyhttVGOHtaAkhigJioi1dxiDL1m7M4JElyApU1BC8DEs7WGGchiei20RJXpEl9YwoMS6cxpjBjdirevDLFqxgHz9u3b2maiqq2s+LIwQ9Ylet1WGwTLh9jNnEKFgtuT4kRRb4GyVLk3kikDH0/8OVXX6NV4tuvvkKPMph0fn7GRy8+QZuKFKXuu9+PWKtnzI4ZQtLs9onbVc92n/HJsd55Lt/c8uDNLZ/+0wV96HGuxlX1jNn5+AZ85/hg4Pff/vt/LSrdAec0CkuMIosxybR8990rHj36NSF4Xr78Yu67xyQj3sevfWgH3M8mjyd5jr+vpg0ZaVcIKhzCt4lQX1DkEAgeA055XVdVpaB7eG1tpBWrp4yYLD19abKVR2fIUgFUpdUrrU+FUlNVTThlqgygxRAYNmvy6CGM1E2HazucsfQpgxGtpt3bGy5zYlzd8odf/oo3ry9BKVLwjCmRsqiSkw0REd3c7HbFVLyZ7dmsFc5fjJE8u8qoe+0bAGsNpoBGVVUSDGcZYXfO4aoaWzWMoyfGHqUMVd1iXQNZkTXi+2ol40RrYlIMPpAyWCd8sr73DGPAh0zOU9BQsrsMPmZUyITsUUbTNS0mK8ZRWrLK1CJ4WexqlNJYXWEqizEWFRUpKpq2o64qhnHAB4+oq0t2GpICbUkYYvYoLe855AhKPp9U11WRGUiJ2SGjqhoyEIJHWyvrIidq58g5c3NzQ7tccnZxTlsMzFOMWOdAiUyOLhIQ0ubi/ro8iqNUCf6mlnPKaeYDKhUPyRQw7nd89cVLfIhyfmmonOHhxQXPnz5h5RPaWra7PW+urnj8+DGuqdEpYlJCR8+wvWN78wbGHZ1TxOyJ+zVvXn3Dpz9/DjFgEIBtarkW6Tgd/un4uz3+63//b0WcPKKdw6JkMz+SaXn13Xf8+tEjfAh88fLlgd+aRErpGLT/WsyWynzR8zsi3h8I9cyYfRz4lWdDKUVVOYSifmg5T5itSvUvlwBuQm0J8YS+EaLoAebSCVJZkZRsphnhlBW9LkKIrDcDfsyMAbqmpmsd1jhy6tEGYszcvN2R8iW3q5Ff/fIPXL5+g1LgQyKlIoYcR0yGzGSdtrmH2TEEtLXUzgl/N+a5W/AuZhtrcdbMmG2NuYfZdeVoKosfR/oYMUrR1hWNs4Wek1kuWqwFawp9Jkllj5ywzkrw1fdC/Qle2rjq0J6X/c+Tg8LngDaKtulQ2RDLkEptJNEPyc9Vr0pbbCWdHRUVKia6tqGq6hmzY5nM0EajUsBq6fD4HMsgoiZmUdywRs/uRrqYDZBE+FsBTVUhLd+AtaUynLO0fAtmL5ct5xdnONcWeztxmFJKZHKMORr4KK3qo0V+9KmSx+UjG7nCB4xzRVPW8m4/8vKLr2SIJngaMsZVXFw85MnT5yS/wlrNfrfl6uoNjx8/pm4cMWlSMvioudsOvLnZshtBuQ6fI+t95JtXb3j+80+lGIJoMtZ1Q4y5xDDvP/6knIvWirpuZFo3Tjevmqs7T58+Juf/xGq14vZ2xfffv5nL/ilFjnvmB/Luj28i98jGf2Z7aX6+o+rfxHMwZcfME+9h+tvyVL07bk1QgkCp9okpzTT4UbLGcr2PSfyT7tQEelYXXlrwjLstYRzpUqIzloV1WA1DEG/J3fU1rz7/A1/85jcwjOAj6EQ2ckOklIiq2HRpxcnJElBzCzaXANRaC1mhbMmFp9ZnlkqcMYaqrqnrpgR5FVqbMh0r1aWYoalrYoKqzlRNR1M3xVInMIwB1zT4UNoJKZQsWhMSRB+I3tP3IzlL0ChCwbKppCjwnEJkDJngg1QlnCImzeDleZWpMFo8GKWCKNNtxlm0MbS1EHetrVBaUWmHzUk4hVFRt3URSM7UWWHqispVpBQJOWKV3CBaW4wT/qA2QqKOxXXGVQ3WWkbv0caS63rm0ez7geA9d6sVVV3R1DVu4kSWZGRKWN7pY5XW1bQ9TZvk+9f5xGPVJfOW4DBJZaasxQg0TcWjRw+oq4rWwpgy11dXbFcrnj96hPYBpzKORNhv2d68ZdyusTmircFnT+o3bG+v6de31E0jG6kfRbYoxZ/Cvn+QY3J8aepapnVjmgOKqbrz+OlT/lPOrFYrVre3vPn++xmzY0r3uKl/KWb/uYyAQ0u5PAdHfOLC31U63799JqI9U5Vlen1Nnv4RS2dmqgbCpHN6TOKf9F3n4oK2ot8ZMtvdyDgGUuqwpsPZhSSRYcCTuL7e8YfPX/Gb33zBOIjee9KQTC4TpglVOOFKK5YnJyiYW7AqyzCHtRKcKasAc2h95lw4foZ6whfnqCqxjsyxiGyTIUfqupF7tK7omoqmFuvKEIXH3TSOFLx0m9LEZ8+QAsFHvI+MfY/JmbauSpFFzZidKMoMYZwxWzmLTpHkB2mrGhHTj1nPmF05i3XCMa/qFgsyUKgVTlekLNQZFSN1W8s1U6ByTVUbKleJvWUOGGUlsdaa5AzkLIGglQGOGGOxfxMtWWs0dZ1nvvrQ7/E+sFrdUdWV7INHmH2o7KkfQDZzrMC8Xn5smc88Vi1FBabuTUpkjKxFIlXT8ODRI6qqBtuS08jV1TWr1ZZHj54TvCYrR8Kx3Qfe3mxZb0dithir8dmz6RPXt1tu10L5yiRGL3q0cU623n98MPDrFjUpSabjvWyQSkFOGmOk6td1DS9e/Ix//ud/5ve//z1XV5dQBh9SSpj3ZIY/drzbVvirN5ujLFUrLS1Q5vrdFMLJx5zm1oJcd5GrEUehEhSV3v0Px0imwZFcysQCrGiRdElZ1OVTP0jLWxvMosVVTrJW64g+8Pbb71i9vhKhXCXWO9EH4jiKDIdRuMpycib8hM16R86Z5fIEhcKPHm00JEPWUfgY9mCrh8rz2L1kx4DSaGNFuylljHUoZbhbb9DGsVie0XYLmqYlA0M/oPsRbR3oQMqDtEqicGWC94QwUlfCG6wayZxUafvHMHkdKqjlGo3jKNfKVKQIMWtC1iyKFILSB3KvtVYEMbXodOVsitZpwtVWqgObO8aQqNuTObttugBKnFLW6zuGIKKuIWaUtlg7mXdLJTRGkUjIOZUWbmkF5EwKMiWrSy61Xq3ouo7T5QlN05ApwtP50B7QUFTmD5l8SmUz/tHb737yY9BQ2r2qTNPZLMM7SWXqruHhowtE8NWxH0beXl4Rg6fK4FKm0hkVPOu319y+ucL3W7ECQgk3xff47Qq/W3N+0jJkTxx6VIqSYf8U+v1DHPWik4nLGEneM4G2ThlVnHWaruNnL17MmH15dSXSHHoSRzf3nvMvwey/FrXVXP0rOqmpJN0/ROyivVnqe0qCBSlllanQXEj/Sv0As6edZaoUTs5ESsu+FnIiDCNDL5u10dAuzIzZziqCj3z37VuuXq8gW5RKpKgJPjKOEbJGGRFdnzB7t96Qc+ZkubyH2SZB1FLJ1PYQ/GV1kEoRdQ1xWbJGJpNzSjKspxSb9R3OaM6WCxZdS9s0QGboB8Ze46wmaBimqlQMjH7E+8AYgnR6jEU3VQmUZU+IIZaCBiBOmdKeVlAZBTGhc0TnQNcsJMw5Enq21mIrh9ViIWhK9TCliK2l+HC3gRRGTtp67iKFril/v+NuvSaHQRQ+YhDaVfEKdsbcw+xUKtETZucslCVrJ2+kxGq1pus6TpanNE2DYeKuHq9hjVLpB5gtiP3+9um7hUGNEdk7RFYtp4zKFqMUWSWarubi0UNSBmcqxmHP1eVbfIiQK3JyZF3hg+L67ZqrN7dse09SFoUIYPdesdp61jtPe3KOzwP9EImptK7/Wsu2qrLs9744GXi0NtS1JXgJd0RvzVBVjmfPnvDkyRM+//xzYkwYbT4IGO89eUctBTmD75zR9/0OU3TNDBGUqBsQou/s1CGlfom5JeuLBUIOLHs1g4mQ7PO8KPL0ilOxb3qbBVyzlkphLqXukBM5JGJS9P2edHdHnSLVSYcy4JLBxIwZPKrvcUlaMipFcggyqGDFgeHk5ISu69jtdgzDQFVVPHr4iHEcWd2uqasar8WKRxtKkCRV10wCpbFVjSucQK0Lz6X8HTGDzopueUrTLlgsFmht8ENgs9/T9z3eB9CxnFuN1laqaMHTDx7vR4ZhxBhbbkrJTrRxmFKdE76YpWpqGa4IQThxake7zCyNEQ9ipVHmiHunDWiD0o6mPQHlxGsyRrrlgtOzE1zdkbB0JwsUGWcNaJko0yrjk2K9G4jZI1pXBpWSyF5oQ1XV5SbPTH7TzlWz1lYMgaHvZ3De9z37/X6+HoqDjtUkFj6ta47XCjJgZ46qHSUSLBQG2fJmrum0zhF5Gp2ScPZEUJOqlfUR/Egymv12zd3ba+qmw8RErRQV0K/vuH79is3NNToHnJZqXjUHf3uGzYp8fsKwWROHPZZMVRxrfjr+/g9bVfj9fsZsozW2rsle7rMYAgZwVcWTZ89mzE4x/r+G2VMb+PAL0+RtaekqqUpNrB2lZpQqaF0+qnuQDSrPmH1Ivg6ST4fXmyqZkHUuvMCMDI4EUsioFNn3PXd3iZhqupMKjMIkR44GPxj6XhGTE+pTUoQggwrGQt3YD2L2+nZFXdUE7YUPbDS2cnPVNSFqC3UlLWFT6CiFQSx/R46orDlddixa4fsZrQmDZ7/fCEfbe2LR3dWALc/vQ8APPaP3jMMgU7fGYZ1DW1PkvsyM2VYp6qZ0TUIAFDuVyMsWY5Y/wGyUEktUDU4rTtoGp2AcxFp0sew4OTulqx2WxOKkE0y2DrRwObPSqOQZdmt8Fl6fzA2IvJzRYgWXc56HPWKMMtRRNG1DiPT9MBdB+n5/D7PhYDN3EAt/P2YLudSUFXzAbAFuTenLcfD+ks9lPxHbQF1UI+q24uTkRFQyTGK93XP99o6uqUnRoFQNVNyte169vub6ZkPImqQdMr9YkRPsvWK1GTg5z6w3A/shkrEoXd3rtr57fDDw8142v6apWd2t2Ky3xUdVcX5+hrNy4mLMnJ6e8fTpU05OTri7uys30n0E+BCovI8oPEt8fOhQRxNpUwsgC7dDqSI7O+mVaAnoJhuaOPOopJc/BXuJfPg4vQFJheSilreYph+USn3KmZgjGRHMTSqjTC7m3Il+vyeqhKmkVJ6y8CrUvscMHh0S1cS7MwmjnICNtVR1zXa3Y7cV8+yuW9C2LSEE6rrm4vyBBGfBk4loM7U1MrkEfzkdhJ0hoZxBG4txlrpqcE1DXdcoZRl9JqWR4CMxIRVBXRVfXktlHUpDCmIRE8sUcd+LQn1T19RVNb+P6eZKKeOqhrOzC4zR9CV4QjuadsHyZMl+vyvZurSIYwxkRNhUa4cyNTFpQo5i0YbB2Ia6TVTNHrRwPWwj9knWGpTKuHYPxtH3vQSRSiHisBIIW+sKN0PPAqviciEfK+tE808jdkXaFA6P8C6ttaJt+c6inUSk701BlnWkChVhav3KVCQzdMgSL7T0LFUQXdZvyolAwtU17VJMulMYWb25Zne7Qi8zaff/sHduv5Ek15n/xTVvVSyS3T0ty5ZmJMALP8gw1uvVo//xhV+9ft+VB+tdQ4C10Kjn2k2yqvISl304EVlVbHZPayR5x8DEgEM2WZWVl8gvT5zzne870l1tcTnw1ZvXfP3FK6ZxT2M0JidSCDhrJPM9Jr7+7LeYnPjqq6+J84jTCpt5D4T8ML5PIy8LMUaatuXN3Rv29w8rZu+ur+W+BXKM7K6uLjA7K/5dMFspnsRstWqqpapWIk1hSioqUnIrDhJrVFiCPdLp+xlm1wXTKfBLFcpFESqnFbPJmqwS2SiUklLw8TiSVMR4oaSMOTHNgfGoWCZDChprJPhIJuKUQRnhUzeN53DYs99LhWbo+wvMvr2+WTE7kkV0vpzzWHAkp5OwcwKME96bdYbWN7StE+xRirzMzEmqRaSIswavpWnBWi3Pa61IQQK/lERr7jiOpCTcMO+bdT8qZueUaL3jZrcrziGC2U7D0LVsthsOx2MpkUqJOBResHjWahqj0CkSs1CEDInWGlLXcGw9vgZErVhxGmvJSnHsHM7AOI6YIu8VkUWz0RpnpWqlSzZSnueliU8ZnJVgFZ3LQoi3MDsnxWM+XBWRfh9m19Kv0L/qiqdcQyVL9pxLciXrFbMTgaZx9JuOzMIcEl99+YY3rw/kjeZ4SGyvOkJ2vH7zFa+++Jr9OKFNQ8qGEFJpoMykMfHbz74mZcPXX33FOEeUdpAt70PtbxFwlhtynhc+/fRT/uf/+BVKKW5vb/nrv/5rfv6zj0Xra4l477m62tI0zdqVpIpu0vkJfAwkjzvCLn73QavH00srPwJVTvQZ36r+LI9O2Wx9fa5LxrN9rE0eqNIxVsWK1mJBLQUXlSmtpLkgZxRxXSllLduMIaJiII3QThOdM0WmZULNC4OxuK7HKpjHI2OKqJSZYuBu/yDODeOEUYrtdiurhXkmLInNsOX29pbXr19LV9c8EoN0uoYwE1MQsu6SUGpCa4trGtoMTSP6frpY/Hz99RtC0QZs255hGBi6nmVaGMeJ7dVGnECMrHxSiJKF0mIrJt14mrZtcOU1sWQF53mWzrnNju3uBqs194d7Ht7ck40lh8hwteHZs4/EBDxGpmVkHieWKBkLrS3oBgL4bFBqYolwnCMYh28HyTJqcG1XyrRift0NW5p+wzwfRZQ0SXZy3fdcXVQkAB7HUfIMMWKMoes6lhCYCl/Gt455nnl4eKDrOjabzVoWrlngp+a+lJZKGerMn5LaObuuLUrpK4PKUnLRWYzrc4I5ChfUNR7vHSnCMs58+btXjPcPqCUxvnmD/egFTsFy3DMe9qQYxbM5JYxKOKUIKTKPE6/+779xf/cN+8MEQcReq2n4D+P7P9YO/nnm008/5Vf/439eYPbHP/u5NBUsC957tldXF5itUWup90+N2axBn0gw6Vw5feddwZeoXV+vVD6H7BXLZdFelujlWXAZlubyJsFo8QRORNSTmB2igjExTS3GdaQksiHLrLBmoO8cKMtxnIlpJCdFiBMP+zsykWlcUMpcYHZaAtthc4HZ4zwRQiSmyBwCIUUJPhfFpMSAoGkc5BbTNEXfT5QO3nz9NTkFjNL0pdO37waWaWEaRzZX2wvMFtWHXITspXNaG0vTthgjkmAxRZYQyv7O7DYbbnZbtLbcH+65f/OANeIHvLka+OjZM1BJXE+WiWmcCXEByr5rIIDJnkkpiAtxPuIMDK2XMrfWdK3w7lIGYzTboWPTNxznGWc1c1JSwan7XgK9c8yGfIHZISwsQbiIrvVPYnbOpyzwU3P/HLNXmK40A1hjA1XvhVwsAlGosqAQT/mZZDK+lLqJiXlcePW7L3m4H0mL4s2bkRcfWVCO/XFhfxiJMaGcyAQlZVDKEVNgGmf+7f++4pu7e6bDnhCg8Z4QL+/Zx+NbLNs00wSHw4Ff//rX/Pd/+kfmeeZHL3+EUoqb61tevPBrS/T55Mo5lw6Z949VruU7jtrhlPP5Wu/RqrUEdunR+1I+ff76wE6JmJPY/ZRt1YBeiJ36tKKkZA1VnQRqJYGakl0UyBLBUe8M8zzxcHeP92KZFgCXM1dtS28t83jkOL1mPh5JRhHiwnycmcOMw4j1TCcaPXd3d2gtVjzTtADC0ZmmiXmZiGlZs2VKa6w3aOPE3iZE8jSzhIw6zFh7wDiPVlbKwo2k/Y31ZKVIBGJmlY+p+mBZl+6hMxV/tCEmAW5jNG3fSvZPSUnEdwNN0wtnzjm6ZkMzbJjHI7bxokcFpBjQs0frIzYWX01j6YYbyT6WLOrxcMBaT9c39MMWiOwPDzRdR1gWlnnEOEM/bBm2O6bDAyqOEDOWk9aZGIuntePZaJFyMMXtRCklpYWURC+qSDIcDgfp/q3bqQ/Ryg2sgSClE12V7sbyTKuPtgITVY+UXF+fpISgka42nXXpIosoLyWiWJo+9vd3fPnZZ+gYidPE4f4e5hltFUSxbEsaQpixJBFszhGTIpbM8eGOcTwQs6K1Ip6reJ/5zw/j+zS0tTBNK2b/4z/99wvMvr2+wb948U7M1sZ8yyf8cTH7pJ5wOWpgxxlqrx2mZ5ids8jQpBzJVbe0/j+fxOzPMTvnuFak1JnuoNKVfF9aRHLCOM80z9zfPeC8p+06IJCzo22vsLbnOM68no4cj7S0KCUAACAASURBVDPKJJYYVsw2OLF4PMNsqzVt27JMkzDPCmZPy8xyni3TCuPFZYmUiAHmKZemQcXBWrwz2KJL6xqLc2L1plQmIFWYKh9zjtnS3HK6lqZ0+6KkCajtS/ZPCfVo6Dx90xBCwjnFpunYDA3HccY3tgSMiRATftYctSZGyd5ZY7gZOnyRWDkeRw6HI95amr5jO/RE4OGwp+saliUwzgvGGbZDz2478HCYGKNCnFPtBWanFNeOZ6vFZ91as2K29w0pZZqmQ+u8YvYSwrod8QCWcr8EgYlT0CfKFILnrBWaU86vZPpq5UZpUqo0Hek+r5gdc0Z74eynLEmTu/s9n332JTFqpilyf39gnkFZLcerHegkri9YcZ3KmpgMGcvdw5HDOKJyRNu20NjWOvST41u6euXAvffr1zRNvHlzx6tXr7i7v+f582uMESkMKZfZUjsX/TVZ8VyuED9kBVlu0fUGPv/NxagP1hVCTocrROFHn11/ppQAyu/rqzJSmlO5pHuVdGCtnq/lfNZrX2gk6wO9KpebymFJUgK2TuEbw7wE9g+v6VtHZzRqWcjLjEFWMvtp4v7ujofjHj+0KKuLhp1ZeVYxRe7v79k/HNjublhy5PXnn+O9Z5wmxuPItIykFABpsFFGMR1HYpYGDd90dMohAuqKlA0qifaPbxradoNrWlkJdh3PXnxE4zsO4wjIA6NpGrzzoHIxTp9KA0cmhiBexSGSVMI1xTrOWJzvpFkhZZp2w3bn2cUXHA4PgAhZSlk44JeZpd+SKR1axuH8ADhQmv3DPVOILDnRW0/fD6QcOIaItg1pDoxzBBNxpqFpB3zTE+Y9KUfxcbbiB7osC4QA3oMC37foEHDOoaxhDgveCg9n0/ccSmY1LRMpBgFPU7Qay3yJK1Bczncx4hZqwWmmqzLdS5ZZgUI6FXPKRcRZrXOQnPBWyNNpnshL5vj6a8a7r2mNwRoIy8gUZiljGy0cMK1JU0DrjPeSaTVK45xlKeV4oxXOepZpwn4b3eKH8b0ZVYPvMWbfvXnDq1evuL+/4/r5cwnwSvPdOWZbbVjG6TtjdsXfy5dfvnd9sK6ZvBNqq7ooutj2CbXz2es4Q+0sPB2RRlKgVFrLdadnYK3PqYLd5YGua0anBL1J9k85i2k8YZl5/bDHtT3adCyLYl4yChE0nqY9d3f37I8PtINHW4U2SvRHS7mtYvbhYc/NbkvMC59//rpcn5HxODIuU6GuyLNUGcV4nJhzxFlN13ic6kCJZaXJCZ0keG0az6ZtaRuHNZqua/joxTM63zCOBxRcYHZWopc6TbNkPRE+3LLMxJBXzG6bBms8nXfCT0uJTdvgd1texB0PhwMggvE5Z0JKzItn2y8rZjtjGbzDIYyr+4c9MUykvOBtz9D3hJyI4UhjNWFOxHkkGmiMY2gb+saznwMxpxWzI0K5qZCNgrb3hKBxzmGsYgkzzorWat9vGOcDIURRkIgJtMEaVTLepbKR45OYLdymE2az0nNKAE0GlYtDWF4xe52qStREZH8s05zIS+br10e+vhsxpgVjGZfAHCYpYxtV3EgWwpTIWjA8BqnKWefIWbyWlTZ46yQJlN9vyvYtHL9QouFQ9IdEBV1OdkArxX4/ixiwM8Vj7uRROh5HRFzkxAeBE3cAWLtyzu1/Kv8jrRm4k/9kvQhVey/Jkg8piz0q66ZEBEIO+FZkTKYi6mi1Qh0nyXzNkTgueGvw2jGX6F18IqVUqHQFmPNVpfgNQiaHiIUTaMVafgavFXMYORwmdldb5nEijPek1hGnI63zqH4gzCNTWMjWgFVMxwPKKlzXYA3EOQoxeL+XyWMtr+/uOE4TfTdwnI9SItCSJVrmmZykBd5YB1ZkC0BLqXAOTHMGZnwDw+C5urpie3XN849ecvviGX0/YEwhBMfE1jQcjiLqnIxGNx2Nb2hSYlkm5mmSzzUL1okcizaGpBp0s2HYbFFas8RI0qIm3/X9qnH1sN9zPBw4HI+EacI2LVc3PaZwSx4e9qQA1mliziRrGa5vQYEr6XOl4VnTcdjvmdKRkA3jFMnOsBm22Jd/zmfTnrbrSMsMKaCSYopSFm+QTKVtHdMhEMKC71oa33B82HP/5o6r3YbeaTpvaSzsX3/FtO25efaCw17AUMShC1FJi0zQOVEADcqYwhOp5AFAmbLyFLu/MuuJObOU+YcBbRwqZ9588QUdicbA1//2r2xMICiY08jtsx3JZGaVCdYyxkjMic4ZTJqJyyQZXGXIUeazLrxQ0kSjID5Ssf9hfH9HWJYLzE5B3IYqZiulmffC1TbOoYoLxzlmmzJLvwtm55J5Fpw8oXYN6Oq8FhFmQJ0auKA46BAJOdC2Ii6fkliSKW2Zjkq0gOfMMkaM9Tjt0cwXmJ0kXS5UjbPqjXyk6GvGkAF7Sg5E2QdyRmnPGGamw4Ht1Y5pnLkfA65NHKeIdy1DrxjnwBImjM0oC4fjhLKKpnNg7IrZ+/29LNKs5u7uNdN0ZOh6jvORmEKhCgmtKqYsdBxrUFYMBKRBNBPmmTxPzACNxw8DV1dXXF9tefnRc569uGXoe8HcFElxoTFbpuOBeZrQJtE1msY3pNQwLRL8zfPCYjLRSZbMGE2jEptGs90MRbt3weoEGPq+WzF7v3/gcDhyPB6YpkDbWPqbqxWz9w8PEBLaWXKOWJu4vR5WzPbegVZ0zTP2+wPHNGFyIE4jxmW2w4Y/f2nZT5/RdS3zkggJVFLMcSKkCDRoY3CtJRwmlhBoO0/jG/YPR+7e3LPZXaFdj/Ud2IavXu/ptxMvnt2smJ1iFLmbEudlVZs0SiyoRWWjYnZdthvFGo/EOK+zLedIzGKKgEF8dLPiiy/ekOjANPzrv31NMBtQgTHN7J7dkk0iqxlrAzGOkqRwHXMyTEupfikNsXAac7H0S4BqSPU58Y7x3sBPl9WgMVJDd07q7/VGb5qWvu9xDo7Hia+/fsPd3R2Hw0EIxVqRv6XWfPLDK+XXR/+uWmbn3WMVMM7r7/UP559WA6/HGU999l14Levb14WhBPV1u2XV+Wg7a+IFmTAl8lz3te5nItM2nmmZIAWxgIsL93ffMO2PRUYh8s3r17x5eGCaZzkOI+rnOYuUyHZ7hbOemBVv7l4zzZG+78l4sQJqGpQxaOtxXoR/q8q5BA6KmDJ5iSQiaMnude3A9c0Nu+tnPP/oJUO/Zbvbsd0J/ycp0ROcE8RoGFxPn0RuxZiTO4DPA0NZ7scQiFEIxDllvLP0w0C7GXDWMceF6TAyx4WMYYqJGCFkMLahHQzDcIXvGrqmE2u3hz1JmWJpIyT1hMilJDLKWbItPo2Noket8hQpiHSMVhbrG7p+g1WJoDR5mYEF5xxLWDgejyinsaoBUxYZzmKcw3kn3coqYzXEHIlROD/LNLGECYXYWlVqXH40b2SKyTVJRavw8Qoz14l7lv24fL/MwLgsWDLheGCZJpgO6LjgvWF3e0vbyZxAC4cGXbIFSW5+s95X6i0+bv3ZPJ74P4zv7fg2zG6bhr7vwTmm45E3X3/9J8Fsobied/yqwsl7G7PfQu38Ntaeo7Zs4xFqZyTjV39bb6m3tnNC7RhTheyzfS37ScI3LdMyERJkbVgifHN3z3Evi6WYEq9ff8PDw5tiD5kxBlThC4eQuNpupaEmR17fvSHOE33f48lM80jTNBij8FYTvTSXrW5CgMpRdOoWKT8rDU3jGdqOm5trnl3vePnRc7b9wG635Wq3vcBs0oyJkd4NqNSTtagZVBeuIXtQAzlLxi9EkXDJKWOdZxh6ho1o3i1xZjxMLHEWGZQ4QYyQA401mKHlahhoOr9i9v7BYpRIyDhV9QmSZGRJWKfQtjzfG4eiX2Xg5uIlbZWm8ZZN35GURavAvGQWuMBs7RSNsigjCRjrNM6JFI91jqwMaEvMkTlG1LwwTYskW0oVi1ACpiecinLJN8ec3onZimr9+tSQvy+LdN4ejoFpWjhMsESN8Z7b2x1N12KMlN8LZItrSDKApcrGKaoF6duYXRNu7xrfKuAcQuDu7o43b96wLPJwvL295eXLlwxDAySWRfHFF1/z1VdfQbkYkjqVevy6M0+UBx6XEFadsyf+fhFQPfq9/FBP7+l9WeVHAHT5WWUD57898UGeCBrfNSrgna+Sz4nP3nuWKB13RhtySOz3e5ZRMqbaaA6HPcfjkWVZROTSW4wTSRKtFWkJZONYliBacxicbfC+JUQ4HGfisojlWVQo5dEOVOGuJWXJ2oO2KNtgXEs37Hj+7AUv/+zH3Dz7iN3uGu89TddhmwaK6KtVoFHkLJIq1joEPKMor2vRdtRGHFZyltb6eZ5F+ymLWrkxFm29WOF5yFFDltltnKHXiuk443TGaodvHd56QoqkqEgYyUTrYruTpKQcs6iuayPUgGWecMZQ5VCm4144hdriXcPV1TUqTcwalpJ9Q2XymNkfDpjG4rq2+FMWTSpriMU3M6VEypoQIjnOhBg5HI/003SmD/YENeFsiB+keuveeDznnxoKESfPYWHcP/Drf/1XxsMDx/0DOS3k5OjalrYIdosmmGT2xKlTI3pVqvA61cXcPX+g/yF8rh/Gv+/4NsxuhkHaJJaFr7/44i3MJgvvFf64mC3znIvfyw/rVn4vzD7/01mu/E+K2Slk9vs987ismL0/HC4w23q3YrbSmrAknMmERYITQ6axTlwmYmA+HliWyDLPqJjwSkEl8aeIVQmvZZHZWEXrDLuh48Wz5/z4z17y0bMbrnc7vPd0XUPTWAk+lQIlpWaTM04rnLWS6YzF4UiL3qA2wmtLhXtZMTtnJRxCY/BWgzLgLTqKaoXWYJxB6Z75OJG1w2mLaz3eeslkxoQhEZZFMpdaE1IpKecoouLl86d5wRhHlUPZHyfR4dOKxnmur66YkgI9k1mEVqcgj5nDYY9tDG3nLjBb+NmxWP0ldE5CQ4qZGEPJUvZUHd41yfOOkUqT3XfFbIVhCZmH/ci//uuveTiMPOyPLCnjUqZtuwvMrpk9MUgtjymlsEp0er8rZr838GsaS86KeW75+c9/jlYimPjixQt+8YtfsNlsqSuou7s7Xr9+XTIsmhij7FR6GyjOd+ytrrBHY+2OVFXcU8QQz4fWZ8KdT7x/DRgfXag1o1gTtmWxKYvOmlN5W7b5XeOp7VO2Xs9LPZ76WpmkmpQC8zwRwwwpoozBuUb8ZQsBeZomkWPJmsa3GOeLqTOElCVlPy3EZSGDtPMbi7Ii4GqNA9difUvbdvTDluvdLc9e/IhnL/6M3c0N2nhwlqQdIWty1hhtUFbjtSUjGcXGCk8kBmkgUUo6YyXoizIpjZR7RBMvEBIlRS8m68Y6staoDElJUsoZg7OtWKtFEYiOUTKg2jr6QdrZZWUuPpe2dDArRWkokmaTOacTfykFFiCmDNng25Y8JZLxJD2TU6ZtDSln7vYPzPPMMs/S4FKC35pC0FqzhAWMJsQgc6+U1kMI6/w8ZX0p15yLBUuuRNEn5uxTc+riNeW/xlqmhzv+zz//Sh7cRtM1DccopTkBEFtmsj57CF86jMTz5pyL/fiB4PcfadhGXGvaeebnP/954W6eMFsEhGVK/ikx+zKTpt+J2SJO/HYg+W2YnU+/LF+XmP2h0d+7MJtyT1fMXmlEFGFlYwgpMc0zcyiSV0aJ5p6zF5idYkTnROsbvBN9U2IgJ/HUXaaZZRFutLEOazzKKnLSOGNpHbTe0rUt26HndnfNj148489ePOPmZoc3GuvA6YTOAZ0zRhu0VWJ1ScZbjbcNKPFsDzFKJcMYci7lcKWIRhf6cCLECClACuSk0IhotNZZIi6VwGiMcbTWEXMQelwMhaKScVZjhtLIB9IomCMhWPFXr1QghLGV8rxidkgACzlFTBaHojRlvEnMWrKSpm3JOfGwvysB6yIVmTPMVmW+LWFBGy4we56XtzCbwttTBbcvboUnYow6d56aUxevKf9Z23D3MPGrf/4/Qpkz0DQdKR5XzLbFF15zSnapgsd1H1OKT2L2hyD2ewO/eY54b7i+3vDLX/6Sv/sv/xVrJXLebFpSlHbqeV549epzfve73/HmzZvSVWMlDTudas1PdYM9BSLnv6sNGW+n4llLwGdvhHcA1mMgyfnRSnXdzinjpz4cP97StKqEaOk2FhKqtR5V7M50SS3HlLl/uOPLL79ifzgQYsR4x2Yz0G8GlIZpmeT9zjJNMxlD0/Vo0zCOE4mItp522IEZGY8CNlEbgpYMFSiU9dhuYNhccbXdsdles7u64er2Od3VM0y7Ee5gWS0pa0QDzxrpmrKWMKfSJS1m3caVAK6cqpRiEarUGAvGerRxhLBgjfhNauvECcKCJZKWxLiMxASRxKbbEHIgzpEpTKSQSSSMMjjn0VosetKj9HaV6bFaSNeqEI6dcxjV4YxhViPJZJbRcjhK91zWUir2pf2/bdpVXLrtOhrvMSpDDmgS1miWJZHiCVS0FTs54UolKm9JbIrr/PrjBlEaaK1hjoFl3Bdh1J2sqjNsh77otsliSb44+xL/ZYqQc23mEj6VxuhT2e6H8R9jxHnGeM/m+ppf/vKX/Nf/8ncrZrebDaYsCJZ55vNXr57E7Dgt6/a+K2bXB9Q55UWyeo/f9yRkP4nZVDxNp/sLHmX8lPqjYLZUsha8taSgitC8LrpvkbuHe7768ksOh7142XvDsNkwbHrQ6gKz52nCkOm7hsZopnEkkvBWsxtaRoM03sWE0RGrg+AX4K1i6CxXm4Hd9orr7Yabqx3Pb694dtWxaYXQb0wp8VvRfTVWrZid5oBSGaskXtNOJLxqejQWQXitNViDLwLOSwg4I0GYs2L0hoWIXTGbJLShx5idQ1ox2ztHLAuLnC9pAVWmx5Tn1LyoFbM7JaLSo5rJJmHHhXg8ICoV0s5pjF8xu4pLd8UPOCtDyJAQl6q0LIiXmSqUCElWaK1XdyWZkGqF7D8+9GmMbQlxZj9KNnm3GeTc50A/bHHWX2A2Z18qZdCZpOVQajOXVHTENq/S49433hv4jeNIjGJKb4xhd9WiFIxjZByli3G/P/Av//K/+ad/+id+85vfkIochlJiS5OfIDi9DRJvr7yA4t34xO/LF+ppz7x1dVbKV0+tHBWnm1xRLzrFqaP+vqweP2AGvKs0UUcM4s8XggCC0xajNcsy8+rzV3z+xStCXGjaht3uittnN7SdkGdf378mJeE67PcHQgxY34goZQDjLZura1wzoO1EVnvGaSalzIKRlL822Gag396wu33G7e1zrrbXbLfXbK52NN2A9p6m26CsWe2ClDmtcJUxGH+2qlBVp3FNk6KT6EIpVeyFAGubkhWUYHcOkYToOznjwWawjhQCCeH5ZYwAlDYkHVhCEN/GEDHW4IrDh0rikJGUlDBAUofGO/QsAtUKoPCeDMUX+OjPFNs1SxLbJe89m+2Gh1GEssXfuBFidRBnFGMM8wwgau8ie+NOQFsyBdLS/4eBx1OZF6iQnclhxgJN65lDIC8z45KwrWRzvW0hi71iNa1PZYVftyySCKcSQb1nUFXV/ofmjv8oYxxHXJFKMcbQXu0kkzOOhCJcftjv+d//8i/vxGz1xJz7UMzW+m2sLVugLtqfvCPWII8/CLNrjeZD1lkfgtlt65lCkCBOO7Q2zMvCq89f8eqLz1lioGkbrnY7bp7dXmA2KaGV5bDfE2Kg8VYWWmHBesP11YahcUxWs1eZeRrFJo4Fq0QSbGgsN9ueZ7c7nt/ecr294nq7ZXe1YegavNdsukYCvoLZGLVWkoxR4KsjizQtaG0qYpMzmFQkypQS2zQUTfH6rZgdw4xC/M29cWQLzlKqLwlywFASAdoRtAj7pxRXzDbGicNHKhdHCR1IgTh8eIOZNdYIF9DasgjFoFPEH6cLzE5pQce0YvZ+FFu8pvE0TUNOxR+53AsU7rzRomDgzhIaa3Y3rSq/75887xnvwmwKS3AuTUW+bQhhFrOEZWTbWm5317TWSxUsRnIMqCItJA1Tsu13YbZS5W9/SOAnooiG/V5sVsYxlhtb45wuHr4Lr1694rPPPpMMSduWi5KYpxGj3Vsn4jLzdrmirBdWlaVg9Zd9fEIVJ+BZS7wl4FszhGcA8q6ywYeMD1xAvv2+s88U/gyFUKywVhNDZJon7u+EHNx3HV3fcXW1Y7PZiD9klg4vXYixje8wqYpKG3zr6TbXdMOO/bSwZAOmRTsPSuGco20brGvoNldsb55z8+wZNze3DJsr+m5D32/wvkUpA8ajjEU7CRaVSiQlwZheMlaLV2S9NTKnSafLijlGCZAycg2MNavGYcjikxtSJCqNbw1WW6xTZG1RRnPcH9YMrNZWGixQ0jASIl5bWakV7TljDczVR/J0tUzxcsxGE5eFmDXWehrjmPuBb8qxGCsSLCpHfLNh6AceRlnJWyu+x2GaCctcrK9EOyolfcHkvaQPyCOo2kq9a4FyngGpGYfz7++bk1llVIykoluljGY/zSxzou2NZCqNAcSZQwgxlSkiHZaKmkGRB66YwYu0R4yRZUm8Zzd+GN+z0bYi8DvtJQMcxxGli/6jc+QY34vZ4zTjnrBu+1DMzrm6cqT1tWdbOdtGKfGuJdRcHmDqj4LZ3xW1n8LsVAIgbe2K2W/u7pnmma7r6fqO3dXVitk5J6zWpcMYOt+Qk/CNTc741nO96dgNHcu0x+SF1oB3wttyztG0LY2zXG06nt9sefbshtubG642A5uuZ9P3tN6Lo5ABaxTWaYwWW1KUBGN5EWtNscgr55l8FiiURpRYzQeKfmDRApTsUSDHQEwBrSKm9VhtUc5idUYbxWF/XHHCloSBQjjQMUSslkpSTJqM/VbM1iazLBGdI95anGkY+hmtv0FrhbWi1xezYtN4hn5gPz5ICdtatDXMU2BeAmGRBW+sdpdn/XJPYfZq3/qOBcp5pfH3wWyQTuAYVXHfELmWedqT5gVTtBMlQSFxjZIE38rvE01KWZDXxNZjzE7LwreB9nsDv2maaNu+CNqK7MSyhHVlEUPg+nrHJ598zCeffEIIgdevX7MsC8Mw0LQNYX5/tiAVeRU4XYSayj8HgTrOu8LOU/MrG0m9DRzvuxhPAsklVn3QOO2zzKoLwjCw5CwZqxhx1mKdmH7XjIpzlrbrcKXlXUSYZ/bF5zGEyNBvabstMcEUMhGLbQbQnv00czgGYtYk3WA6KYt2Xc+w2YhkyrBlu7vh+uaWzXZH23S0TYdve4zzkBVzTBit0BhpQpH+LRE3znJjWK3BsHLDYsw4I0TaCuSx8CjqKl9ELUXIuml7KJ6NMWSyTgIQBWCdb092QTkBGq+N8PGcrH7WjjytUdmginh1jOKLmBNkLT7BOcNclNuNUnKumwajLVmL7k6Ombm04TatLFZCCCulIISFZZpRIWJR5BiJIZG1QinhVIZlKcdRbNUK2yjXc1DcX9JZBu1x9uQxgLw3+FOKbef45psDYRFxbqc1Q+PxbSugjkFlkRlISpGLdaFKqvBHKAssVR44J23Gqr5f9/uH8f0f0zTRt+0FZodlWTE7hMju+pqPP/nknZid5vc7tbwPs9U7snXwNmavS0f1dmn3/zdmgyLnkrGKEWulm79itmizigi/dY5Y+HzzMnM47IWPHQLbfmDbtZAiOUxYIkNj8RrmaU84HtA50uiE6aQs2nedUH36ju3QcrPbcntzzW67oWtauqalbz3emZIZmlHaYBA+tiB2IfrnKOxebZFGz8INixFrHNaaFbNDjNTOVcpCXqw4E33bME0SWOQQSboqNwhmt96tmJ2yNNQZ7fEmkVySSmVRvtBaYbLgT0qJHCNaCH5onUWwOmemMBcJIqmqNE2L1Yao84rZoUinuLZZMbtSCpYQhPMeFAorz4YQUTqzlMBuWYJoscZIzlUpV6FKBvRPgdmu23L45hvMEnBGbEh9M9C2YnJgyKgsVntKSVlbaVBJeNqUBZYqQV/F7Kw4uVx9C2Z/a8ZvnqWT6fPPP+d4GDHGMAwDL1++FLJlgp/85Cf84he/4LPPPuOrr77Ce0+MkbAEaufg45NxrgF1EXGX1PLjk6XWn1mJvLHcgCmfVjCxgJBoMxoo2Zyu6wovzGK9JYwnjcKUa5BRCgUl4ExJMlOoxFMmJI9XoEpJiv0cDLWog+KcZ5kDWhnCEsFTSKWJpm1R9/fS1u/FS/bFRx/xzetv+O1vP6MfBl48f0nOiIWQ1eyGDttu0LZlSoZpSRyXe6z39Jstfc3mDQPDZqDre5p+oOl6mran7Ta0TYe1jqyt2Msog++6kjVVLMWjNimFtKlljHeQT64nZBFBDSmS5iSZOCgNBVCFWlURoBal+ixyAlmRomg1ir1fve100UQSTbAUU/EYTqScaJy0c8UsXpDeS9m38mpU+TyQFRKFsziX62SsNKl0m4H7L4/CwXFiv3Z3f8f2Zstud8UX33xFmCfwhjBLxi8cRwYvLiH78YAymjGOuCS2cM5ZpmksQS1FSuU0/1NMJxBRZw4oZb5UADkpyofTPaBOEkb1+36ZaLzFas1xHDF+g9WWEBK7q2sgS+OMNnLdisC20qw/W6toG8/f/M1/5pe//DuWJeKc4dNP/xf/8A//DaMd223/Pqj4YXxPRtu25HleMXs8HC8w27ctpPRezK6dg38oZq9PnpLyzmX+iStCOpv7RRMwxcJV4wKzbU7vxGxq2bfcYzklYgokhXSLPRofitlKgXeOMC8YpcX/tmB2Spm2bbi/V9KE5z3jOPLRRy/45vU3fPbb3zIMPS+fv5D9iwFtoRt2bFpLazUmTaRl4n454r1lu+m52vRsur5IqEjgN/QNfdfQtw2bToI+ZyXTpnLCKOg6X56RmZzEIk4p6QLNSkqoEmeXMmmm+McH0pyKW4suXPBaQRMRd1VyTTklrJZAM8di+YY64SySl6i3sQAAIABJREFUPUw5kVMSnCtajykntGuKKUJEK5EuOcfszMn0QBoFKXNKUNtaCWiHTcfxy3umacY5c4HZV7sdX33zBdMcMF50auclMB4D3g80fcdh3KONYowjKRVupHOMJRFBiKLTp3kSs80ZFeG7Yva07LG+QWvLOB7ZeKl6pRC4vtqVBJZI2uTMKrBNtRgElLX4puU//83f8He//CVxWTDO8b8+/ZT/9g//gNOGfrt9J058q45fzplvvvmGf/zHf+Sff/UpOWf+6q/+ir//+7/nxz/+C1zpwOmLCG+1Scll8jx2zjgf37ayuwhZa/CX1/+9+13nK0jU5QXIj+2BHm/rspx8vi/nu3oOHuddaO/r7qkr4piEODzNEylHvHe0rSspbFtESyXrZ41Z5VWmsazSnKcZdrT9Fco2jIviOEe63XNct6EftrRdj3XiX9gNA90w4JsG6zzeebxvsdZjrZMOsCKPIuXdcr5VLvZiAhQKAT511qGnAWXUxWr//NydLHDq5AeNJqt81jF3uXJau58fnbsKIuKxWcReo4jBxpiLMbeAVc6STYwhoMnFVcUQYmCaJtl3ZTGmyLNYSwgli5ES1jm00hyOB4yRjrBlWUSWIUaME7LyMk8o48kojocDs5D/Soeku+DRcdaFVRcW5/+u5bY6p87/ts6fR3NMIyu/8gIBI1W4McaAEsHQiLiI1EyLWGJlYooYYLPZ8PLlRzx79gwhVxvevHnD7e0t9/cP3N7e8sP4/o/HmP3pr/75ArP/4sc/xhY+6rsw+23nDC7+/W0UhNNry2/yBzCmzrN9jzA7Vx5PGe9G7MvX1czV+rrviNm6+LBXzI454bzHta1YYdammCTWa6Y0RHRdQxwnaZBwlt3QcNW3NFahlpE4H3m+69h0ju3Q03ctrRN3jWHoGIaOpvF4Z/HO03ovZU9rMdpIOVmXBfM5TpdSpZLOspJgOD8uvWL2JSez0GuUlDPX85LzHwWzc4olKEQsPmOUhgVVqDxZjBBCiGQkoWA0F5htlQSoxlisTZgSZKWUcc6umK2NWTF7WQIxHtHOEGNkmhe8kUD5cDheYLZbOeusCaSLuXIW6H1XzAZdSu+1cix8R+FliquT8Gwj5GptKNdWAvYIGDabDR+9fLlitnFuxeyH+/v3Yva36vi1raZpGu7v7/n1r3/NPM+0bcvf/u3fijaPkZJi3/dFzNldRME1V3d+Qz1VBng8VE3tfUDevm7vPGRbP0M98bp8Wdtf9zLnWn1Y36ueUt994vPrBIjFaeH84q/7lTVaQygp6RDExFq4lC1xkdJa13U8PDzw8PCAcw5nG6z1LCahfcewvWK7e06/3aFtyzEoxiWhfUvTDjTdBuMcKUurfNcPDMOAb1qsq8GO+CgqLQFCDfzO913pcoMXMUuNdBVpAHVeomHN5tVsQTngNXWekYdSzJDSqbxynjV4F6/oomyehUCesy6C1JJRvDzvrGX1WMoLdTvLkjmOk3ATjUVbKxIKrsGFBbRkkb33eOc4Ho40JcuZw0IKM8cQ6foOrQ3TYY910kl3OBxK93ZDyFlEN1Ups6ZUHGZk/6t8Ri7lppp1qOfkcRnqYj6dgXIuQp3Ca9VSUlEirq6NJytNpBrYi2gqqhCyEemdnGGz6Xn+7JrGS0egUpkfvXzBT3/yF/zmN7/hZz/7+Fvvgx/G//+RUkIXw/qnMFuoOlZKin8CzP4wxL7ECMp73ofZnOF1xWwpx/Inwey6QS3ARc6BEKTJTCGZ1bZpmJfIEsNbmN1YJx3BZqHzmqvtwPPdlt22p7UaFY6kZaT1mqFt2HQNzhnJ4hnN0HcMw0DbeKyTxak10hBotMIYtQZ+5/uea+aznjZ0Cfq0/K4eo1JniH1asJ8x3eTdWku5uFav+P0xmyxJAZ0zKkfJ+j7CbJRay+pSPj5do7wsTOMRRcYa6cZ11tA4yxIcSUtlSRzEPMfDEeebUu7NzEHs4Lq+w2jN/jAJP9GaFbMba8k5lMyxbE8aKMpxlXMtGoj5D8Jss07W6v+b0CrRNo14p6tMRjLjqaK2OpkbxpLA6jcbrp89x/oGVXj0L17+iL/4yU/5zW9+w8c/+9k75/97A7/9fg9IiUdrTVfKgGKd9bCmNK2VEuX5yhFk5aB4GzzOvz9WfX88iT50ZC4npFKnT36qS6x+Xq48znU75b+aGTz9771jTQufXfyT9RxwVnOvD34hZhroW5y3PNy9ka4nrRnHkcPhwG63w1pHyqCMxzYb+uGG7e6W4eoG0/T0yTKnLKrmrkFbD0ompQR2TuQflULrUl48y86dB8Lyt5I11TXLWa9XxlsrXsbq7Hyvrzhx+lYkzpfX0YAIb1aVfVV5cKzfU5VqySfbvtO1hVVuR6t13wUoDCpLJlBWjYAysAq9yA4lwDpXNO4cSU8CqMaAkTK3MwbvfCF2a7xzzBRD+BjQRuNbz93DvYBAUfIHcN4Tl5MkRj0Vb6X9z87L+X3w1Lx6vHKsP0uGVnT5VAnyMgrfDWAsSYn/csyieZhI6GIPp3TGomi88Iq6rpP5G0Uke7PZ8MknHxNj4D/95V8+uX8/jO/X2O/31KL8+zBbWYsrHY2X80r/u2E25Lcwe806vQezH4P2OWZL5Pf7BZ9PYTY5FSmm8tryN601xjnaHqx3vLl7eBKznbWQE94oNo3lZui53W25uRroG4NNPTnNWCXUFW81pmCq0QpnRDdPKelClc8+Ox9nQbDWpclMqXWxuaKdUljryaXL7HS9SuBcD1GdKWTkx9exCFLnc3y/RO0YpXwvlyet1QzWbZ8we80mKoUp2JWTCCuD2J9dIjaA8OCdczhjmLQ4MkllQ47EGId3XjjWSuhVMBdNwrRi9v3D3YrZQncB713RUrz40Lcw+/y0fFfMNrV3IefSrCHuWkPnsQa0SkhjTSTlKKGfEvWKrIWv6HwjjUUFs00ULu9ms+HjTz4hxMhf/uV/enL/4AM4fqBYloXD4UCVsliW5Sxav3xPbTOWg9YXJ/ApEHlq1bC+5gNApE6/tZ5Qg753RN51XK4eH42yjFxx5PfBsieOY20RzxkUhQvmcM6TNSjKeQ0zMYrS/uFwQGuxLXO+JaPBOIxtMb7HNRtcu8E2PV43tMWRIaBJWXh52hiscaXpQsvkDwtKFSJz4bJIBihKSn89f2U1oiTgKwSN1ZNwPfnUC1CCCUr3KHUVnwuQyK0fyfJxiLSAtG7UVYyAR3XLkRCsble+MqzyDUqV1VHKVD/clBUpysocJd1pOknjRU7CdTNaFekBh7ZWJE4AZWpALOVpYwwxZ7w1mAxIbxhGIRSHxp+pxIvKel1wKFW0v4wRkdPCjxGwqIAtgetjAFFnc/hxeer856zkzChkP7MxxCTWfL7tyFqTdAn6UhROTz55UWol+9B2nmHT0fUt1pWO/GVkGDZ8/MlPSTnw8cd//t1vgh/Gv9to2xYFK2ZXKYtzzH4MaOeYLRmI+rLfH7M/DCsFtSts1OzO74PZj0O7WqypGPuHgLYEt0WKqXyUMaV70jnRUUMyPnNYWGJcMdtozdUw0HrRKnVGtDZ7b9g0jk3r6BtLoz1GtcWRIaAKkd8YEW221gg+xsAS6qJdKkYoJfJV9XBV4ZzVZ66qZcG6/+L9vZ76ct5rojShzhzKZDtk2YZcpwipBIaqCOQXOo3Iy+UV8/MTqA15xWytlAQx6eSHq7IEZqE8m4w1kDTLEiBlwdXSaOicwVpdEDuhjZSra3lasnDi4UwWYeiIAmWE4nCG2caWqldZcFTMFgcqMNpALg0oZf4pLY0n3xWzUXJWDMJtNSajUkTlSNd6tM4oLdItMUVRv8gnz/es5Bnlu5ZuM9D2HdqJHM24zGyGgZ9+8jEhJ/7843dXad4b+DnnsPZkyh0KcOScCzfEAUoUt1NeAeRx19dFFvAs01T/fW4AfnESK4n4fTtZHrSpPAjr+88/5/yiVEB4q9RbJ3n5vIofHzrOic+PU7x1CDApafNXCkQ+WIIrDSBdqdM0kVJmt9sx9D3KOCIGbRuMa7C+QzkP2oH2GNegjSvG4pElZrTRuFKulEBGckEpn3TZ1syjUhh10gGquKl0PnW2lwmbYijxdTnH1H0/P1vn2dKSpSsoL8GeFCjF7luGrg+CJCvYE9Oi8PPkJ1RWxLU5ggsAq+c7nQWGCghJus+yEsKwE+1prLVodSKAK6XR+rS6M0aTU+2iSqX7S6QaVHmNBG8yx733pXMynK59WVjUEpo6X/2eZRzO74/6t3POyOORSzY0FL5IShltDTFmogbXtGtpR05rXj04qwCqdK7JA7/ve5rGozWM41S66eDm5poQfkLXu7f24Yfx/RvOOaicsxiJ8TQX21YaAxQIx+oMr/9YmF3vB96D2jVjlHOiRhzvw+xTkuttzD5VevIpSvvA8SGYDUVSo+BjWbbJx+jy7yh87JwSu92Ovh9wRmGINFbTOEPnLd4pnAavoXEikuy1IoaRHBfJSHlJCGhVOG8Fs6ukWc08yqLXnD3TSkZPK6qGVF0Yhih7fQqslTScXRwlXKRKC2jXYC+vaH1C7VxQOqeKW7qeHVnwc8LslOuio37YaY7ks6qOLsdSMRslvudYB1k48OaMg6qVIp+VoLUx6CSZuZSl8pOi6A/KnMtrXPEuzJZTfck3/WNhds4l0NfSMGOsFq6jjrSNo1Ko5PUiG5ZTXo0GMhL0V8z2TQNaRMFDSXZc39zwkxBwfffWPtTx3sDveDzSNCd9mHpjLaWMVQmKNei7PMBTAHV+wt5O7V8CyeUN//TK8ulxmfHjLMi7WLk+ftdZhLf+mNfb4MkL+NYn51M32GoVc/Z7QHgWRlLxqWhpHY9HclyounDlKKQzVWk2m82axs8JjPEY1+Kabg32srZQzKeTpPKkFFuNuJUhKxH+Nkphi6in0SXjo6SUYKtgM6wdTSL2SSG6lLJ9rKKRkpHTj1b5a9B4dr5rc0XOsh9a1+9nPJAEUdZm6zWrAJ8rqOfTjVm7imNRa6/ci1P5XkEpHyxLkOtjjAijmkyOp9KNfJkCIPIQdNbivIUgXJRUBKQzGWtFiDTN85qxy0DXCe9vWRa095w//NYS1fnxcbpXHs/T93ku5lxLW0VmQMvq3xhLIpBRK8eTDElDyqWbsjJFVJLVZRZS9NXVFdYaxnHiq6++OpUQjPmhseM/0Dgej/IwoEhvFEyrmF0bgWrQV8dpHp7m6Z8as9/O+J0SdZcZv7czf6fMlWDT6SPfzhQ++dkfgNkqZSkjahFAr5i9xJMuXD2SZVnQSq2YLYkxcQNqnaFr3BrsWS2VE6tBqYQu1Bfh7RlMWWhT/GO1sUUdwJCVZH50cSe6CORUySBoXSpJgtqpVjCVBA6qcnnWoU7PzfLv2lxBqcTITqYnMbtejMeYfZpOp+08xuyVxlPmUUoQQiQsS8EfDcqSjRGP4POSu5aFuti9Jax1WO/IQeZ+CGnlEzorFnHznM4ydpmu64qRwoL3+mK5cgoCT3NyTQ59R8wm5xWzIWKNIZBQ5JXjSQZ0EmpOzjU9RFKQtTTrWee4urrCWMs0jr83Zn9rxq9eaLlJzEpoFAHBMkmKovR5ql6i+CyrgrdO3ulkvCu1v4IIJZ57xz4+BTE1IyUVxcpdOJXhoMQyGdFbO9vIhd+vyqVZAU658LP9P/sKMWK1Fo07JeXdC0uxkuWS0q/YsB32B3IKeCsSL6EEVfM80zQd1jmmeUEZCBhc68Sf1ze4Rrh8SmtZBeRMzCfvQ/k9hYgq+2FKN5RSYuGWUzlGpYqMgmEV81UKrUvWr6bvcknDU/6mFBUGVtkWpc6CwZpBLFCQ5XoIUfjtB0QtN9Ubq+pliURD4Y2Q1gdGSpmwBOneiuG0gi/zMMQg2nrLJHyKwpNBxdNDTyvhyVmDynL8MUT6oadNnax6YxT+SckiGmuJMREnkSHIKUNW+JIFH8eDSB/oy+Mh1W5aEXeNtcuX85V8oQaUjF6VWKgL5RM0K7ISqRuNbFsrLcT2rFDWCiSrugYXYrXO8vp1e8bQDxuePXuONZ6Hh3u+/OIrfvrTn8gDgkjjW8bx/dpuP4zvx3iM2ZW7eo7ZipNzy1OYrcl/EGafUPH3Q+1aBVG1OrB+dl2Z6xJIXD5Tzv1+peqj14wXb+3FCbVjDKWpzUqGKGUuLMXIQAkKU14xO6SMsZ64BFLJqM7zTNc0OGdZ5kncMwi41uGdofGWpnF4W7h6yGfFfPIYl0RKyX6V82qMkS7W+uxKuST0NLqUK6uYr1qDvhLIlcM1VnxfWTOqZX7k2sV9CgYFtitiS9ZPKCqnCtz5eAqzK8cv1S7ees6zLDgqZoe4nAVLesXsZQlMSyAXGzmlNVGdBVZaXE2MFT3Ac8zuUkvOovIQgix8tBLB5xQjyyR8upzkuNrW46zlMI4YbUlaXRyP6N7LM+0cs+UZeMpSy9yRuVilzB6j9jlmS9MNK2ZLBUoBsQTohRqVFSnrejcAGWMUm6Hn+bNneGO5f3jgqy++5Cc//alkioHWN+LU847x3sDPGCPBkaq8p1M3i5QI5SLkKCn7TCLEBZCDX1Lg/QDwNr/pIp2fTyvUNe18liKu6ehYAa1MklzSvDlnYtYsKeK8F9ACCJHW2CIcmQsHr2qbcdb9VAOacnwZzhmBiVJeVqCdBaVYUlp3LwNG6bVzR6kiL6I0S8iM+wlnRAh7PkykWRwv8A3WOg7HkZCKdU3bSWDZenzfYr3w07SzZHTJRhUuSLmRa/J9LS+jyVl4YJmEEH41OidMipQG2LIyKVfu0cpGG4VKBfjlBeXhIeLNOZ0aM1Ygoa4+K5hSfqrnSp5GxlXF9aWUpCv3T63BbS1Zply7dmXFaJRkU1VUwr+hCJLm4jyRM8bK/AjzCCrivcU2lmwUUSnmJAfdFHHn1neSho+ZHEVp3WhFNuLNG2JimRNN69ntbqUzu7xOSgpqDVJl6HJOZRGtUKXRQtbYanXXSCWbClarVUpHlNzlDGoga4VzGvJCYxwqBLyxLFqjrCVZDUaaZQwRExdcDpiykl2yxqDp+g2bzRUow7xEfve7z/no5UuMUSyLXNvD8fjOe/iH8f0Z55hdnXTOMXvlwkbBrkSWRRNI9iEt34LY78dsslorQblM/jPErpAtFQ5V6Saq4GvVmYvEtOB9dX3SxADWtEW2SZdFINLUkBJriUypU5ak3PdnbQsrlqPAFqeMlJazezSXEqp0yGelCEG053JYmPZj8R6PTIeZMMvitPHC+x2PB1QKYC1dK2oJvrW0vcd5i7Ua6zQaCYw0tTGtPCdql229hihMFh5YIpeGAEhZE5OhgnbFbMlInTJwSimU0cUmDcHSkmGVJAXEVM99TQReovb5kzeVz6kvs85grGaZZslkZWlKkFNct1ucjgpmp1hlrcyK2RW1YxSLNUqFSFvxoB3nQFRgvcc2FmUySkVymlfMttrQ+TJHIqSYxdFIG7TJWKtJMZDmBd823O52tE1DihFrzYrZ68OPGiLLvCaVbKaqvxVOucqlAiVBCEpbqpSOHH8NADVKZ7RzLBmcaQhBYY1H6wVrFdomMOLwFTEs0RCyI2fRYdV5QWP4f+y925Ikx5He//OIyENVdffMYE4gCIKkeFiudmXaXelC0oX2QtIb7AvoPf4voHfQg8gkXa6ZTAejaW11oi6IXXBJ4jTTgz5UVWZGhP8vPCIzq6cxAAlKwpohYYWZqa7KzoyM+ML9c/fPz7YbLs7O8AJpGvn4ww95/vwZ4j0yTabreth/7hp+o+EXJyutHobRWA0W72+aJmJKNMXbappA2wYL4xUPJifLOXrTcV9YYO6bpyVWT53TunoVQ2L2Wpb+osoSflOUSRXXNuZBKEhSOueZosmTUO/NybJZS2FiSp88M07WpufiValIyWMwI3heNmI5F04E31hMf4oTQbw92ElpkPJ30zQyMWMzYm/3RxKm47fpPU3f0W03tJse3wQItqiTKnHKiHczaFf/QKjFGEbfx4J7Lit4k/YQZ0ULWdUMETH6XLISnCyhXxyaQPICLM4Vj7J6RKUaaTacmQdjHrtq9FWg11yYgtIwG4knTO3s8KNktZyVlE0WIOfifYlVh1Xwc+WOg3c4PCmZCKhzwjhYtZ1vTTdJBbIY9DjxNG1vSb+qdE1L1gje03YdcRrJKEkEVY+qo+s2XDx8RGg6clZC0xLLdS2sgyz3ofY/cbWqbRU6WO56nl81cbmul3l+qbVqijHSuZYUE400lq/pAxpMeysTcSRkGvClzR3qyOLBB7p+S9t2pJQ57AdevLzkdn8ov8+u6Orq9g2r+Jvj63KkyUJo4zDci9m2sZq+ZGgaQttaGE8sFcKnoq/2huOLMJvC3JkRskB2dfIqZi+FZABL+M3ChBNNa2krqEOT4F2HxgnNJVrBgtlUQ6+YELnuD7MFW0oN5kiEFnY8k9OKlREpUQ6Hazw5K1Oc8BLMYJkSQkNOiTQltOS3VwbouL/Fk6xzSr+h6xs2245+0xIajwRw3qJkeYo4v2aFFtSu+cnG5hc8zI7sbX/NTqwWVEvFp9GBhqUuzKFfh4OkJ5iNcyeYrZJIuhjOFaVlNXbV6KuEilT9PW9h/zhvj1Xua/mmaCanWArM8rLHSX2+zKhXZbY8DlLCh4A4Rx5GxLf4tuqTKiJWlufF0bdNETwW2qYjasZ76LqWcYooGZGEV8Wpsuk6Hj28oGsCmjNtE9Aci0FbsXjBbIqzbEoX/gSzF0R2q/nl5jDxSTGSCuKtqUTruhmznXiCF1xQVJRIJuEYJiFljxJwCl4ywcO27+haU50Y9gcuX77gsDeMlrLYbq+uXl+85Xgz4+eEPC8yIcXMJBEoHmN5aM55uq5ntzujbTuGYWSaJnPE5mDg6aGrjQwWcDr5DLqqGlpelcKuf8yhDar3yUyVz7IlFWTKIyhO34lnu85zmYmo9TMrE0FWLFW5+MULnr1MWRmm1dM1z2eqiazewqazGrdzJRRYVNWnkUyDbxScZ7vb0W16mqYpOR92pUlNt04kgxO8aOm7uPa0lxw7KeCcpYQVsoFHloySqrVoCu8zgVnM3SwFMO28KessZ2CgeTqeJ2Gi1RifvuYvzNc652lqnhFcWXL7cl4kA+yZ5aWdUk6lSo5SaRtKOMUjpfFhDSHUeeG8hXA9Ge+s6CPqZFI6SXFNS06ZcRwQSo9J19H3G86KYLb3YfZU1SDsc5iTGU2We66vyu6tQ2hljrnyvuYa7lZU3WIMZuubOVfBWZwdxXId0zRBykVl30C/63vOzs9p245pmnjx4gVXV1fsb/e2fsXA7OWLl/feyTfH1+sQ55GcCzsBOSaiTLaEUp4x2ztH33Wc7XZ0bcs4WAcFcv7cWftlMbtW558Yfay9wCVcDOscr7L9u8UgXEK9whxeWV3fOp98YQMWbJbVe2syy5i+BbNVy0bPqjilsIeWZjJZZMHb6NSuN64y8iLEnBinTENGG493sNtt6TddkY6SGbMpena5YKZK6ae9Qm2pDl9hjURApYZRzUnPkknlHsXCAIXIWJjWu5itOZ1g9t1+46fP9T68XnCrYve6EKfYwbMhWHP7ct1ryjkyzJhtURzDfOc8oeC/9760mWQlacOM2SGYmoXlRjomjTQhoCnTNo6cMsM4AmIpVE7Y9D3nuzO2m57g/RwRssS0u1bBPEXqDFv2q9lIr3/mk2/YMDqkPLPqCLl5zzLbSryb1SakGCYZC1VPU8LIcTdjdt93nJ+f0bXta5hNzkWNQ96I2W80/I7HoSS1RjTDOJoK9sV5ZhhGhuOIhQ+VnJS+27Dd7NjfHuxGq/F1Z6HOQ3MHOO7mkgicbHIrFJknsRkb7nRiYl5NbU6+Tjw+oaH0lEGpv/c0ybls5DW0MIcvtVRG2fnmkOj80tXfIcapUOllQrct3aZHa/GBZsQLrog8W+LrBN6MEx+8yY94DyKlb65djwIqy4K0MEE1VIux6mS+l2UsajB4PQKuhBi95VCUFazYhA1Ng+TSDLrkc6TELBXhVh74ffuHjdfrzoCWZ33yrDitLrz7jJZEbGNlsy6GH+X6HMUxULcwA9VrFcv9aNsWNEGacCqEYE3mU4zFq2TOg6w5eFkzfePZbrecX1yw2fQF/GeZ5GIILnN1YfWqJ1EZkVOwrXlX6/tctwmy8dLSnrAYwsahIpgMQU1YL1h6UuEpZacTMRB8+PAhXdex3+/55JNPihDt7XwtOWc++uij1x/mN8fX7hiOR3Ky5HiyMo2jJcqfXzAOA+NxwFXWLWU2Xc9us+Vwuy/rz87z22I2yMkmt4bsNWbXHN95LaI4V40+d4IDKxJqxuzPM/60wo5qYTwXls+ca2bM1pkOvA+xxSShVOdraFtPv+mIUW1MV5iNK518suIMovHB5EcMNzCMmQ0CnTHbthvD45mVLJhd72VOtZH7ENtuzLtgucr4wgCaY9g0AbLMmJ1VoYrbUwiHOdL1+pwSjAR4/VCqmPE6J//LYHaGQuoshl9K1RgvBRzKfF1rzPalW1hSmBKIWurNXMU7G2KWB1lz8LJmfNOz3W65uDinLxqXOceC2Nlyqt+A2Vom2W+L2arJKuq1RL2KYuEas6uUxlpJRVZ7d99v7sXs25ub+Vq+CLPfaPj99Kd/wTiOXF9f8/Lly7ma5vb2lp/97GdGV5bcufqZWlUiJS8wTnketHXl1HpC3Oc53v3cPMDzQNtg1KT4rGoDevJh2/XWjcOlGH4loHDP76yvxWOy1KtiyBbD0nKy7ILmv6+u0c1Op50lpgmRUDR3hCCebrflcHPFmCZSrZiqC6gk/npveRShDUTN5lWmZL1hZ0MSrOTeLr4aAIZvahW1VMAo/5UCg0Ww1TzqxdP2hX2yMFDN2bAk4JWK+8o7tYVfPPjiRd13VB3Aud2NLLlwuTB19TpOwGI2ype5VJnpLXmTAAAgAElEQVTMeajLhpNLxRirZ1/Pn3NmjCOodejo+h5yJI0OyUrjPdN4IE4jWp6BOIrHb5p5zlkIom97+u0WVwScY05ITe51a9Z3PRYlPWG56JMxXO5LX1sDd+dwZS1qGAYxnUhXjFTUvNhcNkLLKyysoUDX9Vycn9M0gXEcefHiBeM4cjweAQvl39zs+fjjj+99lt8cX6/jL376098asy2BXchT/J1i9ozaYthTk+ItAgKna8BeC+v3xZhdQXt22G2hoyXvTwt2acE4qlN80uGjOsJLQeGUIkHEcgFzxktgu+u4ujkwpdE0MZ2b8WousPMe31hP+KyRlCMpjeTcmANaMNtVfFZmA6Bitki9Cjdjdi0wqI0RhGojFDKhGoeY5EfNjXYipV/3/ZidizNc/MF7j6oDWDG7Gq8VU+u+xQq3KjFwH2avCZxK7KTaA9id4twas1WhbVv6viNmcGNCs+B9w2GcGKdoeeGlR3rFbNVUOp0Ifduz3fZ458hF3zT4cm0lTn0Xs3UeNzmZgV8Fs2u6E1KKeyqxoBRCLc+YLeIKmab0Xcf5+QWh9JdfY7bYQ2J/c/NGzH6j4fdv/s2/4XA4kFLik08+MQHLtuXm5oaf/vSn/OxnP1s2fFX2+z3X19fEGAu1XSqV7rTQWYcM7lrNrx0ic2hyHsTyJCoTI6vP1OT3+essVZ7zd+cLeR3Q1ozQ6XUtpd6l2H0htZQSWiyGJuukUPNsQgioeBBPHDOhbWhK0+ipVj45WQpmNIMzPT7XmsGYUCJCVHtwFspzGCOnc1/d8pvJlIorqWFStTBQFT52WsagsEZ5MUlcKTQwLLQJLwpTjlYJXY5TSRS30gn8HJAGKDl9NS/IwreLSOa88O68qt5YfSaupCJUgJudgdVDXozI1eJTZRhH2oB5j01DDoGxPD/nhDRN5GSVZ04aM+ByNp00sLZsKdMWWYWsWIWfyLyJ1gvRIotQnQMD9tONdX2ceIlrVuTOd6wKbsnHyiVMZ22drJIvrzxPtORVwVwFvNn07HY7QDkcDrx69QpV5Xg8lsIZePHiBZeXl/c/y2+Or9XxVTG7KgLInaX7m2C2TbVlHc7h2kIpzYLDNXw5J7/PZ6BWeS6h3nohr2P2mhFaX9eMwVCcdTdfg+HyilFkhfHF2zfNuNJJYow0bWCzbbg97i30Sy74WApmVFGHhSBbK+KwrgwRNAKW9F+3xNnAm8dQZ8yuhp8Zx1K+42bMng3dIjElKFnLc3OyRLtVrGBnFWW5D7OrmsXnYbbkhUlyRdolr/bL2cH9AswWZ0Z0JRKqM3AXtO/D7HEcILSEYG1iQ8iIjIbxzjFNiSllphRpihFvPXwNs7sQyCniXWvMXhGOFmFFVpUnISsmlt8tZtfIC5SqaGqot6htFBJoNgKrQ1KqgPuNtfNTeA2zc5Hd+yLMfqPh9/Ofv0+MkymUjyNt2xqVmjPX19fs94fZo6pl8KomuFiryDSdsnD3UcB1YO56l1oNvrVhBzOb5VYT5jWjzk4w06NLeHMBGS2TdpEkWT20+gYUEPLln2Z1S9b5S7PnVa5tAZLFR226nkmVmCAJNLst5yFwGI/oq5dWBOLdIrVRxlM8BipCScL2iHfgS4/d4s0kLbqKIqc5G9WQLSAC9XyZnB1ZlJRKqEWyJfti+ZKAaQI680CEPHtjmpfnXfW8TCuvykPc8ZjWYH33OZU3dQaRsojugEftq1mNOdsgZGEMV8fSls6tPr+eGhamSKUi0HsL+5Iy3kFOk+UKzi3OlnnmyrhPR1NgolD8GWPbfNOU8VtyP+1+6vAXxvjOprbekO8D0Pqz+jnvMUOeen9lvq4Mvfp5N89Vpe4dbdNwsTtju9kwTYmbmxs+++wzcs7c3t4yDBPOOT7++OPCAH5zfN2P93/+c6YYTzA7xThj9mG/r5bZLDd1F7Ot2OH+tbv+9+dhdoXZxfgr81wKjtw1CE/Obf+7G+qtV1AxorrWrNYIhT2DkprhnP2cYmhlWX7HzPjVayvsPNX4UfquQXWCFEES211DCOccxwMvX6lVaPpFamOW7/LVYTa89GIFHd5jGqqlIA9NZa1Wpun0HpXlGYmDLBmXMypWgKMIuURuWKG2qu0BhtgyRz1yXp7RGrOlFNXdNfxOn/s9qH0PZi8kwilmz8bcPG9eP2fN4atO832YrSWVRwXTqg3BdAqdZ0olVxCrvK3fNqx0eO+Ix2nex+z+SreUxsSpBe7FbBFXyIVTO+M3xWy8N7KifLeOQGW46/jNZJOa02LpUUrTtJztLthstqRpeg2zp2H4Upj9hXIuIqaWrWolxjDhfaBpWlJKxSDKs0huvcGUMiEoDj/f/PoBrgfuvqNOprqS14bY531PsAWf3WIMVEt9trzrd9fYtnYoK4ionkxLqSGA+j2lGKN6Z4KszgUkZTYChpysZ27f8fD5cwsp5sjLFx+bIeccokVnSDNStPGyZoYYSXlRcddijJpen5X6+2r0zZbo4jWqKOBXt+pmI7WuwblDhjLnNM5lKsWrqhpU+Z4JXier828w/PTkMc5gkbMJVqpaL0PqGVa/o4rOOi+n31+N9/yMWG1IebnGCkYhBHIaGEshEqo0wUPpm5hzIqdI2xh7lzHQGYcBnCPGmtNoAqs4XzYsA9AYo7XKc8xWdA3vFpO15DmtPrAep9Vx4ghR2c6yo5Sm8a/9vDxILSK0qmrh7yJx4xA2fcf5+TldZ4UdNzc3XF1d0fc9t7e37Pd7mqbh17/+9TeG39+SY43ZlGc+YVItbenm4UtqTBXJnUN+KaHBKiq/CmYvH9WTtX7/9woD6Jbw4V3Mnh28L8Ds2TFfvsUMOFr/KqWVma7Otb4uM8iqEZDygCPT9fD8+UO8b4h54uMXLy2a6KxF4iI3JTNmxzgUeSuLgjjRIjospae2CTQXQgedmcAiRybKouJZTd1KXtgHZQ4j6JLTWFDbbD6ZtV5nFYU7mO2gGLCfY/gtoLq8X407LdIsrnbzuMv2Lcbl6XnvoLbqCY5ZtfTrmD2kPGO2KvjQUFSELdUmZXzTFhy23z8Mo+XNl+4c1rDA4c0vKKlHSozRnP87mL0gdkktK07+a+N0z3t3MVs82GXIaz+fDT3rtoCqhb9TqsWajq7f/E4w+42GH1T1dwsX1Ybe4ziy3+8REbqiEl8vPgRTE7dwl19Uwz9ngO4brHnBq84G3Ots3mqSrtbw2nObz3H6tfkveV4Ir5/89L1q6FCtIhaPOZUJIVQWyQWjjaNGq7gVmGLmZhzx7YaLBw95+p336LuWy6srpO/JPphCewaSFQ/g7f7HFHHRRC3HKRFzCes6b2OjS1VzXV5yB8xUS2KwyOJZOTMe19VSddEmTeaZuIyIs24XmZJzsFhv4paih5rvsv7962f6WohmBdgngEQ+AY21d6oV4FYe4+m5apVg+Y4awKJakmXNQelDx5RHpikyTRO+5K2IgxRHNEfrqtJaSABsLRyPR5quJ+WIhI7QtqbbVyzojCWFT9OEb8LcoxJqWkLZkMSe1sKILJ7e+n7ujuEyzctmaIlC82fWgL5moXPOc95jzgnvTORzt90Smobj4VhYvoEQAvv9nqurK5xz/PKXv2Qcx7uL5Jvja3p8Fcz24ubuPPCbY3aBbLgPte9gdl2/6whJPcdrXyx/5Hl934Pra3wBdNaVq2oA9l4psZgxu7bOciJEjWb4SSLHiXG8YdN6Hj644L3vPKXteq6uLul7IfhM8KZfllO5tlLYEdNIjI44DaTJ8ESkOrWKm9OfFtRer2/DdYWSh10jGEvHikWVYI3ZkjPZGdao90UirASDKznhZC56qHnlp8/wizGbO45/LtGNdRvA+zBb7zlXnv+s7+eSd8gJZnehZ8wTcZqKaoifI1xjtH1xSopvpSq0zZjddw0xJ7ogpt8aPLWCVrA+wdM0ERp/gtmLsHXJkywTdm2k/qaYXQna+zB7zUIbW5qXyJTzdG1vLQGb8JUw+42G3zRNcx5AvcB6o23bzu+deI2rcm0Lk4XXBmXtza1V49cDVWnQ+2BnOX99Q+bPz+Hck1CB0DQmBppiwvmAomXyZEimbVYNH8ttWoMf1B6u5hy4Oc/N1W6zHvb7PQrsmg4NnvE4kbIS+o7ctVzf3HB+1vHOD37Iu7/3Yxrn+flf/xWT82jwBG1p1EQ59TiBD4h3HIYjDcpUNLqcc3StSQSkIrciIkzjaCDe2qL2goX2MM+wDo1zNZm0tGlbJVJXIUtHnieeamIcTY8pBAh+afE256CUcGdMixK9sniWtXtATAkvp9OuhgNitkqz7Ox7MZ2GJOpcyPOzn5efAU6qHTmW1j6aoim9+2BVd7V1VZkTTdMQQ2D/2Wfk8cC29by6fMU4HBCUaTiSg8e3DTFNJgnQb00b0jm6fkvOcDwMdNstwTfEHAltM88vh91/G+y+c0qkqKUf7mmP0rU47iy6u1ofde5PcSpagYYVcYw0Tc/14cD546Wdk61J03UThDa06GFPTBPBe7rOtKA+/vhjPv74Y7quI6XE9fU1//W//ldevnzJz3/+c9599917VuI3x9ft+KqYnRGCuN8as/kc1F7OVT6ry+dr6M9e92N2KHhS11RKoFT5JGM2152SUJ17uCJFmqo4yL66xwWzQemaHT4o03FEc6LrA22Xubm5pjs754c/eIcf/967eNfwV3/9c7yb8EFpNeC1ISWYjkrwFtY9DgeUhjhNr2E2eel0NY6ThdnbWvThS1zAFWdyAW3nfcmbP8XsKhifcbODl1TRcTSJlGCkQsWEmutdMTuV3GTn/b2YnVIkrHqa1zmUUiqFKwl1xdgrRlrF7MWYt+KVBbFN/zAVORdlyT2MScEJwfvPxewQIp99tucwZny75dXlKw7DiCIchwkfMk3rmVJkHEe2fYeqrY1t30HODIcj221H4wMxWw5nnV+COUIh1Ja1GY3pK2O25pLfJ0ocI33TcDhc4x+fL21TxdjLYRhnzN4fTGjd+0DbmebqV8HsNxp+wzDgnLfG9k0oId/SJmuaLNRYaOe7TI89b5n35vs8x88LGfwmhy36Uhk6W94ldu4cyck9wHT6/crC3AUeKQaGfa2Ali45gdWrVVUOtwdCa4KoEWEcJpI61DtGnE3Qs3OefOc9Hn/3PbZPntI44eLZc5rdGQlrtdKoyQOYRE3pEeksvBualhCaYkybMnk1gZwzY0xKWXhwS5GJFI8FteThrHP3P4x1qonUpk81A0ppFVTHyaEcjzdocmgw4DDpAjnZBGo+hbIUFtTF4F15XnCysaznRP18bXG3VK6WeTRX6xV9q0rFl/ucczGkeH6lwq+Ok3cNMY7kaKASp4lcmnmnqKRpZDoe8UFomp6+68y7LobrOI6o72j7xgRGvWnmxWxCpSpKQJimsdD7du8WntB5Xt3n1Nz1EOs4feEhFjqW0g965hNypvHWAUBLInPX90gW9rd7fva/fsanH37MOAx8/PHH1vkB+OSTT/jss8+4urqae0B+c3z9j2EYLJQVggk038Fsvy5yu8P0UIn0/0uYbXir85owhw3EpdcIgLvfryzMXQdfK2MitTqyEoFLqYeUcxxuDzStNR4QItMw4jThvOIYyeOB8zPPe995wnvffczTJ1vENTx/dsHZrimInRBtigyX7Rk5JbKbUDVh4CYEgpR8w5SZRdqdw3vrBmQao6FcnVuwTDnB7MoP1sgNxUhYY7YUI01VURw3xyMuKTkU/UR/GsoXWfKW78Nsdf5LY3ZtcbfgRXEqykaaZ/xb5ftV1J5Zr7woaZRxapxnjNG0hCeTlUvRtFs1JsYpcTxOSPD0TUPX9SWVBlIx/jqvNL0Vh3gviCg5R2KyVCghMFbHqaQTVcye59U9qP3bYrYIlt5VMLsuPEtnahBKvq0Ifd+dYPbHH37KMIy/NWa/0fB7cPGIGCMxRqYx4ZyWfq8Nzpn6tM46Po4vAoXqedYBmpXev8JxQh2v36wTW08ThdcPbqa+6+S7Y/jNHkoBJWMwl1OIrn+/4EKH+MA4RSZA2o4M3KbI9RR5+M47fPcP/pDn3/8hebNlP43I7gzfb0g4JhVaFTwOj2dSIUct4QPHdmsdFmpbplwqdOtYOjGjz9Te82J7l2ph4/9Sof1L3kfpDThbuGW85qqv1fg6yvNfGdPrXsB18HMWcnbFTl7ApTKIsqowO3kGK1ZhPS/mn1HnTQmrnmhI1Q+zjgKXEMLiedbQVhyPpSvNwDgMDMMBpoGgYmK2cSxzugWyrYFpIuXMFCNts2Gz3RKaFsUqk33O5NpHVJcKOBFKvokxkh5rl5RX62F9r+s/7wPZypzIPNlZwkCVESjfD87RNhbuyymi40TnlBwjn11ecrj5jPfF0XUdl5eX9H0/g8Z+v+fhw4ccDofCjHxzfN2PRxcPZsxO44SWEG7jPcG5E8x2q/X2ecf/CcxeWKAVO6gVfizEd2LMnV7QfC33GX41EqAFm7MB4AqoFwAXVbrgrPvNNAITXStAJqZb4nTNO+885A//4Lv88PvP2W4y47TnbCfWjo2E6IRoWxDbIzqh0dJ0nAjb7ZaubU8w28kyll5KL2UcuUrbFMymFCgUxMapLgi+2LfzeC1M78I4aWGuZCZpOOkFXJ+GZCscuQ+zc0qr0PSdZ/AFmD075K7sB+uwZr2G6m3cwWxdnSuEYG3bCmYPw8hhGBgmEA0Mw8gYJ5wIrQgZZszOORHjxKZp2W43tE2wPVIzOfuiYEHpSbzIqmWqeLe1k3MuoFW9Y3V8Wcye52Z5f063WjF99n4gNC0iUtqCKuo6YsxcXn7GZzcHnLz/lTD7zS3b4kLbpiL4mFKaK8DqTcqdxXefV7CmPdeT5ase60mk9eWWf1dWcpFzOf29WhCiGn52ztW562dOrDxOHqICm92OKSuH40ASD6FBXWDKmSElNm894t0f/Yj3fvJ3OX/2lOubPfv9kalpcGdnaNOQhgMxKR5BsObNxuo5um7LdnNO320I4tGkZLGwqlPziFR1JQ5pHo2WFjOudKzI9X0SubSZyyrkbBPRO4+7oxBa8y6SKpvN1jSlKSEjjStaHxQtvQvzDOT1HDaXoPHtyZw49RiX8FTOi4d5F1QQ7syjU4P95HeSWEsKee+RpiFPR3LOHIeB2/0epiMaHcfDHtJEFs94OJJiYkqJYRwLiHn6kmTrQ2CysjIaV1vH6RzeWXu/gpXXOE7H5fM86PUY3f352oGxazLna61/tp7DKcY570lzJrjA2VnPO+8859mTpxyPR/7yL/8SEZmFXbfbLX//7/993nnnHdq25V//q//vtWv55vh6HX+bMFsK4yeipU2a/duvGKcvwuy7oF3X/8wyrTD71FlSdrsNmieG4wEviSZAcErOEykNPHprw49+9C5/9yfv8fTZOfuba477PU0zcXbmaBrlMCRLJ7GSGESNWXco267jfLNl0/V4CWhSkumi4NQiD2ucE2ruthXqqXNYx0oz1BJa+nlb4R85I86kmyiG1XqMLHcusd1srPgMw6Ko+TXMRmXW47uL2ajS+uZkTnweZs/7z5fAbFmdR9bXnXO51+V+vPc0jXCczBAbhiP7/S3HCVxU9ocjU7KWZsfDSIqJlCbrtCSCrx07zs8JwZPyZNEw1yDiPhezbc54wH1lzNa7ny/7xVpneD2HrYDQnmPOSnCB/uyM5++8w9Mnz74UZv9//+pfv3Yt8AWG3+FwMIHbrqMKN973QD/vpnU1SPfRob+LQypT9TmvUwC5c9zzAF/7CK8zWmbRLP9ELLw4TJHoBNcGhqQchgO+6di99YS/8yd/xHd+/yecPXtE7By3e2HwHr87p3/4GL85R6/3S/k+viQNC8E3bDZbNpuetm1tsZWQgoX1HME5UjSG01U9QBG82M98CKgrYqAiRT7ABFSt2t5a5rhghiCqqNQWQnWsTROpBk1EZF7o9vPaDL4u8jrMunhSKyd/njOV5qdS/fcvqhlo5nPffaJm/NgijfPcq97j2mDqug6NVvqeYuR4PJCONxC9sX95IkYhpommbYml5VNdC03bst1dgG9IyTzN4Bu8D4xxJOZM07ZlfAxEfCmEYU5+BrmTO3M3b+ruv+8MzMkInKwxLBw05czxOHI8HEzANDS0KBe7DT/5yQ/5B//wT3j69Cm/+tWv+PDDD/noo4/mPJZnz57xR3/0R7zzzjvfVPX+LTm+KmaD/h/HbGaj7/Ne6xyqu0bfF4fRtBhQy78LXqwddzG3PU4D4iKhdWgaOAwHusbz5K0df/Qnf4ef/P53ePTsDNdFZH+L9wPnO8/jhz3nG8/+Wpf1jZjeXco0PrDdbOg3mxmzLeyYbcNHjEGKyXDAYtx272LskvUW1wUXnTFZFbSziBmAwZkChEIWPRkxFSk6dm7GwGpowoLZlZFjNSd+E8y++0juw+y7eAULTjkgrgzGGqVZG0xd1zFEC0XHmDgcj9wcEz7CYRiYMkiMTCnStg2i1l62roW2bbjYbWk8TCkh4mh8IHjPGEdytu/lzEpGx0LguVQZozqnPy1z8stj9t196/Qztn/lPDEejxwOR5wLNMGhtGx2F/zwJz/hT/7hP/jKmP1Gw6/rutmanKZp9iah5icsiYzrG169UR7gKR269jC/KqDMoCYL44csYssnFTMnE/V1fcF6+TVMYOctk5zaM5Zi+MnqdyjDeCSJw4cO9YHjOLAfM8+fPOLbP/oBv//3/oj26WOuRrPkBwKTeEZxSNPR9Bu06/DZEm+FRfXc+4bddkfTtLS+wWPSIZosmOFcBUu7t+Ac3tm/g/c0wZTkkziSPYSl4KP24imPIWumZl2YheWpbZScWHeKMkoLkyVLmMH7xfN0XmbvqVYagphaAusFUnT3agiqhJPWz6fS75JNQiDnxFqeQEv4w9XcyNV1abIHp5pnZfYQAn3f0/c9ofFzY/sGxzQdieMRB/R5Y23ynLecKefJCK60DYo4plxyKetmVQDOe2/jXfJjwj0JwXc35fr3u/kZ923EJhzBzErbJn+6npzzpHFgGIb5c+M0kjeBi4sHPH36lLZt59c4jjRNw3a75b333uM73/kOfR84HA58c3z9j6+K2VrYevg/j9myYvwsFWWZ+yesYMHsKhh8cu1r0EZPMDvXvI9q6OnyOzRnjuOAk0QXPMEbhudxz6Mnz/nBj77NH/293+fx0xYZr0gxEhjwMuFkpGuETd/QdYpm02bLyFyh2njPbrujbRoa3+IxHVhNRQqkkhEzuxksHFvz/kJDaDxOSh6hQC340KrTeg9mC6byVNuVerHuFPXO78NsV9uUAeLda5gtYLpkrOZLxdYsJ5i9fj5L3riQtPbj1RPMruexHM+0GP2pZKGrzh2Q1pjtm1DCviOOhuM0cRwj4Njk3vLMHTRNsFZ2ZEJwZoQTIU9Ya7h1qpAUVjzNaiTOhd8pZi/Z3TJjttxZg945htFC2vVz4zQSNpkHFxdfCrND378Rs99o+M0XJlYRdnZ2hohJA4w17CWnYYLXjb8FQBY16jd7bL/NsZ6Q87Ww8kzq65QPP6GlqzdZAWU2KIwJX76pS1FFms1Ca+OlzpMShK7n7adv870f/ZB3f/xD/GZL8p6r/UBuTI/oxcuX/PpXv+by5gZpWprNliYl3BhJ0ejd7DLeebq+p3FhNoDMOM2gtuCcFAFosZwVY/ussteab2hpPeZQMRW/KnLqnaOp+l/OclGkGBBVY8p5MygXrahTT++ud6erzeM1g6Xq9FVju9Dsy2cX11z11HsUEXQl82Kh3PI05t8j8yan3qNkdNYVsnOnDC409JsNfd/T+MAxW1PsaZpI09LGB4pEhhPapkElsNlsUExJvYbRargAKJ5jWfiu5OrUhHZK66P0emhtvebujt16DGezuM4FrWMi5RnZ50LwxMmhKZmeYSlOud3D1dVnDMcD2631r3z06NGyGTjH2dlZyRcLXF1dvXYd3xxfv+NvI2aLrK9B34jZa4w+wek1flMBu7pF9r3qqmvR6lRycZIVUqLvAm8/fZsf/uh7/PDH77LdeLxPDPsrQpPJaeDlyxf8+le/5ubmkrYRtpuGlBri6Iy9y3nG7L7vCK6ZDSDU2mk6rUaBmzFbfCj3a92dLGohMEdQTMetNhNwznLtRQTvwglmVy1XE2YOsybr3YjKXczOd96vx13MRheplXk+zU/P7vPLYLYxXOV3sDgm3mvJr1v2cQByognWbajve4JvSPlIKvIucVq1y6RcnzPR4yDKZrMB9HMxu2nbOQfRFYIgF/Hpuqdoet24+00xu86F+Xs5n2C2DwE3RVJSNNu+MY4j7G/57OqKw3Gg327fiNkhxjdi9hfq+F1cXPDtb3+b73//+zx//pyskY8++ogPP/yQ999/3yRMStjqPgCpdPE6ebEOWL3R38Uhle1b/f2E6ROhinKC5X8kp0wCnkSL0XwhQ0hWce/LIrErdcWHNLYPpbR1Ni+s2WyYEPZTYpDM2ZOnfPfHv8d7P/gh28dvcX04stud07qA8y3puOfyV5/y0fu/ZHh1oPc9oduix4GclCiRqAlSREkzWzQXRiiVk2PFPS7VQcXrVVU0gYmbGxNYKf+a0xeC0dnBmUekKZNiXtoBSfWiM10TrN2bZmLMpCTFOLb8E1+MU81CKIUGWTJT1UZyzozlsrnEvCTL1oj6DBDzxmSKmrkYu6KrFwnW7K0YoErweBpyyHhMu0tzQvBIKdZovdB0LX23JTQBwTqSaDTB26YxCQTNwnEYyS4Tui1dv2GzOWOKyVrvhRbnS45MMcKbNjAej9RQCjlbe7VsOUxWfbcSueTOhraa12+Y9ZQOzWRVJlGOCj0Kki2XMGVcVtMlVBNSbdqW4B3jcGS/P/Dw0SO892y3W7z39H3P2dkZb7/9NmdnPdfXB66vr7/8Yvzm+H963MXsqPk1zM55MYzf/xgAACAASURBVJpOjv/LmF3TaOrfT5g+kVn8XgFEUZdAJhIepS00VoAUIJkgshZmz1CjOKkzGZVxZESUzaZBmEjTniwDT5+c8Xs//i4//MF7vPV4y/FwzfluR3AtrXfsj4lPf3XJL9//iMOrgd73bLvAcLRq3SiRpNG6MxUiQESWwgi7iXI/hUWCpQp/hdnGsCXr3+o8NexZc/p8CKWQyyIPOakpE9S2m8XDzCih6VCxYrIcI5JS+T1CVnP2a8TFVckXyWi2ilaL9qbZoMs5LnNAFzYsr9JaZpHjosmXy+/KKiSqzp7Op3AipqKAJ4dMxpi3lLUgtlg407e0XcO262fMzlkhKt6XSnbvkayMw5HsMtsusOk7zjYbUpyskjs0iK8tRkHEEdqG43GcMdsi6tFapRW1jHRn7v+mmC3zzLQ9VGUCPaL01p2rVPJqdsRs+X3OC23b4HzgOIwc9nsePXr4uZjdn51xuL5+I2a/0fB79PAt/uzP/ox//E/+Eb/4xS+Y4shut+FP//Sf8tlnn/EXf/EX/If/8B94//2/YhwPdF1PipnD4UjbtHPo727se32sLeW19e1Lo+tZn6m8ak5A9V68sxZmKVvxQWVYECmGgo12CAGnyngcoO/JItzoxK1E8EKfoMPhXYv4nqNM5hk6yJIg6EKtp0yakhkzeFSctYtperrHFzx99oy3vvUOD54+4di2DPsjowh6ec1ue8FwtefVB3/D8f0P8S/2PKAlNhuOBKILTLpniANpGOjeechu4znfmkE2HEcQR9P2AAzjiPeZfrMtrXEcPpRuHimRFSQ0tE1T3teSB2INv8WZkaDAmCLjYaQLDa4xIyjGBJoIWnWghIABUOtbqx7M0cLOKZEHJTQNTQgmIZJNfT54qwIfR+v8kkv/WleMSh8EyULAl0WX54oqzQYcjmxKrKIGTBpRTSgJ1UTWVOaPedy5tLqLSYtHVeZNAdJjHHC+pd30XDx4wPH6JTeXL5CciDEh6kmN4IKj78+YFI6jsn14hm+3RBXiONF2LV3bmQBsMs2p2+trmmBVYDFVL1uKir4jZuNNa59lSuirsoNrp6WunRpmlxKSaJ0jDgOIIzlHDg2TKqO3kJNPCV/CBMN+zzgNOM1suhbVyGG/N10pzTRt4OLBOT44hvHIt975Pb73/e8Sk9K0gX/37//tm6Dim+Nrcrz18BF/9md/xj/6J/+YX/ziF4xxYrPb8U//9E9PMPuv3n+fwzjSdx05Jo6Hw4zZVdwXfnPMtrSJmqZSySVLFVljtvNS0jVqeK8yIaUCv2C2qmM4jvQ9iGQmvSHKrZFiqcfR0TpP74VJjiQsNJgko1UdhQWzNU94DHdymuibxMXjjmfPnvLOt97iydMHtO2R435AZOT6UrnY7thfDfzNB6/48P0j+xeelgdsmkjgSHCRvU4McWAYEg/f6fCbHe32nJxsz3ECfWsFEuM4kL1nu+mtoEDABU/CdO3QTBOEpmlxwRdDLs+YrbWFJ0pMI+NhpAkd0jjTxovWOCBoKBJfDsGwu2J2zMmKTRLokItcm0mIGFb6GbOncSR4b63iFFRKnnXwSBY8Ycbsqlyg2YiAjCvSLNZyLqqS1CqTk6qFgFMig+3lLtt+lEr1OQXvCmExxCOtd/SblgcPLnh5feTF5Q0pCylGvArSJFxwnPU96ISOR84ebtm2HtHINMYZs0UcU+mde319SwiNqS2kWFjiUn2LQo7GFM8GOiVUXef4Omxc2XdbGxWznWsZhmjP3CWakFGdED+imknJo+oZp5H9fmCYRrI62m5DVGW/PxSDEELbcP7gAhc8x3Hg9975Ft/9/vfQZDqy//bf/7vPxYk3Gn7/8l/+S9577z3+03/6T/zn//Ifub6+5vHjt/jn/+Kf8Z3vvMsf/OHvk7LpFX3wwS8YB2ujYuXrgaZpvpTi/+dZyKo6t0iZDb85tmh/ZFW05LHMuRPZKHLzoJh7VYpaYmYGJk0cNHFEaYNj0swQE24YORwnjuNkD9gXFfY8zeXXdr0OJOBCgwst2/MLwmZH8+AB3YMHNP2WMSnxOOBCotueEZJw8/FLPvzlr3n54adsR8f3n3yL2PZc5sxHn33GoK9I4ohe0MYWW7/ploTS0tdn9r61urIZ7wXVxP4wWLgyRpwIfdvRTxOb8x1N35muXdGFEufw4gnFQI8x4pwVIli/w0hK4FxGJKG5SkLb4coCqJ6qy9k8yjLONlJ1QTjUOcbVZuJFkGCVyag3FnUYyFj1qUEEIGrVxIWF9apIcLhiWKo6kvqymZjFr5qJdQOrjGMBzNA2ZK1isJmcQNVbPkgoDkaoxm4gi4GqEECaEixah6FKfmUIoNbKcJXNUe92HjXq++upf483uf77Xc+ynjEDURxJMpOUTUFMhFuAPI3kOJqwtGbTBSOR4kQcTbeqaTy73a6IowYePXo0d324vLz8Rsfvb8mxxuz/+F/+M9fX17z1+DH/7F/8c979znf4/T/8A6ZszvQvPviAaRhBlbbtCsv91TG7tiJcYHsVz6Osy1hzhEuOcrZetnV91p7w1u/XZnnSiaQHlCMutGSdSHFgHBzT8cA0Hi1s4JUxRaYcZ5kjEctrDgJNcLTBcXG+ZbcJPHjQ8OBBx7Zv0DQyHCMpOM62HZICLz++4de//JBPP3yJG7d868n36dtIzpd89tlHvFLLFRQf8Y051t2mpxZu1e6ZS2hdCmKDeE9SZTjsS06mFR10bc809ezON3R9Yy3MShjbOcGLtYqsmI0zZtCJEhFzwp0jiRiTxwpLqD2Ma7jRkVJlX6vQci00EZxTVJc5IeIhlMrkwqIOQ8GVXBHbDCRcbdlq+OqCoNn0/pwqXhOpFghqEecXM8TWmK1gAsuaZ4kZUsarEpxHg5mIIZiebXAOJ0XBAKERkBVq1+lYMTup5dZVTq4ysqeIXZ319Tp4ff6v/34fZlfUdhKLMsdkxq4YHw3COGXGmIk5kjUUxM5MMTGN0Ui1pvmtMfuNht8f//Efcnl5w5//+Z/zP//Xf+fq6ooHDy741jvPefToId/+9ts4J3z6yQsuL1/x0f4TUPPoYmkU/kXHOpxwd9Byzoi3XqkrFJmZPygK4rlONTukJJxWutv5Bu8CwQeaBkbvitCuQGgZhsTRO7aFFYzjhslb/9uMQg40ogRZEmKDa/Chpe07nG/oHzzE9z3NbmeMonMlbDhZXsYUudm/5NNPL/nolx+ih4nHZxe89eAB7uEDdpLZv/yI6xcf4cREONUJZOFsd26ha3zJ6Vq1wql5A4APYc7lGYYBTYnGexLCBDTeodGU5HO23IWmaWjbltA0SysgVUJp65SxZGHLOrHnMuU4F2KsczzmxOFSdVafkXdWGFLvR4peVDWJHJBlWYyh8ZS+SpbnKCWcWSypcum2YXgPEoDSH7PcW4pxDiPZ4suFVXMFhO3crhRttH1P07ZMPpDzNKcHSDH2k5o4bChFHcE1BqBSmNM5naAUwrglNaCmGrmCYBV41LkiUvo6q/JFYbU6B7zUloZV79+McVdYDSfKdDway5AjIiYgK6rEcWQ4HEDN2744O6NvWzabDW8/e0YbTO/qbz74gFTU8785vt7HH/7xH3Nzecmf//mf89//1//k6uqKiwcPeP7Ot3j46BFvf/vbiHO8+ORTXl1e8sn+I7OVfoeYbeK47i5kU3fMitmsULtidk0rabwjOGOdaBqcH4nJQrRtgDQMOH8khC2qjs0YSX4qiJ0JGVQaRMKM2Y0LtMHT9S2Ndzx80NP3nt2uoe/Nuc1ZmaKla8TJ8XJ/w+Wnn/LhLz9iOigXZ4958OAtHjx0ZNnx0cs9H724Nj0+EZOlyXC+O0OkSHMJ92K2GSr+BLNTsmI+K0+bcL5hikWaJ1uOcMXspgnUlpuqQtfV7TxjlOgiQxLzNBdirHOpZ3H8LBhxK+UZW/u+ej85C4vNY6gtskie+CbMmG06gZW5La2lSpMFnMN7IRRjLmsmpWh9dmNa9Ytf2qTa/m82gOZsOelNoO9b2rYh+IkpV0HwBbNFk+1lBbMbZ3gmwglm1yiic25ODahJ/YI7wWznFBW9B7G/PGabQ1CNS0NtrS+x1/E4MYymDpHF0F1VGMfI4TDMmH12dkHbmo7fs2dvE4Lpyn7wwd8wTene64AvMPyOx8T/+B//gw8++AAQ+t6o6b/8y//G22+/zcOH5zx58oTvfu97/Pzn7/Pq8spo/pLIWUMAbzruAsjJoN0TZlj/qFbmVhZoPWnUhOkAxbfNbJpLyS+YYkZ9oD3b0YjnvN/weHdGEyPdpw+5vrmyFmLZ8v/OQmMCmnO42c8tXbRUfWbvLT4/TmbgOIcLgaCZm8uXvHzxiquX1/ikXJw/4MFux7Zt2J1tacYjn/zifT5pOuJ4ALxZXAjbswukKKLX+0ilPZk6MWM1RsZSxTfFaIag8zhxs+5RiiNOmAVeFZ1D6q1vcF7YbneMXVf6AVpzI+t2QVWqIqt5XDUXwpJ3l+ddn2WtHlzEO3V+NuqU2rTQGAGrpEpqOXDq7WdJzHOLycJCKVovTRuaUkFcwgCx6DgVc8/GADGB1nTa8/l4u0ewjW633TGcX3C7O+N484rhmJBsxTUW2igR5qLft9lsaZpgsjcnwuWn83XOXVz9+OQ9OfUe7ybbz4nXq/OtW3DNhmbxUs2gMxgRbPo4gWHYk8cRl+vcNaZ1Gq3Jd4xm1G02G7qu4/z8nKdPn9I0nnGMfPDBByfX8c3x9T3S8ThjtsCM2f/tL/+St99+m/OHD3ny5Anf+953ef/nP+fq8lXp4fy7wew3QDZo7W+uMwu0ds7MEavsjp/XjW3EmRwngld2Zy1eGjb9OWe7x8TY8PDTjquba2shlhNKSxPOCvNo66SKJbch4L1FELzPaBHJlaJlGoIja+Dl5Q2vXrzk+uUVmjwPzi/Y7R7QtFu2ZzuOY8P7v/iErvmEwxit01ApkL042xajbwn9VcwWp6i6IjA8Fjye7BpXmH0cBsZo6Tt3MTs0nsa3iHfstlu6bmS33eKLdItzDpy1AqiYbcVlC2Zby7T7MbtKclXMzllRp7U1OKI6KxZoiXA4bwaRk0QWZwadGnub1AZnTkF3AAopkmdDqD5tb8UuKcIKtfe3R2IJme62Oy7OB852t7y6OZKOg0WjiuSKefd51u/bbjaEpkF0EdAuV3Dv3F7itafvifCVMbuidlkJFsErTJ9NIMd+GBjHXNjRus/4GbOnaKzoXcz2TUMcxy/E7DcafiEE/vf//t+lrNgmXNu2vP/++/ziF7/gxz/+Mc+ePeG9997l+fPnfPzRJ9zeHogxzX0hv+yxpkTXlTFaQrgWATh1ITUr4mT2UvPqVQ2MVAoNhpg5TpkhRSJW5tFvtrz19BkPnge+dXbOs90Z+bAnbzriq55YWKIuwxkeYiLHaMJ3qrPXQDmftZCZkAxePIwTY0pM+z03V9fcvrxm2A90zQbfKV6Fzjecbzuatx7z9Mlzfn32kOGwRwlAQgh0rQlwiivVVaJzj8ScKIxY5vbW+k46hKYKtmrmcDgwHgfLbUGJcbKk1cKAueBK6EDYbnZsdxvOd+dstluTI2gbgm6gNaFQpSQv2wMCrFw/ZhMa9WBGeJl4umIELb/EQE5wxfYzdgyMuYrTRKrN2KGIlibIEbLlR0goki+CfVfVvGRNxdMzD9AHR0gezYkcrWqn9gQWEgGr1N2WKqnrtmWseTHel6ToInDtPX23pW83xRDnVJ6gKsZWzxODMyenG2J1QdwaQCpvp2s+wHqMFsqgmHhSnFFjEn1xDqZcgjRiUkCu/gkMhxtSHBDJ+KL16hE0Txz2t8TJckL6vudhMQwePXqEL71MP/zwQ87Pz3+j9fzN8f/mWGO2wr2Y/eTZM9597z2eP3/OJx99zOH2lhTj7wyzc15ChndZv7uYvUbtxfgrjlccyNORmAYgImS2m55nT98iPH/A+dm3ONs9Y3/IdJtM/yoWQXkgd3jOSJFShEZhjxbMFrK1bUwZsoVPpxFSGtnvJ66vbrh+ecuwH9g0Hdp5RD2N7+i25zx+q+H5k6c8PPs1+8NAwIyhgLBpO0tNKZitwow7JGPEMsr+9rasfEcIjeXKqekxDscRLag9xVic36LgUDBbvGO32bLZbTnfnbPdbmialqZt2GjAtxWGtVyddRkSKLJYNTLiEdEK2eU9nTF7yrFwU+ZNOrXCETuzME2RrGmeD1mFpBCzvRBnYd5ilGVKZTD2uVQKPxDBBY9PgZSVFDMpM+93CUEINE07Y3bbXuP9aCFwLzjRWeDae8e269m0Pd6AmbUMmFS8nY3BUn1bWuwtRy3AWTdsLeIsumKuEVBXIXvGbGRhEsVbGpBJyhijlxFLJyqjfHMYGKJpNVbQFjxTVm73B+JkvYXvYjbefynMfqPhJyJ88MEH5GwFG6BsNj1X1zdcXl6y3+8RyTx+/BaPHz+mbVs+++yanJW2aVfabW8+akVQ/Z1z+LBurPPQ33ON3BFoVp0nZDkhEjy50O1OPI3z9K1DHj7CvZt5utnxqOnoFa6miX3O7BXw1lInJWVKlnSfi4kiKM4sTJSMC2H2TRpMvT3GW/bDxHg8oDHRJOhQjldXvDpENjjCdkfrW/zmjGfPnvP48TMuL19AoZhd0+FDSyil+y4YtR9jZIxmvEW1/oXH46F4tM0c8ptiZDgOHA57dBohWW/aaRpKOb4rmkcmLbDveza7c8aLA2dn52z6DZvNZpYg8GFRc0/l2aha7811abupr58eMUZimizsoOBdKO3fFi9NUKbpYBVoapW8xfnEuUzwJkmiadGEympJwjFF8y6rUUvGCybp4hyjDoxjJKaRtjOhTgrb4UpVV9tt6PrNzJpZM2Jz40PTst2e0Xeb1zzF9TyvsgQ5TWVOns7d6jGb4b0AxtrnLSedhTlfD62Vz7pa6GRgXUO8HmP8NEWOtzfG9mLvkxVxxkAcDgdSjHSbnu225+233+bZs6fsdi2qyqeffsrl5SU/+MEP7ll93xxft2ON2cfDAQX6zYab66sZs7MIbz1+PGP29WefoTn/TjCbUvHPG1B7jdmzcciSj2QOm4AUHVOxLheu7Xn0UMjvOnabp3TNI9Ceaboi5z3oHuctGqMp4ZI5mFoNSwSyhaAzSgiOyigJDTkptzEyDXsOx9EE8VOD0nF1dSQeXuHYsNsGWt9ytvE8f/aMZ48f8+LykkpidY2jDZ6m5OD54GbMjnEsmGXtxA7Ho3WlCC015BfjxHAc2B8OjJMyJZimyDBNpRik9NZ1Hucdfb/nfLfhcDFyfnY2Y3aV+tLgqYLxqhZi/zzM5g5qxyKIPOUIavl04ryFH0s0RBEOk+X659JZpOqAZedQH0oeta6MLtNjjSmSVkZtLqyX94pzyqAjcRwZU6TpTBA/JWbMbtrApmvZ9N3Mmnk3B8tom8DZ1rqn3OX37sPsKRWaaZWaUD6Nau0Is0QP72K2Kp+L2fOKcNUYLNrDJcQLttfEpNzcHhljpVe88StOZsyOMdFvOvrtlrfffpunz57R7nZfGrPfaPhdXl7yySeflA3K4v6qStu2XF5ecn19Tc6Jru148OABTdvOxkSt9vqi0v+7CZBrGQFd5SDModpqFOYiPlwMOu75PSKCeGcUbwi44GnUPKCcHb7rcOcXPNhuaaJyvLnh1fU1N7d7phSLlEeCSfHqcFlm6tU7q6wp9fNW8i0CTslxZJqOjHFkOI7EaaDBWzi1Ur/HkfH2wHg4MrUtjW958tZznj59m7/+q/cRaYBI021BGkLbmTdUxqeOryW6xhkgHRb6zbkwcCnjROhCIObIFDPTdOSwvzVWICveW0KsC4E8lergknsxTiNTtnZfvWaaJpe8vwL2qRRfZDXjuuQ1ppznZVPb0ljbt2xeZnn2Se05aymyMCN2ZIqRaRxMYR1WbW2wdjwxGZjMcgGWN1RzYXJKJdQpeFHUQRJlyBMpjtA6008qrKflgXQmiNl05f5TcfqMoej6LWfnD9idnTPlei8mCu3W868YxjOwlD9Ea0gWygAswLGa3/VPLYbf0oPz9cNyWeqWAYKxnZ6Ml8yUJo6HW9I00kKRtbB1mZMZB9M0EZzQtw3f/tY7PH7yGC9we4j86pe/QoBvf+udN67jb46vx7HGbMR0Ou9idsp5xuy2bWZj4neN2UuEbMFsrSHEsqfcPUQE56VUmZrRhDbgHC5nus5zce7Ybh+gseHm5sj19Sv2tzfENBG8J2VFJ3DqkezmFAd1FgHJ1S7NtvbVwRgzx2lijCPjcWCYIh4TX5YSeh2PyuF25HgYaduJ1jc8f+sJbz99yvt/9dc0IkRg2zU0Al0byr75OmbHYnQ5sSaOqq4YX5GcKiZ1ltwfJ47TxO3+MGO2897kS4JjO5XKWIWYEuM0lqiKkrUnNw1guWUiQqqC9hmQJa/RKlAr/pi4sTngiZgrg6uIpvKctShH1DSjiWGcSMXgruLI/P/snWmvXNeZnZ89naGqbt2Bl9RgSe7Ejh2gBzT6S4Akv7v/QQP+1EHsRmy0rbYti6ZIkbxDVZ1pT/nw7nOqLklRht1BK4AORJC6Y9U5e6/9DutdS6kFs+XrpXxyitkpCZ6jjDwTZUBnsor4JC1vXQnXcK56Wmupi4hx7SZSppxdhepiDKum5vxsw9lmTUq+VDmTiEKfVO/mDvG7MHsO7ShVvH8PzD62d3WRt1EkDEkZfPQc+oHJR6CCUj2dMbvvB7z3KG1xVcPHH/2AR9ePJGjsD/zx6R8Bxccf/eAb9/B7A7/D4SATQwihVGvNNE3UdcPd3d2iB6W15vz8XProVoYoYkyF6Pt+svApiJxmjm+Cjyo3dh70UKV/lkqQIx3DompWQO80ql4mTGMiJk32EzkktA+4rMB7QtcTxwmnFNu6xdYyLJEI5KyIhdOli96UFgIAORZdOiLZZybvGcOETxGNZmUsOiXyOOCwPDrboKgwOXHY7Wmt5WLTsj7bcn5+iXU1WktFqnINKiuMcWLRo+Zy9ZGTE0qQsm5XIsGSi51bFrK/tUJqpqmYRgMEhqETDkYIosVnLRYR6/XeMvmBfrIy2avF6itpRRWl5Zm0LlNQD59PjJE4RZksOzkYZP2oB2CfciQH4e+FUEQ4gycD4zBw6A4M4yAm4Vps54QDI1pdS5B3EvzlJG1w770QuW2FtYVQXEjFkUwYRzJJtPwqR25qkbOwZmlDhJQhiuCqMpa6bjk723J2ds7gJ2I+gpZ0Bkq1UZX1fLrvMycK7SUTXACEZf0v97M842/aE6dcEqVOhjrmILBU/1Lw+DLoI5VVkb3JZfhomia8L/wiY7i8vOTi/JwQoO8GXjx/ztnmjE8//fS9+/j767txfRNmN3W9YHYuOn3n5+e07WrB7FSCkn8vzIaTaf4slQ45XOfqkhayfNlvaqYwqLnVKKidokanyOQzKWSC16js8B76LjCNEaUcbb1dMDuQiraoyKVkNQempQ0X5ZyIKLLPeD8xhbF4uGqsWZGSZhgzFsfm7BEVipQN+90Ba1vazQXbszWX5+fUzuKkokDjKlRWRRR/lr7hAWanLK3LVbsuXOJQpFyk1WetLcODYMaJAHTDULAyomLE2kzAYkPAes/gJ+zUy97XCme1yKPEqmj+JbQ2bz2fGbMVYeluzpitFp0duWJOpJCJUbjk3vvCN8sMw7hgdoyyxqw1ojtYWqczXp4GfzllQhLhfGMrKlujrZWWqLGgpIk+jkHqtkZa2XUjnUWRKSvJdgriDJXFyKCta7ZnZ5yfnTH5YcHsWIK/mLNUGwtmv8G/YZ5IV8uH5ohQ/UWYLfe0pOv5ZLADjQ+JcfTEmElqboUntJZge8bsObi9vLzk/PwCQmDoep4/f/GtmP2tXr3OOSY/Li88lemZYRjKNFI8Tjrao7MEsIwWn5Y83+SELPy8dDSOnm9QVjKpKrX5eSLqGGRIe/ek3ZhkcsgYvWj5KUSWwzkn499AZeHu63ueffEl3e0d99tzWhTGB1LX02bJUIiBOmViglQmZOazPMQirhyCCANnASrxTExYpI2nyJicaKwhxMA0jdy8uuX84gOuPnpCComb16/JYU1bKc4vH3F9/YSbm9cEoGnWbLbnpJhQVhFjQCmLcxYXrGR3vmR3wZf7pqjblnXbopJw5ozRtK3D2Wum6QPu7+959fULvvrqGWSp+jnnyGSmMMJgwMrGM6EmjwNTTjg9LVNlTZHtodz7fDo+Pj+PLMKac9E6EzEmEyYJ9CQDy4ToGceBcRogy/q6391zOOxIKcla0pLxxFC4icrMpwXKaNCi15Vyoq4r/OQlkDdiXSdBsMZ7kfhRWiImBTjrqNsWaytCAj9NRdfMMoyeum24uLzi8eMP2G4vcONAInHo9oyj0CBULkkHefGfzGRILFzV02BN1utRmHVe1/NllFjDLVfZG5QESCEtD0rrIAYJoEV2RgI/70dyDGJfZCwmBghyAKcMwQepIuQMaB4/flzaUkIfePHiBZ999tn3HL//T64Zs0cv8hszZqPUgtlxmt7C7HnZ/aWYjcpYa2bI5sh/OlUAKBWn5Xsprcv56JABC+dcsc4yYCvuv77jyy+ecXfbcb69R9ESvKHvEiq3sv4j5FRDikQ/45HsuRhFXDkEcYXIWQoCIiycydjSepMAz9iGEAPjNHH76oYPLs558tEVKSRev75hHTKqanl0ec6T62te39wAgXXTcL7dLJgdYsQqJeLCwUkXxUsXxYdU7n+mbWvadk1OwpnTxuDalmvr+GCauL+/58XXr3j21VfkLPdsxuwxTJgBjAVrFHUwDGMm5YlJuwWzq6oRTb48t+uP7c75YzmLgP3MCYxksjH4SQK9mAXrfQwM48gwjQ8we3c4vIXZOcTFQk6VNqwutlIzZld1jZ+8BPLF9xxkQJJZ6qZgNiicDsVf9QAAIABJREFUdbRtTWUtJNGIrVyF1Ro/DjRtzdXlBR88fszFdsswOhKJfXdgKBxYad+WFTr7vBfMnrmqp8FaSiK7IutdLet6vpQyhUJA2SPzvpl//tytZMFsH0KRLhPUHr0nxAzaYI0jRIMK5QHl9ACzNSyYnUog/qdg9nsDP+/9g/7/bDQ9Zy3yJ1M5vQR8y9Rmnie3HpZFjzfotGLxNtDI96n5P+mrn2SZJz+JOQ6XadGjUOhS0U+eFIK0CtD4Q8+r333Bs8//DcaJST9nZQy10tiUpBoYPeQkZX5lCUlYX+IWUfx0U7H4SMJrUIVDJRwDqS6lFCF6ks/4rmcKim63Z7Xaslo15AT9oSuegxrrKtabM2zdEJUSfS1bCW+yBLSSOStiigyDtOq01ox9z/m5tCLXqxXb9QYDizafqxTaQLuu2Zyt2W7XXD++IkbPNI50fYc1jn03MIy9bHtXUbMRZ4gQUM5gSqV1CgHlw7HlMz/Hsgbi3PJEsn1xzyhyMjEsk2oheqZppB96/DTSdwe6vudwOND3B6ZxKPY7GmctZFMqr3I/jDVUdYWtKnnuOTJEL9soQ9BKgh6tIEXhFWYJnqwWnSptK+qmFms856T1kCF6T1Wv2Z5fsN1eYkyFNo620dztb08mtqTy7ZTDaJEQiDG8SSs5aXHNPJI8l/ze+jo4Bopz6+50Mows2Z9yFSgtnElTpqJzwk8T97e39F1X5IvM0tIIpdp36Hr6rkMpyR7bVqr1MSZevXrF4XDgs88+4/Jy+z6o+P76jlzvwuw5CZsxO8eILmLNx0pU/nfB7IXGgEizzO2zB4cj87aYhzmOFpBlNA+fxBkoJY2mpj94vvjdK/7t82dMIzzXE8as0KomJVu4cLlwghVWJXQR3E25BHNJidCv8P6LwL8CTNGbE2momBI+QvaJvvOoMLHfdWxXK5rVClKmO/RM44hGUznL2WZNU1uUitJ+tFYqq6aSgFYrmYRNkX4YFszu+5Hz83PONmtWqzWb9RYwR22+yoHR1OuW9dmG9XbL1eNrfPGp7fpO7Ca7Pf04AJHKaTbUiF6ixzhFzqb8/0Twp894tuQr0llppreUrhpiVBBjJMS0YLYvAXE/9IyTtKH7vuNwOHDoe4ZxEgqBVjK0UoppWmkZLiuYXVWSaMSc8HGQ55E1SgfhtWsjSjDaoLJUj5W2ZC1ajHVT0zQ1zrly3ojt5rquuDjfcrndUhmDMxrdtNzu746yOmU9O+XI2mCtlYLOOzCbBXPnIPEtyH4nZit1ulfkPk/TROVkuM9qsRXV2siZOnlub+9FqDkmjFoyKFIKTNMk52PXlyKXwbatVOtjfIDZ28vLb8SJ9wZ+C1CcAEEuHIm5l51zLpHvsRwaHwSKD+/OaT/89POnZdKTWymLcQaUk9+xBIfl/FzAp5RwJYIGSOiUWFvD1hl29x13z55z+/sviDc3NMaQfCaouSqUUTGiU5D2mTF4AjlJ4EKeWwhSPRTKSsYa4U8ZVUj1WSZ8ow9EPzGOB/r9gURNCp4URoxRrM7OUAr80DFOsdi/rajaNVEVuZg0Sx8olBEOTAiJyY+M00AIYXHKaJuKtq3LJGnEVRW1s+JAQiTEQYK/Vc16dc2Tx5fsd/dAXpw19oee292BfvQcuo6QFc0wUlU1l1sp3eviqJKCrA9rzTIVKO3WVKRXTg4RBSkEchrk9ZWvGceerusYx57oA91hz+3tLfv9rgQwMrgC0LQN1lSyEgpo2dqhdJYJV6UKOXooPpxiU2eU8J2sloEd0ZPS5WMJZR111VA3La5umYJUIq12tKsNFxdXXFxcUjctISYO3YG729vStohkZGLWGNn0IYgjxnwJF+84hCRn4/E9LMFcWcvLfXvjEF72R56n0SRLTHmmMxzba0pr7u/uGPpeeE2IXITT4l2Zs4D34bAXoR4zTy9rDuPI0z/8gbZpePL4Meu2fh9UfH99R653YXY66ZjMmK0Wmoasp9lx4S/F7CUBz4sWw/L3KWbPFb856FR6rrCUUYykMXaNcVu6+x3Pn93xxe9vubmJGNOQfUKpwsNGBIhDkoqNMZqAR6UMCPdtticTAn0Z3TJWWqvFHzfljI+J4COTjxzGkcO+pyZJ+y2IruzZ2QqUohs8cRpRKrNqHeu2wqhIZa387rntZ4RrnkJg9BPDNIqfanHKqJqWum1BaWLOok3namlFkhhikOBv1XK9WnP5+An3uz0ZFmeN/rDnsLvFjz1dd0DlwDg0YqawvcRoQ4yFZx3K0Eyp+gJFzkfayPPjnzE7hMQgelbSnQmRfhzpuo5+HAk+sj903N7estvv5T5OMrgCgtmVsdJ9K4GQqy1ZlwlXBT4EhmFEa9EmVCUQF51Ci1ZSEZ6HWpK2OCvmBG1T09aOGCZySjht2axari4uuLy4oG1qUgwcugO3t3fF5UvoQRixK6Xcy5MCqPD08jFoo9AQ5vdw/Pi8tsseyA+x+pggybpXqkhuZRk6mjFblyri3d29DNMWnrzRhkqLR3zImWka2R8OKDTKKEgJbTTjeOAPf3hK07Q8fvyEul1/I05861Tv6U14Vz9bPjfb78xefscD702QeHgj8ls3Z2kHlCg7RRlp1uXP8jPn+qx8k3z85LXPDQadMy5lts5Rec+r3/6WLz//HeHlS85SQoeEQ1NrRR0laJvlQAxAFL5JynPDoJR/y3i20aAzVFb4HTmJREDwHj+NTOOI9wM6jfSHHdpuyFnhvQjqtquWYRzpuj3FFJC6lcnSmMU4er4vPkSsjqLNpI6LyJbs6Wy1Zr1aSRsxenJ0gBNuRZitzQq3IhStphTRRFzl2J6tuXl9Q315zvrsjLtdx+19xzAM+JBwlYcEq7ZdFMPn56K0Li4gWqQKSlUwJzGhJoQCOhOagMqSPQ7DQNcd6ObKXhArse5wYOh79BzEJ+HPTQpws6ekwTiHM+I8ksvPHMcRP44U/fel7eq0oqlr6qoRQFGFB5pFcsEaJ9mpFa8nVzlW7Rln23POzs7ZbM6pXM397sCr16+lPV4ZUg6MfiTnmUAtB/Csln+qgr+EfXMg/wBETte2HIqzl/GxTXbcVzGLHEIKkcFnvAqMk7RoYxTDeNF88mhkX8YsYKe0BO3eB4ZeJrz1LFujYb/bScvg00+5OD9/K7v9/vpuXn8qZiutF8eEf0/MlrWfEG6bZibQLwfjkSI1/7aTVy9fkLMmJ4dzW7yv+O1vX/G7z7/k5ctASmekoNE4lK4h1qDMUQ4EEX+XDpHwCAWxKU5ESib1sxb3j9LSiyHJ5OzkGceJwXvGpNkdejZWRO1H7wkp0a5axnFg33VyLmikTdvUkCNVsWZTShGDJ2qLKWLvc7JmrKWqK9arM1arNSiFjwkXMw6BgBgikcJjJ0NI5blBROMqx/psy83rG84va87O1nS7O7r7W4ZhEH5v5SBB264WzJ6fizhRKbQyIglWaEpS+VOEQOnsREJJLmfMPnQdh75jGCdCiHRdz+HQ0fcDShfruCT8OdREdmBLou2cwRjxnk0lGRnHkXH0QHjQdlXaUdcNTVVjtLzuWcpKlU6OsxZrRSLFVY6zdsX5Vnh955sNtas47O55/fqVDMVUjpATox/F2lJAWDCznPKnblMzas+Yfdp5OV3bc3V79jI+fk0+7qssMmIxJLIfCMqTpnHB7JTygtkKXaqTEWMga5GMC94z9qULliXuQGt2uz0vXrzg008/E87fe0D7W3X83tz8b05yiY4YTJMnlImwuZoxZ4gPMsJ8vAmnRMhTAJn/Pct1PPjc8v1LDL6UYZcqyvxvwJBplUIfDhy6jhe/+Q23f/gjTRbhy6nrsVpuhCGjs2wAleOx6qI1ldJENf+OfJTjKJldHCFGT5y88O7GiWka8eNEjCPrRpPTRMaDtkyh8NlKGyAp5EA2FlfX4qThhU8HEvVPwaOslddqDHVdi9SK1jRNg9OGmBI6RpyVoGwcRqZBxJtjmjA2Qw4M/QFyQudEVVn2+720Dr2nqlpwNSkp2qrCOdGW8t5zc3OzcIXW6zVN09DUtWRixkibMWlCipLlFuDKZYAjTANWRaZxoD8c6HoJLCc/ELy0B7wfaFxFtTUyUTZNGGS6zGgx4jZW3EaquqKqa1xdkckMpb1TOcs0imMFSbZzMIocPTkmVpvtg0Qil+c88zCMFU7Mar3h4vKSs7MtKWXu7/d03YAxlvPzFVrDOA2FpCyVV6PzUUi0LMllrR53AosAecoPQOSUO/UmWfh078QEUVmSAh8z0YjlXU5yaEyTL/ZbAl7eR8iBCkMop2FMsnfHcaKqKkkaUub169cMw8Df/u3fslqtGIZvt/H6/vqPv/4UzFalwuGnqXCGj9WMvxSzZ7mO088t508W+s48wHFaRZFrTuANSrUcDpquO/Cb37zgj3+4ReeG1WpN302gLWDJGHLWRdLp+LskoKlAyaSqGD/MVKTydWPEx4ifZBJ2GqUCPo2eMUZ0s2ZKGU/GahiCVOtmzKboYlqjqGuHc5bJmweY7cOEtQqKn+2bmG10oZVEjbMSlI3DyDBMTCEypUi2sl8P/UDKkLLGVhX7/Z6cwfuJtqqoHaiUqKpWhJyLzNe7MLuuG+l4GC1JcBmK00bkb8Q3Vug9wxSIyjKME4dDv2D24CcmL0Mqg/dUrsFsK2JOTFMgY4g5YbXBORkwdE4C3rquqGrhJ4YkLV7rKoZxYpym0izRKBOkhR8z283qQSIBuTxnVXja0nXarFdcXl6wPTuT5Pf+nqHrsMawOj8HrRmmUZyeUsZaafXOgv1l8S5rddkHsAiQzy4o82v5UzGbFLEqIn7EHmPEW54kxRlfXFx0+e3Re0IGQwU5FMnL8nXjKBVbJcWRNzF7KhXXd+LEN34GqKpqKe2n2Uw5JXI2y9SPMZoQI4fDoQg9c+yHP9j8D8FjvhYNPqUe/G45jE8A5GSCdH7oMz/hzcAvn/wsTWaF4tUXX+D7gfHlK5ppEh2mDEO5aWIVpGSiM4kQ8Fx9iTETKZYz6rQ1UqY6YyJ6L9md9/jgSUEMq3MQ652cRNkcJVw1HycO/V4qRTpjnYzm5+yXCVhjNNaJJICxBhVL2waZ2Fuvj6Xcpqrx00QuhtdRKXa7Hfv7ew67PUZlrM04B4eDDHZYDSlMbDdrnj59Sl1VtKs1pqpRpibrCltvqNZbtLbkIIFK3/cSoIXApgT71hV3FK2BtAggzx6VMUbZ1P0B3x8YugPdfs84jcyVS4pg9qptqV2FdYZcbHdE6FkycxEDlcqcNiJiqnQhUdtS/YuBlDx+lAws58wUCv80ZTZn5yWDLPmYkhanMRZh3ipcVbO9uODi8hJtLff3O9ADq3bD9mKLtYkQRyFRp0SOxSpOQ47HwY1ZMTUtrV9VgDWI+fobh+wpgLyrwnIa+GWrCWhCTiQtZqfCZ5Jse+hHgg/kKAb1SkmAGFFYZVFKl0NhpGlqtFZM08TLly9xzvHRRx9RVZbXr2/fBxXfX9+R65sw2+R8nK43hhjDA8w+BmL/fpg9U4COnzvygN8M/GY9SwCRoF/xxRevGHrPq5cj09RQmQryBqUGOaTLz8kkEfvNJ9WXGEnEU8iWFt88VRsT3kfxPvVxwWyhqGQ8YFImG0n4tVZM0bPvDw8wW1uLz3mZgNXGYJ0tVT3B7Fz2/ZuYXVcN0yTTmyK3Etntdtzf79nvDmRlyFYs6+4PB158/aoUDRLrzZanT59SVTXrVUtdGWqjqHRmU1u2axlySEHOyhmzRbx/g1IimTNDtgyeiQDy7AUfoyToh37k0HsO3cB+3zFO41K5LHUP2nZF5WqMs6LvmqUnmjOkIJPVzpYpX6PRRrosMYaC45YQhduZR6ms5pzJYZJnnTLnZxuZSp6raAWzrTGl/Qp15bi42HJ5eYG1mt39PYOGTbtie7ElWcsYA3kcCu9VWtdoJTqDJfmZmQozZisk6AsxklT+szGbFNE2oxGxcaNT2QWzpFlg7AeCDxJ4l3VuTDEcUBatZFBrnCbqpkGVyf1TzLZVxe3r19+IE+8N/Nq2LaVhdbTbKm/KOUdd1zJUMI4iFXDo3moZvMkXOb1OycRvcZjm6yRyVic/c+Ey6WP7iywPjgIy0uqF8f6ez3/+c6Z9jwqJKkGYevphYIoybZmUfO/snarmGZuUSTEQS/l2ntRMWXSHQgwytVTG7HOUlqpGi46clZH+nCLGKGLxMAzRs+t2HPoDWSmqtsYZRUoT2sri1kY2igRGoluEkraMK24TxhiCl1Zeu9lAzgxdx+7mlrE4hqQQONu0XF+d01aa/euRPI5Uq5rd4cDL3R3D7p4f/vSnKKVpN+dk7bjdDexvbum6ibPtBXW7wlRV2diZcRyFI2ctdV0/eNazOXrWMigwFS7Z7u6W/c0ropdqaCZTVXZJIiBTV2KH54yhrlvWGxEkVQgxNiXQVg6whExYhxgIMVBVjrpyTENPimHJZPEyUZ3LRJpI3chUODmDVlhjMU6Cycl7rpqWR9fXtKs10+RBwfZ8y8XVFW1bMU0HJt8TvF8mmmOR0ZmTk9loXpKII69KkeWwIb4zM5z3kdb6wZ463TsxK8IUCCoTMiQ0IaoC8EHauCXTt8XJRGlDRmgDKMno9/udfI1VxJgYhpGbmxsePXrEer2mqsTB4/vru399FzB7rhzOlcR3Yfax/QWoudJSUDtr7u9Hfv7zz+n3EykoSBX9FBiGnhQnoPjBqrx4py6onbQMIqRZk1AmNWOxmpwxO8Zc5KxyUR3QoAzGapHRSBllDEmJVqmPYcFspTJ1W6GMY0oJYyWJ1EZkp3K5L1KB5S3M9j6g0Gw2LTlD1w3c3uzoupHd/Z4QEu3mjPOra3TVMr7eM46ZelVxOOy4273kfjfw05/+EK0U55sWpzPD7pbbmz1T13GxPWPV1lSVJNAzZusyyPAmZuvicZu0yIFN08T+cOD2bsermz2jj0yjJ5OxVbUkERkwVS32n8bR1jXtZi0i0kgiSUo4qwvGpzJhLX9cVeGqmn4QP+a5YxQ8jNNUJNuyUHKKtH7Okp9bY7FOgknvJ9rmiuvrR6xXLX6aFsy+urqgalsO00RfpqrniWbR/ju6JqWUlo6enqkJZX354ImkPxuzVY6EKZBVgBzQJFQMC2YH7xfMTrkkEFrOixi8OMAEz26/l8E+KzJM4zA8wGyq6r2Y/d7Aby4LOyc6OnPPe140dV0DmnHoubu7p+sFRBTzlNBDZfc3weJdE2Lz/8/VttOSqcp5qXjJISaZZ0pxmSTOSTJAdGFY5czdi+cMd3dMh4GVq6m0jKZPVcPgPUkrgoJQQKR0jxfbF0vGaYVCxJpnOzEZPJnH34UHMmeupmSjs8RHSkEAJeey8CPdYc/+cE/bbqgqR2U0fixkUy0leGss89CKdkL+jTGCUjR1g9GGgUEkW6xl7Adubm65fX1DpTXr9ZrNas3ZZsWjiw3rWtMYxcpV1FZzuVoxjQOX23P+6tPPOHQ9108+xNVrvvr6lqfPXxGS2N6sz86J1jCLd8qD0MsUqIC4RhkRW9VaExDi7qEX8u/dzWviMGApemHlDJjGiZxlIGJ372nqiu1mg1Fw+3rkdXpJXddsNmdlFF/TrMR/0Wjh9syVBF0modZraOuKlBJT13M4yK+rm3ohwZtSSVRaLaKoM4HYuQpna4x2VJVmtT7n+voJzWpDzp66cnSdPBurxflEODIRFML3zLmo1s8aXSwHYEzivan0yfrPeaE4PACXdHIgHxNeIYmvGjarDc32nCnDxdUjmromxcjV1SU6JxwJR6Yio/zIcH9HCp6uU9zf7wh+QqvM7jBwd3tH33X857/5G6rK4X3g9ubmfVDx/fUduWbMts4RS8K4iN0WzNZAP4zc3909wGxODq8/F7Nz5gFmS9JzFOGfRX1jkRKRKohw2PRsLZbh+Ys77u4GhsNE7VYYXREmT1OJOL7SCZQcoDNmSwVKeKoZi9JOnCAyi52Y7EnpLGhj5fUt708S7lniI6SEtjINKyY/MsRwf9izaVtcVaFNhRl9aZkiiXDB7JQy2mly0Y5TigeY7X3AWsPQj9ze3HDz+hatK9brNevVhtXmjM3FI3S9RpmGyq3Qtma1umQYJ863l3z26V/Rdwc+fHLNunbcfv0Vr54/RadAU684P1tjrAguz8mpULtlCpQslpLaKJmg1hoQ7+CuP3B7e8vrmzuGIZJKu/oUs0MW/ru/31HVDZvNFpRhfH3Ly/RafGQ3G8ZxQJNpVxJPKG3E27iUZLPSMoC2XlPVLSklaekfDoB6gNloUwI/tZgPzIN6lXPU1uG0QVcV5+sVT66v2awaqcxWNXnRH7ZoU2gCKUmFLwkFJ5WqsFogV9ZtSPEtzJYj/k0P9XdjNghPsllZNqsN59sG8sSjqwvquiHGxOXVFSnrgtiC2qNX3N0L1151Hbv7eyYfyEozHHbc3d7RdT1/8zf/GVdVBO+5ufnmLs37K36rmovLLbf3r/BhAorLg7WLnZfRupSn7/GTfwAUp9ebAPIQHL45w1yGB3JeDrvTpkDm2EZ46/chFb84jaAUloQfDmBEsJQ0Qg7isQuSPZ44EJaeASBTWfPHZhu55V2mhDX1sVqoNBqW9l9KAW0R6yFl0CRy8gz7O4b9HZu6kXupFKNSOC2Ts5WtMGgZhc+JrLNY1qbEFAMqCr8lZlGe3+1v8MPEvhsxrubx9TUff/Qh5+fnNM6B7zE5cH0topHRj1xdPcZZze3dLf2YiNkyBYVymqZdc3khROL15oJmvWEyxf6ukKIVSFsYS8q6TF9JtSEa0T70fqLr9uz2d3Tdnm1T4YpOU0qJbuhK27dfuHGfffox55eXrJqa33/xO7784vdcXJzz+PFjnj59iveB84tLVps1TbvCNXURGy2cFWVpG4OmgIixy+HW1K3w4GIqnrURzBy0Cziu2xXOOKKPVK6S97/a0LQ1xoKfpJU8TQPT1JOL3lMMYrquiqSPEKVLMLicf/M+YKkiQ6kDqqNWZCmGLF+bZGEvLbOMwtUV10+e8PGnn3H5+AljiuiqZr2q6PuBH/2nHxI+foIDdIqEvuP+5UtejVORaUj03YG7m9e8aiuePXvBV89fsLu7IYfAzauv2d0f+PIPv//GPfr99d256lXL9vKCV/e3TEUMXRup8Mx2Xlqb/6eYPQ8P5HzCoziiKhLcZXgDteVjCrJmnGJZ85bD4LFGqjtjQqrbQbhRWc2esfNZgLgcQOGrHQ9mTlA7JaiNXaqFulQGl/ZfSmAFz4wyJDQ+Ze72A3f7gaaWeynDXCNGuwWzNQayIWVN1vKCxK1jwkRxViJHUpi42e+YBs/Y7amd4fr6MR9+9LE4YbmG3kPIBn19Ld0rH3l8dYW2jtu7W9LYY3NEhQntFOu2gYtLNJGLzZrNusGYCZTwyCT4U9RGYcnonERbT+sHmD15z77ruNvv2HcdVbPFGYc1ZsHs/b6jn8aFG/fxp59xeXlO3az43Re/5/dffMn5xcWC2cF7Li/OWW9WrNqGunGFo1cCZqUxTUtbnoM1/VJEautGEoQYURR3FsNizgCwatcPMPtis2azaqjbBqwR7diUGKaJfppKsqFleCWE4uZhJDmY5cjewGyWwK4kQKgC0ieonY9fC2mpZsugSKaqHU+eXPPZpx/z5PElMY3UlaZarRn6nh/+px/x5OMAOGLSdH3g5ct7pvEVOXlSjBy6ntc3d1TtK148e8aL519xc7cjhMzXr2443O/4/R++/MY9+n6OX2344V99yrOvnnJ3d3tSiRM7kMvLRwB88cUXYhNUbuScZaooIHAEhLdbA6e2JnPJdAYVo+fsonwsUyRTpHQ/D5PMD0NLurmU/aUqqMjBM/R7tpsNYzeBUdjKcXf7mtXZBkJYbsScGR5bErqUmuPxvZXXLX6skaloY5Fz4aNJ2d9K7Z+kIGRPCAlbaQwB4kh384L+5hHN9RMu2hbvAz2aytRUpkYZBynjlJbZNCO+hznDoevouhFQ+CkwDBP7fY8Grq6fcHVxwcV2S9tUmKrCuIqqaUhTT8qGRx9UKBBOR4rUZ4/LIACgLSFrtDPUK40Pmapu2WwviFVDN0103YAvFknaNqBrUjKkZErLQISbZeI74P0orhxKLM6M09RNI0GilhYuRuOsYbNe8ZOf/lfW65ZPPv6Qtq0JY8/2bMOzp1/y61/9CpRUM5U2rM/Oubi8LIMxDVePHhFTXAjM+AnnGtxFjRBpgWjIKWNrJ4FbkknEEETwWKM4Pzvn+uqai/MrtK1Ef6n1rNu2WMoNxDiQ01QEOe1CEVCZ4ohR1n456PJctc5CKhYKw0kVOwtPaqYspOiXtrnKkkWmGWCQdSmEacvY77kfeoYw8fz5H0QWAaidpWlbKmuIOTL2Hd5P4ngS4bDf8b/++Z/55f9pePbsGU+fPgVgd3/P5dVFCZLD+6Di++s7cpm64tO/+iFPv3rG7d3dsWqXxXbvUdH2ehdmK6UhHtUT4M/H7DzTHTKQZXI0k5dhkjnpyXkWj5Z9Q8FdHzL7fmCz2TJ1I8qAqyyvb+/YnK0QcxJB7XhabdGFjpPl4D4OqugFs6VDMRHjPI1Z+IhKoZSVLoBK+BxE/7WyBAxjhBc3HY9uep5cN7TtRaHZ9NSmojYVzqhi3+mkeWzAGtnvXXdg7Dqp1E+eaRjo93tA8+T6iouLK7bbC6qmpaoMlTM0TUU/JUxOVB88QooQom33+KxeMNtq0DlgnEavanLwtHXFxXZDU0WmqWPoOnz0GGNprKbWYFLCJOFkZy3VM6U1ISXG4sqRlFBhtDM0c4KtRUNUGzDWsVpv+K8//Qntes2HH39C3bb0Y2BztuXLp8/41a9+jVZSkTZacX62Fh6eUTS149GjK2KKy6Dg5KFxjvrCCd4lMMWj19VWArckzhZjCISYUegFs6/OL6iscN+e2didAAAgAElEQVR8W9G2a0LwDJNniJGpCN+fIDZk9QCzc54Th3niGdw8PMUxuMvFdnSmLPiYlrY5WYogx/REuKbWOWxdse9H+uGeKQz84fnz4oalsK6mbRuMrYg50vUjk/dSrY6J3f7AP//z/6L5P798gNn39zsuri5hnqj+hutbAj/LBx8+xlUG6zRNveL29hZrLT/4wQ9YrRqeP3/F55//jtevX4sitTpKA6SUsebdfnXzdUqIfMARO8ksT0nGy0M5qfalk69X5WEULCkVHmn3iXGztHND9mQlU47WFBXzECWoU6oQ/4tXodZgzLFVUP7MgGq1ZAnOilbROIo8Rm1dUblXoCDmjO97YiiLLXiGw44w9jijsbpmaFqqqsZoi58GcmmhxhBRMaOsvE+nNVq5QthWWFvLYIbStHXNupU2aFZiBWPKazM2024cilzeo4CxHQfMOBJjFnPwMaCN5fLRY4xxGFehbEUyjli0sWLMkBMhzG1vllaLVLrkWZhFJDQSUyDkQGMqmraiqmqck+BUFR7MZrUmZsWhG7i731NVNZ988ilNceP4yX+JWOfQ2jD5gLYVxjp2+47Dy1vu7vY8evQIhRFOjauo0ML1S8INMsqRslQV5iRCq1AyykRTN2zPtmy356xWK0KCMQ74OJFyIBMZBgmgcg6QFCEUnbQUl2GkmdfxcH3ncjgmcvwTqi0cq8tzbil/Z6ah56unT7m7uyGkwGGcmFKUlnupUGuVaV3FqqrRKTN1Hb4fsApUhJtw4Pb11/jCLwEhoneHA//2eWC1Kv7N31/f+cvWFY8//ABTObSzrOrmAWY3qxWvnj/nd59//k7MFtHh9x4LfxFmH6t9pzypk2GP0mip6kZekzIL99rnQCx8Vkq3IAaRbFGl0i+/P6G1TNwulJwTzCYrjLZyPlkHqAWznRWu2vJycqTvPSrEwssVOkQ/BrRx1NrSNgN1VWG1YZg8abaDC5Ec1YLZWjtJ4rVGOUdtLetVi1bCZW7bNc5ZsVwrDiigyNbgNi0ZhdaGrGSQbRgt42jIMdL3HWGcsEbz+NElzkjgWFmFM4mI+K/n4umbi1uE6NKmRYqMVJxUZl/fLHZqIQcq01C1og1YOUdVGVIS7uh6tUHlyNAd2N/fUVcVn37yCVXdiIPSf/kJzlmM1gQ/UVlJ8rv9jtuXB/Z3dzx69AiDYrVaUTmDpiKkKOeJyjglU8JS3JFzKxSqUUItmH2+3bJarSAFhjgyRS+2pmS6YRBf4ZxRSe5DCIGYjnrEM3/6wTou60EUKr4ds78JtTOafph4+vQrbu7uCCkwjQdimkTbtlQ4s9JUrqWuVuSk6bqJofegLETFIdzw9evbtzD7cOgIn//bt2L2e3e4MYm///u/51//9V/puo7gE1VV8emnn/LjH/+InDW//vVv+M2vP2d3fyibT58cWG8THN+83gUibxIn3/v9J23e5fve+N6ZmxKKjplBgjBlZBM5awnek+YJm1KllPJ8LERf4eWp09+TM1aL20a3P4iFjjEil5CSSLSU5rEyDq1hOIwoU6EQAvGh65lCwFoRIq2aFlvVGGvY7SemEMr70cv7NEU2xRkJmnLShDqUAQl5DVZGS2VjJxnP19ZibYPVhTCqIBax41wqpf0wcBh6psFjqwZdNWgn738cepQyxBAIXoZZtH3I/1GUoK+YkCvEdka4IaoYjDtctaJdb1m1Le0q4toVRimcq1g3DWRx2BiniHMNH338GZU1GOu4evRIBjtSZhgn4RmmjH75msm/FkX7rqdqalqllsoaQYnzSoLsheciV2nwL+Rcg1WOum5p6hbrKiHWIoGdL77Cu91uOTCUOg5VqJMqykxDeLC+9cMKyrsO0D/pysLVjOPAbuylQoFGW8kaY4pYo4nBczgciNZSF+mGWoPTGkMqHsnj4voAPACNQ7Fg+v767l/JmAeYnXxYMPtHP/4xOmd+8+tf8/mvf8PhfldEY4+Ynfj2tfeXYvax7XraQp4/9xCzZSI/AjKgYIxCKQnYvA8kLa3LuUqZymSkUmlRXWAeKlFyqGptqZzlsO+KpInDFPFy1FyZSTijQGvGw0BlVNF2E2pECGJ7p8m0TUVdWYw1TPsdIUwSPMk7AgSztTbUxlE5h075AWYb49DKErOIAKQkRQdrNY21KC28OJQMZg3DWKgpmWHo6YcDfphoKktTaZTTpBTphxGjFCFEMRMIAWX1g3sMomwxY7ahOB0VceWcMs5oVpVju25p2xVx1bJqHUoZKudomrW02LUhTiONc3z28UcYW+Gs4dGjK4wp/uDjLOAfef1S89qLNEnfddRNhVLtUllTQYoJolkl1JT5rmbSDNlyHiorgyV1Q+UsPsQ/GbMlqD5i9pygLGv5lIfNn4/ZKkPlVgxjpB93hOzRJLSVszOmiDby2g+HA9ZGjK7JSYOu0dqRMHjvGYtF25+D2e8N/J49e8WHHz7mr//6r/njH//IV89e8PHHH/MP//APXF5e8dvf/paf//zn/PGPf8R7T1VVyy+TrEkdhwC+4XpX5rjcJKW+9YZKoHEicqsfVhhTSkzey/Rr8eebH+48JetDWNTuzazknWUHqtIeUHoezDiWe1NKSzCWlVT6UlVRNTVVXYsGTwigpT2SlWxqq4zYCJWq1jBMRGELLIMFSlu6fmScJLOktO2s1jhjUcZRuRpb1cJ5iJGqqoRHKG9cMs4sAwB9P5Cdo3KGUNqI0U8MQ8/QH068lz0pK2xVk9Hsuh4zThhXkW1FRix65kU2t0+MLq+7BJy5pEhi2TNP7dqSSYpeoTa2VCRlSpcsIqFoS46Zs+05WoMis9lscNaw2mzYH3aL2KV4R8I0RZRtULamHwbhcYwTrh+wWhHiVMzplYiplowuKVXU4RM5SpamVZnKWtZlXrxNMyxWSfv9juDHBxpOMcYiJn1C9M28lZwIt0VA910b9IFV2zeu/YxKUQTHgdoqsa0rQ0QxQFvXxGhI3qNTwpTJ8xQTXkHQiawCxoiuWM6JruskcK4qzs7OpJ30LYf599d343r17BmPP/xwwewXz75aMPvq8vJPwuz8LUH+X4rZ85o/3QunV0oJ7yeMMYxjQPhRR8xWiiJLcsRsY8ROVDTwVQm0joMlc/In77W8biVTrlWVqBvRlvM+PsDswq/AKCtJY84M3YFpGBAvJ3XiAKQY+44wjTijpWWMQmuLNQ5nFLUrQSJqwWytDCB2ijEIZSiEwND3OJcxrgIVyBkmL5Zvh35YMNtPEyon6koC0b7bMY1zxS/Tk/HT+E7MNlqjlSKW7pgCVFFqcE44fcJNV1ijsEbL8JzKOKvRGVROWA05Zs63Z2WwUrHZbDDWsdms2B32i6i89x5yJE4TjVXUVjEMvfClx56hdyhtmaJM3iqtxbQgz1W1hNGapLV0wWDB7JlikGHBbMiLJeluv2f04S3M1mUg5xSz30pOtNiEzjHHm9efgtmZYhuYS6Xb1lSVRduyVkOkrltMjHgvloUxGGKUYgrKk7QoOWhjaJqGlLO4qHTdA8x+H2S/N/D7+f/+F9rmv/E//vv/5Mc/+glffvklbdvyySef8tVXz/mnf/onfvGLX3A4HDDGlspBwLl5MR9Jvd94I05bAfntEupD37vTjLJkieUhv6kt9eDnKlBl3BslYskyeSkl89m/ElUyx1L9Qmus1YQsk6kxSz4cs7hB5JIxxBhZn52xu7tjGnps5bDOMk4jISWMFe0lZTSmasjKMo2RmCZCPHB/f88wDLTtSqadrKNqGoZJtJNCysuQiwR+Rqp3WpeWryFpGRwxSqpaKIU2FqUTMUX8MDL1PaiMKlPFwXsJXIKXoFYpms2ZaOQVj8SQpDytjANj6b2ojislJX5r7bGal2fZBpa2+1wFnjehqyoRJg2BQz/io/DMfAhLCT1jMBo2qQTKusY2K4yGyiiMqwgxSBVyHOmGiSH0mKpmdXYGriIdDpKte08fPT5MAl5WY7Wl0RVoGVZSzgEJ70XTaQpCDraVw1iZ9K2rCm0t3SQAcr/bcei6EnQdpVxOR/tnwVzhEJ0Eg/Ohkr95/X9b1WRuRTkNptAWtYLsJ6Ivdno5MsYRg5IBITlZyNMkrZ6cUU5BGVYxxfTdGo01ihgmusOuZP5/YhXy++s/9PqX//1z/lvT8j//+//gJz/68YLZn37yCc+/+uoBZltjFsyunBNKBt+G2H8+Zs80nFwO1fdhNiqjjWLyXnBeCWdPKeGbzj7xAtdHnqDWoK2FLJOpqQzn5RzL1+UFs8/O1tzd7eiHCVfZBbNTkmnbFCa0UTSVwapMLDSKQwwLZq/aFqMVzgofz08DQ3cgp8DRIcNijMNa+bfWcq+1TpiSCKcs55k1mqSlWj8Onr6fygCLKuL2gdEHfJAujlJwtmlEKkUbSJGcApqMMwprIPqeFOJbmC1Nq3xyns6Jr3qA2VXlytCa6LCm6CGKD/CM2YYsjihpAzlRa8uqsVKwMJUUHGIgpcg4jkxDRx8G6kos8CoHh0NCa/B+xMdeDAvUfNZZKt2Qi22bc4K62XuR5AkTlatwpfJqjSk+95px6iTo293TdQdxeSmV7W/CbJXzA8xm4ez9+Zg9U77QDpIBRJN28pnoxVUr5sQYR9Q8IJQ0IcI0ZULIDzA7TH7BbG0sylimENkdum/F7PcGfv/4j//IL37xC/7u7/6Ojz76CICvv37JL3/5K372s5/x6tUr9vs9bbOiqiqGYWAe7PimSbFvu+bve/P7TyfJ5ON5qd49aFWUKtzyMBWcbc9xzjGWsmguGZW0EiKPr6+ZxlFef/neUKqAKMUUE1OMNG1TVM9rmrphVXh0ikLk15q7mxsOwyCgGkUYsnIVIUwY47i+vKTrvZR5YyITuD/s2Pd7mtUaZQzNes3F1SPQmm7yTD5iMtTKYtQsWClZWDG2geJHa8tEsEoZoypQmeg9EyPDOOCjZNCQpPXQrrFFUd1YTQxZeAZJNoexFcoYfEjshxFMxma7NPElA5cNEWMimVy8ikuLs2RWWslGrJtGqo1JnCSSEt6HdS042YiTF5mVm7s9ldNs1xsyBh8zU5S2D1paBQlLiCM+JLStWJ+d02wSjz/4UGSIcsaPPd6PaJVxs7uIz+QAzlk8hhREp6sfR6Zx4uL8EeeXl2y2Z9TNiqppMdNIfzOw3++4vb3F+6m0zR+2qE7Xai4BtVrW7cJEWDLU5eve+PvbqidKwbrIHIQkIuMhBVSOWKVZ1SLqLQGzRukiYitGUKWaIVzNWah01qA6bYPMTgPfX9/9612Y/fLrr/nVL3/5ALNXTfsAs2UK9/8tZs9sqXdh9oPWmkqcb89wzuH9+BZmx5S4vn4s1mrDgAR2R8xWClKciHF6C7PbdoVzYsnovUdruLm5YxikeBGjR2moXMUUAs4YLi+v8X3HbhRt0EBmd7hn3+9ZrxqMUazXDY+uLiRwmTqinyAbrKplMthYqRYpgyC2LpQPg9EWow05KarCafQ+MjIxjAMh+oLY0tJctzXGioORtoZc+IcqSVJfWSOt6+AZhz3ZgM2WeUTVWhEBJgvdJZvCpSzdjVlmxyhNXVU0TY08lkj0Hqvk7GidXTA7+gm0YX93g3YVm/UWQyZHT4yTdKE0xJSxJMYYSMFTWc352Zq0afjwg8fCS8+ZfvRyXitpxWttyD5DyCLhhYeQCNEzjj3TOPHo/ILLy3POthtWTU3bVIyTYbjp2e3F/33yHqVtkYT5ZsxWJbNe1vPpWn0HVp/ug/fuIaWom3WpfgYSkZACMSu0stT1SjRjtUGbSoSlUxRe/TL0R+Fq/vmY/d7Ab7/f87Of/Yx/+Zd/KS0BiYJ3ux37/R7npM2otV0Is9bIwEGMsQw2vP86veHzNf///Gbe9TmYQ7/jx5ehkpOvy1rx5PEHZAW3d/dM3hMT+JBoi/H8xz/4hPv7e77++muGvodctImiZJmmclxfXXJ1fU3btktffbvZcHZ2hjGGvu9xdUVd19zc3NCPY2lBGIbgUcZim5YPP/4Bz1+85vXNXmRedGK/33F/v+Py8hqtFev1musnH7DabMlFSsAoeVSzVIlU1ETQUimFVQpbNqqz0pYgSxBGVRHqiqqt8Sly5J0onCkVxLJI+kHa4SEJt8JYB8oy5YmYhTwcE6BKaRxTJFxMEedk0aFLMRFCJEThWjjnaNo1MQqBPKHQaFzdsmrXKCUaR34cqeuaaRrl/ttAvN1jrbShjE6kFES4OSSmCFhH62o2TtbfarUGRLx5GjpiKEMZIZJCIPSeSDw5fKTal2Iio2ibNWebLat2jXGNtAKQ5ODu7pbd/h4VE7m0a+XZzBWMh62ARa7lJDOUKTH14HvfXOPfehDnTNcfBESUFu5OzkAUTTGTyUYmzWMMxGkijCNhnEhRuIip/NFOqgBj3zOOs4m8Fau7afqT9vL313/89SZm51LFmDG7dg6DdA7mwTRn7H84ZovsxcyBzXzw+AmozP2dJFikSAqeum0B+OQHHy+Y3feDLPucSNHLpHtluLy65vr66gFmbzbbB5hd1W7B7HHsF8z2YcAaRdtYfvDxh7x+8Zz9zWtCSiSt2e337O7vub68RBW91A+eXLPdrDAqo0lYJfdyliqZMfvoA2vRypbKlCv0H0AZqgqqOlC3FTH5I1XEGLRxJRgSzBiHHonixAPdWYNVMOWJKUsbU6zC5J4bZODOaHEakWeRFswWUeuwYPa6bUiFwqKERUxbO9btasHscfTU9f9l7022HDmSLO1PVW0A3MNjJpNkZeVQ2ete9ftv+9Qr1KaKzMokY/QJg5mOvRBRNQPCI0gm+VeS/6HxOAMOBwwGNdWrIldErowiuJwTsXPsbpIIDOdCtk5y7JNUSpM8fQdjv6XvH2GttFCVvSdx0JZ1sUgnlRgz4RhPMLtkudacMobC5WbL40dXXG4v2PTSwWmmME0TN7e33O3uyclgTavJXRwQc55ys+RBtrlaVLVj9d7zOf59mF0K7I8HCS+boiFeSHJCinMUVyhFopHeJ+Y54ueoRNGC2l1vdR7PJ5gNFq8RnI8dnzT8rq+v25e4vb2ValPnOBwOvHjxgpKlLViMUfPJCsMwkJLQuX2/TM61R/h9CcEfhAjOXlPZJGoovj6nQFJvnzCClsurRyLG6RwliPo1VjTQrDFcXl2xOxw0L2ymrzlpnVSO9ZuRp8+e8fz5c3LOvH79mlevXmGM4XIrnvP/+T//h+12S9d1HOcJfxfoxwFjDLv9nnG7pRjH5ePHuPd3xJQ4es9QLHf3d9ze3TAHjzGWYTvy9OlTHj16JGyZencUIzkVajAZY1WDySnTKi2ZtireS4rCLFsjVVhm25p+N637IpS994GQEpthYNhcYGwnDcu9sEnFGIZxZJojkE7ul7WWvhsYhxFTEjkm0flLkoybYqLkgrMdfT9ACWSkvyxJQsnWDZKngwXT8+zZE3b39yQ/c5w8t3d3XG63jEOPM6Ul60obHfFYB70XIOEAYwwmGVIvBj4RfIr4ecYZSyJLMnXO0iJIHZteQ93OdFjrJGwaI7Of2R0P3O/3zNPMpjtlN9oPSxWhMB2lhVXqzJTntOn46r3r/KnvCx0UhMErIOGmQTbwmJTZzoFeu3Ek75nDkRS8hr3kGqyz9N1IzKLUn5LIFm11g23Jz98bxvjt+CUc55g9DsMJZptc/mmYDYVFbuEUs1mhtjWGR1eX5By1I4PklBkLwyj9bK+uLjkcdng/Mc9Huq7XMKbozI2bnmfPnj6I2dvt5QeYPc1Hwp3X8xv2+x3b7YgzhcePL7l7L23uvD9iy8Dd/R03d7f4MGONYdwOJ5jddVaEigtQbMNsSdlxWly3YPY4brUTFIDkk/X9wNYMFCQMWFE7F6NyUp6UAsOw4WIz0FkjuXx+1lBzYRwH4jyRzu6XtZah6xmHkVSMVEfnQkkiXlwxu7NSvBEKQNZe51JqODgxHC2F3sCTZ8+4v98x+4Sfjtzd3Uql8jBSjGuYLQLJEWdgux0aZjtnG2aPvRYqRIjJM89eUpqQdqqCr/EDzO6MRnRKJsbM7GcOxx37/T3zNGO6TRuDE9zVvNM1ZrNmARHUbrrC/yBmC6Mq5Iuxjm6Q9RaSYGzIBdP12jklcQwzPiTplqXXZZ1l7HohNf5BzP6eql758+FwBGiaQZvNBdPRA4ZxkIGsHxJl5jIM4+nXfSAccD4RP3Wh60GuNyY/AEa1hUy14tHE4YwlJej6kRgi4+aS2ScGraYNMeO6AczMHBLG9ZgiMin/9pf/xRdffsF//Md/8M033zB7LyFeYzhME8d55v/++7/zl7/8hd//4Q8cponr21t2hwMXFxdsLy5IWIZxlJzCnBjHXsrqs+M4HXnz9i1f3t7y2We/wzoJu24vLjgej9jOMccgN1tbDg3admcYRtEKzCJrMM8BEoxjz2azkUTUFIkxS95lJzmAOUmv4YxROZSBHilcyUUMCqzF9gabCj0WawdymcTnK0EXiW1FFtZCpzk4OUWMNQxDj58krJKzVIV3/YBrxSkDnZOxGLqB7cUjUszEDBdXT8Q7y5kcJRcpJM8xTOQsunIFix16hm5o+SumE6+9pECKp/S7MYa+G8k58PTpU16/+m8utg6XRGdsmjzGdnzx1b9glRV4/PQ5UwjC9N3f8f76HdFPmGyx9Di7LCNrV95InfuIJ91a+jizmu8flwao/9bHTpnZurAlraGIuLiDWDImC2ClnAkhMvQdMQd8mAkpkIjkEigpiWwRjpSXvtSmiAGcS5JcoM7hjLAJvx2//KNTL/+o7ZoqZl9sNvijpLJsFJvrvEoiiseoG3A9/r/A7FpssV6TtVVjZcur9KslQ0qMfUcMUdIa/EzXDViKhgods4EUZnpnMMUwdh3/6y//doLZ3s/am9YwTQfm+ci///v/5S9/+Qt/+MPvmaYDt7fXHA47Li4uuLjYYkmM4yBseU704wgl43LhOB15+/YNt7df8rvPPpOih85xcbHleDziOkuIM303Nsx2dpAOKsOAs+JwWiDMMyTox5HNZgMYYsrkGMWx78TYSxqBknCuZegc0IskjXYMshZMbylJsGmwlqlkLJlQJCRojVmKLKwF02nby4yxhn4YMJM/weyh76SFZj9Ii03XQckM3cCji60IaufIk6sL7cJhCDETY8SnwBSOIoqNGI39YE8w23VSkBNSkdD1GWaPXU/ImadPn/Lfr17jthcNs/0kBXz/8tUXOGc5Ho88f/qYEJTpu7/n3fV7Jh+x2dBj6ezChhnN3TuZ+2eYbZxt873ZF2fHj8Fs6ww4JAqVa5RI8u67fiDkyBw8IQUiiVCy5rTaE8wuReZGydKSsGJ2MY74iRqtTws2feQL/pzHx0qOvzdW/gMOSWMQMdBQpNtFKQUfPNksHq3re5JSuf0wtJtrO8ezly8YhpHXr183T7nq/NW5knPm/v6e6+trttstX3zxBd9++y0hBHa7Ha7vwbiWgyI9CmvPSEk+ng477u9vGYYBY8RbfPHyOV9//VdizvT6OakYOu3+VbIhZmkrk3NuCZ1GCz4wUiRhjRVvobY2KmDUg0bza2puput6Ce9p/8qihmqMWQoxsCcLsoWcjfi0lCL1yUJxiYxASlptp6EFYzThWYzXbpDFj3WkQus1Kt0phNa2HQy2A3rs5SXOoULZmoyrj4uRFkkhBKLJrTsITjSsSlc1COV7D2NPMaW1Ecq5SMuky0uGUQQ0c4EQA9575llkT8T47rRl36fpfaMe/LIJVsfELmO3GtPzzXWdD1VfU1mZVNTQA0yqgIkkxxtDTAEfJryfpBIyJ0QeI4n6vSl0iCj4D/NYfzt+6cevGbNRxrzEQC5BqvEVszG5rY++r/1nM8PQNyfKdZYXL58xDsMJZledv7rDfx9m973DGU4wu/aXTUlKA3aHidv7e63MNXR9z/OXL/jr11+rY9qLc1wS5E5YyyztOynmBLOt1fCrQfK7tBBljdlFiYycacaHMaKHB5aSRF80pULKktKSk8iFfAyzrerGGS2WLAUN9SZQNk2YOFGUqJjdD50YGRYoqWG2Mbalj9BZOiuEwuWlaOGKmoFRXNPHpojGbQhkE1t3kOwk/zh1RcP40jO5HwfBLW3XWXJumL0ZBzGIS34Qszs7/GDMru0FW562kS4jPxWzi+rHQiKlRYKuaKFSSJEpeCbvpag0C+OXkLz2itn8YJbxw+OThl+LYdcWJDURPSvtKaPAP7pXPHTRpk2KlQ7a6nVr6nV9ntUJVjSsBWfZXF5gk3hsRSnTru8BMTK6cSDkRIgRo+KdIQTGzYaXL19ineNv3/wXdze35Jha7lNNuDXAYZ55//49KSX+9//+31xeXXE4HJivr7kcBmKJmkeRBbBICggQI+x2N9xcvxEBz05yBb/66ku+/vrrVnnURKNXEyprpZsPWQoNyjIZnXUYJzkzvZXWZGIoWAXYhHFaeFAns5Wyeec09ytJztj5OIvWYaHmqFXDIVNEqbwYUoIYIt5LWb5zTg1bqYiuFUnjMMrzylZ0wwbrNMuiZHKIVHX93lkRSDZFNbikuCQXabMkXhrkpPNUr7lKGJTsFHxFakgkHCassVo1F/jsxedcXlxJdbq1hBg5TjPHaWKeJwX/RNKk2hoeEI+wjshyiFzFShBU+7BZnaMPAUhjsFcAsl4HIg+k3WpkJkg4ojIqiGEffVCZHk/KktdXTJHBzepMqJhQZf1WN/SkKOW345d/tDDtklUgR9b0AtFH+odB+6dg9hq1T7FkMUisMVgHF5cbUrKMY6+YV7QoQzB7GDtSDsQYpPuQFmtsNiMvX77EOct/ffM3bm/uSDG33Kc1as/z4QSzJXx84Pp6ZhguiSVqdXzRjVeEfclAjNzsdry5vqHre4bOMo4jX3711Q/CbIwhB4kumOLaODrrwBmKNRjbi3NWEr/mkHAAACAASURBVNpYRFaqa4it7zFQjOSHkSnJkh4YZ3GkV/hU7xPC8psCpEQMkehF/mqN2YK5p5gtYw+boUOsQEsuEENuXays0+9hpB+6FCeKfEnOkqMnWjYabj7DbJeLsGIqMj2MI1MIJ5j9+YvPuLq4FI1Ea4kxME9HkSub54bZ1qYPMFvWwinGGWtboafYDHWu2hbqrffsx2C2MYVSNBde10SNXBYt0gw+NsyW3sDmk5h9BtmcFKV85Pik4dcufpVMVz2rutGvXq3vOX/+xx91wZx7kB8AiTl93lSX5eR9lhAkf81rgu/sfVuMOefFq9MwV6WBx3Fk2GyY54m7m1uC90t8H/E0tDCSzTBwPB4JIXB9fS0Uvupk9X1PjgHrVPPJWZw+rurph/09u7sbXjx/Qec6+s3IZy9f0PcdOcv15UEGWLQKreZ7IN5gKVq4ATZbupRwxdJnKduXLBqjhRd18KwCyiJjQ508RTo/GOOwRrpdGPPwPalaSCEYOg11lly0QjcQvG/ebfVw6/h3K9mAJWQN1nSIzqh0Tikp42yhc47oPTnH5X4jBm1oMg+yuEuOoqKfRaXdFisafsqK+SihjhAiBtE6jClzefmIcRzVeC34NIu23fHI5EVewVhIJSJt6vJJ6LaOSylVEsC0zU2MK1qI1jywSNfj89BGSv2Uet8AI8EvCrXqLEuFToyUEDUfJimzYMhGUSRJzsm6teL5Wvw+Xbffjl/O0TYkyglmF3lwanAtb/qnYrZC9rJxItiZUtDOOAXv5wcxW0JlpaVbjOPIZjMwzTO3N3d4H5pzZVBdWS2NHIbNCWbXvaJidlAJLqvarkb/rV2K7vcHbu52DbPHTc+Ll1KZGhUTGbQThq09uUtlTiilkLK0CLPZklKHLQ6XexkQQWxx5tQJE2nApcWeUTaQUrBF9uq6vrMRndJPYbapVa4rzA5B9Vw/gtnWdg2za8gakKYBtpNomc3kVChWKpq9jxKdMksxQymJmMIJZkfNMywZyAZbVMNPPFBC9FiLSJFhmI5Saf3o8pJxHGU/Tok5edG2Ox7wfhJPyBpiSTg1/Nah2zouFbPNyo5YY7Z15h/GbFjkh2Sem8aOlqJ7dBQiKAYhMpLqGNZ9OAMlSSqWPbuG0/v76fX8acMPLfHngxB4e8XpJ1bQqebxpzeM9SCdnEYH7JQePRvIH8FCCEXuRCQY6ApS8VZEEDTELMLBxuH9DJ2EPDeXjyioCnZKdNaChhXJq5wtNV5SzqQQeP36NQB+mri6vMRHLbJwBue0KbUpdJ0YJTFG5mnH4XCHMYlx1BZ525FxM8riyFHWtxWvAGcp1rR2dThLrIZfsHQuYoOhdEsdUFqPYcNhK+ICRpmAOq5lxeLpd5WcVPEulwUhoQepUgJTLE4LBxpA57y6x0XZBxrrYJX9Myqi2TYR5xpoZ5N045Lc05rLVL+HpdCZToDaGObjRG0Sb+qPEYmahZmQ8cpSicLxOLHdbHj8+AnDMIphnTJz8BwOe47Tgckf2/semrPyleSi8gro1mCw2pFPBMdPWRDTzvExlsWAbgLg2v2wxOTJ0UtoKsxkHyAkrMktDC8jIZ5uKVKFWO+90fEUwVojUg2/Hb+Kw1bm9iOofY6apuGAzrfvgdWfgtk/hjg2puAs9F2NOnUnmJ1jwBRpwzl7j+nQPt8boEinmpRVN08Mr5z5ALNzToSQGmZPk+fy8ooYJYfdOCuRCGMpxlG6jpIlBLybZu4OB5IxuHHE9h3jdsO4GQkpKh4XjBX23Wr0pbarsw5pI4lgdnQdJlhKp5JaaHToDLNbqYhidhtXNQDXmE3KJ/hXijJ71TA1FluMfLcVZue8FPAVxFathI/cHw37ugXXxFBcih+SUbmqIg57rRlo8IelM50YU8YyHWcxuAon+4xh6bmc9AJyyaQM0/HIZrPlyePHmqMquXk+zNLPfjpy9FN730NzlpXx16rSSznB7MU4rBGc5RzLnP1+zAbZ/8WoFEkZW7ToMEqnsDlEgs+kALmlA6GIbRoTKWlX7ewUpAGCKQYfPt1i85OGX2WGPuYNLgDDyQUs/3zcZFwfD9GiD33WCYicfuj6ZO319cZ5L50xTkR1VwBW9aFa+bORbhPjOBJj4rg/Sml+t+rWUUqT6ZCqzyQNwtVbqCDlnGO6v8cOnS6ORMpBF3zVC8qk4DnsdxwP9zx6dEUpkp+x2Qz4eebySm92MdJCTt5GZ1f5A0VyvmKRfDwbNX8P8VbyanyU78NWb1QXltMG4LkkcookHwlzkJ+UpG3QyXgvE7qU5b7UjcQg+ZCddjtJSULS0hO5NJbKIM9jO2IQ0Ekp45zVXAvRq8opa72OQRKalz7BZfXNBBizfnvJ10lWFPixueUFpiCek4+JOQY+//wLnj9/ISwtBXLGe89xmjgej0zHSfr6loxx3Qf5Hh+btzmv1tGK/ftUvtT6/fXx+dGpAWhVfifHQPKe7AMxzfI4BU2YzmA1yZ6CsXUDWbzQhz67Fgj8dvwKjuqofwJH10wfrJm/H4rY/xhmoxvYh+daXdsKsw3pBLONKR/FbGNomJ1i5Lg/SreNbq0TCFWmoxTp81sxuxRzgtn39xPdYJWVy4ScNOwmH5aRLhq7/YH7w5GrR4+IpRBS1iiRh6tLNbQkWgJJlda7E8wuRZjLnAI52oZjWsN7srdarDh7q9C6cyLcnEompkz0qWF2SkFCwScDvnIcdQ83hhPMtlo8aIyR/uVWQuVllcOXMRgrkZkUJH8+pyTsqBWd2RRrxwnteFEQbVeNdNX9qerRZu0x7gCMI9skna5szZ0z5CARihQ9Ic588fnnvHj+nL7vqW3cvJeuVBWzU4rkIsL0PxSzzZqw+Bkx2xjRkSRbTMmEmPE+EbzoG3qfREouKmNrOcFsi4Sc1ozfj8XsTxp+6y8oVjALY3BO9pXSJg78cAD52AA9dGMeHET4+OuKhKl+98UXZOu42+1kcSdJRq2gYpwllVydDAoQUiLlTExR1dyzbPa6HAsrFkebgI8qi/H8+XPu7+8Zuq5JjlSaX/IppDF2FbXMtlBy4v7+lm+//Zbt9hGPHj/D+xnXWfa7e1787gvJYcti7JgsYJKRcxvjkBSBGgqWMUlZfMdSiqioGytsjiktBOFcTSquAqOpeX71p9LxRg3oCtLOOs376Og76RxiTfX+LK6TnJBcMlm919pMvcrQ1HN3PfRa0i8iorKIa2VUUcNW+O6saSEatlCjWib+wg42xUsNfRnE+81FRE+996BVVykmvvzTVzx79hRjjIT2rXQHmedZmnungCSZw1qKpc7ZOuvr+Dw0d5vzkZcqx+X9p3P//DztXPpdXJ2MKWnl80ycxeBLaZaONDkhsK1MdckYIykNVlvm1ZyW9bUaFKTTp73H345fzvExzK6hsvVxjtk/FLV/KmbzQKhsOadoan7xxe9wNrPb3ancTDnBbOuMdOWodBaFpBp+a8zOxTbXVxztDzE75dgwu+uGJjnS0mmozqU4kVgoVsJwt/f3fPvttzzabnn2+BGz99jOcb/b88XvXkgOmxo6OYvTLi64GEYojli73IlS87pK0eI8YXOK0b23Fck50etUIuDHYnbX97hO+u0WbXlmnTvB7KSFEK4amVrwUM9N32GdFHaUnCVfTUPENX+uaC57VqaxZE3FKalFg1LD69LSp5bgiWzMqYgj772Eeytmf/WnL3n67BnGGAlRW9swOwRPSFGYbHMqxVLnbFnNwR+C2Xn1/I/FbPkuTkiaJHrCc4yi1ecTc6rFOQAdFitMdcmSF287ZXpLyx0/vVbZO1P69Dr+HsavUvRmBRLm5LkFKHRxmXMw+fT5PwYe51Ux59dEC3Wdflo5e22hcHNzA9axv78njiPkTBwG9WQs6flzMdBiaicIIYjYs06uEKP0KKzXub6+uqD6jsP9kWfPnrHb7bBdx3w80vc92LWBKru2sbJxFysJsYf9jjevXvHy5e/YXFwRQ8Iax93xgKtJqEVkWGyyJBulpF3BoQkIK6MpbbxE06iU3Ay+ZiCivXRrOxojMgIpZmLIpCTeSKbIorGWVJK2QVKm0Rn6XoBi6DoJGZI1FCDi0KnrW2WwKYsH75yEmclZGVBh3zZDTwi+9RoWxs6KgWzFSLUITe6K5KWQJKySc2qgnkvSFkaZTKLkRMyBkgMEyXkTcWLRsUqx8PTpM8btBT6KHIp1mSl6QvLte3fO0VFwVkL3zflo/oY86NocWa8TBRHVpCpZwjqNKDftgUY8VgytMYjQrYJLKVh1GlIKBD8R/UwMEzF4inYxqP04jS1a+JKxGO2vbFsLwgcWG/DxKs7fjl/e8RBm1zvbjJ76O0tU7X8Cs40y9fXf1StOz6+Y7Szc3+8Zx0jOMAxRw7eG588lqT/FfILZIfiG2TEGFViXo1ZpyufIdXe943h/aJjddZbjcf4As+ueLX0RHdYWKJnd/sCrV2/43cuXXF1sSEEkWA7HO6x16qxqTlayRJtwyYEtNEUCUytIxcy0WqwmeqvV4FNHE8F3Yzt9r8h15ZjIQVQicgzCxxkaZqe1jI6zuL7qHg5kRW0prHE419N3aakMLkvxjnUOo8ZIzElTjSz9sJH9UnsNO8AaR7FZxso4nKaOleLUcFSfNeeG2UlDuFk7EaVcCDkSciEGcfS9lyLMHBMlJp49fcrFdiRHTwyB7Cw+TvgU2vd2rqMgyg1SRGgexGyrbOwpYmuhiWq/FiVTzjFb/tE9ljrXZWxp7LehWCvfKyUmH5h9ZAoRH6IYbMZQ+94XK/ujiFTbhtm1BeGHa03+/T7M/rScywfe2jqPabFsrZULMuq11FBoKVJB2ChkHZjS2JeC6xyUJRmxFRLnpBN/WaQARq1cY1dhCmPaa6tFX2+kc46N63j1/h2H3T2379/TD71Unhp4dHnJZhzZjAPXOQplHgt9P3B/dwMp1pR5xmFDCPL7OI5M00wIkavHV9zd3WFdj3XSnWK3O+Jj5m635/nLFxzCgW7TV84Po5VHqMxJyYWSCru7e/7+t295/tmXbLYXODdwv5vwIbPZGKkEjpoQ3FuaWj2Ji4tHjcIvlJZj4pzB9k5zXTQBG8k1sDW8ox7pcZ6pXkNUDy4bQzSGqCX1lIRVj1U8UkDzUbCled2lSDGBdQVDpGRRg08pU4owTM4UYZRihBQoqQOkCrkf+wUYyRir+ke68HQ6iQVtRRAzFYPJSMeKnIlRjLqSEjkHYg6QAiYHuhR5NG549+4tx/1MjAVczyEkAYBR9a0IxCwtoKQdHQx9x+UwMDiLs0bnrdEFqQax06rftDKUrdUcx6SJ2tSAjr5fPdBUnQMRey0g3Udy1Cbq4ABnpfVRNDOJI3OaiNGTiOJY6OYgn2PAWTrb69gZcqrM72IYyP2pAtOLBMZvxy//OIdswc/S/vAQZlcTsDoUa8xuDohidsGITpiG7IAG2qkx2KU5w0DbF0wLOYrxV19bmfM1Znduw7v3r7jfHXj//vYEs6X4asMwboj5mpShxMTQ99zc3SP+uzigm2EkBjGExnFkniZiCA2zpXOR5XK74bjbkaNnv7vjxcvnHMKBftPpjiUGZ4jxA8y+v9vx7d/+zpefPediu2Fwjml3L1W7mw2pGILKYNreLl2hyDy6uKClylBaLrdxDtdLTnmuDn1lC7RbUI38zPNxheGiHiGFeJFcxFhOBRX9dzXZkIxEUIq2cowpkorsTcVZIkZ7tWsIV8PCxThSKsQIIUGXisJwf4LZGTFcjLNaz9KASOxnK8Lzom5hKE5SYkwUQzalQshZDL8EIRti6tiMj3j77h3z/kiJkd5BCgcpFBwNKUUCEZ+jtPg0YmN0/cAwXGLdIClLGuVIOlelkKfXwpfFUJZ7DRLo11x4CrXjr1ECTNtCy3dS6SAfkzSPsAa6DnBEKy1QZxM5kpjSjI+RiLR4tVYkz4QPKFgHvZXwsBSvaD72qoo+axW5NVLc832I/YMNv1NPrpGj6u2hHklLPdRQqLx0RWKIEddesRhuZs2mmWqBy0CfOpEyIBUkqsGXtEQeLRWHWjRg6Toj7AhAkTLzFLX/YRSJi85a+q5rvWWrkbvZbBj7nulwEPHlIjl+PsQm4rzb7bl8dMV+f2AcN3RdT1Cxxt52KzrftSF11grTlyTJ1uIoxnA4HLm+fs/93T3bq+c8f/GS9zc77u/u6V2HGQcdq0JJkeRCk23RDF5kushYlTpBNLnY2iVF1Bq0E0hphphUGgkDUIrkC2a9aXI36p3LbUMolb5vTGKR1xlhxGrhQW0LlGIBV1qJvMPgMI3RrMZ7zemgLEyFMXLRpqym58n8ygpC1UEoNVIgcgw1n9AUYooSlrCO6CMFR0ETuZ0hpMDhuOd2d8P94V4Kf4rOFVWsrwUQphhEomep7Fr48fN1dX7NyxqRMV1YiaJFLhZUjcJQM/LFO87kPBPSTEwTCU+2UfUZ5T2lzgdldqqnW+UEqg7kB5ep4fPaiu+345d/rA2/k7DV6l+jIUNZF2JQlPrXyoKcgzamrfxmuK2BecUmWlbvp2L8gtnV4JNqckST09RuIcoqdR3S0lAMpVIMIYojG6OE/KS6tKf2lq1G7mazoe9HDoea26XvC76JOO93O64eXXLY79mMI33XEaNUsna2b1GRFmkBrBWmr2K2Q/IOj4cD76+vub+75/nVlpcvnrO7EQzvXM8wGu26IPqowaVFtmW5FTTTyBSxpbWIL1tL426NBQ1fV0PMqM5Hxeys0mHVQCkqY1PXuxRxFFIuSNqKVYzQPErnqIUHtf1miYlS9xhQxF4YzWq8N03VsuzhxhhKxa4WsVvmTa6vq8RRZSNMUcQW1C6mE+3bTMNsp6htDRhXCCmwPx642d1yf7hXBQ9h8pzrWRdAmGJEq7YWkVRD5iHULqfXfALaC8I2EktkbqzYiYW212WN2M05M6fAlCKeRLS5QbbYlmr/nGF23XerDuQHl1kkJ7W24vvY8b0Czg8dLYxgzOqn/pEFP34GoqDKjDTQgA/CDZLylVWB+zwUod6nqpc7IxMlG03gpFBS0B6HFlM0Ly8FDJmLiw2bcWS3v+f63TuMk8KPaZrouo7NdiQfs+QcRM+f/vivBD9x2N9jKVxebIg+CPNSrI6JWPXOZlBZELnSjA+Bu/s7/va3/+arfx14+vQxv//9l0xzDWNI1ZrkSERKctCJl1y/jxiapiUuy4845pLoK5u9aSNaA0KSyyFXmIQl0x+0AbjRiSgfU/+tTGubIdR2csVKH19bJ4T+iIGd1Tut4CeGn0PaMrVwep1T1fqkhld1/eWFzWgGJgpxzYiXUG/WsLDNIlswzx5rLYf9QQx5DWf4GNgf9tzd3XJze8Nut5Pm2ZRm3C6fZ06KN9ZVjT/lKFq8UnQDqPmbxmhydI6EIpW703wUkVutrq7tffR2fHgsmKUs35LHt85VyblqoP12/JqPhzB7Me5YjL2fAbSrzMgy/8+LPABkbltrGtNIe7VcRi7KGhnd3o1WS2IISXLubNfTFaOSXZmMYXNxwThuuN/vePfu+gPMHrcb8lE6E/mY+Nc//onJB+73BwqWzcUlwUfBLTVWDOKsZxUYjVURgEIInrv7O/77b39j+NevePz0KV/+/veEecKHwEaFh3POxFJwqZxgdk31OMfsCtrGurbZV5NA3VoxtLXgLiHyUykJY1WyRhIqW3iOoarnWqfA0k6u5vTZNWRrnqPmuNV9GSOi+zhNNzIPYnb7FJ1jJS8YUw3MapRWIz4VMU7l+0DKFh8Cfp4bZvd91/LUQ/TsD3tu7+4aZgfvdWqrcaufZ8pp8cbPhdlZ9zaJTlXCR3I7JYoGsQTmEKW1a/CSpVQFu/+HMPtHu/LrZMaP5XR8rFrmpxwfO+fCDNU+iEvlzSJDohWqUX5yTqvFLEZErkaBmgw5JYL3eD+z2W54+fIFRiVTqhaf93MTDd3vdzx79pR/+7c/8+b1a+5ub+itZRwGUghiOFUPLcNShlpD09LA2phCCDPf/PVrvvnrf5KT58svf8fl5YaYwknybm0B07yqUkSapBl/izcpDJ9tP6YxbJwArynCAhbtuZt8IIVASVErcZfaL6uNvjvn6DpH3/Vi4KkYqDPSGsep8bfkJGhib4rEGLSTieSnlFxD0Zw5FqYBi3UW66yC5MMVWmIY5YWN1JY5MQSi90yTsAHTNOHDzO3dDdvtRnJ7gMN+z/3dHfvdjmmatEhnEeEmLwY2fBww1s+fJwB/cpNti1w3zFL1DUUawug5vH6XaZrwqpfYPMQfcVRdr/McsQowa5D57fh1Hb9kzK79qs8xW/rWZmJM0v0n5+Y0SxhN2hKmVJ086cbjfWD2ns12w4uXL7HOkHJsWnyz902cf7ff8/TZM/78b//G69dvuLm9w9qeYRgJIakAvOJdNqygFaNMVUyJYgxzCHz912/4z79+g0+Z3335JZvLS5F1eQCzK/NaMbsy8g20MQ9idguErQ3pYqBIrm6KmeBFoiYm4V+NhobFuJPIk3MdruvoO3Gy5btVw6+TAhC7VI7WsHBMku9eMTslLTas12zOf7QCeYXZ1aE/nx+i0EBjI1OSYpWgTQCmSRQVpmliDp6bu1s2223D7P3+wN3dPbvdvmF2jViJQcZPxuxP2oWmvl8NsHZ7aj6U+cVg9j9k+J14jdQvW05+fq6jiKuxCsGujBgFj87pJG2VR8uErRVJEuaVfLKSxPCrVH7fSfuTGAIpLgZO9J6b62u897z8/HOevnhBKoXjNEnnD2PY7/fEGLnYbvnqy6/YjBv++vXXJB/orCXHKJIb6v24YiUsmIoUL5wUJST63mENXL9/y3ff/pVp2nN1dcGl6lPFGKXCVCdMBY4maLrSEKq5KbUO2RRl+nL1eBADJhfND6nVZ5XpC6QYyBoStUUqQZ1R7w75kRw8yfmTKHRu4GiN3J/eWmn5YzUnTpIVSNHjpyPzdNRQS1QgLM2APDECT1r+rBhBzuZcWZ4q6oVJ8/FICIGD9jKtLZqOxwNPnjxmHMf23H6/x/uZHGMzHiWPAqyzJ3PufNGuc5Y+tl5OL7RS+8uFG2OaeGrWXpy5iC6XQHlZFN59kOs8+8yTazobnzonz19rzsa3aYL9dvwqj38GZtcN/GOY7VynodMaIlwcw1KKslhayZ+kSlGIJqtSIz2lQAhR+8OLgeN95Pr6Bu89n3/+khcvnlJKYpqOGualYfZ2e9Ew++uv/0rwktsbY8aYDooaX8WdYHZKS3pRykVbclrevr/mr99+x36auLi6YnN5KeHdH4nZuTJfiOFJMZQs+b/VAC25GkpZDSUtxkuZEKXvbs5QihVDzqgmakVtxWxjnIQNVySENfX+9IgOohPW0VhSAR8Tx8lznGYxAlUpQNJ+aMzkGrPN6t5XzP5gxp1hdm7GX3oQsw/HI4+fPPkAs2fviTE347GUAkaNz9Wc+0cxu5z/rL7LOWYnHRs0baFWJXvvCT5K2sInMPsEtfXDfg7M/lExnLXneP7cemB+1qOUZT40tolGZZmz8MQy2aQaqneSB9J1nRgmxjSPqRoVtgY6k7A5znXYTiQ+bm9ueP/uHf/6pz/x5z//GWstb9+8kQT7XhpHO2P54x/+yNPHj/nu73/nzatXbDcbbC7EaWZ7ecGUMg6r/RiFBUuqiVSTQ7XDHJAoOeDniZQ9KU7Sc9FIjoD3HucEHDu17nMJSKKfqKJLQqrk3WUjdLwpRtMOStv4Zeg0XFnEsCx1LNJimDYj23aknMBIcULVZCpJys1NKbgWjhDvtRpqzooCe6eeH1lK9L2fMAbGoafvnBib1uJskQQgaxUo6gUvWmWVOWv/6e+iEVjZTjRWIcxvTpEQPJt+Q0qJ/X6P6zqePn0CBg6HPYfjgXmelNX1rcrYWUSlvx+kutieAgYspf8/YHLL1TUV3VXojbqYNZ+qFK0mE7e1qCEYtfJ8YW9rCsOpoXf+++pjGvtw3mOyfoffjL5f7/HPwOyKKRKJgBbo00ko6+X0Gpe5XuhcT991qiPnGmaXustS89qkOCkXEQiumH1zc8u7d+/505/+tWH2mzdvsdZoJ6SANY4//uGPPH78lL///TtevXrDZrOlZMs8RS4ut+Q0YXHCgilmW5PENKtFWOIFkoCQC9Ps8TkxRdFiw1jFOE9RgqKUTjpkqAC1HEkqcFveXYaSGmYX+R81T64ApkhaS4yiCZvVQK6G6TlmJwNgadqnSSpQhdWUYgQxKqqBLZiNMVjXiQGnGq+T92AM/TDiup4QE9Zm7dSh9T6K2aUGt1ahVnluFdotyoytULsU6eIWlf31IZxgdtc5njx9CgYRaz4emOaZ2XsJCdcqY+voXMfQj7JHrooi6vFDMbte3dLCrU7i1VyWTaFhtsrmS+u/LGoRwtRxgtkfovSnUfunYPaPTt55yGOsj9d5JD/bYSpJfXboQDVma5XjV+9GDf3mJOHdyqQ7axAJKDH0/DyJRIrRCh+KimJmwjzz5u0bNo8u+fzzz/nzn/9E1zl29/f0fY97dMnF9oLHj6+Yjwf+8z//i5IiF9sLDY8WemOJgMvSMmw7jDy+uiJtt4TZczwemX0gZvEEc/SiiWczJXpub95xPN7TD48QI03kT0Lw2BCkS4cDV0WhcaQktL0xksCKMa1S1JmlRVuNONakUGlobpohUVWwpEG3Ftro+jSmSGWvns9plVRuok0FMgtrhzzuncX1DotlDtpLdp6Y54Fu6HHzpKyAGOzSP9m0ugZDVuq+tMVU2UpqKFayaqprrIydhFpKDBRKCzUH73n67BkXl5cc9jveX7+TEO884f2En4+kEKQ7iJVek52zOGQMztfGx0JpH6wd8+DMrq84+YesvS/1cUyR4EW+oDZTryHyk1AFDzB9J8to8TYfAr4fZsD+dvySj18KZhede43ZWuX4or29wwAAIABJREFUNZ9HQ78xCVuilqKEdzWvLxcxsKSgT6QtCsK05AzzHHjz9g2XjzZ8/vnn/OnPf8Z1Hff3O/q+5/KR42J7wdXjxxyOM//1n/9JTIWL7QUxSTGENT0QsdlhcYzDlqurx2y3CT8HafXmZ2kLWTI+ZlzXk63Dx8K7m1vuj0ceDb0gURGVBR8CQbt0SLclyd9zGExKuFrhjBS+1EpRUxk7QwVsavFVxexmSKhRbG2nen+mYbY0LnDtfFbD5plcO8lp0nxDbCgG6/qG2SEIeznNnmGe6YeOaRYmrXci/OxcLUYpwiiqs1q1S3NOja2UoFOpiC2/q0ZrrOHeKHOmhpq9Dzx79pTLywt2+wPvrt9LiHeemLznOHsJ16OMp+uwTqpq10VJPxazBe8fXivl7EHWVAGQrjExyXWHEClaGV5D5KcO2BlqF05+/zkw+2fJ2v4UkPxUQLG12qt+FhU4WIy89kdZEJU6t0BOieNux3w8EoOX6l6jmk4AObPf70jeK6NWKDlBkZBkKYbDYc8333zNPE+8fPmS3//+X7i5viZ4T+86yJm3r18RZs/N+3c8uboS/aOUudxuid5jTIfJkvd2ub1gHAacNUzHidvbW27v7jhOMz5IHlo/bgh+4ri/w/uZVBxdvzSWriEE42f6fqR3TinlunCk4CCBhAp09MTpk4ripXVZVtFIrVbTiqBaGo4xDJ3DdeKpZoqyXYah79gMPdvtyND3lBSJoebWIcKZanyRpeOFszAOHb3tMaYQ/bzo0IURr5V9rhOa3CWpxMNqKJmiRrtWtmqVXaoh6pKk4lnzBlOSEH4Mkq8Y5xmAaZ44zhM5Z56/fEFnHe/fv+Pdu3ccDgd8ELavZKk0dn1P5wyol91pheB6/p+vg/Pj/Pn1K1q4oE1nuSfOokafFiNlaQ0Y5lkcHpThXaz4k9DDp3zIagjYlRe8fm7pQfzb8f+n438Cs9eoXdQqaUaeqdehZHxL5bGklNntjhyPgodFm2NXYfqcYbff431Sw0/CerYgOm2lsD8c+Pqbb5jmmZcvX/Ivv/+9hoADnevJGV69foufA+/e33B19YQYRS9tu73Ee0nRIYsDfbG9ZBhGjHUNs+/ubiVFJXhCiGzGnskH7vZHZu9xJZH7VZcONFXHG8a+x7m+YTYliyh/lg4fFecqUyZ1Hss6zaWoRFU6wewqwWQMuG6g60Qzr5DBOI1UDfTDhnG7pe8HYiqiAahpP5i8Mr4gF5GE6IaR3vaS0+hj06EbQ8Qaj3OW3Mk+1KUq0k/bf7KyldIVKjXMFrmZTExi2EnIOmmINxJCYp6lAHKaJ6b5SM6ZFy+f42zHu/fvG2bPQdi+lEUmqO+lFWgu/GyY/SnUrsY41ikrLD85F/0eQaXrTMPWugYaL2rOUfr0958Ds3+Q4ffpHKUPgeJTwLEGmY+BzdorrcyUTJhyYgC2c7JisOQE8pqcSTHy6rvvuL+/Fy0i/bvTk8TZ8+bVa6bjJBuoUdYwqQCmseSYuLu+YToeOR4OPHn8mJIztkiz6Olw4Obde2HFjKGzjkOYsMbQOUfwAescx/2Bt69fc9wfsBaKs6RUVeIXhkoqUCNhPvL+3Rtc17O9es64fdzCchLmkK4SwzDT9UMbNxG/FIazOCn/N1ZDucqUdZ14YyVLDkX1vIwVIeqORNXKG/qeoe9bkqyESzO26zFIuGLse64ejeTomGfI0RJ8IfqsAqORkgKQsWxwFPrOkkvP5Az+OBNmRwpbAgbjHJ3msDibxDO1mt9A0XFaclua4ZfF8ItRClJSEEbPTxN+VoHPlDA5c3e4J6bEk6dPePb8GYfDnjdv3nB7c0NIEibIOYqqQm/pO+lN6XRu1XDFx+b8+XMP5VKVVa1/y+xZJ43oxtCc9oKIYXtPmH2jUer6rNpqRi5gAa1qMCuDQl0nK++xXu9a5f83o+/XefwzMXup6kWx7UPUlpBilepakuZzLsSY+O67V9zf36ueWlVDkI4Hfo68fvWG6TgBRkXqkV7iRn5PMXNzfcfxOHE4HHn8+IlsuMUSQuRwmHj/7gYR7JWChikcMJrfFnzAOcthf+T167cc9kewFutEePecoUqlEHPhOAfevHtP3zmeX215vB2pYTkDDbPnYWDol97kJWcSQu9ZV41YZclKlDSPrqMYLX6IsUU4jBUh6kRHTfLo+4G+H6jFaDGJUdt3Vit9HX0/Mj66wsUM84yNmeID2Udl2rJUTwMbLAXpd9+XjHET89Hj5sA2JAwB5wwld1J0oMUhUoimxk9ZDKMTwy+L4SdFI2IgeR+YJo+fvYZGRWf2/nBHSrFh9v5w4M2bN9zc3DbMjsoE295JZxJl+uT+l58Fs2ugp2L2KjW7BbtaeKwUUk54H/FzkLm8wuyqYUwLsy+YXdpaqdfTIPsnYfb3Gn7fv8hPAebcml6/7qFzrmPTDyUaV0KvEqz1L614Q0ejbWj65dfFHd9++y2llEaji1En13k8HKTkuxRMLpoHWLtkgMm1xZUhx8irb7/j1d+/xaLl/TmTY6IzhpgSm2FgOh7FGgfCPGtxieH2/TXX795Sy8MKi8ESkvShFeV2YR2NddzdXOO6nkLHk6efSzufkkVoMmVilFDpMEZc6RsSFWskDJFFE8sZJ95Hhmw06RW55lm/v+06ur5n3Gww1lOTAAWwIofjUTxMvQkpFsIMoevIcUNJkr9nNyM5GkwOHFLAzwf8LJ6xOL5Z8vhcpwLQheAnnDWkoD0Gk5Ocuk5aAjknwqO23ful+i+lpfWPtMSTIg40DBK8Z55m/HQkBC9eteaJWON4+fIlfd/z6tUr3r57y6xyAY0h1f6PBiu5Ip2KKmvFWPXom/Glc7jKNZyvhXZoTpM4wjXfRRd2kcXe2VqNp2srFmUvvVSB63mXUFkttll+L6Usun5mWTv12h9aw/Waf8vv+/Ud/2zMXii9U9ReqvqV+aPmr9bzLsUdFbNrukpOy3UeDke8D2owSehS1Bzko3I2DbNjzHz37Su+/fsrQEKbOWufXtORUmQYNhyPk655wzwHKWjAcv3+lrfvrpsIQ6asmKpATlkjo5Kf56zh+uZOnEQKnz99Im0lSxFB95Q1VOmJ40BfXMtIMVaMR5czXWekIENDOMVIcZrRFBXvZ0opdJ2l7zs2mxFvzUoqT7owHY8HCYmr/EyJCeZA1wU2MUMqWNcxbiwmZkI2hHTgMEu41IcoItIFQkx0LgubZSyTDxjr8EHO7RKkmEThwUkfZacCpLWDRVXZSMpWliLFLEkN/pSFmfM+ME8zx0kYvJwNKUlhjjP2o5hdGdIMUpCIoXMdrhPRZtElXCJnPxazjUU7qSzFOBW0jRp7RsWWqWH7KN/NhyhV4KpLywdryrbfBXvrh7JaG/lnwexPGn7rhZ9VZuOhv9UPfMiC/j7r80ND7/y80IBjfb4PgGZ5rqyvp4iYcDYSLsNUuUt9HtHzySwijNIEmYZbroj4rymFWlKlQTd19xI4h2mXuiTXV0AqFBySp1Uoq4kjb6nXVMU7rRZ65CRhzSrnAagYs8GKnSiGY/TY6LC2w6m6u8nyPWKSpWCs9P4TpkxYwZSS9L+t46esqTFGm14fuLu7I3gvNPt04OrJEy62lwJ+amBOxz3HQ2IcOrbDgDGZlDw5BYKfmY575vmINYWhMwxDLy66seQYZExTIsUgbfRiIiKtebo+0XU91nWatyljnEvNEdGqsvpTc/piJIVI9IEYvBhL3kMJ2CKyPD4krq/fk4rh5uYGr2FgHZAWXrWrx8uf85J6cGZEAa2c/sEN18i9NuZ0Kq8/ux7OGmX7RGYoBelJapGwiambns43dF7V+b++5JMAQruWFTMIH4QKfmP9fj3HLwGz6/zTv6420vV1cvbcsoZkylowUkQhr61oLf/mbCp666dYTm1NR0E22RbBrPxMbpAtL25LRFC7Ov7iRtaQ3eKgsULtQm4i+fLjKClrLuJqTLSDBdk2zPYx4KKoHVgjag4Vs6VjlLbTrK3OcmqYXaoh1+yH0jD7QOHu7k5Ys3niME08eXLF5faClBPGJmIu7I8T6XCkG0aGYUs2Bp+kKGX2gf1x4jjPFGMx3UA/DKQsTmiIWbe+ooUdpmG2c4bUd1Kg41ROxmjfY8XnitktipSr8ZeJIRG8tDDzQXrYhgKpSApQCp7319eYkri5uWGe/TL1eBi165HLMtd+LGZLgfVCMH2wLlaPTatKF5IlBCUnkGIfszpH1Uus97BNsdUaWtZNvR5+EmZ/0vBbn2x9onXJ8Ll3+NDrP3YRHwOe9fnWYYDS6JD6FxYE0ScW029987SSFVZTQr1WQORHlOEz9TWGYiQkXOxqsNHF1uhdtb4w7ebJ58gHS3s2ZSJREWSdnlmcAoGb3GBHjRur1cbCRJaU1FjQClnn1ChUzcEQsK6n68A6Vb03RsdPGKtMJhuDxgskhyNJ6b8UxsjEriX6Uv1UmOYDYZo1OXnm1Xd/p+8Hnj95yvDsGT4csSYxDj3RR3b+iDOFFGeCnwj+yH53y/X1OxG33j1nczFy9egx42aLD1G+I6Lt58qg/TaLGIFZ5kCXIVth+yow16qwtQZYyVl7L8+SiBz0OlSuB7SdnLOk2fP++h2HSUrsc4FOQ9h1rtl2T4R9M3r/q2bkeiOspfzfd5h6byircO8y55e1rpVbSMeTGEXIu9RGlzy8vuoz0sN+NSdXn1+NPlbfo86vet4Hmcrfjl/s8UvAbIHBNWtycoYTyK6Ocn1J+1wjKK3vUESujKF281CjTV5rGmaDw9iyzG+qMyTYl0tFbD4wUo2BQtYwKyvEVpfP5KbJJgnMVV6jau2psZFFTLnoBl0xW5QjjBoDgd5ZqAZSUUcQYePJmYy2XytK2msedk4R6WoExpQmhWWVkTrME/MUSDkyB8/fv3vF0Pc8ffKcZ88GjsGTjKUfRqKPHP2OYhxzlLy9ow/c7va8u75m8oHnuwPjxYbHj67YbkbpBZ6lcDCmxKD9d4sagUW1cskdxiorWhrifYDZkgMXmGNmDoE5eCYfRIsvJiISTrfO4ufEu+v3+OmA9x5Kpu86LSCpd3LRiETve9H79FMwu+hsreHeFWK3Xwy6DrGUqMUoIUgf3k9g9vJHle5pZ1s+fzH6+EmY/YMYvzUwfCxnZP33c6p0/dx5DHpNSz4UTpANcfVl1Dj75NdqVr38ap0UBRREnLgZcNCYlMYm6oskJ0NudGcMxWm5dylUWcRafJ4xqxY1+r0A21jHSj5r+byCnwWKttSyejOdehWWZdOukimghuIKSIwm98YY6Vu4Uz+3gl9daGVp21O1n3KWRVklZRKFFDwxCpPUdZ008zaSR/LHP/4Lb9+94fbmjnnes7s3pHAkbDbk7VaLZzKdM8zTgffXb3j39hV3d+KhXV5suLwcMcYyTwem+Sgt3Kxj6zYMfYczwrCGkiQsHzuSjVCMAnISg1vnQZ0bTaw7SygkJxFrjt630K9AtbzWaqh+v99znIOMq+t0rFBjnVax7Ix2z/hEZdf5XP7omikgbZUKjT2mhh5sMzAti2ZfyUmYSz+TU/zgCtaER2Wf13mx6+uqj6v0wLkK/BJu+C3U+2s6fgmYXbF2jdnVCf3oUffE+pnONuyn1A4TC2rL9axyoRQXta4dYzrJlbOVTTlFbXHszvOhtIe4YnZz0Y2uT2Pk/VbNwNr5wjjFBNs27SqZIh9pTjA7ZdMwO+f+BLPr91jGT4gF4RiWalhWkjKFhA+S3rLGbGM6XN/xL3/8I2/eveXu5pb9PGPudxxDYrMJbLdynmwsxnUcppk31+959fYd13d3pGLYXFwyXl5ijeEwzRzniaLSVhu3pesHMMKwphLICbpoiFaKVIw1pIqpCkxrzE4pE3MWce2UJRfOxxb6rVTMOWaH+Sjf19XCtpXIt1YsW61e/rSCwulc/hRm56LGvBqwVt9nm4Ohc0QdgJQLPkRmzZv8cN84Q+26L5wZfOvHVeLrp2D2Jw2/H+Ptn4PFQ3/7MUejYSsTV9SBOHvdGg5Ot+MFaMwHf1seN4td2URTJ8gaOJFwL6gn1l5r9do+BMjW1qYUnJF+rrYxPDTr02QJ7RprsVYBIJc2dWqVlcl1oSwg4ZzDRFEJWpf1O2PJNouUDTUnoJCwGCt5DzlXcckC1khbMMDnCFHAxXSWfjNwEbciRN1bLi63/PnRH7h/ds/r12/Y7++xJIbecjhGnBG5mGMK3N6+59W3f+P6+i1dZ/jqq8/57LPP2Ywjh8NeVNb3B0JKbLaXDH3PZrMhxNzGk0L7bqXIpM9InmNlyxuIaN6IdOkI5CidTpIaznXMrOmY49zeC2hP5x7jXNNYskbZPquG38r4c5gH5/R6A3woB6ptrDJLlg1FPTkURCS8U4t95J6nJLp9UY3Yrvbw/ci8Xm+1tf9xhSXDAijnbMs6BGKt/a1rx6/o+CVgdmPiWsLZD0PtU9Pw+1G7solGN922P6tRKM1lZSOtsG1N3VwXg3WZ9wumZKOizYraaFoGBmk3ZqUVV7GK6llWVsE2NYOibRxLzieYnaMYqGv5LGsc2Urf3IrZQgAkshW2M6vhV0oWm9PKdcfsEY39jO0Mw6ZnGy+IMWP7ju3lBX949Gfun93z5vVr7vd7EhbbD8TjQQ1XR0hH3t/e8rdvX/H2+hrTdXz+1Vd8/tlnjOOG/eHA/d0dh/2OlAKX2w19P7DZbCRdhwWz23crGrUhn+yJdZ4mle1JmvsYYlaDWAoO65h1xjLHub0XwDpHr9IxTcu0ilTbKta8GH+Gh5m9H4rZC31TGutWcdsYi8Vq6JoTzBaR8UjK4FzHh30zHkbt2v+YFWqvI6HLXP/xmP29ht9Dg/NQSOCh/JHz9669w0+B0xqQjDZQrq827X8fP9afo2f8kA1Zv15e/OC1U4SLyVk6V5CzihpLusbaQ16/tyBSI0a90t4YDRpUL3IJRRRqXp/RhPvFYzal5haKJW904aPhCNcZSpLJl3MkJUu0sU0YV7RdjLEYFQTN2oA7FclPqX0hhe0LzZC1xjAMA2WTmI9SGPH61bdcXm4ZNyOff/6c3d2OeZ7Y7+643G4xznKYjtzevOP29j3zfODy0YaLiy390HE47Njd3rT8vO1m5KofGDbSEzlFT/SZRMHhSKYChOTrOGcp0nJEjODCEuKt+SM5NTGonJU11PvcadeAeXWvrLX0vRh+xYhRXOVTpErbtDZ9Tiu3115rnWt1zv6gjbegG8rJU42pwyzzN9c+wzHK3FMJFx5Ye1LkRNtBm7FXX7O+vjpvz85zHkL4sQbAb8c/7/glYTZr1P6RmP2hy/4haq8v//T7yRkEE6ymtFT2LfMxzAbNmaVWL/eK2LreTd1cde1aMTCEuV9jgtEf1ME2LdpirMF0DpPECIo5Y1NqmG1AOoUobKdiMMXgTO34kZA8cOm/XpD2bIshaxmGgbQpKocT+PbVa7aXl4ybkeeff87ubsc0z9zt9my3l1hnOE4H3t3c8v72lsM8s3l0yfbigm7o2R0O3NzuWn7euNky9FdsNgPjuMHHRPaRQsLhKCY1zDalYJ0jG/n+Uom8CvOWJfpUVb9SzlKhrffd2o7OOWA+wWzbi9C3MfVe13Cuk3x2bdMnXWHcKQvNz4PZbX6eYXZSiaEYRSotV+ZyhcurmfwBZlfWss7nxcCra/H0PD8Wsz9p+NXk4HMQOLeIP3WcX0ADhw+Ms9OjnXvVZxBYgmIrgKjQYKuBeH7ukk7g45wNaTe/fQYL46djYOtkgdW1yFE7U6zBr+YxgJTmi0S7Upd1LMUew2bTFrKt3RmSgIlpm7NpbdVylm4aVV1dqtWqF1FDA4lSaoWSUVawkErBOW1+XtlHa1tOS0yxde0gZTpjGMcRUwrTnHHOEILHWcPV40cMXcerV99xff2e+1tL5ySEe39/Q44zlxdbnj55RNdbEUd+95aSEtvtBVePHnNxdcV2ewnWERPsdjtytpheRDc7K6GROpbGWgyLV1WZy6LSL6hIqKwdDaKWCgzLhmKtVb5Ng99ZgEqU7i3kWmhjRFNQwzTO2VZckvKKmVzN2fW6OZnLq9fKtHY0XYAVi5GREI/MaXkuxST9jNcZ40XzR1fnbavFLGc1Z9dYVnNZNpPTdVxDBTX35TfD79dz/BIw27bpVzFasG9d1VtR22i3hnrKZeMEPoHaiyG6rJ/61SpTVMpaT/AUtSt2PoTZ8tEW4xbi0tRNXRelybY5zCWLRIpUHgubaIzRvLwVRrHsFZZFaLdmiScKrm7gMjoqG5UwzmFbhKBGicRpkz7n0rFDrqFjHEdKMeR5wjiHD1KB++jxFV038N2rV7y/vsbe3mM1xHtzf88cM9uLSx49eYrtO3b7A2/fvSelwsV2y+NHV9JCdLuVit0U2e122JzpeqPtUzslKHSvtpUFzg2LpUWpPi6CvxgtoGAVsqy4T82byxr4PsVsazupuzSSvuJc7UnsVMRai0vEovyHMBtrNBVrPZMqu6eMpm7qa8yuaVryWj7AbGrvsLasquH3IWZDNVRPWfQfi9nfI+dSN4glTFR00T4MIA+DyvmAPuQ9nv/eXt+MtzrgC0Ox4EDjShqLZlaD+NClnlv+59dwfj3r5GinZeP132Vs5CpyqYUfy6hI1H659qroLTddwsFZjZp1eK9+TWcL6GJC2S2jLdpq4+vWvqUKO9YEV+21mNNijLaxVUCzxlKyGH0xRvzxSAqRi3Hk0fYCd3lJNxhSnLC2/3/svdmT5NaZ3v07C5CZVV29kBSbS1MSpfGMY8JXckgORThiwnM9/7vD4Tvbms8z45A5MnthVy4AzvJ+F+85ABKVWdUbRXJUJ6K7ckECB2d58K7PS07Cfrul8Z4vv/iC1xcXfPPNH/nmX78hp8iq9VxcPqBpnGqEBjYXV1w9fELbaDkmZXj3apoWGTn3xDoab3GeIhzp1rfeYr1V9vecyUbBcqzcIeqYwWalsynW1YQKvAikEpQrziJGATshhDRgksV7R+s9mjItOOPwhtHS5wxFw5QbWZN1LS0tCkfaXX0gl/AgKQFR0wPneF1Wt3yO6sLWAsuLvVJXf3nYLNvR/jPFqlz+SV2vM+23gsi5mpb37cfbpsdDnbcajXQT0+bHL9v7YPZYzUYoytcE2RUoJ8Su12JS2Jn/4Ph674rZWqFCxr+TC017IrWe6ngKRW0zt9IUgWyMEjQOazWzeO7eqzcq1pFyVVB1n7lR8dMQEjvidnHTUWvIm1JhKk/YUMd2htmxlF6LMXI4DMSQWK0uuNg84PLSYVpPFxONtUjKbLd7vG/44osvubh4zR+/+YZv/vUbYsr4dsWDywtc05DiACZzdbHhycMrfNOOmO2dK0JzGjn3nBWsb8A7tXEYXXlzzM4lbElIY6yi3pslF9f1lD5RMpcFxCS0eoiW4jTFsDGkgE0G5z3et+qBA5xxYPxo6cNotY5qOHlXzK6B+HPMVlmIo3VZ3fIpqgs7m1P7rAp3TJLkok/z/aThCjXpoxgG3gOzb8/qpWoe+SgzsCYbTNkwVSqfC1+6d/PMkrEczHmbb+p55/MYHyKlEHQdNnNs2TAVN4pgsxjp+fWWwY9jnMUMKOa/m39mjMZ7jd/Xc5fEAimaXT1fvTewRUDRjasEnXbcIJLRjCjUFZlEeaKMsVgPh27L/rDj8dUVQ+iwvXIv5ZxofIPUepBGg49rCTppvC58KpZmssQiIOqiGYaBOlMyBCRGGgvrdYsxsNtfIyJ4Z1g1rfID2lyKeSuAffzJEz766BHb7TN22+2YZUbluhPBedW+EkHBo1QbGQpBZ0yRmAOXlw+V0yp2YBKubWmaNRlDH/rJ3F2FQiPkkhady0YMkokIyVmyNQSEzWZN4z3d4RpBLYz9oDEYAM7bQqETQFKhUdHaw96kYrSdCDdb70kzS8podauafLUWz9bBuI5yFf5UuNN1VqsTlDUlMmbvZcPISYgxNF7dQbEfVOg3ZUcUbXIUhJ0bzykiCoCjVWUGVrN+1t/HGDVbfPb5fftxt1quSzMcJytXTTaomD2zuekR1ZolxePA+2O2KhWTorLE7Araoyr6PWK2CnzjEeV7CjFweX4t9qqFYpkqlAuiAlpVRMmaaW+xeOdIonys1hjwlm13YHfYc3X1mC4M+F45TlPONF4J8YdhUN5Wy1iCzjdSaviKYgAQJd/A7ErVHgYhRgHb0K7XYAzX+53OX6lRG7OMmG0KJjz55GMeffQRz7ZbttvdyOagQqwKGs6rlyOQcM5rdQ7JxDBoLHWKhBx5eHmJWEMXI8lA2zrWjbIj9EFj84wxuCK4zjFbCoNCloAQsS5hbEYIrDcbvG+4PnQ4BFIkDb2WqgSsV37XkLJWJLVODR44ktFnnxFGq5v3LSLpnTG7JuqYkoinFtxpD6nXrLBkmDxyEhoDzjdgDUMfi6BvT2K2WivncpOMylSl8XlfzL6TzqVefGn69P6DVHs7OuepdnRtc5yZc0qDPaUJfoi21HpPgWC1urjF9wLFcjVKp9QA6MlFaXDOIySN/4ACkFmtPEbjO/T9JGzPnSem0gyIKZugaCMU65cp4yJ5FF5Uo0xjBmmOWmVDixmrMKjxdQJi8bOMUz2BZs3JmG1maNq2ZJVpV5V+QLU36wRnPVhDnzIpDGQRFSK9Y+2r9ls1v4iIRykWVNNUr4DFGlHzu0WJjXN1eUQSGTFZx8Cqi3jkYJrPwTiKGSMlCadY+Ly3rH1D691IpIyo1iln1mtt84fPMAxjRl91L6WUaAvxbJ1AdfNOQbnWlJjGmYXbujL+9vg6y7V46u+81WzfuRa8jA2pe+8+ueOn035smK2HHK+pc+f5ITB7tLrcCPyXYt0f4YKaaFgx2wgq8CFIGg9S163CMEkKa4JhEnBnqG0KrijcJU2ykxGxqXyveSa85FRM0/nQAAAgAElEQVQ9GGp/jFGrbCQpDDOYEbOtgDWFULgoArZYAVK9D6BtG5qmGW84ldJpFO+It6po5tQzhFJEoGC29esRXwWICF40ZMUVqyaiyYZitJoH1imxcU7qZUqJTCIbUW+NlfE5cGMOqAyKkEsMJDWL13savy6EzXrfOlQWc8odMmtvgtnOtIwhCwWzE3OlQ7kGl5itL8zRdW6uxdsxu2b7zr1N74rZb4QEpzS7mlb9fbd5KZK5abP2Czj6bN7n2t7XVXXOpTF/PdculxORc8Y6jqRwmX2nQmNJ9xchW3WNphlwGYEUS21W50ZAULehgkAVi2tfsplM2Cq4FTDJulRz4YPKOY68htVyaaRsQJmoZCQKNIVmwVhK+RJ1p5bMrAzYpsFZQ+ubMcNo6Hti1JJt2KygmJVIVETAaR1jTY8v2pdobIy3mrHlDOCtuk+o8UGWbNQy1w+RkGsFlGKNLXEedQMfWREkTWt4PqdorERTaBHUujaL2ayWilEfOb2+5mZ41eTcOB563ePtJ8VaOV8jxrhZP03JUlM3lIic3fi3xa6c2ivn9vip4+/bj7/dY/b7YzbOLiwnwinMFnEkqwq6jITqisl9KYfp3KR4G6MsCmr8WvYlH+3HqrgrpBXqk0J/UnkNq+VSRJ8FNWECFLNto4KlVTkRW+qVVgYEyDSNhgQ1vh0xqu8HQoz6rCj8YilrOdGK2dYoUfFUDUjj95L1imXGYT2FSksKY0G5T6zWac9hxGwobu4zmJ0kz8bqaIY1+9erAOt8U55fUnC0lAc8owTM18ZtmL0UmKRYZeefOGPGfhpKSFipXPJjwey3onOZb+Tvu80HoV573o/bbuwUyPw52m3gcjO2wBwdJ5gb4zuOvzGQk8a/peKmLYLcVDRwCvSfj109R86pnFuPlaSu5BjimKWsMWz2qF/z86nmYkdL4ERYqu6cnNQqWL9zzuO9ptLHGCElJAlDFAUa47EOssSjDUdU12sIxWkklsY3GGfHrNwsKmyq4OtIMoUdGKPCbc2Ma6wjO4t3lVInI0zkobYQpNZZsW6Kv3HeYJ2q67lwB2KUfmEumJ9aA/X9ck6NMWNR9bvWkzGThWHcC7OHxRgzdEKDPAcY89fVEnRqr59yo923H3e7x+y3a2+D2WZxnEFO7m/dV5qfNwyBmCqfYLU+UY7lVsyu+FaVzJS0TnAMccxS1nJ17sa9zDHbMlkCa2GAXOM+k9acr99557RMpjFKQZJAkiBxwBY+V5wlylT2VF2Met0cSj12gcY3BUtLVm4RCo0pwl0VkgExRbgtDBTONliXMc5rDGBF7ZrgaOw0kBiMqxQuVrOmnT3CbGPUsHAkmJ9YA/X9+2A2xtyK2ebEfM3Xzp8Ds28V/Kq5cCQLnltLPsDD4Dat7FR7FyD5vtrcjXCb+2IEk1T87oss5eIfLuE1hZiYslBtIYwU5agbDh0pRrxvpgSPrKb7kLNmesmxiTdLUhdo1jq66jrMelzR3nKKjAHX3qsQaYoFUaq2WLSJkjmlTcEsZ7S4dqn/a6xHs6hsKV1ki4lfhcAcQXCI1EobhlyEMsSQhkAsRbuTwEqgbVc0rVeLeUGyKRtVxqG0xaReLd11M6i7gVHg08ogA5IDKizW49Gg4BKkmnOJRaFm25WrzIToc3Ne10jTNNN8ZI3Vadt2TNapx9siqU4PlomqZqKsUQCsCUCcsFacAopTrY6Nc+7oGktB4d7V+9Np95h9vr0tZoeke3WZpczs/UhMrD9UF2bZmylluoOS4Tfejwke6ge25ByURmsR3J8kE7PSNlnnSyy0kESFo5hFyYAFQPBeBcM5Zmut74J7eYoRU8OdFFqySE4Bg2hpOFPi+iVjRWvGO1vIiWPGUa2JyitrnFrtjEAYElmienUkgaxYtS2+bQowW0yu7sqK2DqGyrsHFbSXmF0FvpQSQ0yEXJJdZqDtbKlzJZTEv6mcpqFaGY89Nafm/C7Mrsk6c8yusdr1fk5htmb91t/eFNL/3Jh9p6t3Lv3ONaK5Kf9Dt/k5lyWI5q6DZQDj96UlnpLM53/rMefApJqKT45ZqUYxjSnjonfOQXGfkjND35FjQNIKSdVSZ0pwbCLnqklM14USo5cTki0WPaZyMpFrbVvtuzOlLmzJYq2xYJXAWO+7bJLMGFdoSkCtL8HA1oL3rvShmr312r5ZIyIMoSPEDslCg24228J+vy9aZFDAM44Ue1KwGNfgjKbupxzLeBlcjWQ0hXK1ZBN6LMkZYqF2yZLJcVAXdwykUgHDGM3Ytc7QODdWZRo1+GlCVSA885BarpW5WX8el+GcI4kGNY9ruQDTdA4hp6qbU86h1ETWHFtGzj2QT2mz89fnvq+a/J/L8nLfPly7x+zvF7NrNYo6pswEFS2lCYp50PUDIWZWSYiFcsVQCLcE3CzUZInZKQs2C5WmfaxNnpUmpmK2qe5WKxjjqLFglcBY+1zuM09xhYXSWC18zoG1+tqqWzLnTKlAz7pRC1MXBroYlDKLEhfY2hGzQ4yIZJxJ9DFhQ6JxBm8cZI3pwygLhVTUNoUou1REsniMS4iJaMZ0Zojq4g5R4wEpHjKMWveca6j1TydBqmKg6udLCpRza+U2zM6Syrmqy3Z63oIKtEvMVtov0cRLfhyY/UbJHfNOfmitbGnaP/X31I0sJ2f+m+W5P0RbTtbyr/d+AgJuAkz9513tMyMP3CzqF2sMjdPFH6zFmIgI9EJx9SaQGmcRITuMLzEJVG0fwBRrnFa8UDJNQzJOCWQEldzm/wBTyiNVt2+tJdw6r2TOMmnMY+Arubh8NQjYO80+q0KgSzXVXEFIefmUVy+5RJYBY5QTC3P84FBNLxLjQIwOopKyxqwbzHsVNqn8enmmPY2bsgyzKD9hDAHJgZzU4mcxOOuKdmtLrIitXt2ZZU010KR+l0IXcF4zq+vgOLtwlj02TXvp88LdVT7RJA9NBIn1O3s6dmp+7bv20FIoOLVe39TFcd9+HO0es6f2oTDbuPKYzJVDlSPMNkYVUo/F2kAcJY2eYdAarUmKpU4El0F8qZ40An9NmhON3xMZMduZpDarYl2c/wOwYgrOFbdv0Vq9a2nbVuO1F5hdbHXKWmA91vlSEKBYGJPu+arsm5zGqlXJJYaSrGFr3sICs2NKDDHiYiRHSvGDSE4Z5325DuoZyhxh9hy0s6iwHEIkZGFImZAFg8UVmrKK2daXJBZTeSeZVWpJpKT38z6YzQy11ZLHYu3o98ZUi7vV5zQ/Lsy+VfCbb4xluvz3QfFwzux66rjah1PHLM2oH6Jfp0yzpybuNil+DnzV9D6NazEdz+g8tDSZjr0TCGlAUmBGcV6ygxNGsroObY1jmKZW3Q6RIJpOb6sgVIOVRSaiaqvFxhvnR3OyiND4lrZZYY3Xih+5xsLpHHjb4u0AVLJNg7NKwJxJZJeRpFQAOUWs96zajfYjNGBUoNUawZrAYEx1gavlK8WokR7FPZKz4K3VfohBGcv0PJas2bkG1YSrezSri5ta0SMLWMEVodQWq5/3Xil3apUUqA55BeQSa8iZ9VXXTCgl1ozRKihzjd7dMPlXrqaZ69rM3Haju7poxlaLgJ+7/m1tvqbnD/I5LUf9d+/q/em0e8w+vt78nO+L2TXEZYrb0jbH7MRs7MUxpEBIUgsJKcFysfbl4rq1VrN0/aK/MSWMhEJbVbwt1PtQ698cs71rjjC79Q2rpsUbq4wQWTBuIq5urWewfgyUMVYVd2e9llhzGZvUSxJTxnvLpl0B0AQhGSXaTjHiTMnYNYqUFbNjTCpkWsGIUuNY6zUmT0o92zoelFAo40opPFNiuYWkjztyQkvhWUbMxliN//ZeXehSCYnU9S1QiJ6VYPrc8noTzNbydtM8VaqyI8HPTNZfa82I2aaslRTfzFt0rn91fdTP3gWz76zcca5TowvsBKCMsRRIeZCbo41fWzWn3/jdzLx+SsKtPvd5EO6yn/O/8w0/H6j5PcCMtgRuXL++FpnYwuu1pyzN6T7mfndjDJuV8jblFMlFI/BOSUBTuR+9p1K+RjLOCMYZIgaXwGRhe33N5eUVSCaGHt9eYIFV0xAxxBRJydC2Bu9bvLclgQEkJQKZxk+ZSofDgb7vWbctFxcXWKtVKmp9w6aY/lvXojF9qEDXNGj4SCYn1f58axmCCn+rpqUt9AAxBpzRVH1Vmsp5jKNt1oiBEHrdHEbP13UDfQh479msN2zWetwwBDIKhMbaMWYlp0AIPWHoSTlBCjy4vICc6LqOnFXQCiFwOByQdGAYOiRHGt/SOK8Cn3Nq7USpBKQEP+ZcXcnqQhGg7/tC1TCLSZmtlboGaiBu5Vk6VgDmO+fmw09/l0Zt3TcNMfTEWKqMmEnTPnpIVYtB0f4q2M8Djuf7YL43l3vuLkC6bz+e9iEwO5WH3l86ZjerDVKEHkExzjivZPs5jXu+lonMIohxGGcwREgOyYbr6y1Xl5dkgT5ELlqt19o0KwyRmCImJUzb0nqPLcI7xmo1DgJuxpBQMbtt11xcXCheWzfWEffl2Na16iQWwVtH03iwdsRsYyy29QxhQIC2WdE0yt0aYiQZp+Uxy/MDUUL7ddOCEfoQNFXOGHLKDF1HCP2I2ev1BowQhgFXFHFbUotFDCFl+hDoh0DKiZDg4vIBKUPXdYXX0I2YfUhCNwzErEKtd01x83qMcRgKUXPBbOXULRYwq7Tbfd8DMyPHO2D2HLTnO2yO2SlPWcFN4+lDJJXzWON/cMx+IzqXNwH+2pmjQbhFcVtu9vnv3uR6y+POaZlH/bnjfMv+36aVnvv9jTGYvxb1DxiAMQRBP59+n48WhYgUwnD9fugODN1erW8lISLnpGn6JV8rZXO0AJxzmLYlxwHJiWFIBUA6tq+3HA4HGue42Fzy0ePHOOuJLtKW1H4RQ5d7omQav4LCHp5FwaNxGvjatp7GNSXQwdB3QQk+u55+6DUbLWdCTepIAYgYScrv5wzGONp2xXa7ZXt9jW8a1psN1tdC4jLG31WeO9c4Gjy+cZgeTEpYZzR3TSLOaPUOkUSOAxZIkgpIei307d2oEXrvqaVXCkm77vVxOssbo4HPS03sXMDtjfXBtEeMMXMvQvld/V5v2I7nu31dzvdifX2bQLB8WC77eu/q/em1e8w+f43l72/D7GlIzIjZQvHkysxjssBsTOG1E+HQDey7gVXTYpyGxKScR8zOGHWlLjC7bQ1D1JqvaRhIKdEdDiNmO9dwubng8eOP8NYdYbYRoc8dWSIr34w4lquL1jW0bYtv2xGzTYbQ9cQU6bswYrYKtUFj+JIQ0RrC4pQM2hnDqm3ZbrdcX29pGs9ms1ZCfGMU50vMUOW5c43D0+AaD70hJc3MzZRwFuMQEkmEIWbAkiSpwcR7vG9w3o2eF+/9VHhFJnwe8ZQJx42x3xtm6/UrYs+utVh7PzRmf1hGT45NkPO/dx13bvPdda2lllfbKYCZu0DeBWCWQHEOuE4BUM7HQl3lYZuXYMk1Y4hpEVlrx+BQI5nucGC33bJZP6AtGpVmUc1M7JJIyZFSRKQtSROOoUv0h1C0GM0y8k3DWsA7j3MNr169RhIgUqqIOI0EyVqCpmlavK3l1pTWxBVLmXWWplEqgBwTQ+jpuwN91xPCoNZMMtv9gZyjViYh453BezS20cEwDFxvv2PfHVhvLlivL1itNzTtWslIBTCi1/OOxjlyLFa64lPxjVdLWZyKnw/DQAjKoh7DgDGZtvG03uJt2TBW+6HrZJoLnYyyHgqomMW/8UFQ3eOzzLD5ehmtJFmKlbOulcWekapclmvMTfrcXPNz68t8DS7X7Jta8Ob75r792233mH0asyXnI6Gu8rDNSx0yWjXr/UixbKZyjFEFe7vjwXrDZt0WYmcKj1+x9EjGpURMibZgh2stqRsIh14Fk6iVkJrGg6zxztM4x+tXryCpkFoxW0s9Cjkm2qYZMVsFtSKwOY91Ft80GGNJMdOHgUPX03c9Qwg6BiQO+y0xZ0JKKqg6D95jXAPOMgwD322vOXR7LjZrLtZrNusV67bBl9hoMUov43yDcw0masKfZGWG8I0n5UyMdS7MiNkYwxAi2Rh802J9i9givliHcY3Oc4nDO4XZKvR9WMw2i+OqdFmfG7UU348Ns+/k8Xvbdiwd3wSS20DmHJDcpbWdA5D6d5lldurY217X3y2l/3NtqUnr7/Pi91K/GP/UrKO66EdAgrEkV3/Ysd9uGR4duOBKTe1ZOV2sUZJjzciKxKjamrEe33gkr0ogLaxrXwvzubMaZPuPf/hHDrs9u9dbhiHSWKfCnvdY1H3grCvuYtCYtDRaMx88uGTVtsQQ6PueoZTXyaJ1L5MkXnz3sgg0mlSSUyBLwJYKJWEIuNazvljTtGtSht1hYI26Og3KybRqGhrvgUwsrt4UB0QSzjXkGMgxYESJVYfuwNAfgETfd4jk4iYxx3MyXyfG6L1NO3yctyNB7MSDarkm5n/nFuBz39cHieFmTc+lDjkHkOV15y636kKY93W5B+egWI+7bz+N9r6YbRbrcf79Xxpm58XvR+SevcizsTFH59FkMINhd+jZbvccHg1ccTFitlg009M4QEmZY4yFtN7gG8+qZnGIUFG7YrZVElT+8Q//yH53YPt6RxwGnG1U2FtgtpYMU2uglprUe7p88IC2XRFCpO97+mEghHiE2S+/ewHGlGoZSnUTRPn0xEAYAr51rC/WrNsGcmI47HCsVVBFjQRNs8L7hgyEFOlDYIhq2WucI0TN3M2iVDmHbuDQDySg63ut8mRnZSgX861zUYbLML6v83YkiL0DZtcxO/d9NdjMMXt8TvyIMPuDWfzOmczng3NO21qe59S5z13z1LWW35+KZ1n2bdmf5cDeBiC3gU9tmsUppcD3lJE1CsfIGLRfF6h+WzQVBGe1RmV/2NMdDqRhGLnxkKnEjfY5E9NAiJ4meZrG065W+GZ1xMtnjcOKkoPmkPnVr/6K16+uefn8BfvdHmcs69WadrWiLVpaiok4BIahIwSlVGm8Vrrodh3717tSxzFoPFDOSAFGMcKTq0c4bxESfXdgt0+EPpJIOGfZXF7y4OoBjx4/5vLqAc1qhfMNxjWYos22q4bNZkXbOIYw0B8OdN2BGMOoRccYSSGQYiDGKogOGlcTAs4Jjbd4ZyeQ4OZ6OzWnAiVQ2d5Y47dt6ONzKKBPxy40vCL0V7+Bfj6ByKjVLvp8sr8zsDj30D3X3zfVNu/bT6vdY/bp+6ktlxgxKmpXxZwqCJoxaL8qglI+x2jRNawjxsj+0HM4dAxDGrnxRJhKSaKC5pAiPgZ8avBNw2rVsmo8c14+ZyyIRVIih8xf/epXXL96zYvnL9nv9ljjWK/WrFYtjWvJ0ZBiIgxRY+SKBc35Bu8bul3H7vWelDIhxRL/SHmWGMQIj66eYL2Wpzt0PWm/I/aBRMI6x+XlhgdXD3j8+BEPri5ZrZrijTEawoOlWbWsNhtc0zKEgcOh59B1hBip3iqtNZsIMRFiHDE7YgghIs5hfYN1flLGuRtry6ogZ3lvzBaZBPy5EGhM5Qg0R5g9hgP9iDD7vS1+t4LAHVrf8u+7AMi8D8vJu21wbhuYc5Ow7OfyPOd/lyc1cVoTM23R1q9GjeJYC2ciEZXM0PXstzv2l3s2zmMar1m5Vl3C1pQ0+BgZhoGmafBey/H4kqxhKNQl1kJWC2GSzIMHDzHisFguNj1GpJTPUZP9xw8ejpQoIQxa+QNovFbpEFH6lWpaHDUQqQHQ2s9MZggd29evQTKNh6bxrNYtD588omkVJDYXF6w2F7imLTEzidZZLjYt61WLIPR9x36/o+86UkqaNBMHYhhIoSf0PUPfEUNQFy8alGxtiRF0ExDMS96cskyMa0An7uR6mJ/jro1421qrFsF6iDl1zImEkOW5ap9quy12ZP6b+/bTa++L2bdN+18SZqtbtx5U/1MaKmCqsY0Z9+lxnw2VrD8L9N3Abrtnf7nHuw2+Ka5YW8RIo8T6MaYRs533msSwwGy19EHMmSyJhw8e4MRgsfSbC0Q0RlD5SD0PH3w8UqIMQas1gZQ4OU8WzSCuhsU5ZqecFbutIZPpwsDr11s1XHgVTtv1ikdPHtK2qoxfXGy4KEq5MWpdtK6l3VzQrtYIQtf37PZ7uq7XhAbnGWJmCJE+JPo+KAdiiAwhEqqQbTVG0M7Iyd8UsyuWfp+YPVoE5+tjccxpHD/+7PvG7A8a43dDmysTdeq45QY/J7m+CZDd1Y5Kp5jjDLH6ff1uKfXPF8ObuA2WWmf9q26A2ffjwps+VyvguPtUo5wtlhoTEkNge33N+uI1fr2h8S05RcQYJR4pmzdl1AUaAz5qJpnyCE7gZ4smaaxgrdaCtM6zvrjE2haJSWMMpfACxkzrGy5WG1wpRp1zzZDL2NpZ0VgYDGNm1BB6tQISGUI3ZottVisuNp71ZkO7brh6/Eg10sbTtCvaEt9XXdjrxrJqHYjQ9Qd2uy2Hw54QNHklYQmDZu7FEOi7jr7rNKM6JXKhxLHYo42vYyKF1PnmA0JGqdzovj5hYThn/l+uDR0mvd7UZHzYjJaP8vmpJsXKsOR0Wl5r/rBbruFT63XZz3tX77/ddkOYw8xCH46P+0vD7GKymd3X+IPpc6kVIvSfORIADTX2OoTI9fWW1xdrNmsV6GLKGCMY8ojZ5ERIccRsCxjnp1hjwIhm74o1ZGvJKeGd5fJiTVvoQnJO+rwQIcdM41s2q4sRs1MZ3yLGjvKriDnC7D4MhBSJJLowjKwMq9UGv7lgs1nTrFsePb7CGPCNY9U2bNatunyLC9s2a1y7QgQOfcd2t2N/ODCEoETVJPKgHqIQIl3X03U9MeViidSY9FOYLaDUN7dgthovzZFi866YfYzY08KY5t2ezZESUYPDD43ZHzy540Yb989pafTUpjx10/OJOBKozmhw88/mg1yPn59/nio9DyJ+E9CY38epflQAqUbh8Rgjo89fyxOW8jSFyqX8GIorwWA0+xVLzJHdbsdmt+Py0YBbXRRGcVNKBk3CpRRBR1JDNp6Ew5DReFslwvTW4Lwjx8wQlKPONw2ShYDR2rlZ+97HAWvBG83MckVT1TJwdbGVORN1X9dC4CkaQk7sD9d0w4HD4UBOkdWqpV2rW8N6x3p9gW9aVpsW166wziNGTebOetUkrVYy2W2v2W5fq+s7RkSSVhQRC1mrm2ic4TBSP4QQtJKJTOV16pqo7xvnMRxnf1VTvgryk0a2fOicApBT68IWS8L42excVVkYnQmzZSj1KfOGbf5wXK73Uw/OU/29b39B7R6zj/be+LlhxGzlajMjZufx/upWNSU+zhxh9m63YXh0ycVKK/cY0RAeM/t9KuUvmyR4k3FoQgVWnyMWg7F+xOwUBqw1NI0vFTWC1s4tmD3EXqtyGI9rlOQ5Sym/JsfYI1IofUrFKBMTKQeuD3sOQ8fhcCCmTLta0axb2tUK5y0X67Umym1WrNpC4m8KbZl1uKYlW0PXD1xvd7zebjkcOmKJ7yMLVgwx6/33w8AQ4hFmp6zPlHOY7V2jY7PAbOp6/ACYjanE/vUYOVrb82f9ErPfRh/6vjH79sodiw0779D8dR0IM+OdgeLKHIskl3Tu4ussoWi6cWv5sDIxplqtkGLlMlW0VumdYmwpg2CL0KRHlH6OGizklGbhAFppoor+pmgDgi6+0Q9bfl3CHPR+FlrmfKDPSd7liPH+x7qOM2uPanpV2NOEB1PGBgGTDckkkMBqdcmw7/BACJHvXl1jm0tM4eaTpCOgJcDQWryxJ0en/HfZYEQDZJWPLpaM4zIYFkUfC7YxWi7IOS0PJJleBkiZGBI9gcZZvFXh0Vo99xjLmJWsOeVISj192HHodqTckyXivMG3Lb7xmnlcA5J9dfOutUh3VuoYEUFQd3E3DOwPW7aHaw7djr7fE0OgbRwr79TyFwb6viu1iAVnLV1SCyAIOVULHtM1yqLJhdhZcr4xp1LXiNx0L9T9UGd4/LvcR7r4x2BjUKLS5flEsh5jtaLK+D3VxaF766aVxowPxZynai712Olhet5Cs3zg3rcffzPmZlLEKcyuCoe1x9QRImpZUTnDHGE2RUiomF2z3peYjZjZe8p/aiWzlrOYPSqsRfCoO8gaCvdp/VotaYIg9bCq69bv3xOzDdP9T7F907Ncx6xcQyqumxuYHQQuVyu6/QB4Yghcv/qOy8bivBkxG2TE7JiFPmZczDhyqXFrxrKZkZK9KqJTYgu8WDCNluV0rmIaDNIrX32IBHqsa7DWY6wvz2wzxjLmUgc45kSfErvQs+sO9DkRJWO8o239iNlNo/QqrbdsNivWFxu8M0eYndDXw9CxPey5PmzZdQf2fU8IEde0OL8iZWEIia5XS5+IVnsKqaPreoXqWqN4htl1oUlJmKnE1scTKjOr5ilL303UrrA4t+Bay5isARQDwvH5shSXtJ3wtQqFuj5E4/4W3tC6l3IuBRqsHdfhPJEQc7vQ9yaYfavgVwW6IzNj7ch8E82PhdH9ZJisI2q5KqbWCQ1KSRVDKp/Np0CyMO++1GOMAoudBbpTH2DL8ZAiPNZJZlwDZRCZAm1n96LHlvMynXY5qEtt4Zw2PFbLmAkL8/fG1HTxkiFbfmMwRKOJIc6Bt5BCwF9YUozsdwfWlz3NpmHlS5wCYGwpuI0gKZDiUGrcarZULeyhsSzV1QDWlUw1p/PlrcVmSFEDfocQySRCjjShx2dLa1X40zq/ghLAKKN7iAMxJQ3azT1RBprWYrxHaAqvlZYZcs2Kdr3G+gZjHSJWq5NIVislQsqBro8MsWO/37Ldv2Z/2DIMBwxKVNp6p4HMfUd/2JPCQBgGckqkGAgh4H2ZYWNVKC8b3RijgcMw1imeq2rT/Cv4Lk3w870wfn68gFmgegYAACAASURBVI+0xfoAPvWwhqI3GVOoc44fXM45cpjIv5e/H/sppUaoWbq1ax9ut5J8CNfdfftztVPWgCkpaP5ZPVaFDkMtSVUxu6xOVZJljoG20FzWgmMTakqVGmurePQWmC2CCo9mQuKqbVXMrgltS9QehdQZar8rZo/VMs5gtpTzplwD/oGSyZtLnVmcA+sJIWEvPDEmDrs9/eWaZtNg/aqcV4pFT1E7JGGICW8cJgsiCXy9h2JhlDK+rnhdnN6/tR6yJUVNrIthIJGJOdCHBps91rYq/BlXbIha7zfGxFBqmMcY6XNgkIhtG7w3NAjWldroFlaNY71uabzVpBURLYwkUhBbvTyx7+jiwHa/5/V+y/aw5zAMCOrFcb4lDoGu79gfeoaQSrm7rIkeISh9DCUxsSrYZS69q3NV1/DxXFbZJGe5gdnHe2H8ZlqL43EVsY/lohsKRBE8TSnZNr/Wm2C21DWWpuIXR0TP9d97YPadrt5TJ7jdurW8kWNm7OVgLc9fN+Vycu66kdu+X7JbL4FgXkZoCRDzPoxM7TPz67K/53zr7/LwnH6j52zblkOv1ipnDWEIXD1e0/cDyXT4Zo2xbrRUCVmTF+yUlWaMSniV1Vyx06ioZurirFYDQawgqQjt2WqxbcqzwCQSmZAgZ4UOJUs2SMqlvm4Ycd03lhUNMQ1Yr+V5nPcIHrGGdrVmdXGhlC3eF5eD1iXWDZ5JEuj7A13s2B22XF+/ZrfbgmQ2K2WUD31PjAP9oSOlqMkwuy1DYW3XGooyzmclu5zP0Sk6iaP1/gZWsGONkhuv55YWmCwfcyWlslVL1Uw4Xr/LB9eb7pvp4Xc3eNwLfj+t9r6YbRc4eY/Zb97Gc5b3bdvS9YeijDvCEFg/vmLoezqTWDceZ81oqcqIJi+U6kBZKEltU/UgxUKwmBGzbYndEzjCbJsNrmr5xpCMkNHKRiZnwIFxGBI5CUOMJcu2GGYaT8OKIUWs13ro3js8grHCetVycbGiaTzemxGzYxGGszEESRz6ni52bA87Xl9fs93tyALtaoMY6PvAECPdoSemRN8NbHd7+n4go5QmMpvPd8HsN4Ds98ZsMGN9++8Ls29blW+K2W+c1XsKMG4DmPnvzpnY53/Pbd7luU5d6xyoLTf2ORCZv18OvBRVbg4iNaZgHmew1AqX5xY92cl+33bf83tz1pBSz2ql2bl9zjx69IjX+0B36HDuwGqzwTuPkIuHYnLHU7V3VDPKhQ9KtdvJbQNaP7Jev96DEkIbPbcIsQQQp6xJHU7UxWvR7Lecomb4AjVuJErSwuTW4K3DeoeIA2dxradZab1JjCHmRBwGUhrUPW2EJIEhDfThwH6/Z7/fMwwdq0ocnTOHvi80MbtZckSm6/a0vsE5S3VbzU3jp+KKJheY3DieOzbXuVbXWs4qXN+WsTW5myYagdsedsvXdW3OQadepwr3xty9t+7bT6PdY3bt27Hg9y6YrZbw0/2+7b6PsMI6+pSUSst7cu559OgRYf+a7tBxcI7NZoV3nlzCjSaPQQ2j0vNqXdg8YrZC2CxubWZBqveg9X5VoBQRUo4ghpwTWjpNLX0GW7J7M7GU5Kvx2UkiQsJYinXOKtY78K0bMdsYSDkyDJEhaQy1GEuQxJAGDqEfMbsbBqUWMzo3fX/g0PXs9jtqckQG9l1H41vN4p1Z394Vs98Vzkb8zLlYDm+rqjElyzCbiw+F2aJv3guz3yq549SFlp2bb6byyXj8skD3fJLm51wec+rap46tx50ayOU9LAfzlDQ+vdYkiAokpwDj1KQeTXi+2zS7vNfpOnqMBrA62majXEtiuLi44DDsOAThervVIN7WldgNjcMRVHit/47HctZXtGA2zGsqzsfCkorFMFEqZidN6nAiJViZEi2CuplNEfhSLAW7M83Kl6LajdalFIsU659vfOlVJsVIFzpyDFij2m6WQCIUSpstoe9xxuKs04zdnIhh4LDb0XcHLtqWxhkePbxie/0dIpnGGfKZGta3Afmph8Rt7dQD5fhzndtJk6tuqvlvLFOmYJ2rm9c5tTdPWUTu6uepdbzkVLtvP532tpg92TC0/VQxW2AM9P8hMLuCds4Z5zybplXaEslcXFywGw5IOLDdXmMtuFZLRmap3pgqvNZ/s77O+q8ueQWzWrt8PhZWBDEJEcgkUoHtLAYRR55VfRqDg4wUHlatL5vJ+FWDdabQdlmsZKwRtf4VzM4IMSa60BFiRkxxW0smUKx42z19H7Tik3WkpJQxQ4jsdir8te0FxjVcPXzEd9dbFXhdA+nNLbPfF2ZXA86IrcgNzLYFyycZiBug/UNj9htZ/Jba1fy7c4O+FPzOaW5zze62jXmub3cde0pTPHWuZWbY/D6qq60ed5fWd/IaMzg9txBPnXf+wE8p0XgN8n+93bK+egLAer1CHHx3vaPpOtrNCr9StvQkqsH5fKx5jFUgbDFNn9Cmde3M41wsuEJSmkb4QQtuaPZaLWGUa3xhdRcDzijJc7teqdnelRJCKImp865skKKdlkSOLIX/D6VaiWlgt92y227JKXGxXuOdJYYBieoWlpyRnIhxwFv45Gef8PLF/6Pbd1jTasbaQutfruljTXHxYDo5g6fm7uYanH92dM3ZHhmBwdTSUDJaCJft1Hqrn50CgON7geUeve34+/bjbu+L2XOk+iljtpm9/iEwu36aUtKYZQPb7WueXGn1jdV6DU7YXX9H1zWsNi1+pTFsWnIzItnfwGxjLcYasDfHyBijCWOzvlhRyxzIiNkGSpKfYnYuAu4RaltdC844vG9YrVuMEbyzGm+Mhss4r5Y+KdermJ0kl2Q5tToOKbLd7thud6SUWa8vsM4zhEiMxS2cRRM8YgTr+eRnn/D/Xryk23e0xgL5vTD7hoR2Yi7fFrPrIUvMFsklTzOfdM2+D2YjN/forcefaO9k8TsFIGe/u2HBuF3yvQ1E7gKwOVCdk/TnEzv/7M6HWwEQ5MQ55n0+tbgWWuDp0x+fc7m4LQKSMLahH3pSinz+2VMkR1arNX7dsDv0qjkdOi7sGu8NOWVCSDQuk5uMc5PV6GiTMEu+YVp8R+uNjHMtIhGSIScDLmGzGROCKZm8kqfAb2stK+tofINvGy1NJKoRGu+waDyLGEgpFldvERqN/lPgUkHuenfN9evX9F3HymvZNmMUMNIwoLgoOCPEoafZtHz99c958e2/8k/X/wx4rKsaMyWjvAL9PImiul30PuZzJZzfdHe1JThNe8UcaYa6Zmr2YnVVVQuwHD2Az4HUub017SEl1p7HVC3Pdc/j99Ntf8mYrcLEacye//QUZovUa9x2/tsxW7AkgcYa+kFj155+9jkxC+vVimbt6Q87YhjoDjvW9gLjPTllUghk15CbjJR4NmZ7eo7ZFTNGgWHW6YzQOkcUwSQwKZMcmFzDXVTwiymTimJpyrmcXdH4hqb15BzJEhVXfWF7QMAo+bPG4HGE2YJSswwxcr275vXra7qup/Fatk2MIcaBYUhg1OsjxtEPkXbT8POvv+Zfv33BP1//kwoqI9G+KUowZQzUM6LvdUYxx7NalZoPjdkLyNa9IdqvnIvSUTOwOZ9lvrzGcb+PX2dRHsb3wew7LX53SZT1mJtWMsAYlkG6b2I9qOd8G3Pnuf6+iaZ2DriO+lwyq7JRrcMK2BKfIPmmv39cIPmmy/tN26i9Hq2sjGThk08+4be//S1//NNLorTYZsPVw4dsd3u22y3GwsXFGjFCiIk+BpqUcC5jXB7ditPcaeq/EnwCMmcNVyscxmKN135ZyKYEEZsa2yekkMFkjDN457DOaoAy0DYtrmlIMSAxFoEWrPfUtOcoGa3/m0klVT6TkRSIw1C4+7aEYaBxTmlgKo2MCGEYSHEgDZ0KnzlxeXnBf/jbv+X5N/+XP/7Lv0BONN4pBY0BM8EFqjSbImjrvI2k1HUeq/ZYEl1ua/PNPNfcgRtUGvOAHn1wlJUzA5C5ZWZ5/lPXna+l+Zqa/k11Kuea5tvs1/v242nvi9m6/v9tYLZkSCIjZiN2xOwqOMx/M8fsY3vfm7dTmK1MWBNmv/zTH2klsmksDx9esd9t2W63YA3riwsNj4mBEHtSasjOkd3kVhz7CSCarIYIdi7MFkuTNeArxY8VxGSl/DIq9AmWHBLZgHEG5zzWWSg0KW3T0jSOEFOxzAlg8d7WpGeyRI0jFDnC7JCEYYh0/cB2u2MYAs41NE0z0ciIYRi0Xm83JFKx+l1cXvK3f/sf+L/fPOdf/uWPpIyW7bRehcQRkIuQZ/VeRthmKsOp1kh9695A7rsNs5eUdTO5+yRm1yziuRX4fTG71pB+H8x+6+CdZSduu5Dh9E3KrOMfop0DBMr1vfd478dix/N/rpR+mW/+OtFzskSY2ORP3W8+eigfj5N+d7rf5/7ddp9t2/LXf/Vrfvub3/DgwQMa72jblocPH2Kdo+96+r5XLiwxpCTEoOn5uWzMckbqNqlCABTBp4yNljRz0z9vMM4WF7G6iSllh7JBXcs5F3oWj1+t8K3StgRJRDLNaqVl5BoFAd82tK0KhcarFhhTUP4/ieQciCkwhI6u2zP0HQZYr1asVo0KaTmN1sbusGO/vSbFAe8tHz95wq+//iXPnn1O451qrnZyd8/Htn4+jc+xRgc35+jc/J1yxSzX2fHeOBWwW7ToEehPW0zOtWn9TWtx/v7Uelv2e049cN9+eu1tMLuuwXvMzjf22vKYt8XsX//VX/Ob3/yWBw8e4HwzYrZzdsTsnDRhTstiKmanWf8nxGYUAoDCG6djY+d47Zx6VZwZMZuK2wiYEkqTI8aWyhsrT9N6rDMkCWSi1t5tGprK39d62laFQuONZgOnqAl5kghZ6/52YWDfdXT9ABhWqzXNaqXW0EJXF1Nmd+i43u4ZYsJ6z5MnH/PLr3/N58+e4XyjHIJ1fpc0KHNqlGkRTXMwm7fb5rGupfk6vAuzDScwuAiAVUFfLo0fA2a/lat3eeG6Ac91oA54/e0pzay2OTN1/U1K6ajzIhMFRz3mtgGpAzA3z841svr5Mt1/OWD1POeusQSZkxK9yJGpfpmNNL/H+v7GfaagYPH4Y/7hH/6Bzz9/StM0xOuezVXLx5tLhpjIz4UQsgbKrj2Nt4SU6YeBxq/xXq+Tiol+tWpJMdN1HdkmnHWFaFW7bQ00pqExDhiISU35qiWWPuaEyRlrDCl5DELMmTD0yinoHc55pMzfarOexk3KwgakxPTFFJAUcM7Q+BVDn+n2gb7fq2sSlKS7cAR2hz373RZJkdZ59n2PaRyfPP0Z//6v/x1Dv+eTjz/CkIqwJ3hv8L5aAFLZoJac42xt3wQGXVPH67LO2zFH3nG7uU4X828E5uunUAM4cVifyUnrVJoUtWansWMA+rKP8zV56mE/HaNa93w/zNdgXav37afZ3hazQY7Wy18yZhfIfi/MDklo25aPHz/kH/7hH3j6+ec0TUN/HWmvNlxuPibFAXmeySHQdwf8usX6hpwCw9Cz9g14f4TZ7WpFjomu60g246zjCLSNpTENzjQMgKSoITMmY52OoQpeBmMsPiUEQ86RfgiquHurXhur473erG5gtnqKNLEvpEhIgnGOlW/I/UDYd+z7Xst+ola+lCDGyP7Qsd3tiUnwrqXv97jG8LOnn/Dv/vrfs+8HPvr4ExLVogfGe00IzLmUElWPTMx5XNtLQW8UhE4oMm+L2XOrHYAYFV7nmI01OHFkb7FJKdViMh8Msw367HsfzH5jOpf5xd/8NyUOYWaCXP4+ldTx+Y0vtbb5eZcS+Km+LSX7sZLICc1vvqGXgzzv87HR5/S4nNIMbo7J3W056XOtMefMf/rd73j27EusY3SZ9n2PaQ2by0sepcTr7Wt2+z0hNVysW5pGi3THqGVw5sCYS8US59wIojIrKWdM0RadxeAxNpOMklGaUkZH4xgyragrVEpwrzLKiGYbu0ofsNCepLg8JWnpHmdojCUbi+Sobt6+IwwdIfQMXUfrPaumwSD0XcfQHYihL4TNPVdXl7Te8fDBJZ89/YQUBp48uuKjJw95/vxbTDMB9HzjLx9ay75OmpQC2Hyt3Daf80D0acMeU1aUp8zx+5ogMwcKkTGWZu6POrfmKjic2i/LNTb/rLYY4633d99+PO19MbuuuH8LmA3zvty87z8nZv/ud/+JL589A2dHl2nF7MvLDSk94vX2Nfv9jiYF2vUF0jTEEE5ituT8RphtncFjyNZgTInFy6rs5VLZQ6RFpJAui9ZcF6NypHUOdwIHK2anksRgnMWaBmsyMQshCV0f6YZAHwJdN+B9S9OsEAxd13PoBvoQ2R96+pC4vLrC+ZbLBw/55OlnDCFx9egJD598xLfPn2ObCZveBbMNwGzt3jWfpzA7z86vfyfloL4vdr6F0MiPCrPfSvA715lTx47vzXEHT7VT2lY9xylN7tRvbpvIuwg67wIRa8xYPkWB8eb91momcuK9MYYz7CFH11uC3/E1hM2q5cHDR/zd3/1nnv7sIf/8x2u22x0iZaJN4OJCC3EPMfDq+iVJEq6Y+UMY6PoD3rsxYzfGmSvXW2KormD9NwkhoNQiFucarYVrBUse4+u0WouUzLQi+NX7OFrghWrBlSy1osnayvieEsr7npEUGboDfbej7/bE0LNuPQ5L6HpyjhozmDJpCPSHPeTEJ59/SuMsnz39hKeffkJ32PHo4QO+evYFL198W7gGjxMkKpgsOcTq67vAYj5389+f1NrMCU6ppeDHOA1joPBEQKtfn7JWzLXAc+vr1AN6+bq+v7f4/XTaPWZXwc8WjJtQ++bYVOFBbrzXv7ej9l2YLShB8aOHD/jPf/d3PPzZU67/+M/stlsQ0WpGhhGzQxx4ef2KJEmrPljDEAKHvsN5P2bs2hhHzLbekUIcrVH1eUO5dWsMFkPjHFYKUTRTfJ16WnSMKmbXuN+5QIMopZl1tcyfUQUgKW2Y1vZV1I5JOHQDu65n3/X0IeLbNRZH3wX1BEUljA5DYn/oSRk+/fwTrGv45OlnfPLpU3aHjgcPH/HFs6/49sVLDMfxdT8EZi9Beyn4jRMvzBLy8vgMhB8HZr915Y45kNwFJpMAcUob08+apjn5u1MTcUqynffr1Pen+n/q9W3tVH+W578NzExVA+5oc9fEzXNpssRvf/s7fv6LXxAj/OEPf+D19Svc6hHWWlLWMnmrzZqHjx4RJdH3Wgh7sFrr19qexjdYa2maZlyYzjm896Q4IzidImVHQJQ5gJqS1m/BiGqdlUuv1q/MIyDJuGm8cWr2LtlqFWLVmpUZQocxgsmRFHqG7kB32BOHHnLCuwYyhBjIRTDcXr+mP2zZrFqePH7I44dXrFrHz796xuVmzYv9NULm11//kv/5v/5HYce34wYRkSM2eOfcKORDpVKBaSIt1jZn57yeZwkkxxt+sZbOLEeRCUByVnC2iyzjY4FSjj5/m1bX3/x39/F9P632vpgts9/Vz+4x+3S7DbMN4Jznd7/9Lb/4xc8hRv7whz/w6vo1j1YVfxJgWG9WPHr0kCSRru9JMZLsQBDorb0Vs3NMZzF7bn3Sz9CMXGvIooJT5dKrdeKlJHbILD7NGY816rWZ7q4kcgh0YdAs3WzoQ+LQDewPHf0QSRka50fMjilz6AZeX2/ZHnra1YaHj59w9fAxrl3x7Kufs95ccr1/QUb45de/5n/8r/+Jc/ZOzJ5s1szYGspcAc0icWnZ7sLsG78ypxdJFrmB2YZjy+QPidlvHON3m0n9nJlb9M3Rec5twuUxp8651CaXqdG3aafnzg9TYeR63FFdPJGz93Cq7+8ycfN7uK3Pl5cX/P3f/xesMbx6dc0//e//j2EY2KxAyFjbEELANi0Prq7AwsuXL0ot24F1u8KKoXH+KHMvpcnqp0HA83Ev2h9an9NVPiXrxiwpYzTLWSTNNMhqITx1r4ARzZ4zZR6zWvekCK9IQlIk9B19dyAMCobkzL7f4a3HW0c/DDx/8YLd6++4vFzz2Wef8fTpx6S+5/HjR/ziF7/Eew1I/u7lC55++ilXF5eElLAFSFJKmo3G5NY3hdR0jAuZFN95Ssz0xWLO3mkdlNPNQbpaKqoWl1LSTLHZvj6nCR6degEst1mBlp/fC34/zfYumM0bBKP/FDD73D38uTH74vKS//L3f48xlutXr/j//vc/MQwDrDZkhMZaQgi0jeXq6gFYePHyJdvDnmEYWLVrjFi8a44w25ZYP+ccxqkgN1pD67hjQAzWOC17Vso/Ykqcp1jNei6eGiiVgk6httFKIXPM1sSMqhQbkuj7rg8cup5+CEran2HX7/HW46xnGHpevHjOd693rC8v+eyzz/j46VP6PvHo8WN++YtfjJj94uV3fPrpUy4vrkgpnMVsUPezQZ872udxgmEUgY/v7kNjNlXYXmC25Mw87fqHxuxbBb+7Nvxd2uNd7ZRps/6bm3CXmuWpDXZXu6uv86Dcc4B0apOfMrnepcG+Tatj4Zzj66+/5m/+5ld8+7Ln5cuXPH/xQje+LeTOrWOICUNgtVlxefGAvjtwOOwZhh7JCgZ2cR861u7IPFznZhLiMyYbmsYCDsqGc9WlkgVEuaGMiSgZ6ARCSSNaC29eKhqZaowpJUKKWh4oB7w1SIYQAkPfMXQdoetIoSeFRAqRJInt0PPqxXO6w56Pnjziq2df8uTxQyikzp9/9pTPPv0EyZGrywuef/sNlw82PPnoEf/nj9/QWtWY53O01MCOtL1x3AwZDep9m3m87eFzss1QSoOZ08zFNZ13Pmfzz5bXOwUk9+3fVrvH7PPn+KEw+1d/8zf0L7/l5cuXvHjxXC1TVl2lrm1IcSBgWG1WPLi45ND17A8H+mFAcq0aZW+e35hbMTsjmGywTVMQu/zWaCKIFFnECERjCmLLqOxnasKbGTn+UqEnSUkT8FLKhJyUZiULIQS6fqDrBrou0IdECokYEkkS/bDl+YtX7A8dj558xJfPvuLh4yekBOv1BU8/+5xPPv2MmIWLyyu++fY5mweXPProCd/88f/gbPtOmF2crG8F2h8as1ng8/Ie5n+/b8x+I8Hv1EaZf79sRxY/7gaec9dd9uGchnU0wScG5xQYzn3vdSHd2S/mxMbFJVKvN7cMGnNkJZy0gfPnXm7aed+NMbRtw+9//3tN/IyBF8//xKtXr8g0I4+TBgDr71JMGGu5fPiQTGa3vabvOg6HvcbhWUq8Rs2gM6ProFr45n03Zj7Oau0ztsQylteSE9Y5mpo0IpkkSV3Qwhg/YkWtfZI18zelVLSiqOTPRuj7PYfra3a71/S7a4ahI4YAKeGM4/p6x4vn3yI58umnP+MXP3/Gk8cPSTGQY+LLL7/g66+/xnvPYd+RUsI7hzeWn3/1Ff/1v/13Hj56wuPHj4+yDiuonnu4QbVko3O82LDnHj5LENFr3QSB4+uW8j9SkmXKmtW1dfN6p9ZODcQ/9WDT396euXnfflrtfTG7WkVOnfNNrrvsww+N2WCOMFvX+2QVPAPZHwSzm7bl97//PYghxMyfnr/g1atXNOSRLzWlNGJIiso48PDhJZnM9XZHV4RAKdmixs0oa0SOMLv6V+bWp9qXMajGmiJE6uuUpbhQmyPMzllLuU1x2nbE7JzjiNkxa31fMcK+77m+PvB6t+N619MNAyFEUtKqTbvra759/oKYhZ99+inPfv4LHj5+QoiJFDNffPnliNnd/lAymD3WeL766uf89//2X3ny6OE7YTbFBT6D7HfCbBbr+cb8Gx1fHcv5mp2W0vtidhXg579523an4Fcvdlew4HIARsGI8+bTOmGnzlPPpYu8Dvhx0fqcZ8ZbkzHGzWBL08frOZcTOPe/z+ME5n/H35a+Uv/N+7u43/nxcnQuNa0zixybjOp1Uc6QiOMJbZznP/7mN7x8eU3OwvPnz3n16hXt5WPV4JwjxYBrtBxaTBHnHVeXF6xbz2rV8u2f/sRht8dai/eeVbsiNnHcNJoOv0LE4o2fYn0wOGuKq6DGf4ATO96EpDytkVKwN6c6zolYzd0lk7Wkk2nWbk5IDkiOGIkMhz19t+Wwe83h+juGvlOBrloIY+TV9Xd0w8CXX3zGr3/9Ky42Ldvra1be8vnnT3n25Rd89eUXY6bv4bClaRqcgWfPnvHy2+dYa3lwuWG1WmGNkOR4Hdfxz+PnE9kxGE1y4SaAnNLilplnItUFNltr46rQETaL93V9aBa1llsSIyfX7U3X12lNcSl8LtfdOUvKfftxtvfF7BFR3xOzpeB1fRBSBaucx7WdDThjRsyeEPv9MZuRj/AGZDOaJOr9zo6f3hdFX+aIXT81o/JXBcj5+NTmXcNvfvMfuX75Esl5xOzHl63WF3cQYmLVaPmzitkXl1f4dk27WvGnP33Lfne4FbNXxmBF8MYzoYjRcBzrCmJrh624EbMrPgNjud6K4ylnUopj5i8odItALCTLIYsKfmLYHwa2Xc/r3YHvrg90/aACXRHUY0x8d/2KYej47Isv+dWvf027ueD6eov1K55+/jlffPmML778asz03R4OGk9qHM+ePeP5ty+x1rK5fMBqtUKMBUknMZuK1bO18/+z967NkSTHme7jEZFZF6BwRwPdDfRtxLGRRONKa1oz2f50/YaV7dra6nyQeExcUjPi9HTjXpfMjMv54BFZiQK6p2eGIoc6nSSmcanKyoyMeMP9dffXBahyHuBPwewNc2wdUc62yPDntYMhSEx/EMzeND43592nYPb3uE2JfiINrOT1iYeLZjiIbCyGQU87VeWhbGgmdz8og1TsOpPzEULyatdpWSmJoF7HgDVRUUeVx0isK5PKZ1R2vSByyipihWS0usmUbhyDge9Vt2PSCSai+Q0x3HuNejSByXicr1MHIDIcA81/IKVc9Zpyf+vsXwAAIABJREFUSzFDTs/I3pN2Z+i8xznH9vYO7y4u8J3nv//93zMZT1ksVvhmxTe/+4atyRbvL685eWbxMWFzs2wRsM4hol4kwPb2Ns5a3r97z9XlFU3bkcQQSLjGsTWZsDObqaaUMSA+J6XqtVRuTF0JPsvHgBBFjVkRUfHkfqMZtqrRLyFp0UfUzhwxhpzP5wm+JXZLNVwl4BfXJN/iV7esljekpLIIq1Xg4vKSb/79LQf7R/zyV3/D0eEek7rCmMRsZ8bebMqbly/5L7/6JdGrcKiIbhQjV9H5lpPjI968ecn/+Md/RIicnpywu7tL03oS2mYo5meolX7lX22kbu39pNyUd4F7Rn4/h8vaWS/0+06NrHNytI2IvjsmElEr/9qG0LVIhNq6voo6NJ32Tu7XwhqsNBfwYfXb5iECztz3bNcGfMmZ+Wz4/bkca8TmHhvdz1fWzum9DWQDtNPAYlLEXm9otm+PtWZBQLRCH/Ap9JgtAoGMo2ld3VgwW9dZ6pml8hnOVmuneoDZxmQFgVyBu4nZ2qNb8VUEUlS9uuFrfNcRQmA8nuTFVirs16LNumQ11NmjtpgcJrUgJq8xNY6873DOsbO9zcXFO3zn+fu//+9MxxNWiwWrxveYfX35HvtM2226at2OzeVe5UPMttb1mN21DUYSiYBrHJPJFrPZjooem4SXfH8p4pxj7CqkqnvM1rUc1ZgVQVOr1wUQZc8rhXkJIWRcl5Ty9wmP0PrAstPq3CCW64Wn9YnbledmuYKk+oVhteLy8oK3//4NR/sH/M2vfsne4RFVPSEZw2xnxnS2x8uXb/jlr/4LKx9pmxVRNAJVuRGt7zg6PuHlmzf84z/+DyLCyckpu7u7WvBHIoWQ9/yYySFNabKS5+VA9Ls40ENipmfjirEna4WOxzC7z303Zj2HoobXvVctxLYLEAVna0oVddcElWH7CZiNCGLco5gt+Vp+ouE3/KyPnejD8ef7bxuEqO79jmwUDV6ZirG4NthIhXW7n4SqReSmd82kdJwZvOJj1/9YeGR9X3oWXfzpPutnTC/zokbQOvy7Pp9er29bkFxWbzSQqnIlavDFqBO2rism45pV0/Hdu+9YzBdMptu8fvWFChYDi8WCruvomgbBknxAXNWPpvbMTVAMCVH5lPFozO7uHt4HVssli6VKu2xNp4QQmC8WGCJVVTGuKkRUPiDFQPQtvjCv+T4j6sUgayFUU7x71HBJUe+REEi+o+s8TdNQVRW1s6QUkNRBijiJgCd0K95++w3z+YKtrSlJhPfvLnj3/h3LVcPrV294/vycvd0dJqOKyiZSaHBiODo84PzsGZK0XVuRZDB5XpTn/ctf/jX/9E//h3dvv6UadiepRmguCJRelkV49J5Zl+KDtjdlHhWD7+NzC52zSfTzBo6VCmMpCyxSutmtmWQBHAbtpJcI5feDjf6D3uLGNX1sVZe/hc86fn+Wx8cwr7B6j86TwfvWiE3/3XpD5N5fi1E3NNhkbRcyLPaK5NBkxmyM0FNLPAxnfejeHoTD8vVLPksiPQbZ6OZYOiqtiYm1UQxt69WJtlU2CAwR7YSkBl9ExFDVNfV4Qteseszenk744tVrUi7VL5jdNB0WIfhE5WRw1ZpzV6Kweg+G8WjM3u4uwXuWS03Vsc4xnW4RQmCxmBMxuavGOO+LhhATrY8k0XvQ60i650T5IGZHtFgjhEQI0PmE77oes62rCSnRJVEDURweWHWBb759y2I+Z7q1hUji4t173r1/R7Na8ubVa86fP2dnd49qNCHZiiYkjDgODo94dnZOSBp67kV0kulbeYoIf/3LX/J//umf+PbtO4ytesweVcpqkmFTnxR5v1zPKZ1eH5AaGrB7H8Nsg2jaUp4j5fUxmyd54qJt5co809locNDPufCjMZtPQG3vPy5F9IM6d3zK8SGKckjdD38evn6Tbh3GtPUX2bMceLClaobCmCT9Ksmwgv48ZN96t7j/UlaHgdOb8qZfPON8YQOuUt/qjFFmKN2vGNrcVKvMwKkHQn8epeTVKyHRixivVkvev39PSvDs7DmvXr/or+Hy+pbVsmE+n2OqGa3vcNUEsiGRIohkJqoAriSMGLa2thARrq+vWS2X3N3N0VBuHq+UiCEhsSihq5fj83hbI/0gJTFEo16y6swFyIZtqfCNuV9uCB2ha4kxMqorQuy4u7sjhoaxFZwRlqs5tzdXXHz3lno0Yn9vzLv37/jd7/6N27s5+wcHfPXlVzx7esZstoM1kIJq+E3HI44P9vji9SuePn1Ct5xnaZmIIWENVFZIVhflr371K/7hH/6Br7/+Wg3dyZTZbEZVjwnFE+vn3uC/KRFTMfLX8/Wxr8fmdPl+vR5kQNGs500f1h1ufoNzGVHGRJnG2J/vYyGA4ZrbZO0/tsl+1vH7z338R2B2mdQ56+NRzE6JrOOZN+yyCebN9T77dv/LlA12+LqU+2pnphHWDMgQtY1xQOyNod6g3dhUnasU88VmA6RHbBVHNvr5RcR4uVrx/v17SInnZ8948fpVfw2315c0yxXz+ZxZZeh8y6Ry2UBBGf5MHhRiI+V1PsTs5VJ7lQuCMSXcLTlEqyxZz6iK1zE3tt/XjCSiUeMj5ZCutfocSoVviFFDuSHQdoqhVT2ii4G7uzuaEBE7RoxjvlpydXPL2+8uGI1qxnv7vHv/jn/73e+Y391ycLDPV19+xdnTZ+zMZmAsXdA9ZjSesndwzKvXX/Dk6VPmSy0WUWUIA8YitkJswggPMHs6GTObzRjXlRIIUvb9YZ6q7oOS8j3/ATC7n4+DdQHr6M/9NbN+f8FsfdzpR2N24uHa3Dx+so7fx47hAD3wvPqfHw7i8GaGr32UFcmMWoqFRcosiBG1c9LgK5Z8EVN8RvVmPmJJDz7pAQBKZhf7kAaFd1k/6OG9Ceuw39oA1J+ryqlRlyIxRCQFbcdlRDtaAG3TMr9bsFytcpeNFhHLmzev2d3dJeUxu76+5m6xYLlq2R5bvA/URoEiDD5XJ3ye1Eb79YoIs9mMuq65vLxkfnvLzc0NRsAaQ+UcIUbattXJaiSzc5pA3LVdf2/GGFLOwUxR6faYohb3xojECNnwI3hS9BACpoKQOrp2TjO/o7XCpHbKQt7N2dra4vLykm+++YaL95dUdc0Xb77g+dkLDg72tTKZgBNDSJ7aGZ4+OebLL17x/OkxkjwhtKTQQQzaitzQJ0JLEE6Ojzk5OeGbb75huVxye3PDZDJBcrWd5scM+j+mhCA8NpOG8/dDi3Fzbn+UjXlkLRWgKHkm+kxVPNWIeXTtPPZZm0BSfvfRNfiRa/18/Hkdn4LZPUfyIzG7pOloukK21PJ81RDCGrQlv0a3a91UdT5//70UB+n7MLvsCr1DNbi3RHHiyhnpf3ZVRUhRma0QCUlyn1ubNUgTbdOyuJuzWi3xXUfrPVaE12/esLu7mx1wxezF4o52tcSOtwneI6ZGJNELRZcxyZidjDyK2be3c25ubkAMxlicq4gx9JgtWe/PubrH7HJvWhShRmbKzF7M5b3qvAshQogJH3I+XwAq7bU+bzvu5g1iW1w9yYbo4h5mX76/oK4rvnjzBS/OnrN/cJAR22DE4VPAuJrjJ0959cWXHD99jk9CGwJd0NC8Gn7mHmYfH5/cw+ybm9t7mG2LMZ6frNrQaydkePwxMLs45EPMNjm94U+N2X8Qxm8TFD72us2Leuzih6/rq0shDyQgOqiEEmvPG7JVD2x99hw7H3qOorz/0IGMHxjA/jxqVZYTZDZGQGJepAWySl5h7ktIyNcfiSFkmjdB1jjXhZYIaMHCctVyfXvD1fUNxliqusY6w1/91V8xHo+zdlXi7nbO7e0tPgQV4oxKmcdS9l+UgAf/mFTGUl87nVZY47Ai3N7ccHtzR4qwu7Otk9RKrpzTCdq2nebsxYBokFcNVpu7gCQgRbzv9NlowgMpaS5fDF7Dxb7l7u6CylkMHpFI2zaEFnzXkFLi3XcX/Pr//TVXl1ecn53z5Vd/xcHhIc5ViAhOIpUBZyKT6YiDvRkvz5/x/PkJk9qyuLtSIzN5DAkxCXFqLgqWzoDtDG9ev+Rf//VfaZqGy8sLZrMZW7Od3AZJjddUwlEFOO9RCQ+V+9edNR4mBw9p/TKnH12ehcmQ9QJPWQSUsuDLG6WA2/p4sBFuHI8xOR8DwM+G33++4z8Ss9cBXXVYSEl7mqaE5O48JQwnRWekrK/+fMWFHRZorFG7tDt8eP1lY8yRY1kbfJK0oESSOsmCbCC25iOa/PsQIjGvwdzILOcQRhJBhfFXS25ur7m5vsIaQ11XGGfvYXaKkfntHbe3t4TgcypSxInB5Jy0XgdY1vchyfQUhhNDNZ3ijEXEcnNzy93NLcTE9s7uPcw2+X67ttX9Jea0HERbsNmk8e48Rp33uV2bDoQyf1qt2/pI6z0Xd3dYV+ExRBGatoU20OSuIRffvbuH2X/11ZccHh7kSJcQxYGpiMYxmk6Y7R3w7PwlJ8+fY+sJV3eLXCiiRl8ygnEFsQVMh+ksL1+/6TH74vKS2WzGzmxLmc6cgyjZCOghskT/BnNhOG9/CGZ/CLV7knuA2ZovmZnGnxlm/8FCvUMw2BzYTWt1+Prv31QyvS6JQs2nbCzp+/XBrnWO1k/g0ZDxI4M1TCr+wN2BDFm8XPjR56kI9AnN+d574FIjz4dO+yYagzWWlISubfSra1kuSiVUh+8axDiq0YiDw31evX7BeKw9DlvvmS+XXFxdA5pvkqLmRojNVLeRwUwke7Cau2eCai1VVcX29jaVM1hjuLm65vr6CiFSVxUyHvdNr0OIxK6hJeKsgpWI4EpuXA55xBSI3mc1+lSsdUIMeN/hu5YYOkz0rBZzgu8wIoxqR7tc8f67d7x//55f//M/s7+3z9/+7X/l1cvXzHb28ngLlTOMK0h+gU2Jw70DXpw/5cnxPiMnEDskRSR5IGJNImI0NJRZSwVS4Ysv3vA//9f/5ne/+x3X19dcXV0ymW4x3Z4hKAAOl3s/I2XtPfeG2SNMyD3pn6EzU+j9nmnYOHdShkQBY9iKaD2fY66OVA8yfhAEHvMQ74HZxvUP72Ez9PH5+M91/EdhdpmpSdb5wClqUUI+gbYS6yMl6+30sZCxLofNjXJdvPfovVH8X31NzM6Tooim9oSyUefXhDwExcjrgs/yKQ5rLJISTdvlxP2O5WJJ26zofKdtyYwwGlXsHx7w4vUrRuMxQsL7luVyzvXVhd5rCMp0xqAFK5LTf2SNMynpNVRVRQrmHmYbV2GM5frqhqvrayJCVdWMx9JjdgyBpotEWowtpIBgrMvar5YSpvZew7spD1xKEGKg856283Qh4qNhvljR+YCIwdUjVsuWd9+95/379/zzP/+a/b19/uvf/i2vX75ib2eWi/cSxlVQjVn4REqWg71Dnp6/YP/4CeJGdBFiEnxSgzsZiyFCMjhX5l1CxPHmiy/43//rf/aYfXl1xdZ0wmx7ijriYTAvHhpTPxWzU7p/3vL3DNmQ0r1+vmubYY3ZYsxPwuxiSP4UzP6DhXo/9rfHAOSxuPajVm9cs3WWrB4O6weQpM+TUOXuUj6tv/xekBK5Z/E/iLnnzV/zOvRzdGoN++9pEURMZH7vXkA4T5OI5t8luhgIXUezWrJaLmmaJcvlCp9DjM5ZEmpUffWXX7G7u0c1qgmRDDye6+trxluHdN6TBEKMOIp0guagIKXAYh1OWU/gnPM33YYDva/bmxtub++oq4rYebz3jMa1dvRIes/iDFHUfyQaYtAiA63YDdpnN1fx6v+1927XtXRtQ0yBemRZzhcslyvGdU0QuLx4z9dff827t2/Z3d3jq6/+kjdvvtCm3jExHo8wxtI2S4gtTiKz7QnPnx5z9vQJ29MRKTSkXCQSJGnTciHnwmUdqtxyqKoqnj17xvbWBGug7TxXV1c4V3FaOep6TElnLM+x5AWl9Mg84eFiewxY7i/gDEBSktDXfxNRpiCWOWnUQI9paPylfoN4sG5+4PEhBugz2/ef6/hjYHbq04sEwZIT9npHR9mtLPaepA+3Fmbwp2J2SuWzRZ3gJEAgUu6rMIulCtCQeu4v9egd87VqZXBH1wWWq0aLLJqG1XJJCF7TdZzTXOKM2Xu7u9SjCmKgaxt823B9fc3h1hjvOxDNiRZc7uuuOJWkMIslTG4eYPb2dAsOgCTK/N3eUlU1vlMVgHo8ytquWoxinPSYbSKYEEFKLl/us5vyfWfMDiHSdmrkhhSxo5rFXPeruh6DBN5fXPL111/z9u079nZ3+cuvvuKLN28YVRUpJkbjMdYYlk1LG7UQZLI94/jpc548PWM03aYpCgriSBJIpYAwF0CmmDBW51jB7MnWNhiL71rVRXQOV50yrmvoU7v0fkr+vQzmymNzfvPnH4PZRjT6Jr1KiOZhyoCdTlmHVWfX/XXzQ4+fgtl/8OKO7zs2AeShh8e9v6UB66KD+9BiL4Ne/Mf+PeXvPA54wwdZfh5ODk2QTH1xgGRmK4WSMxIRLCZTyyYbokLUyZu9UkPCCoTQ0XRt7kaxoFmtaBpl/FJC80dSxNqKKBo2+Ou//muss2p2xEib5WNu5wvG28d4HzQnI2TDD0BMLkzICyCpx9v5BlNyJkSlWSrn2NrexogWoPz+9/+O7zp807BcLplMxky3JkzqEZUzGay0otVHUSkaUm/0kYpqVJ7gMRGCx3ctbdPgfctqoarvI6fag2/fvuX//uY3zG/uqOua//Z3/43j42O2trZJIREI2bBPjJwyjtvTmhdnp7x5+Zz93R1i6NA2bx1du9LuH5l6ECAZyZWw+nyds+zu7lJVjrquELEsFwu+++47Zjs7VAc1xro8dsXZKPPuoZbZcP5szrMyvx9bC8V7Gxab9Z6i0Y3RiOnzKUlGWZTs+KQM1ENv9UOb+oc2/U8N+30+/v95/BjMLqzLxzC7CAmv8fl+Ed6PxWxFvVwcMMBsNeY0dJgolawmV2mq8RVTyQozIDYXODSsmpbFqmW1amiahrbrlBQw+p7KWoxEqrruMRtSlo9ptQJ3fsvx9ji3nlS8FBwgOUhj6EvGkoazG99hrbmH2c5VbG9vgRicq/j33/8+qyV4lssl48mEydaUUT3BuEplWFDnV6JHK07DwOjrEVvxJCZ8CLSdp2laWu8JixVd8Fg3ovOBt2/f8pvf/F/ubub3MHt7a6vHbLKTbNyIiKGebnN69oLnL9+ws7tPFyIhQRcSq7bT7h+lGgjNSze43pCyzrG7u4urKk2DEmGxWPLdd9+xszOjPqhwtiT+Z73ZPFdkgI+b8/WHYjZl/j1om1nIoTVmG5NyO9NBhCelPzlmf3LLtsdpz4fW8mbs+THQGA72UHF7k7qMOQ+iFHgAmVEaDMbQii8DlZk4tbpNT/GXUKxa6uTXaaWTvr6wOmvrPObcvsI4ihicVfHcdcJ9pLI1KZXF1OK7HN70yoQtVnfE6PHBE31H8J4YvbJjkpB8nzlDgbquOdg/4PnzM1xV670n7TizarSHo6vHRCyrpmXHVfl2NJdNx0d1EoVE9NrjFUlYqwDrQ0CAuq7Y3p5RuRpS4uLigot37/DBs7Ozw+HRIbINqbLYlA0/o+Nv1cImJZVtkexnpaTtcUIM+K6j6xq6riOELt9vZLVc8M033/Cb3/yWZrXixflL/uKLX3D27Bl1XecwuirLC4kUPDF2zGYjzp4d8Or8GQd721hJtF1LCh6i5vXp3Eq584X2kCwUvYiGMqaTMbPtLeq6IsaGLgSWywXffvst9XjC9vYMMhuRskdc8iyV4bSProfys3ZSWc/D4ZoIeeyNsXkDSr20Ql4NmdFL6v2K4PN7DcXghhA8ZDV/oFd9L4KvwzW46cWqgyS9GO7mOn8MBz4fP+/j54DZRty6wAN1Su9fy9B4XDtA5fdljRXMTiVuktcyAinrayZRVqes0ZJX1RsPWCUFrFPx3IGwb22rnM8WaIO2guy8J3hPiJG71QIfIz54Oh/xPktvpZQrbpXVKRnjBbPPnj+nzpqqZBxsmxXjesS4dlj058rtQFnPZYcTbYOZEILP+YQC0ndn8oB2BZltb1Nn3L+4uODdu4t7mM22YKtESFYNv4JBkomEpMUdKVMY2mkih3k7T9N1KhsWgo6zCIvlim+++Ybf/uY3rFYNL89f8Isv/oJnz86o61ppDgFjLQnBh0QXI6PZjINnZzw7f8X23gFJLG3X4kPCl2IOyMWCaryl4NexDBFCDIwnU7a2Z1R1TRMjIXQslku+/fZbJmMdExnMKyH1NkCIERvjT8JsyAoYG5hNoVkKE913SCkaikbZSLSZgbH8STH7B7ds+9ixGXf+0DkfUvNZWVvuMyn974o3lA21ntETyZU8efPMIqF9LB0hGsl5rFE9kaTtwzDFKi+hMlXVLuwhSB8WlBSQ5DOLqGJBGlIOhC4Skuf64oIudvjGs2pXdE1HFzqijwSi9rjN7yveyBDoIBsBxtF2Aeccr1+/Zn9/n9GoVjDMBHEXAlU9UjDA4n1ERAsxyIFpxUnJxl9ChbOjer9lMlGElhPGOcaTMU+ePGEynjB2Fd9995aLiwtubm7Y391lZ3vK7taEUWVwlcM5m3s3ZjHmlHJRhRqzJJVzCaHLOX7qLV9dXTBfzrm6vOTm+gYRy6tXr/nyL77k7Oxc1dWTirBWtSN2nrZptJ3RdMT5swNenh9zuL+jTGq30grepIancwocCnI5BJ8gxLyYk8LMZDxmazrFWduLTccEN9fXvP/uO2JMbG1tY4xdy9VAzqPRJvGb4LC5bh4DkRKmMrL29lL2BlPeVDJy6dPMDk6/vkwOYw0+b5i7Uo7SyH5zYx9ea+YyH1zvxzzhz8fP9/i5YHYfdRhgNpSQpl1vnnHd2qpgtpgIGe9SSFkNQXKLSK32LL3AC2YXjcASFgw5ZwzWGmsJUUOvC/gUuLi4/iBmRwKmqvr3FVZsSCiAKiE4A6Fr72F2PRrlLg+aMRhCx6iusFbbp0XvcSJDxO4xG5Esrq8G2Ycw2zlzD7MrN+btd9/1mL27u890e4fJ1i6mGuEqh3VO5bVScSwFn0Wbk+h9hhjpgub4NVl39eLqivlyzuXlFTfXN1q5/OoVX/7Fl5yfnWGtGqBJDK6u8F2kaVrEGEbTHQ6enXN8/pKd/UMQy6rLFbxJx9c4l43/EqLRHD+JIWObMpbj8YTpdAtr3bqrSIpcX9/w3XfvSTGyvbWFHRh7oJitodg/LGYXVrHIp+npynpZry+VcFsz2j8Fs9eI/eMx+6OG37DZ9qZn92mbgd78Y0c5x7D/YjnKgFtrCV3IOXPrjaovzy99BEPK4rzKEBlbcjlUaiSmQMrUM8TMruWOBUaQZClJv5rUsaZiyfkd0bfEGPCdp+1auqZl2a7wjaeLHd2qowstvvU0voUAYsGZCnFCVU3zAi9h4vKVJ1bS79U78VRVzVdf/SXb2zOMcZTq0p62L9pM2SgOKeVQ79rTpnxXJnFQY0HzEChI1o+sMYbpZIut6TZH+9rH9nf/9jvev3vH27dvub60XIwqpuMR4/GYurbqp4kWGVTW6JiS+zn6jrZZsVjcsZjPWS0XrFYr3r1/R9u2pJTY3d3l/OwF5+fnHBwcUVW1ai7FqGLSxtJJxEpgb2eHF2envHxxxNH+lLq2uVo4y7YIlCIcMTK4t5zXk8VbTUKr36yhrmsFibxqY0p0Xcvbb39P5z1PTk7Zns2yNqH0BqUxJmuRPb5pFhr/Q4uyhAY+vnzyhhYzH1DYmZi0+19+ZmUzesxLDJsMeT56pXcy4z24rscYns/Hn8fxUzG74MVjxw/B7NRnOpeNSgEnpqzEEIoDQ2a0TN5YsyxVigRSL5Zr1IPVjgVGsEmR1JDzvhM9ZqcIXQy0uWihYHbbdKza5T3MbkOHbz2tb5RCt0JlHOKEaVVBjmEwQO0+ZT/FHrN9TNRVxV9+9RWz7W2cyfW4Qp8eY4uUjWSdvqSh3sEZ+6egeKWYnZIySWpJMBhVfc3WZMr2dIv9/aMes9+9e8/bt2+xl9dUowtG4ynj8Rhb15BZOTEGYysk7y8+aieOVdNyt1gwny9YLFePYvaLs3POz885OjjQnPCk+W0RgzUVUTqCWHZ29jg9e8HRi5dM94+wdY0Pkc5HQgTE9EU4YqS/t2Jk96CdzD3MNsb2THFKmo/4+2/f4n3H6ckTZrPtrBFZ2OQ/DGZ/3wqS/GxNzPtPHz3M7EO/VvjRmA3qGNy7rh+I2R81/B7zBjepx08Ck0es1uFND//We4z9mwcGX54HSe5b25GITapppK3bIGtsK4aFvFlbpdAVTJSdUu8JbRmUvRzfadWW7zwhqAETfaOUf9vRtA1t09K2LT5XsarHE5TMk4RzFXVdMx6NtRWP3gIFArONkjG2GEuRFLTdzsH+Ia9evaKqalIfqlR9JRGzzj8TTfzXMvahKZnPKyXckT2n4XNNEDMTitOwsOoKWqajmslkwv7+Pr///e/5/b9/zc3VJReXV9za3LYmBrxvSNFjRKt8x3WFEfC+oWtWNKsVbbOk6zpi6Egp4eoRh4fHHB0e8eTkhKODI60wrutM00ecs9iU6JolhsiTgxkvzs94+eIpe3tjRnWCFIg+oG16dCxjZn1V3HQ9HsaoES+C5muK4Ab5jpAXSxRSjNze3RFRAxERplMNCSfoc2M2VeAfm/OPrY/+d99DyqhRphthMWKVEcwURjnXA4Ny/YwfA5D7x33W8LGck09ljz4ff/rj54DZaTi9M2gXPbsyhyMRk5T5k1xF1Wf8iahIQsZsjZIIiajsVIyQQ7ohqIRU13m6rsV3Hh8CnQ80Pn4Qs0OMVNaq1FfUopLKuR6zrXP9TeS716/cPUpNwWwEh4RzjsP9A169ekVdVeqkBe14k2Lo8VEdx6grLtKZAAAgAElEQVSOZCwiK+X89Ay/RQhS1mP6IGZbMcqgWks9mt7D7K///fdcXt1wdXmBsbeIqPpD4z1+sI9U9RjE0HjPqulYrRqWTZvDvGrgj2rH8eEhR4dHnJw86TG7rtU4jikpm5gsy6YjYpgdPOHs/AVPX7xkvLdHqkeEBMHH3PlCndaUw+c2p3SVkUjG5P1UiQ51LNwDzJaouH93dwvE/HfYmk6p6hpY56B/zBz6Q2C27rk633sjNmN2MWUKG7j+/odhdrmEn4LZ38v4fegCPsWDLEZNOcdjr9+kO4dAUjzAkje2Pk+JhOl7rDG5giZfdw4PxBgQgdoWVi3nceQWNG3X5lw7lRwJXkUwy5fmpGkuHin3CI6lF7AaWkbAOkvTrHKM3uKqmrqqVETTGqxZN0xPPWTksEee6jazdtEHdveP+OKLv2B3dw8RixG7TsBNqijvqlpzNGICKTkx95kkKZMQMMbhXMrvyfcQNenVh0AVneYu9p6CMJkokEynU3a2t7i6uGAxv8G3K+Z3c25urrm7W7Cc39E2K5WsQYthJAVENBwxGdVaJDLZYzyesH9wzGy2w/7BQe4h7PprLr0VK2dIviN6z85syqsXT3l5fsre3hZG1Bgv+TMGBW65xwwPjWohmUy325Kbk2n8PPesFG2vdeh/tVzy7v17YoKDw8TOzi7OqRB3COtG8ZvzuizIoXr6JvvyycdH2JdE6sW/HzvvcI1uAkz/r6xzroavHYLQZ8Pvz+f4qZhdjJpyjh+D2ZJz1OIA+xmsNT1HFkgv8hkhKsuXmS2xmtccUsR34R5mex9yGO9xzPa5DWZIPIrZiME6y6ppMMZgnaOuHFVVq+SVdYixA1a8RGmK0ZedSdGWk8FHjvZ3+YsvvmBvdxcriud9oVuKalRWTtnOHJ0ocidDJkn3FMVwZwzJ6XtiDD1mpySE4HGx0tzFsvED08mkx+yt7R0uLq64mS9YtZ753ZzrmxsWd3fczbN8WPAZsQ0h6xsa56hHE8aTCXuTKZPxmOODfXZmMw4O9nvMXs+T3IbUVdrizUemsx2evnjF6flLtvb28GLofOjz1FOOrqWeUb0//wpmY6SXKVv3yS1z2aJ5+dKH/pfLFe/fv4MUSYcH7O7s4JxTIe4Q/iiY/aElVjC7iH8/dt5PwWydHg8ZyR+C2X/0qt5ybIYJyrEJNrqRhywuWWKb9CCim3f+OTe2V4fQk6JgJLJqG7zXiqfytVqt8F4lS0pz5PI1/BnUO7PGQtoIcZTBR7055xyj0Yi6rtdJmjFoNVRpEr32ZzShN+l5cnkYLpesf/XVV1hTYcQxHk1w1tBFZZmq0ZjRaEQb0YrXPAYlpNIHfEsjczFYLBhN3I1KFUKmlb33BO9I1mFcrkaSrN8XPVVVcXr6lNOTE26ur2hWc+a3d8zntywXavgt7m5YLucE3yIpqt5eXTGZjpltTZltb7E1nWZA2QYULEiWlCzWmtxYPWGSEL2nMrBztMf50yecPz9ld2eCxRNDC5LVtkqydgiZ9dNOI2rU5LTpPLZiDZLHazQaaf6h7/QZ29x7Mulcs1Y1/+7u7ghBQyBN07Kzs8NoPKauK8JGO8SPeYybi/FTWJfCjtB7gB953WBeboLFh3I/9PvEEIQ2N/MS/vh8fD4+FbM1oxjdfNd1FoMNO+NVMcxQa8CniMREFEPTrn40ZmsEUfVS1dAYrg16HDaZPdrEbO1a0T3A7Ozqa7hVslJMhKpyPWZXxuLEMBmNVT8vdhhgPKoYjUYQ23uYTW/6qLlj8lhuYnZKEVGhhB6znQ84m3rMFjHEbPRWVcXT01NOTk65ur5hvmpU+H8+Z7FYcjdfcnO3YL5c0vpATGq4VfWY8XTCdGvG1vaM6XSLyahmezLGlnFNYJMaMElM1ms0eB/BVOwd7fDk6Tmnz8+Z7OzisbRZDDuyblcWgjYnHmK2NuTK7TIjGKvZ6QWzQw5HR0CsGtchNwxw1vaYHUPIqUYNOzs7jMcjZf82QPsPjdlrdrZ/0wdfV4r3huf+FMxeI/aPx+xPNvw2L+yHvm94POZ5DunKkkeSUlQpkyTEEJXiToUb6rcrIDd3DpHOay5H17XaGo3E3e0lvm17AGnblphiv6h7K3nN64OAtbrQjVHWLuW4fYxpXUiCeieVc1R1RV1XjOo6exaZXYvlwRRDtozLmqGLEZx17O8fcn72grPnZxlgDKPxiOI0izFqeIzGLOcastBzmAFI9Z+CEYsR9enKPRbvRnEn9l6zMTkcASRTytFV8LOfRinRTcZsb+2QUtDevr6lXS1pmgVd2yBEKmuonaWqTBZ6FqwIEQvU2SCTvmK1GPIBXbBWEgcHM754+YwX56fMtsc4cnhXchVaTL2SPkmLIpy1OZcj5jwIo5WyGahVyDQyngp3N9eatxI0NJxCGFRYaeVb8J75fE7nPYvFguVyyeHREVvbs5y38bD1zveF1D4NQHSs+01LuOf1ktYLvXQXeAykHmzKm2GEvPmUcw1f8/1h4s/Hz/n4U2C2hvxs7vmtmK274Bq1y08ph99a39E1LW3XEYPmBl7e3tG2/gdjtlirhoPREKjEHGPJBREqrqshVucqqlqlQepate8SmpOXCvOTUs9IFWauZ+hixFnH4f4+L87Oe8w2IozGo2JlYowwHo8Yj2r8fJkjUbLWVb1nWmr4NkmOnWxgNmhBQ8FszdNz+Xnohu+MyftPESOG8aRjZ2ubkJQxbH1kuWpZNA1N26nen62wrsYU1tNqlxBLRDMDpcdsyW31CmZ3PpDEMjs44NnLLzg9f8F4e0bCERKIRATF6tKxSgMOCZtZS3XeNeRvimhu7m4SRZDpmOubO50LQUPDIaQes20eH+8D8/kc77ses4+ODpltb2kho/kw0/ZTMTsNHQ1hI7q0xuzSxevHYnYhBX4sZn+S4fehC4H7Czrv39xbiT1JLhu/Lhbc/XOlkrfRqfSJbxMxag5HCP7eA8qRKkS0DLtpWparhQpNNitCp90bQtsgae0V9iCWv1zp6LDxEPrPiZHQdYhoKNI52y/EoWWtBpLmDqYc0Ld54YcizUH+2GyglS8BZrMdXr9+zcuXL5jNdqiqWo0xZ+hyroMYy2g0pqpr0m2r5f2pXK8aOon+Qei58wQs4r/K6BmwieDV0GqaBlLqxTdtpd5wVVUAhM7jfcdopB09OtMSfUdKXjXyrGEyGdG1DUQVNXWlmKLk98S1VI6rXB8KTySCb7NcS6AywsnxAa9fPOXs6RG7OxMqmyDkljwpaQ/gYqTZnNspA1fA2AweVj1SI6q/KAYTAwah6zpWq1Vf6VUWUTHayxCmpPIL0Wc9wrZhb/+A3d0DDQN9IIT2WMk95WmXpdEviI2lwGBhDxZzYWPJvy8t/x7zFMt1PUb9r0GGftsZvudjIPj5+PkfH8Ls+4gNBbQfIjYPMLvYb5voHzPjXjA7tZ4uRtUDzYnq/fVk0C6Y3TYNi9WS5XzBqlnhO2VzmlZZqE3MLrD9fZgdY6LrQv4si815YY9hdkKLM1Jf5KRh6BRLkr1+qGygNgg7sxmvX7/mxcuX7Mxm2vXIGIxz2kVItB/7eDSirivaW02tKZhtigE4wBvJz0XE9OK/BbOTVaNPIxANKdGL3LvK3sNs32nO+nikRm1rOpWlSUk18qxjNJnQtB0+KmZinDqzWUUjxtQ75QWzjXUkEq0P+KDkhpiKg+MTnr54zdHTMyY7uyRbEUOJRuQewDlX3VpzD7MhqUKHGKyoQVgw20giRI3efAyz1fTQ88WUWDUt3qv2bdO2HOzvcbC7qxzrT8Ts/p0fwOz+WfaGnymQ3bf8+7GYXebi8Dp/KGZ/3PAbAsfgZvsLJieqlosmIiZfcPGOsOubKJtM8drQHL6QNeC6oBpKbZt133zL7fUlXbvq8+16Yy9fTcnzSJQm0yF7jXq91hh81+ZcO4urNDchxjQID4R8X8MBXt+xMcqcDQd6s+T64OAAGFbe3B9Gkz1dawykAMn0rFtMidFozOnJCa9fv+b09JR6VDOZTnShmUQKmk/ojGFc1zhblJ9SFo5OufJLk6YxZSLoBZgyWXL/R/XaQGJHlJwzkw0r49RI7LKOE6LaRc5VLJtGi1+aRkMvXYOQcMZQOUtVTSBFJAUgZO9GBaytrcBUGBnT+UjXBJKL1LXBVQaMMrsnx/v84s05L89OUfH7Jlc9ayJ3iEFD1pnttNYhUp5/hKCtjjCqJVV6YSYgSex7ZS6XK+7mc22aXaoSjcFZ2+cFSSoK7ALRs5zf0DQrlos5deVwVc1oNOoZQl0bFoNZr4uU1vNWrM79vgUhZQfOy628RyjSDdI7DAOAyP/GHozuG/r3V+3DvI8hUDwM/w4BS0VjPx9/Hsd93F9j2NrwkyxirsZPJJHMuqOFIrY8wOyCuco+mZznqiFR7wNd29J0Ha3vuLy+ZdV2fb5db+w9gtlFciOG2F+vMZa289peLGM2ZAc8Y3aR6Rg6RcM9SozRPLsyEj8Qs5Es8kzCGEtIWpS5LraIjEcjTk5OH8XsZAwSMmNlciegnMucyKiddB+KAjaZXOuQ98fM8AuSuyblIhgRuigEycxZyFJaTo3EgtkiGrWonKNpllnguWW1Wml/XUSjOa5iUlXKIiYN0ccYs/i9pbKWysBYjOrPNh3RJUxdYyqnGUohsn98wvmbX3B69hKqEU3I8liIaiNuYLaz6pCnUiEetDOHNcWu0M4ukIiSKD3pV8sl8/kdWsCXU5mMzfIua8wWo7q4PsLNfMmqaZgvljn/XsP7tn+WCeVH161f+xQb0UhVwWzp2YCBgV6mTGZnYzZ04T6+Sl/dEXvWDtbnGa7Yspf8R2H2x6t68y353L3ZlAEpPReTYJIWVvSJ9Znd0d5/FmucVgaFkCunbB9+DESSb2l9y2o+52Z+x3I+Z75c0rWNLnK/QmL60CVSdPv6QYAsKlysa48W1Rbpl8GDMOplJNYtVjYHttiAkvUzhp81zA95FDwGh8lgMR2NWK60YKQe17TBE7rI8ZMn/OLLX3BycsLOzg7WaHi0qh2dj9TO0gWorGG2vYVDPcXJaExKWkVr2gpTJerRhNo5jFMAV1DVZOTKGgKxZ5JqV1M7rXyCSLPq8DYSbMA6zb0DaJNHiHTLBTGLnApgTKUeq1G/taqcGqUpkoLK4KSoPXkrV2FMTdsZnKmwFVg8YTXHxzmzacX+4TZ/9zdfMR4bKtuqLIKB5AMxBZXtyW2eSkm7Rlwt1hXvWXNGIuvFIymqLqDkHrd1zfvLSy6vrhFjVbQ1lKTrDKaAzfI+2qcvA0AXuLls+fVqweHREaenp2zv7ZHE0rUtSKKuLF3XKeuYmQsrgqkqnKhGWUiJGFJOXraI0S0hphy6zuzo/S1NC1msCGBR8s+znn6aB6rkSso/52r4gVdKdpQEAwMvd3h835z+fPz8jl7AKPry5HM4Lv89gUlDsfgih6JOsyXhjCWGTtkZSVhX9eHHSKD1ida3zOcr7uY3zOdLlsu5tvcKgZWPOS3m8aPo9g2vmuJYp6T7jXV5/UYkrNmZZDTqEXP4UzbkN/R0Skua7Fj9WMxOWaR/NJriV0t8jNTjGh9aYhd48uT4HmYbYxFrcXVF9B3W1RA6jK3Y2p6hXToM49EEklbXVq0hVVoA51yNOHMPs62o5EqkMJ/0mF1Wd7dqiNb3mG3yevapJSIslh0+C1CDUJmcApPlU1xm8WISupBofaTLVb+Vq6iNwXQtlXFQWTyW+Sowj55qOmP7cJ+v/ubvMOMxra0wxoERglfdXO1ApHOzSEeRolbxOjW5CmbD2jiPSTE+SkUiUdeGy8v3XF9dYo1o16oQQAwhh49BSJKlzsKaJApdor28YbH6NUdHh5yenrJXxP/bTjG1qnvMlkQWc9Z0JSOORCSlQAoRyalLyUgmbzLLl0oKggwQWxeehs11fvqohYlQEFt/n9KgmdsAtFNm5VXmTD4E2Z+M2R81/ErsfM0caZ6UEZspbPqqW1IJSZU8BdFEzGaFsRX1aKReSYys2hWL1YpVu+L66ooudHRtq0UYTUsbOw3jpdhXiX7sMPIQZNYWsRDjhy3lTbp1M29lM3ESlA4ulLr90BNg7WWrwaz5hhqaVd07HzwxBKZbWxweHXF4dMjOzozJZMJoVFPXNaPK4axFLJgIdeUYVzXWGoJvcdUWdlCNuw5DrO+xTEGTN4H+NX3mdfFwyALXygqYmEVUU+k0kUOtJntnzq07tEHW0cuSOei51R40OdSu3UKM0Sbj1mgydzLaRePs2SHnzw/Z3R1RV8LIqgETA/j82bow1oyyfnDO5ylyACJrEeTBOJjcDigBXaet4srfylyPcVCtS2G2+wfaj2VMgfldCbXrs93bP2A6GbFqPcv5rS70aoxYwSVD8AlSB1Z77ooprfXIjG2i7y8tyi7YqoZcCajAgHqVPSPz8bVxL7WhjMNwjg/m6WaYYDNv5PPx8z+GmJ13PZDMfolkWYxcdZt9mjLLRSwxBlZNR2WNCsc7xc9Vu2K1WrBqV1xdXdOFjrbtaNoVbePpYksIWQg4o/bHDpGHf+/nKCAx/kkxm9KZCcnhanVuffCEENnamnJ0dMjh0SGznR0mkwl1KRKpRljrlIGIJrNMY4y1tD6wVWn+3FBBYYjaj2F2eU2pb+yvNSkWSRKNvsUsbp0xO2amFKOGlXN23YMSnRtGFOsieb4Y/V1MAiEQgqcyuVe4saQoBJMYT6YcPjvj8Pk5o91dpKoxNuc2hkjE90VnSq7QX7wx5OYLQ2YsDSE747gpm9UnYfa6Qrgw3ayZ5hRp7+b4EPIQCAf7e4wmU3y74na+xIowrqyqPyRH8oEugbEoedB35MiOeZYCGmJ2XdkshF30cpUJLIWI6T7MPji+D7NBfjJmf1LnDltujKylV8jIbIWKrF8bcoK894GUBGtq9QBSoGsamuWCy6trbm9uWDRLlndz7esXI130mhQsKTMaWVpD7hszH7rO8v1wwDZ//6GBGoLIMN6++TprrWo9jcd9nsmHSsA3f2eMgonJi977gBjL8dEx5+fnHD95kiuQxjnhWCvNjKEf57p2TKYjJtMJIQTqPpF3QAvnF/c5MRRAlDwBi9Gw1tfqzZwsiq25GBGR0FfNkQISY98tpcq5CxqyUG2twvbGHJ4wrsKK7UWZSVCNrYZ6QoexgdlsyvHRNucvTjh7dqSVahLyfIrKMAaVUCGhBSF9eEoorW7W5f73c94eeyYhBH7729/2oQfvfZ8z8qGKqPW4ZS8vJm7vrmm7FYvlHU9OnrK3u8/21g5bsx1WvtW2da3mc2iPSc2hDJ3X9AERDRGUWHRGZCMg1qpXGQPR2zWLl8HmUwyyIRBsbpofzGlN6d7X5+PP51izXpqHrGyDIBQNT6A4ThuYHbzib20szhhCgqbpWCwbrq8uubm5ZdksmN8tCQRiBB87xRWJiJTNd1DK+33Xyc8fs1OKqjpgDMFr/nLB7CdPjnvMrutqXR2cw4iI4Oqa0XTSY7YxdZ+TNsTsfh/Nhp8UbBhgthF6HdsSHFQDXqNqEQgiPWaHhBIfuVuKMVVfTFc0bAvbq0SLUDmDFduLMpPAjivNLQyJYA3T2Yzto2NOXpxz9OyMZB2hRGBCwPscli/5jEYd3T8VZks2HlOMXN/dsupa7pYLnp48YX93j52tbXZmW7R+RYz0mF1Vrsds3wXVTRTynE/3QraIRulEtKOV9bFn8Yq+788Fsz9q+K2Fh1PP5qWU6VuKco6GS1WrLtCsVsznc5qmQbCMR1uAllcvmyV3t7fcze9oVg0hBawRcntorFGRQyulQpUc7//e+3gwEI95io+BSPnb8DXDgS9eVUkKripd3FVVPXjt5jH8nRGjmmspqUyAtaTYMZ1Oef7sjLOzM3b39hlNplin4VLrsqWfEqUWvqoqtqdT9vd21bvom3cHjLv/4CWH/IwYhKiAwXCCrPNqel8p31ORTCihQgWaiKSIRIPqI2eWLam3hhn0BE7KxFrjcE5wWbA0pYC1aDEHHVvbY54/PeL5swP2d6fKXorOq7WkThbqLCyCUS9w2DJqM2l7c9FsLoyUEl9//XV/nyGEBwnjj80VIHvQ2rYu5eq6b7/9lovLK3Z39nj27DmnJ8/AGkb1mNHI4r2ny2KzxStE1o3RyWspf/DaaF/Ts9nXun8/8lGXaF15+RgLohuJ5ttsbrybAPP5+PM4ivBwgexiXGj3ojVqK0NuCTGyWjU9ZluErdGYO9TpWjZLbm/v7mG2hlrzuY2FJDkK1CM2nwraP3fMNlkixFqLtUIXE9PplLNnzzk7O2N/b5fpZIRzVithnc3GIkVxiqqqmE632d3bzwZPrYyV9yR3XxPR5LEzYrT2WO4bfrGQLQyZWu5hdhzci/bgzZ0krBZOGCNI1uxLhr4nsBqfBmcs4hxitC1aSAkyW9mRGG9vcfT0OQfPnjPd3de9LPcY38TskomeM4H+ZJgdczWvqxzBpx6zry4v2NvZ5fmzZzw7OcVYGNcj7GikzRlCR5cNTFvVGYtjT3r1xOnAaM9sS+/H/6ExW8TkvPYfj9kfZ/yGFzwgUcv3xepuVy0xdLRtq+XTCy2llmSBK9VS8p5V29A1DT5FnAjOKSWcJGFSZvbyRJekw2Psp2uIPQYiKd1vw7I5KCmle42RHwMFEZVaqQcsXErrMvLhuYbfP/iZMgFVGkbEsrt3wNPnzzk8OmY63qKq1Bt0ucRdNLNXzxEVVrcmY54cHTIejxiNs/ZU25Hq0EsqbIKamLX+1HosjIYS+j6DCYtV7zFXQa/HVUFBcH1+UMymuTHaB9GKEK0aN0SPSRGxIM4i1mBJkDq69o7xRNjdnnHy5Ijz58c8OdqhspHkV9rgPIn2aYyRQiD0zrHkTitxKOp9f/Jvekdl8ZSvxWLBu3fvBsnQksHd9nPmsedajpJI7HLoKITAYn7H7fUtV9eXfP3115ycPOH05DmHT45xwdLd3NK0HS6zD/TPSee8fhhkTVIKe0qpht5IebifSfLxo4ju3psT8vDdnxm+P++jFAwVzO5DXvn7IWZ3IfaYPV8s6bzHJuEKIEW8jzTtiqbpiMkj4hDntFJTEimpA1YcSskJ7T8HzEbkD4LZhSUSY5CokaiDvV2eP3/K8dEhW+MpdcaAgtnJDEJUWVh/PNni8OgJo/EYNx4B0LWBUJdigPhg7anOKQNHUF3fgtkFPyxW8yYH91eMECPaFG6dh59zl3O0RsQSbdSOVRFiMmBFSQcrJCxdgru2QyZjZtu7HD054fj5OTtHT4i2YuUTrqo1Ly4KMZrMF8gatCX9bDC7qlyP2XfzBbfXt1xeX/H111/z5OSE5yenHD85xAbH7U1H1zbUtWM8Hvf7ZEFt/TDIHQQo7GnMHv1/BGZvMuk/BrM/avh1Xdd/mEgxzHJeXw69+67h7uaGxWLeay4F32nLLeMIvtQw5zwxCVjRm1fCKVDYJkH6NmbFoylewMeOzZYljwHGY/+Wc5fffagHpTWa5Ko5Emppl+qy4TkfO8okUfFnzdGKSfP7XD3iyekpT06fsrW9QzUa9SHe0UirRZ21ypZl0o8Ysc5weHjI9nTKyFZqPJtsqIWQDYWiVA+PhVz6cchfpXzfoJqCAmDW42+Mgk5VDT0Nm3WkchhBBOegqp3maMaANRqe0N7qCatKepycHPDy7JSjoz12t8eMa6EyEZKB2EFQ4y7XW5PSms4Wax54RZvPYAgqBUCKlxhj5JtvvuH29lZbyUVt8zMMGWyCyObmomMG3nd9jsl4MiJ4NXyvb65YLOe8f3/B/reH7O0dsLOzw+7+NiFB1zYYU/cOzr2HIbH3FmPUPNeSP1JCT1Gn1PceQy+6eNr3xqtQQ4PXPzaOn48/j2OI2akAqeS8pJxP1XSem5s75lnjbLlc0vmgkQZjiT700yKEQBBNmBcEYtKOGPop+rs0pKbTzwKztaL1x2M2OYQquQhOkrZ/G9WO09MnPD19ws72FqNR1Yd469FIq0WtsmWF9osRjLMcHh4ynW5T2RExQDQpY5Lm+a8d9sdNg/U1ZwNbCoNkcqGA3MNsyUUcLjOdsJYX09C15nviHK6uVBMvZhY3z5dkDBGLYDg4OeH07CV7R0eMt3eRekw0FSahcmMZs0HZZRkwdWaQh/6nwmw1YBKd9z1mjyZjolfZm6uba+bLBRfv33P47T4He3vs7Oywvb8LKdC0HXWOcPV7av42DqIyMUa0M8kas4t+JB8pVB1e+8cwewOyfxRmf6KAc14sKrSt95qgXa64u73j5vaG5WJB0yxV7yxGUqqxI4OzWWjXR5wBMPjkST4Sktfq01xdZFAvZ0hlf9/eNhyYT73pTSAZqr+XCVOSgY0xOOuocjjssaqZTaDbfBAaUsseVi49X3UN25Mtnj075/jJKaPxRAVFnYqJVqNR1gsEUJbQVZCCRxLszraZTmqksiBKY4cQkYGHFLOnmmQ4jr110RvYmqeXc1KStrURct4gQ5o6apP04n2KGwBM1p836hXbqkLFVIKGh4kYkxhX8OTsOc+f7fP06RO2Jg4nYAjYQosnIcoaNIrjGIJKQbhcAPEYiD/2HDafcQiBf/mXf2G1WvXvcc5lEev7TMNjz7K/f6e6UqFrIVpsVVFPx1SVPser62u+fbvk7XffcrB/yLOzM05PT7HW0qxaxjXamureppc9yQQQNddV6D3baC2abhnQuvnvn+8f8wiFNWDeq47P6+oxluTz8fM/1kXe0ht8JGG1bHvMXiyWLJuGVdMSY6ROCTOyiHUqs+ETGIcBfPJEn/ApaKiyxO4w+ftPR+0/FmZbW/1kzNZ0FU2HaLoVW5Ntzp894/TJMZPxSFuxORXtH4204A3Je5gxUDnts56E7dku9WSKrbSSGqOixTHKPcw2RjLtn/Ft8FUMbPn71E8AACAASURBVCOCyaRCSBkfKFIxA9xLCTdQq3Clm5NZp1Ilo9GnqrIkLCGHhyNq+FGNeX72hP1nz3ny9ClusgXiCBi085KmaKWhKHEJ0QSVcUl5r/i5YHbbBWyEqrKMp5oGULuK6+srlm+/5dvv3nK4f8DZ2bMes9tVA/WY2pYIWDH+pMdsldu19zDb2piLZHKRCx8uLvrQfLx/yE/G7I8afuvFWXL6tG1M+ffm7prbu5ssqBiUFcrJljEn5Usa5ovl6ipjoAabdXqEh4s/Jc0tsMbdi6U/GIKPPPBPPYaTawgIJT+kci4zYaqTZHJBRaGLS67B8Bo2r8Vmr8sVdfQ2MB5vcXB0zM7uHsZm7SdnMc71MfykFKG+15SWYolx6Q5ijBrM1vYeY/81HLUk2UsYXpewnrsZNPJn2SyKXDz4UCZuFJUfIbczslotqHl9gZCiavpVjqrKIspJpV+sJLanY7788iWzmWNry1EL2UAUou9olyvGoyqXfWWPNAlYsEaFPPu+lRtM1Yc8yk0PMqXEb3/72z5cUBKN5/M5zrl1hdgHACSldZiliKUCNK3qZI1GYyaTxHg8zmEIuL654vL/ueLrb/6Np0+fcnR4nE8aMNie5k7lfykXUpU+lSHSWUso6yuVvI9PZ+SGzEj51xqjTeU/cHxm/P68jn5DoJhgEaL0/17f3XBzd8tqtcrCu+YeZnuvGmSbmG2Mgxok2UFu2UPMTingTOlF+jge/zEw27kKwfwkzK4qxbjKOmpnCa1hazzm+OiAvd0dKms0iuFUZL/kyqakyfwiAkb7xKYUqetxHkuAkvMdP4jZmuqcNhAbCmjrPacHmF0iZSGoyL1ElYyy+ZmZbLikqP2MYwr/H3tv9iTJdZ53/86WmbV193TPCsyAGwhLlGkztFG0QuF/1pe+tx2hS0lBM6zFpvBRImRqCIogiGVmeqmuqsyzfBfvOZlZ1TU9GwRg5DmIxnTXksvJ9zznXZ8Xra2krTiHVhqf5GxJGZrpnG+89x52scDOZqCqbHIqOh9Zr1pc3RTI7nlTMeI91DEM/eG/QsxO2bEwxuy2FT7apq5Jk0mP2aTEk7NTnvx/j/mXj37NvXv3uHVyE8iKds6f38Vs8p6olSIGjTEdWhcqnuyMeV4hZz9ma21wrnrqd17Z42eMwvuur55ZzKYYY7hcXnB6+oTTJ6dsNitC19Fu1nTtRhpQa3FDe9/2N6kLud7Ii6SU3MTThka05wjbC0JtJ/2OF/0+MNr9Xnl9LFxFQAo4lIRga23ulJDyotVb3ynnHWvYuw8qZeW3FCgkLeX1D955wO07dzGuBm2pqon0RpxM+jZpTmucLRW3sJhO2bTn1I3jYDFnuZZSc63Bp0DYrAXkKoPB4mPEKk3tXN8RRZXqI0rbILKSB+1aknz3EUCWZ6XQaGe3Fq3W5FZJBmcUdaWprIbclqmpLLdv3eDttw65c7vB6ohReXvK4X4N0tbId32XjkHJAp8kHCK5LiU3MW090+JaV0r1Ya8SDqhrya25vLzkZz/7GdbazH4vVAFN02wl0V69/+1EbAqo5M9brXObI9k4JcQkLYkWi5nIQbvmw4e/4MOHD/nWN97l6PAG0+kUV9cSjiqhpeyN9d7jMveY1pq1gouLC2Hf7z0n29ZfmYdxBePYMiybYCkcCjvPehxmeDNer6GMkXytjDfT2QJjDBfLS56cnnL65JTVZkPXBdabVrj3YsqRAU3rPcWYUKV9IyP8VSoT3z5t6MzIEL9SzFZKkyJfCGZrFFELjdWDdx5w985tamewGiZVxWw67TFb+PEcyjpK6G86XXDebnBNzXxxAOtl5kLThORZb0KP2RZDjB6tLM7VfUcUrZRgS4mNKdVjdly3T8Xs8qw0Cut2UmTyfmS0RhmHrmq0rXKHjYitGm7cus3hW2/T3L5D1JaoTO9lzDNJVTcSPu27dAhei6blJVL0NcFs0c0Gh4a0JFVbmF1af84WC1JKrFvPLx5+yMOHH/LuN77FjcMjptMpdV08ypIaUTRBOY7rMRu15uLigpR8j9m9S+0lMDslMifjMF4Us59B5zK4D5XK+R7Rs96s2ayWhNBJSCAJuS59HuBokWe3776shfGi3nP2revY/nt/Psju8XZj5fst1MHSGE/uVpl5dq0/zTotx961ZsbnE9LQhrYLrFYbpvMDjm/eYn5wlK0lg7FOwqcjDiylsudHQfTytzOKyhqmTcPGd30XB2dsTt1NfW/KTD6frSaZx/6y+stVmUOOnMAqScC7VphSQi+gM4N8uW+Tw9FWQ+U0hghxQ+gidWWYzxuODhfcvnnMzSOHVWBVlHsDKSJKiUIKqNPVYFFZV0opBn6964W8WPpVVbHJnUaMMXz22WecnZ1JPmoI/bMr1mUBnd1wxHg+tpN0S4hLwmkqXQWhXfkAeP/vf8p0Oufe3XtCAnt4KOSvpNyYHWy2Ptu2ZbPZsPFCht00TVYU/dY5yhhvjOMNE0begDzv40q7MSA/Tz7Um/E1G3lNyoYjeW0+BtabNcvVhi6EXKkpze1LutIYP1MW5RfFbLX9wa2/v2zMLt0fXhWzm6oidC2b1YqD+VS8fQdzmtrl3G+DVUP1KpBzKxUoDV7YFFSO9DTNlM5vKF0crHGCtUjh3y5mkwa2BTn4MNe7mB25yu8m96gy0fXoOWQFDm3RriJi2ESIXcBUNc18zuLwiOObt3FHN0FZorJ5r8nUYGlECZg0e1G7zHMxJr4mmD1C7OxZvYrP+zD7p3//PvPptMfsw8MDyWknEqI8L2MsKdFjtjxv3WO2j2HrHGU8L2anxCtj9rWKXzmIzZZF8B7vW1YXF1xcLHMbNfHojC0po0u/PQaB7ad7e+wj8pS7KDxIV782BoxdENn93D4teMu1nkbtujKAFAty+F62YHaO8bSx77q0slSuou1WdMHz9oMHfOOb3+bgQMK8xlhc1Yir3Zh+2nSvWInHy6hEZS3OGubzGcv1BV6JEOscVgxBqrSMD2ijiUrSbdUoN0CuX37GloWxeWmknLi9QxAcyZXJKUi/R5tb5miFJmJ1RCdPSi2V1Rwvpty5dcSt4wMODyyThqHgI5FBLwlBcczJr5GcQJuFHlWQrn9t99mOhb/87b3vLfGu6/q/f/GLX3B6eipNzkeLp8jD8yg6PYDkeUrl33ypfVXbNVA3mTWQIr/5+CM+/uRjqqpicXDAjZNjjo+PmUynuVm8HMNaS4oNrUeq48NGyFvVVbDfN8YgUsJ7jO558CBu0zJcR3j7Zny9Rg/8WqDd+0DrPRcXK5YXFz1mh7Dt/dLaQOGVHInPPknaR5gPoIsS8DXAbFFGrob9njb2XZdVmspVrLoWHzoePHibb3/zGxwdSJjXGkNTOZzLHY7672uGTiSepAzWVhjrmM3nXKyXoDyQ5Hsp9zr2HcEbqYpW0s91F7MLam/ldlkD5MLIjEHbI+awrlQcK5u9fFpK7aK2+KRpU0LbiunimKNbdzg4voU9OIRmMhR8lNw/Uu6WkWE5Y3aZYZX37i2u6K8ZZksrzLLHqZ49YlANr45mNiEm+Ojj3/SYfXCw4PjkBsfHx0ynE6QjkhzDWksTE/iWzaZjE3w2uK4aQfvGPsxOiVfG7GcqfqK0FFe5z1rsmrbd5DZXXfZOiK9Ja402I+uLgVQgZeEc/haupOFvnZNEiwAn0f+yvbArNE8Dk/GEXTeRZRQAGf9sadEpScuia4BkKwS45/rW6zURxab1TCYz3vvu7/DgwTezOz9RVZa6bnC2ytVWKjOqx94DKO1eBl7Dg/mcR09WJDTJatCJ5CHFIA3SqwqXKsmzIwu7VtvX27vmRWBCyAupeK1U3C+cqnRtEWpYlRJKefymo9KBxdRxcrjg7q0jbp7MWcwMlZXPWhUyMORcmCQeyhLevbJvZGGR9jg5f4T0VCAp96eU6vN4tNZMJhO01vzsZz/bogMo4YDx3883VBHW/IykKrq3KwtK795P/ruyUtUbgjQSX+YcwdPTUz7++GOm0ymLhXRyWUxnQuydKxTbthXr2Kj+2Y3XwdgS3PbmbMu/YnvNjH+eBUpvxtdv7GK2j0LZst5s2LSt9NXNCfcxu/b2YXZBaUUG5DFKq6GYQ5f3C1ND5vMs0vVVYXZKEa3MK2O2IuLbDbPJhN/57nt888EDaudIIQotU11TWZfpUcTLJ4hd1ozJXlX5ez4/YPXkkfQ2sXl/86JEdZ2nqjxVcpl7lb2YHeOwLwHSDjWl3msV1VMUCiVKqTxVTUoKrxTdxhN0hZsuWByecHTrLvOTm5jZAmUrEpqgLKkolVFYFqRXML1xuoVyWWSUTr0MJZ6u/JX7+9fG7N7Dp8hYTX5aJWLDViRs99sFsyUE39K2y6di9my6yKThbguzldH9s3sZzIb96Q8vgtnXV/XGgM7cRNKNw2eL0W+dlBj7fq3WmJ7lXKyCXUVP2s5ocgm0Hl1C7y6B3JQVCQeKV+hpALLvRncFbDx517n/C4hsfbbcwFO+vwsmY5dtr5UnzdnZGUo77t99i/vvvMP88ED69GlDVUu3DutctsBV7lAxWHtKdDsUEEPLbFJjrEYHhbKWLgN5jFKybnPZOqi+Qk0lnecy7cxJPkeu5u0bSlPySgSESkqmUWANmZvPI9W7AaMCs0nFvVtH3Lt9xMnhhGmjcQZMJoDWZXWlovQlVBT6hBIt6B2SFM/jWEkZuez3CHi5r8LUv9ls0FpzdHTEb3/7Wz744IMta2n8zMay86yhc5wsIV6SLRCLhSVxFLZnDCWRrl2hMRhrmUwqIgnvA5erC07Pn6C1ZjabMZ1MOTo44ujoiNl0ikKJVWwVMXRIr97t6x+vjX1hs/G6Gc/BFvlqBqJ9VZFvxtdzhAi2dJkYYbbP+Wxj5YHcr9UY23cTSiSIknPbm+tKZ7eOeKLsaI9VI2wstHNJDV6hfwuY7bTirbv3eeed+xwczgHpM9vUFVXlcK5wruormC2TIoZ3GyL1ZIa2BhU01ipS6mSWY8z59LYvAChMELp0XNpVAvJ99dW8ed6y/0/mByX5hCBeSGNJGHyCgCIkRVCGajLj6NY9jm7fY3J4gm6mYBwR6eDRN05NkJKkBqWoRC4GxmiGIF3Zy0uol68FZqtUFOoEO5hITFcwe4zaEVi1HQaNtYZqMpEQr/dcrC55cn66F7On01mP2coaIfLfoSH6sjH7WsVPTp7nJFdHtW1LjNKtI2qkyTxZqdNSqWRM6UqgKP8n85WJ1j/aurUe3ldAGmwl4Q5MedNPVxbmeDJ2f98nBPteKwKzCzL7Xt93rF3BizEK4/cISAAW0wXrtmM+nfPOO+9wdOMoe/YMk+mEyXQqzbWlGbLco1ai/yLas1ZalD8j55pOp1hj6HLTde2lyEMo9EIf1unnTcovslK3e8/bhC+783llLhGZ8CFiTMKYhLVw43DOvVuH3Lt1wM2jmkmlEKgJVPnau9F5tzxjcTh3uZJBZnIoQ+WFOJr3fc8DJEenLILStukf/uEf+Pjjj7eeme8VZBnPzJPoFdIBDBnJpS/H2rIet4cGbFWhouTytF0nVdlK8vqqSpqwr9drurbj8uKSR48eMZtOxaqcznCVkfWizLXymnbmqp/dnbW0m2MyDqe8Ga/HEC/98DwLZgsJsTT8TqF4aHJifVGcFOT6X+g968V1owb/iB69rxS6/5woHyVvMI08fq8rZnfteguzJY1JMZlOmE4nGCOYLK2Qs3dOK5nDjNlohcpdm6bTqSjaqZNcaa970A4hXsFsXfxRaigiK/cQt+7veTw9WVEInmQMyRiwlvnhDQ5v3ePg1j3qo5uoakLCEjCgq3zt3Wju1BZmj1Fb9f/P85jys6eH7K8MsxWM2s3SG+tyPt9/7mmYDZqqshAld7brWtk3cwFfVVVAuoLZ0+mM6XTKbLrAVMJ7aEbevK8Cs5/J46eUhBxj8Gw2m6z4ScN4XS5AFS10aMWSyLWGxmznHJQ/UrFCinZd/h27ixNKxR7Idq3H8TWOx+4E7nOLjo9TJm/3/d1xHZAUQSyJpmPA01pLuxznuH33Lt/9nd+R6i6lcXVNM5lirIPC9Zfn1uaEXCkVl3nQJKw2OKOZL+a4SpJy5Xno3AMy0WUwa9uWqna9F1auqVTr5a4pWpOS2a4k2mEH7oUpZcJMBUGJZ6AxhoN5w+Gi5s7NA26fTLmxMExqjSVi8NRGij8SoEOUcETx+KWyIDUxV4ClUT7fljyQAURt587tLqKS9+O979/bbDb85Cc/YbVa9c9r91mVjeDZoYN+d6Oo1GVeDUh1bj90cYXkH/l+CFE8uFooI8qm2VMYIO2eUhyKO87PzmiahsV0xnTWSF9NMyS57wOFvVc/XhNsr5Pd9fVmvF5DMFnjQ+wxO8SYN7oSkiyKyrh1lqC2MTDO7S2/6vJv8fCV90fnTgqiGvIEX2fM1kYoXe7evc3v/M53OVjM0Qrq2jGdNDhrsp2uelzVuvD4pcxAAAmN0RZtHPPFHFM5iBuUYguzY+x6zHZ11Xthy34AuVY6Y7bZ8fjscgP3eJbYwuwEGNPQzA+oF4cc3LzD9OQ2ZnEDXU+IWDyGZOockUvEIN5eCSeL4a2yb6xgdmkntzXf2etH70RSV67vy8Ls3neXMVuhR/mqRvSaPHT5XP4piqP0HhbPrjWud04VOYJ0BbPPzs5pmkZCv7Mp2jrUKDf1ZTC7OG5eFrOvVfyC0gQtD7QNga7zhK7Nod4CJGx5O7QeTWYCpaW4oFf4yrX1it/o9T7UW14ryZf7b+g6l/E+i3Df98eC05Me72jVY8OmbJTF6CmgeHl52Z+rzIO1tucYCinh6oo7d+/y7W9/m/l8TlVZJk0lfFBENAZNyjzpWZlAo5Pk6qQM1tYqrHXMpjXOmkyLEsDqrHwkQidNu4P3+C5gdUQ5oV3pLTAlZ+3nLW3nUqb8rlKIb0snCedqhTVSzFE7zY1Fzb1bN7hza8bhzDFrNFOrcCQMKSdCJ0iB0HkyUc9gXfVWVg7r9r/TpwcUIYmkPrLwPN6CYjmGELi4uOD999/fetZw1UX+Ih4uEVeRU1WQJcEQ/8hJ7/2bwzUbLQphTKXN3o7BmRLRe+G+rHPfzM5zubqgW284O9c0tRM5yhxUYnVu3//W9e5ZMzFte2V2N9034/UZWgWUlpzrEFp8Jqv1pYdrBu2xt0NkP+NxIlftx0H3K4pe77EZXi+h3h7WFcNa2DO+LMwehxDKRtnv+nkvehZmpxSoasfdu3d6zLZVRdVM0MaNEFujRqitUaSkxYuUyeaVtULLNJ1hrCMqQ0D0Kq3Emxc74Ur1XnAyaktySqJiGT+0SuhR//SUsbLcQywuF5XDsxpCUtKb2VgiGu1q6sUNbty6x+zWHdzsEN3MUHZKyqitjSMZS0jgu1AQ+wpmy1WpYXp7b58e/ZWrP/h6YDaoXk7JRhBppyY5SWRsG7EzpVnG7JRi9kIMqJ0SeB97zE4x4rvAxeqSzbpDn5/h6gZbVa+E2YUi52Ux+1rF7yxGbk7nnD9+TFSa1WZD9J00l85UAGKBgLYabS3aaIzSYsmg6GLMQGDKnGfFo2i4+y4yjT5bRC71YbViOcg/256fYnOkQRJ7VWEMFsMEDjxCxQpMKfUM8OVYRU9NSRGiEID6zhM7T4gBpaUNm3PSJih6L4qTESGzrsLUDd/7/ve5efsW1hmODuc0dU0ILRbNtKrQRNrLFY/Oz1ien+G7NrcEqtHGcufuW2hTM5vVLC9bjuYNy+UTpo3mYt1JvmUk9z4WS0umQnIXMo4AkmsZSnN1kwlFQ2mhJ3QrBvG6Gg1aRYzuSH6NAW4cLEThO7nBYlLhVECvl6ikcbph4jKhaJQqY9lVhOtKwgBATER8hukohWN5QZVFVyBEpwxiuR1O2XHkFnMZUS8PkrystEElmM1q/tt//x98/NtPewt4vEDK5rEvN+JKiKp4PnrJBHLj7iKkxihC16LrCjAyrylhtJbC5RgIvcU2soLLT28p53PkClylJfcopEDyHoXkBrVtx2ol5NF1XVPXVaYVGHOdFaAs60BCSqbfHAejAKX6c77p3PH6jBjPmE9v8vjxOVpFNpsVnY94n4s5VBI8VAltNdbmwg5lckGBIcYOhcp8fFzB7LRnjfQrqXjA+tfymujXpRpku//uVcyO/Ub68phdNFWV0hZm+y7uxWzvI5GUSekTlbM0teH73/8et27fxDjL/PCIum5oQ0BjqaopEc3qsuXs/BFn50vazuOqirqqsEbz1t071EZTz2a0l0ua+RFPlkt0M6VbX0i+ZZTuSQWyyVEQjQblRilREaOEzkQbYXKQjhCSVCUhYUNUCrQhKk2nDWufAMPiQBS+Gyd3qCYLgnIs15JH2GiHcROUFozwvhPvoC6cuoJHKYIfNXUgO4eKElpQW65Xo1KQv8Z+nZR6zC7yoPOzMlpBUtSzGf/jv/83Pv3tx5RI06ti9hi1I8NcJ0AZQ9sFqlpL1CbkaJQ2kCIhRlIKA0YOZyMvkkE5JncsS2xhtvdCu9N5T9e2rFcrmtzqr8otWseYrQspeF4DoSi5o8KlsocoRX/OV+rcsdaajx49wqaETjlHRCmctZnhnSFskD19BSAUORSc25PsuiQHDXV8gfssvNHEpgEY+uNxNSFy7ALNj/RKqKB8ft9ru2GHSCIF34fEYmZ+DzEQEbCorCUxAp8Rv1REERL8u3ff48E3vslsNkMIRj1GJRaLKUYbVhenPHn0mEePH7G+vJT7AIiRkBLT+ZzOR+YHx8ymM46OErVT4DfMJw7frWljlAoxIARP6Dp82xFcDTaNFClR74ZnBQqDrgzebyB4jE7UNncMCR0hXDKtDYujhhuLA27eOOJoNmFiFTqsSN2GSeNwQXHxeMnlGTSzmulsinaOEKUnojWmVz4ooZr8mPtFrOhz/rKemudfhKL3XpQ7GVlFSilcVVHyUZRWnJ2f89d//TesVit5bSSH+3J/xse6KpRkYN6V11zBnheiVLqnK18t7/d9N3pZ3nMqtS2TahSCK7+FEImxI4QoJN05od9aaSxeaAB2PSPWuqyshh7Y+3ONznk9Ye+b8XUaWq959OgjUrLEpDFaNgRrxRilYKMSz14J/fb/ZYMdno7ZIV2Vwa2RN8C8v78wZqf+uy+P2YkordJySEzWxoDZiYi11RZmaz0QPisipMB77/47vvmNB8xmM7RS+JhIyjBdLDDacHqx4vGjJzx6/IjLy3WPOQJtgfl8SvQdxwdzZtMZ6egI5Wo2HtxkzrrzxNgKnRVShNN1ga711C6QLGybvwNqk5+VqTQb7/EBkjYoKyHaLkQuQ8DUU5qjBQeLGxzduMlkdoSyE1ZBs+kSrpmggmP5+ALOLqlnDdPZFOc0IQrNjClt/EZ0IsUq3cXs/nqLFtSHeWMP2QNODrJRVa7f85RWnJ+f8Td//desVqseN18VsxPbWFZMjqLMSbh69/tDnmJuyjbyaO87107u3tb1ZDdBCHQxSsu+URHWszDbWeEIDAmKA2VIdxjm47rGGPAMxe/4rXv8y8OHLKyV0natCD7QOEvwrfRkVZrY542INt07P7NiWJbkVXf8lfn9wsc+YCqTNea/uQIc+SemhM90NaVN1tji1VkrJ2XQyCZb6RtpMtv6ZDblR3/yJ9y5fQtUYjpraKqapnIE3/LZo8c8fvSIy+WSdtNirWUxm1E3NQpovRCxnp+fEaLi5u0Ji1nDbDrBOkXXrXFW2sTYlNA+CHVD29K5llB7YuVISfowFvAnPx9RrkQJqK3CVg5iB6lFp8ikNjTNguOjCSdHM06OjphWDrqWsL4kBY8zCqvEJPRdR2w9PgqYVZOqry7rFeiSq5GGPLMQY+9p2Fbdx0pTuiJX41FyJwoPlLWWv/3bv+XnP/85FxcXPRt8+e4YSJ53jP104xzWfrPrhYk9x079fVx3/K2/d69x12uSPXObzQbvfV8VV+5/THsx5HqOACpXJaaUpA9wjP0G/obH7/UZ99465uHDf8HaxRZmW9fQ+oBSJnv3Cu1LkaLi+tiWza8Cs/c7AJ4fs1OKhOizF6qECIfPmhzdKJgtRM9cwezpbMKf/MmPuHX7DklBM5tSVw2ukrl8/OgzHj16zHJ52WP2bLagbmpAEXxLiJ6z83NUDExu36SZLZhMZyhnWXcdyjp0iKRkCV4TvKdtO1rX4euAq6JQZeXQXnYs5TmSPuwhgbI1rrJ0EdqEKP31hEXTMDk6ZnZ0wtHRCa6a0nZwuQ74kFDGkZQlJug6j28jXfSE4KkmFYP+kLYwO2WKH3lN5Co/qdEzLJ4oNVL0ripq8OVg9hZqb/HTqm3Q3oPZ5fqvP+OOH3APZm+pgK+I2eJfUvk4hYhfTvRKPH5/8MM/ZnEw59cf/BOX6xVNDLRdy8RZTPG8aCGFpIBD5uXrK8OK9fcU4HgqoOy8v+3Fe77vyhdzGHDnQe4Ds/KZ7YTZ7OHrea8YrJKxFdyKti5rMmGyFamUonYV737nO7z33ndZzGZUxnI4X2CMxncdn336KadPTjFac3hwQFVVVLlHcFVVVFWFsYaL1YqYYLXuePL4EZPZgvtv3+XJ+SWPztdoPcFo8dAYHUEFUvTEmEPzScr3U1R9H16ZC/EkacRz5JyhdhrlpWx/2jhOjo+4eTzncOGonKbSmtCties1+A5nDJWVBFmjFfP5FFRi41vOLy5Il4m6aagnk55jbPAobAN3sZjKYhxbTGXedy3GXZko7Yu891xcXPDnf/7nPH78mNVqxXQ6xYfuxWVp6wviuSjXv/3W8IIkHQ9gV+7vpc655zu7clxCX+P7t7nlW8kn2faWRBjJOpRIRe+meQbYvRlfp/HHP/wD5gcL/umDX7NaXxJiQ9u1WDeBJMTwWkfhV1P0yh99sHDwSL+umC35jbHnlx0+t63Edm3pubprpAAAIABJREFU16tICawdNtjK1XznO+/y3ffeYzZbYE3FYn6INoau83z66WecPjlFa8PBwSFVVeFchbVuC7NXqwtIkW694tHjJyxmE+6+fZ/L8yeszx8x0Rq0QWtD1IagwEfJ6Y7ZKFYp99vVo7WoVKbN0XQxCvG/q3vMds2Uo+MT5sc3cYtDtKvQumLdBdbrSOfB5G4iIVd8T+dzkoLWb7i4OCddJpqmZjKpr2D22KuVskdvyDncjkwMsrSfaPl5MbsLV1tLvtAYYfYuaO9idsoGxuCNfslz7vnOq2K2OKDKd3sunTFkc51TAZ6h+P3Rn/6I++884L/88p/xKQq9CJmKIlfuWpQUCaihTVDfa0DJp7dYcUab3j5geN4xPs7Lfnd8HWWU34f2KKL4FQewEuQcLISYepASS3H7GJVzHCwO+IM/+H3msymTSS3KnTOcn51zuVziuw3HNw45mM/zYs8dO4zGuQpXOYy1NJOGmBKffvaEJ2dPQBnu3bvFxkc++OffcLZsUZljyhqF0RKWKTlzMUGIiqTVkKxLzyCD0fkeYktsO+aN5ejwiJtHCw4P5kwbTeUSKbakbkPsxBtoDFK8QUApjassdVOjjUJ3hkBi3bWs1ms67wmZiFj6IEsl7zhpt/cY57BGzwemVIkubIVId59lWUjFUnr//ff5yU9+stXq53lk41oZgnxt25fRe7lHRsLYU1HAURby9ecYhzH2hsRG4YTdMMhYBgtdxWazwTmX2wdWOOckFJjDCuU4YyLR3fyqN+PrPX70p3/Eg3fu88+//C/E5LOBl3E4V2gqLDozJpR2nKL0iUyKpI7bRr5+mB1C6RVcClgGyE6RLcwWxW84hnMVB4sDfv8P/oDpbE49mXBwcIhxFedn5yyXl2w6z+GNY+bzg4yvEibXxojRXjmsNTSThpQiTz77lCdnTzAKbt27R/QbfvPPH9Auz4TwORdfoKWopM+ZSxEVpUsSY9TOHDJJi0eojYqujdhmztHhEYujm8wPDtHNlOQq2pjYdIm2i8SkhW3DWCkwURLhqZsaZTSm0yQCbbdmvV7hfUfTBKx1T8XsAbG3MXtw8hVj4upz/bIwmxIiJ10B7Wdhdu8Jf8a5vgzMVtqgtXolzL5W8bv94D6ucqy7rq+Csdb2hM0piShqITFCad17/FIaOjtsTf0rLPp9FuCzvzxo88/rGt4K9eacBsmJ2W5y3eeo5SokYwyMYvLee+qq4sH9+3z/936PSV1xuJjT1BUXZ2eslkuM1ty+eZPJZEKKkdXqkrZtscZQ11Pq2srGHDqMtVijmU0b1m2H9xsmTcPtWydE5finh78mraQljLRFS/gQSMETY+7RWQAwSYWYKLMJo+Q7FRGVPJWFm0cT7t+7xcnRDKsVvrskdZscJpJ2bWgl/XvzRiLCaYkpkILCWMt8Psd5T9ut2XRd77qfVPUW8apiKLroF2GGkrGHb1+Id3ehlfL6EAJ/8Rd/waNHj6jrmvl8Ttu2+0Vlxwp7njH4TcsxtpW/wSIey2BCa8OYO/Fp1/M0mS/HDDH2OXjjjbX8bozZ4nPTWrPZbGiaoQhkUldbx9wNp73sRv9mfPnj/oPbuMrRdWtKtbm1NnsIyuLXmRxYQkW9xy9JNea/BcyWRbgfs1OSJPiC2ZLVMGB2VdXcv/+A3/u971PVE+aLQ6q64ezsguVyhdaGmzdvM5lIe67L1Yq2bTHGMq1rbF2jtaILUbyIxtJMZ3Ttmo33NM2Ek1u3cSry64f/hF8lwUttSEoTgscHSXtJMYLOPXsTpJJOpRRRGZI2RCp8UmArJkc3uXXvPrOjE5S2XHaeTZeISkvPYKtzAd3gsKly44CQIiokrDXM53O8d6y7lq7b9JhdV5MtzAa1F7NLwtfwvK+GeL8qzL6C2hm0r8PsBLkw7xnB3ufA7BhDn4P3Mphd1TVVPdk65oti9vU8flbz4Ue/4nx1iY+xtw6C95gkD7fYIKINS1FDAnoWzyswcnVCnne8FADJF7de27UWd7XlsSZevq5GnylHU2kIj1ljMHkBaK0xVpJhT05O+MEP/iMP3r6Hto5p07BaLVlenLNYzLlxeIS1hvVqzXKzRiHudeckzKtzLopCwIGQmE0naGs5vVhzeXmBMQ13797kctNRPVny6MmSLmxYqwTJk0JL8p0of/nWe9YuJZzsRkesCiS/4mhRc/vkgFsnM27MapzusESslYVpMueo5D9LAYPTBmctzsobMTcQV0rAtbEWVzlc17G8OMN3Hes45EIO7aIYfrIyGNOQbpuKZrUjE2PLqfy7Xq/5xS9+wd/93d9hc57qZDLh/PwcbdTeY7yIXD1PqHfXwhMQeb7zpT33OT4WZHlNQ57kOBdEgSj+acQCr6SiLFxecrlaMWlq9OGBGBWjqsiYQ017b/DN+NoObeFXH33I5epc6ESyF977QEqGobwre8JUqfJPhSufbZTbHl8GZu/zDL0oZqNULl7p0Tp/uXCEIkTK2vTHs1aKzk5OTviPP/gB995+gLOappmyXK04v1gyXyw4OryBsZb1as16syShqJsG69wWZieU9GUNMJnOsFazvjjl4vKSxhhu3r1Lt7lk+aRi+eQRm9CR1BqfoA2JzovyN3CqCmonJRQyEhq2rHyiXhxxcHKb2ckt6tkNOu2IWKK1UuGpjTzoKE0XEgqjHdY6tHVS4Rqlms4olXG5yUaE4+xiSdd5UlxfwewRYvfKoMxxwbk0huyXxmxVOpDwcpg9ePy4Gi16BmarPYrrvvG8mJ0KHyJpC7NBEYLfwmylwPuOy8vAanVJ3Uw4OBR53cXsoX3n9TNxreKnreZ//uR/9rkS3gcskmjqjCX4rlech41lTOt5HYTszwG57nP7JvV5xu5nxy5d2LYKy32M6QJIosduCUQc3L9lkyVJWNgaQ2Utzhju37/PD//4jzhcLOhCoGvXkCInNw45OFjgrKNtW9p2TYp+yA/pH6ZHKY2xwjHVhYSrHLpybDqP33iMAWMU3/zGW9STJ6QEmy6wWm9o8ahcpEEKDBSbRXGPWBWxOlJpj6sUJ0dT3r5zxOGiwsSW5Ddoo6grQ4yaFKUSSRuwzmK0UEGULpB9voEWlz8xoYzC5VCB1dCuM7FsCH1ib8zu/hLuLXBn8u9SgHJVpnYBpFhL6/Wav/iLv+Dzzz/HGMNqtdpaKK86iqI6Fq+xt6/I2FU5vyrPL3LO8clKub8cdVCSizFWiKTHvUxBFMISTkgpslgsWFQVJm8URWHUxrxR/F6jMcbsmJJQb2GJSQhnOx+uYHYhZB4QG56G2q8TZqPSFmanqPr1WTbZlKQq3hiLtRXGOO7fv88f/fEPWSwOCaFj3XbEBIc3TlgcHPSYvW5bfEw9Zhcvjo8RrRQ6b8wpdGL0VhrfbfAbD8agjOGtb3yTJ5MaUiJ0GzbrFZ6WLiraJIUbA92NoHZEE5UlaovXFapyTI9OOLrzNtXikDYaNl5oaUxVozPTQwgRjN7C7Nxpvc/rVTpHWSJbmI22bNbtFcwWvcCPwr1XUXt4lNvG9leF2c8b6t3yJrLfm/f85+xP1dNqlSMPSrLqPYJwFbND8D1mx5RYLBZU1QJrTfaUisIox7/+mq73+KXEP/zsZ6iUsMYQNhsaY7Ba4YzBd63wHmU3cllvKef35bW3c8hnT9yLTu6+fI9hyIMeu3D7d0au1V0LYssqyTkLEg0plahk0FS9q7jrOtTIA3hwcMC//71/z7e+9S35bgiEGDk8OGA+m9F1HRcX55mRPOSHla2nfFhtBkJRrTSuFj42v26x1jAzFuNq2qhoplNCBB8iIUK72dBt1ig6VOogdijEzaxVQqtB6XM6UFu4e3LMyWHNpIJKB6wKoCUUrIkYlfApgEo4bTNXlckt4nwGX5NDtOTwbYaEKMnji9mcSzWEB4owl/ke6AEGhSbkhFu985mxtWOt7dnd27blH//xH/mrv/qrrcTZtm2FsysMLYietpldt8mpkVHztFBvz6U0OkeRpy9kKLVFtbJvHVxJTei/qnJIIYg1rRTOuUwsXqG1puu6lyBHfTO+ypES/Oxn/0BK0oN3swkY06C0xRhH22V+UaVQKmXvuWz9Pf4ktXPMLxezex/SF4TZsRyjtA9TA19e13XZ8yIewF3MlmrJwMHBIbPZnK7rOL+4wHsvRpUaohTZ2sIavYXZpnZoY2jXPqfrzKid5FJPpw3EQAweYmCzaVlvOjoUXVJ0UXrqGq1zaHZQ+oJ2YGuOT+5SH55ANSHoiqAsSUNUhogmKUNIXvhktXDCGmOF+qnrRInTuU9zQe2syAlmKOazBVpdPhOzB7hMOaQpqQVfBGaX4o5XxewrqJ2FYYzZKfGvgtlKbVOtvAxmhxhfGbOvVfwefvBzHn3yCauLC46cJcZA00zQ3YYQPJ3vcusSi1fQZYW/JBSnolhfcxHb2vCz4+e7Y9cS3PdZ77sr4FEsxKcJyVZyZEIUukGz7UfhLqycWIF104glFCLf+da3+c9/9mcopdhsNkwnU6bTGcboXMIdetZ8ow3OuczmPUEbLYUZeeEpLdbZbD4HEhfrlpQCRlvq2lDbhtPzFbNZxTce3GU6nZJiYH25ZNNu0LFDpw6D0LUYJUnDTkcqE6kNHM5r3nn7No0LNC5hlafq6ZgCyQdULhwRgs5E51uCz0nh2RUvRMxFARRluWeU16qvWlosFsQYWa/XLJdLjDFMJhO6rhNSWS3t/gZaBslZEi6j1FueZYE0TUPbtnRdx3K55L/+1//KBx98ANB/NsaIc44Q/cjy35anfczp402lhKCLu0/r8XuQcjy9P2e+1hIiiTyNuHx77Lu+Z31+917Gr+97XyuN1oqLi4se9E5OTphOpyyXS87OznLl45vxOoyff/CQTz55xMXFCuuOCDEyaRo2nRaOuBFmozykrsfsErUgy/HTxpeB2V0mZR6/96KYLeE0rmB24S50rqJtW5pGco1jSHz7W9/hz/7sP29h9iz3Ud9sNoTs3dJKbWH2pGnQRpNSyDiV8ydRzOczEtCuLwhJWm6auqaxNavzU6rZjLsPvsF0OiXExPJyzabd0EVNlzQB4eaLyhCiImpHNBWYmnp+yO233yG4huQavLKgK0C4Y4NPEvI2NgeKFa3vUD63XR1httbFkEyZzy53btI8N2YbrbOnNXcjijHnmbpXxmwfwythNqje2afGedEpXcFsqQwfMBu2adyeNr4szFZavxJmX/vu3/7Vjzn//HOs9xglyY0qu8+Ns6TcjFopJHG0JOH3/23HyXd//yLGbo7AvvE0ACk/L9KZYHDQDuE0EC29lF9rrQltx3e/+11u3LhB7DyHhzeo6xqjDT54gi9VZQ6trWjz1mKdRRsrFKNR2MVNzstRmUpg07WsVisJAxtDiB1hEzk6mHF6vkYpzVt3j+naDWdPHvHpZ09w2jOpFMaCSR1WJYwJaDoMnsPZhHu3DphPLLWBWgecSRiVJKxNIiowendTENdkqeLu3ypKazYCiu+u151TyauRe/fes1wuOT074/bt2/hMHKqN5A5qY6T9TZAQ1q7FP7Yo27bl7//+7/n000/7qrDyjAr4lPNXVdUnFBc5uM6S3N60VJ9DOnbdl/edc3JtO/0Yr/oJX3486yjPOpMxGmcN7WbD+cU5m82G09NTZvM5zrmtkNqb8fUfP/6rv+Xzz8/x3oIy2XgSubXO5OrQzNFYWmKSRoi9u1m+/pi9i9pPw+yuDT1m+y5y4/BwC7OTF9xwxuQ+6kryrJwU3aVeOYgoDBpJwZG2eRvpNxsjxii6GIibwOzgiPX5KVopju++xabtePTkjCeffYrXDlVNwBq6ZEjKEoyhQ+MxTGaHHNy6h53MwdQEXZOMIykjYW0AlRsvjOeTrPz0uZQFs8QgVcXYLzt41p6fhtlnZ6fcvn2bED2d9xijsVb6w8eYcggyfi0wu9yXUsN30ujzBbON2cnz54tC7PEZnzauP5s2BmMdm027hdnz+ey5Mftaxe9v/vIvCWfnzKsGE6XaRwM+JSniKLxC/eYubnTTJw/H3uPXT/J1rtgRIJTxPICzD0D2nWcMILvNkZ93jJU9pVQfeiys2zpJp6DD42P+8A//kJs3b3JxscQZJ426tUHHhLUKpaRZc7E+BgVCkVKglM4obdDWYp3Dp8Smk5AxWmMspOjxoaVOFaQNOmkmdcX9u8csz97C6cRytYGwwuoZUoyhMCqgY0tjFceHU+7dPmJaK5xSWAVWRRRBDKWUW/donTFkNG9KDdceRyKb4/xDQq10u7DaSCZIXsR1XYubnURYLjk9P5MKsqJERwlJKCXePpXoG5iP3fEFBJbLJT/+8Y/57W9/21ttADbnr5Vy+TEx5nXl7/s8FENj9tG9D9/o5QOEpX3srSig80Vsps86wgDc+4cPIZPdRiKw7lr8+RnL9Uqq/TKT/Jvxeoy//Mu/4fws0FRzUjQYa5H2hR4hXcih3by5KyRdpfTriFmeS7oCvP6YPVb25F+9hdkkDUlzfHzYY/by4gJnnHjntCZFLf12s1IwePlLaFmos3RWnY1WWKtxzpKSJ3SbHPoErMHHRBs8VarZJNBJU9UTju/e562zJUk7NqslqwAzbUU1146gDG3UKNswPTzm6PY9VD1FKQfKEpUloLLukDJHoFRzj2ctP+Yes3vlr4fqAbMTGqPF66U1W5idCCyXgbPz06xE19lLJ6k/ohw7SEJP9lVidt+lRm0rfsPdD6+FELcwu2D8F2MAPRu1rztNCB4fAzGJkdF2a87OPav18rkx+1rF79OHv2SmLDOjMTGIlYOE7rokVb5BqUznolFJfjcqJ3UljS6lYvtub8/d7QLI8yzyZ1mNW5WOLwUcQxur3WsdC6FiIKH8/ve/z7vvvivKinOEGLGJbLHU4p5GDhliJCZRklVusZSUQdtcfWUNSlsiwvGkVFYEs2IVkvRPvrw8zbkakXZ9xrR2fO+73+RwOuHnH/ySlV+hwgpnaiqjUbHFqMDhfMat4xkHM2k5bskAlnKjdqV6qh5jDFttb5Ii6czWKJiawwRF+clWurpqgRQXvXOWxWKOrSsODw/56KOPUMZgQsCWBScHIwCkiMFsbTrlGXjv+eyzz3j//fc5PT0FtkNAW8neo9+3KQq25ed5wlljmSq/lx6iISlsGsruFQKCIbwaiHwRIBRiIEUB2mLtguQ+Sf5T2mLNfzO+3uOXDz/FqhnazAjRINx90ks1pg6p8g0S4lf0mK2VdB/SCaEMec0xu0QVdk+zi9mgnorZMQZIUlhQ9y0gMydq2XiVktQmpTAqkaykwBgrufAGabdplCiCScmW2yXprHR6eYnWhkjibN3i6inf/O73mEwP+eUHP2flV6yCojYObSraqAjKMJsfMju+hZkdZLQW1I5JIbmMA1WPMWarvaRKgE5bmJ1S7DFbF+/qNZhtnWO+WFDVtsdsYxQhGJSy+XmVvFFhk3idMFulQEp2C7O1yT3XX2F8UZgdMiPGy2L2tYqfulxz6CqaBLGVvrI6e6h8jHQKqdwsPR+TWI4m53/1FaR7LMdnufrla1+Mhj2Od48f9nMT0yb6oo3xccY/s2bSWzB1XfOffvQjZtMpTx4/pq4bqlpY0pW2WXiFZLHLPfoAjJM8DK2LopU9RglSjIQuoo1GGYutGkIrjbR9ioDQrMwnE7oucn52iSZxcnTAxL2N04aHv3nMsmtxymCVJrGhrhS3TuYc35ijgcoIL6NBo5IVwFAJlcPRKlmiGguwJqmUm3AL4Jg0asc2AtqyaL0fGl2nEPBKQiZNLZbk3bfeYrlccnFx0fMATiYTQgjStzElXAYm6YwxhH8uLy95+PAhn3zyCSEIM3+XvYUFtOTcA+CX7xtjroQPnikjO/Jc7jel1Ccuk/a3mHrV8Tzr41nvG2MwzvYcWuW444rJp3FovRlfv7G+VFTuEFKDbyNJmexpUULvorrM/ZvEa50kKKkxucSjGGxyvNcZs9NOkcouZk+a2RZm/+hH/4npdMbjx09o6hpXV1RZgUsp9S07ve96zLbOADrnNKt+3sg5ybELaCN50U1lSa30K4/JixGrDZPJnNh1XJ6dk9AcHJ3wtptgtOPxbx7SdkuMcmhl2ZBQVc385BbzG8eABlNlVgWDTcLVIIUccp82KVAD/mggqYQqFbdKkZK5FrOD95RoVAgJpaRQpaqFW+6tt+72mF14AMeYnZJCa/e1wOxd2X4dMds680qYfa3i14QEKULr0SFXnRqDqRyrrhOPFZLkqrRBxaz4JYVOkYgiGyB7AeRpN/niHrlhjC2C3WPtO+7zPcz91zgWGhhA6e233+Z3f/d3+yTY2XwhVl1MpOSFKiMfR2uNdU6KH5QQc8rPcO4uJEJE8kaUwVaGmdUYq2jbDVHJw59OZ1jj8DZB8KwvPZvlGY2teO87DzDVlIcffU5SQtKsk2fqao4WUw6m4DcddeNyL0+NViWZVqzABMRA9nxqoho8grrkjGgllnCu1Cqhca0UKaa+qKGQhhZATWmQk8Ui55flhOrNZiN5fdZQ1TUpl7MXfqvyDGOMPH78mPfff7/ve1iSg8cJxaW4o3yn5I6MAWC8QHcBYNfDkXZ4xKwVS7RpGjabDet2SFSXf1PPkffKsv48n7vmPUlEf7qiXkD3zXg9RgoNMYFvIQQxHo0BVxm6boXknyWMNtK1Japs5Bli0iiiuITUVRLb1wmz933iRTB7MZ/lEG/EJ8lTK0fVOodwyVEalVB5zsq5U+ggBgzSz95UFm1nKGvYtC1ByXln0ynOWJL1+AD+cs3ZckNlGx585z2mleHzjx4SVcInhU+a2k2ZLo5gekC38bimxigxhIMahyYzxUoQ0moNRFW6jCBRuhFme1/mY6h+TjH1RQ2FnL84LiQfQJ7dfLGQTkC5cHGz2ZBSxFhDXVd4Xwo+tp/hi2C2zzQnXwRmx5i25MFkQ6Ngtm/X215GxCv6NJl83lHw/zk++fR3YiShXgmzr1X8qhSJXljDrXXEIG5E6xyh3eATkrfVC5rkvEkTHHktKuhbbvH8AHLdZ15kJAZl47qKsGcep08C6L3jmJHglAmvqoof/OAHzGYzNptNH3OPIUGMkheZ82eK91QlSV6VEKlUY+X8a1GIkqRhWC0VoVqDNY6pm1PHSqhZRgvGKIVZzHB6w3rVoQk0jebtO8es28jnT54QfIvVkabWzBpDU0EbDJUtbn4gd2RJownQ2eornKI6K/a6zxmBFBTooQdsXjUkYl+YYZ2VuVRKsovyebzvICddnzjH8vKS8+WSy9UlVV0zn85QWpP8dlLvOGTw05/+tE8GLu1rxknCVVUNzyBvAN57djeG3bDBLpBICPoqOanWZmsxllSBAYyG/pavPJ5xjGetHh8Dbee3G9Rnq7nLyvubqt7XZ8RUEbxs9M5auiAy55xl0wZIPq87nddrj2ZDsr+KXzlmF2XjVTC7X5iq/E+jlHluzE4hEqN4R8lzULynKamMMaJIkwJDpWNJC4rYnBuH1jhjmbspVaxJSm9htlKG2cKw0Y5utSag0U3D8Z23ie2aJ08+p/WBqC26bjDNDKoGE1qUFSoPSvhe5VnsA26SotVrXUpn5V73oK1CIuoBsun3HVHYdjFbYfrzdF7yR+u6xrkTLi+XLJfnXK4uqeuK2XSO1orgt43dF8Xs8gy+CMxm53UzUiJV3ovGmF3+/kJA+5mHuH79hOjxXbsXs73vnguzr33XAm1K2LwRrzeinDglpe+SvifKnihCjHj7Bs12rIk/byjgus+8CLAU66RMzBhIiiDsuoavCI/YwfKd/CPVtlloFDSTmhACs9mM733ve7nqVsrVV6sVzbTBOFdo8nthElLnlqTI3T6SuOGV6hNZKbV3IeC9aIHWaaxVOFtjjISHvfcYbaBSNJVmVtd0bWCzlj65s0nNreM5F2ePWYcWZzSVMZQmTc4JfcrAUz7Qcco1D319o6LPG1HQt/TrH0129aaUJHeaRAgJHwNWaTovOaOhzOGoDeVms+kXYVVVHCjV8zpdLpdM6loU0JGVVwDi9PSUX/3qV1tucOm/6XYloz/HmJOqVK0VEElJQmLjeRADJ8ux2paXMXiUa/a5GlAIT9Now70qc+yc54sIL1wZo0MK0awdAcfAGm+tdI8pc/NmvA7DklKL1tLkPWzWsnErRwrZ29ObrhqUoYQXxr6IrxqzY0qvhNk5PlHuhjFqi0fMUE+aZ2K2c6ZAdm+0hdDRth0oKXjch9n5agkhkbwX3c9ZlLXU1gmBs9Y9ZqsKdNVQ1zNC29GuN6zXK+rJjPnxLR6fXdCGNdo4jKko3daNc5KKs/X0xrQ2RcHTWaEfNVgoVd1lzrLTMqUEWlK1Ui7+0koaNkjOaK661eapmK3UQY9/y+UldT0RD2LipTE7wXNjtng7tznwFPq5MTt4v4XZxbG1T+bG48vAbKU01upXwuxrFb+1b/GhI2Dw7QaUaJhtSGgMlXYYZXFKskSUIlc7iacvxCS5av3DUFcW7rjseJ+WLjf68pNZkjJ3z1GOO76GLddu+UHCYTHlZONiJMkn0SS0gq5d0zQNN44OeO+9d6lqh9JSuGGco40B7QPSCEHuJ8SYq3NzRV0YgFb0mphbxYFRKSfkyvl1Sqig0Uahk0FFcNrm1ZHBUwesk76wrjKcXyrmjWPRVHz668+5UJFpbel84tFpx/ENh4/5HnNirh4mq2f4L8So4sUrQJutyIy3OnsRQox02QMhIV+HqyckhJW+FJT57JlICZx2/bMr/SWtdgRTuk20aCVu+WKVWWv55MMP+fGPf7ztXYuR2jnxqnYdjXOErst9pOUejFLYqtqSCXKY2upCTp76yrIYAl1KWCVh+jIvxhhcVZGS5Fh88sknOYeuztawy5Z52cSuyuS+sRsKG8uvfpYFOnp/MGRrt79gAAAgAElEQVRGawC9dQwzIhclkj3Io9fejK/1aP2aLngMgU0rNFzivWoxaJyusMpIzhgii6ooKiqSYsgeLb5SzDbm6jnKccfXsA+zyR5DnQ3+wQ1W1CNRhNZtR9M0HBzd4N333sPVFWjpnOCcIcSW4LUoab2HMBCj5FODEmW6XJeSIhqdz5eUIWkgz3NKGh2UdNQQhmWsdluYHXQkOYvRGlM51OU5rplTNQs+//WnRHWBrack39GdPsLdOEZFn7sklfssuV5QOmkNDQiG9a9zKtYYsw3IPfquN6yd0kxqJx9MgULdEHOnCFLawuzSx91p22N26z0ofQWzP/zwkyuYHSM4V5OSousCzjV0XcjKXImYGarKbsmEiKdC6NHSFmaHEEmpQyuLc7afF2MMVSX7wxiza2e2MLuHyOf0al+H2WpP0cz2Z7aP0z+/PDTbx3gZzL7eH5g9HSnGwXYaldSXsK7JniCgL+qIKhFJ6PEmPBqDZv5s1+n4uy8KJl+EZzZBjhSIUMtxMyBqWbUHixmXl5f88Ic/FM9ZkpB4UzdEhHx5aMyybV2P72sXMHsPEeJhy/g1WGpRkXperkGh0FqhNWiTwxVW4drEvHHcu33C+vKUzz//lN/+5iO0Cvz+7/8HHp9qJo3J3welAkYBKvVWr5b6/q1rltdFkdO5ojsGaREUfCD1jPlGqn5jyoTOV+9/F+SFC8uQtCZmSy+lgA+e9WYjOTjeE0Lg449/wwcffNBXNhWX/XgUWBy/vk8Gi8Vkcw/bPvyZK6dUfq8YB9aKh0Vrzdn5kidPnvT8YMbV2/2I1XABu7knu9c0tmLHMvIq41/NKn0zvvIhopF7ZVPa9Y0rYzNqJzNSCjJqq0gikpL+SjH7CwFtxLOjNNLfm1GoL5NVzxYHPWabnG/snKWpG3RGba5B7eswe1A0B09BiYioSO54NVrLWQFHa6KRmKuyitQ6XDPn5PY9Ti/XfPr553z0m98SlOY//P7vo08fY5pJAX1C9mYmRR9dUui9mC3lvKHH7BTEqA0+SP9vpTDZ+pe8suu9rGUuQGfPZ0JrCduGlPDBs9msiTH1mP2bjz++gtlXQ51XUftlMBtUj9mQtjB7eX62hdm12+lHXJwa/NvA7OdK3ina+K77f3xR+74zdumW18bvfxXjZR6AWMMD90/h7hvnFmhlsMbxox/9KTFC13nqWtomed9hTbMV2t8VjPHrZd6G+SsuxnKEAYDHybjbPHHZm2M0GDAG/DS/bg9I6gHNxPLwn/8v/+en/5v7D+5y584tjHZoJa3ZUImgEOVWDVaiYrj3wtYTyAnE2Z1fXOYxRLEkS9haC0fSFiPMUwGEkbUlXoCUQBmVSbB9TqtRrFYrPvzVr/jFL35x5Xn3G9YLP/ntza6EcpRSxGxJTqZTXC2u9fPzczablpjAOcd0Os33PG5oDj4TYu/K4vi5l7+fJq/l9TcK3Juxb/y/jtn0+YqDwruL2UZJ3t2f/uhHULhC6xprDJ33NEaocMp4EcxWKSue5TOjz20VvY144lCSQlIwG2Ng6kEpDqzigUrYScP//eeH/O+f/h/uPrjPrTt3cNoQlbRmSwpQQXLJe2eM3sLs/CEikr8vil+6FrNjCC+E2aicUGCEPLpgtvfiMSyY/atffXgtZvMSqP00zA5BlNDpdEJVux6z280GUtzCbKu380tT9H2oed+1vm6Yfa3iN57AcanwLpiU98fCsAsyT3vtRcZ1IHSddr3vObwImKhsvQ1KVSY91WIRaa1ZrVa8++673L9/n9Vq1X9eijHMlYf+NAAZj3GCK4lM9DxUshZgjxFULvDIV7x13ylJ/uV0AspAUI67b93k6HhOjBv+1//6iH/6p5/z9lu3SKEjKLH+lc7t16LqFT/h/RopvNnzmD3+vVX71H6BqiTXPv0ZjAG63M/IMMZpR1U72k2L7zrquubx48d8+Mtfcnl52XMY9YBa5pcRjKjhXNvPWUaVebuKxVjktyTUKuuI3mNzDshms+lb6DSTGfP5vAecpLafv9qpDtvdbMev717Xvrm6buwC866X4lUt0Tfj6zX+rWD2PtB+UcwuylVR/lRudaWU2YvZ/eeJfbL/+LpfBrO1HvKDx5hNjKTxM9q9b7FwYTIFo3AqcPOtu8yPj9jEyEf/f3vn1iXHbeT5fwDIzKpuNtmkKJK60pYlmbbkM57XPfPZd2dfZubMeCztjmZkSbRFSjKt1YVk89JdVZkA9iEQSCQKWVV94aU5FVKzq6uycEvglxEBIPCHP+DL27fx+ptvobUeniwc8dSbMDsqfj7UXRRNhCD8AdoyezTGbCIcm9niLJEEKlWhamos5ovgFGFm3737zRKzh1kk1D4lsytD6DoHrc0Ss3enkwGzNQ03NDm/zOTzzOyVip/sstFax2CJ+dqK1GopDYxBZ8gKfByInNTyFEXtpJJ0sbA1v68zT6f2Ct7/+Id/iO01ne6gqmoQNHamu2i9ilMOqeVYgkp6cyMsQmU80Hu8VdomSaEH85j8ywVPtVJAU3NA0ot7Bt2H7+HhwY/47tuv8fP9D3Hj9de5zcJXVZImgTghjuHC4VlCOZ2Tsg4BwUpvmMJAOP5N0ejg5e+U1vf011hnIcunJYjlwcEB/vKXv4TAq67/RtIvvU+XNlOa5FJ5Und9en/kOmMMdnZ2cHh4iKezIwCIh2VLLrHvZ1ageC6XpzTGPTFjfT4fj/nr/OFV8gBtlb9XR14FZufj5fjSKx8EDVCyy15+goL3D//wP2J77UynqKsKGoTd6Q6UbyFLe07C7N5g7acJfbq8K22TArM5dIIHlIKqG9R1A7N3Ee992OHHg4f4+tvv8OH9n/H66zeCkpVRWwxx3tPDk9XOg0IoGciOVecGzNZKBccGeOpf1n0fk9npFdZZnnLGamZLmw3bWpTjs2P20ewpgJ7ZcaMiDR08sX7Bc1nqxeeR2Rt5/FJLZQwSJTfmOi14k8KvsrBGrcU0/TN5ptGgniZ4+kxQ/rTWuHLlCj766Hd4/PgxmmYSDqUWK4sQTj4blH0MIsX6OmKLjlJYlDvWgCfx/hEf9eYJzUShsw7twuLqtX38/e8/xv/6xx9w985f8Nb1a5DdXuzZ7NsgpBj+z8vO1zjLwIvTzopPBkj7R/o3UO7oeRvkYPXhCCDSCm3b4vvvv8ff/vY9ptMpnj59OkiHvaLBmo1WaJ9+qSyyu0xCLgCIu87atkXXdnCmw6JteTFw06Cuaz7s3Wf1wTCvuKg6tGfZyhaFel0w0uW2Ghunq0CylVdDtswO6WBYTw5AzyeZkFKR2b/76CM8fvyYAzYbw5vmKKy3s5JSX/bjMJtD5rlkrI8ie/BB5J1zsO0c5C3UpIGzHeyixf61q/j493+PH/7xf+Evd+7i2vW3YlQFbr+hF1FszJzZ8Lz8xVl2LDxrZpPnAyCUpsjs7//2t7XMjkmfAbM749CGUCgpsymLCTtw+VCIXZLGaTznzF67xs97nvtPd3SlDSsFSUGSfz8dIKcp9JiGvOomUDJNuOr6VUIUwl4Qe/3S+iqlYUyN3/72I1y+fBlt28F74nA3CjCmwmxuQabfmp63yapyLdXT+75PyrpjJWtH+k0Yg1EibmoZ+KSgtUdLFtOpwTvvXsetD9/Ho4cHIOWDzcgAVhmFpTRerEV5yARrM+yV5XAMUlf42H5yxqV0dvlJIcFtXn7gEIVNFfBQykAR8OOPP+HOnTt4/PhxcfAM2h0ykIG8Y5TyTPt5TMPzbrGnT+dxXUjTNHFrvTY1ptNpmPJHaJvxfFZJ2j6r+nlexk1Askl5jjtWtvLi5VVgdj42j90PSaY3Fc/VJPXVSqE2Bh/99re4fPkyr+3znnfoKj4P3M5nqMy40reqXHk9PU+QsARm++BB884lmzCS4ouHEBQUL8BrDUstzHSK6+++g/c/vIWDh4/glbBXgbGd7xrlxPgAgf6HEmpzWblwwuzYfomH6iTMBlFktgnxBn/68ceNmY24Hnr5WX5cZs+fPi0yuzZ6wGzKNrK8asxeqfilARTjF4yJ58Ol2nl+s9KKpz+pJp53nE1l3WDLZaxsx5LAIiKe7pUpXwrn19669RtUpkbT7MA73s2lqwrNZAeHsznSzdWb5J2WM7ckKFPuZKDz5wp9xJB+sCjyqBsDu2jR2QWausLOtA4LWaf46Le38Mknn3Adw5qP4bxyn6N4E+QHQESIMRW00iEYNSuIAg6eapG6bd4e3M7olUbymM1baEWoqxoPHz7Ed999h6OjI3SLRd9OouBtmEf6Oj0HMl37Ig/Qyhh0xEcOzWazaEEaU8F5PjexB5Aa5M/PAQJ7+8plSN9bZfUtQ7Jct1IaW3n1ZMvsNBEEBZAASqZ8w/j+za1bqE2FnaYBOQ7NVVUaO5MG89khgHIYsDFZxWyZOpFaiUHtnGN6JxsixCj1pGCaGu3CYmE7VHWDesqbD6bK4NZvP8Inn3wSvhdiqPqc2Jxridmi+FXGQCsdFD8fHAhcPt7cITFL17Mm5sgPy15pJI92PgMpvcTsxaIbMBtRET1bZhtTQVG3xOzKGMC7AbPVUv48C8aPxGUPeV6ul53Zaz1+FLR1cZl2XRcDKAKIr1NIiLUpDZ52uhRIwGrX/6pGKUl+vbiunbMrLVtrbew4qWtaBrBWCpUO6wesRbOzi3Y+i+nv7+/jo99+jNlsBqUNmnoKbQyMrrBYdHycHfXHZOdWSdpB5XOfdS5elBtg7FhhIEIIJyMdv7cwnRNFtYe8IqAyBOf5HEdPHLOpMhqvXbmMjz/6DciHwI/BOpTzKZ3ntSCV1uisjQEuVYgcrklHhUbaje+/5jiFxLEdKXj/BE9j9zjv9OLRBADShLqugHDvvv/+b/jyyy/RdR2MMX0EeO/D2ccKVQjXEM9cVuXBlD4Qpd+mfSm+H/qMqSpAcdy+rutCLL9JhJD0+xRMzvI46HdhD0G3qk1yeKwDT36c0ZKVvqLtx/7eysstrwKzrSsfO7Ups5XSULoK13rs7jSYzdsBsz/+7UeYzWYwWmFaNzBGo9IG3WIBrWjAqZMyWzx23slsDQUPXWgTCRCcQTtygRTPFnkHUgYgjv+qTYXLV17Dbz76GJ0sLXHSBi7cXw7ro3UFa/tA8saoyOyo0CTM1kpBy5o+4uPB0ufXcZgtJ7CQphDjFDGMS4nZrHyqAbPlzGVxGpT61ibMtpb7VFUZkMKA2ZO6OjfMLlH7uMxe6/GTgRU14cK0waqMpOB55UqyThPeFB6UDpxjyFg6sovVew+l+xsvUcrffvtt7OzsgKCglYEyFUAGHgrWOXiSiOHLbulSnmmbxfcH5UzK69iaAsBH4pALm0769YUqBBtF8JrFtSBRMQLqusLe3l5/6HNQ/Cix/CGDyvt+91OIQI8Qp5Dz6QPDQvMZksM6YqktVt2TohVNALzDo4NH+Pbb7/DgwQMQIUYxzyX1/g0Lsrnkgx0IxQDiA9YYA+f7g98Bth7TSPOkdIBaP51Qqmea1xgsSpBYZWEupSF1WAPzrZwP2TI72cG7AbMVCEZpVEbBEMdKdc5CxbOKl+uzKbMH1E4VhITZvrNsEIf7Q8JNJUG1EQJsyzMIAPjzqq4HzPauD//Vs0A8tRgwW6k4T8RLe4KTQCmC0lhiNiujm9+TMWY7Dzw6eITvvv0WDx48AIhWMjtXco7ZPYrMFmqnzCbvBswGhqeDaEW8CSVJ50UxW6h9GmavVPyip0kGkOpj+6SW1liG+WCQwbdOS37ekgKxdLgzqV5Jqo0BnItr1nZ3d3Hr1i3uPFDQpoqBH0HE0dRFUQMGbuKS5B0hvgcET1/WxuF9qBDAksIgDptOOBgrcfB4+c97KOZPf9wQgLqq4BYtb90PeSkf5g+IQeEdH/ButAbp/lxD5wUkPEURASYWLDcm4o6yU4r3vOD4/v37+Prrr3F4eAhjDObt7Ez7WGkgpg8RYDi10nUdOuvjOZI8XnisRMUP4nUp76jM+1+pHnl5xtJY1Q5RGU7A5Udeb+V8yJbZPbNFSTKmDs40XrOWMluBUJk0WC/PSvSD2q9D9iizAV9ktryfMhukIrOV540dKbO9J/CWYBeZDRCqqka74LOVe4+fCmuZuf7CbK0NlBblWsJKqaD4icdPdrQCCMuE3BkxYIzZs3b+3JmdUrvrOnjbDZgt4Xz6o8+CwlYIefO8mY0wrX8aZm8cxy//KVWypPmKyzT/3nMDCCEuXi1+nICtPzLGxU7CwZkVe77goZUKO1f5u/v7+/jg/Q8ATyCl+dxFZQClwWu7RAEs5y2S3uyi9ej7nbPhjfjSe/BRLZ6nP7zyIE/L905T3NYP1wHewVrPgZCt5XMZg8tdtvrz2sY+XiFBDdYMOe/DVn0ExU4H05HYag3H7ISPwUuK+7AqJxEiihbkDz/8gK+//hqLxWLwebSgkralpM198m9JVlltAMLOQIgjdXDfrGNr8vDwkA98ryfxwWKthYPsQBvCYszLMlqGZEyNDfgx+MTfhTRflof7Vo4vW2b3zPaewiYwXWQ2efbkaKU5UgPHKg47e4ESH47DbNb9fErsBN9sedtwrNwqZkv4rM6FsFzWoussn4xkfb+0JSh+wmyJV6hAA2Z772CdhSh2moKyx47E/jhLrjAvMeKItMe4icvttimzh96stA/6FcRez2yliINiU59H/HF2wOxJbQbMBtgjOPAbviBmL3tBj8/sjU7uSN2Z+c+g8bKBsEqrfVGS1gUYumsFIOm18Qe9s85aC60JdV3jxrUbeOP6G7w+Roe1JUpHj594vfi7fpDuqrZY6sRipSU3P+8HilTYss9eRuuGMWSU4vAnAGDRBe8f0NoW3WLBHVwWcHsH2aOrlYLRvF6vMnWc3uW1f0FBlGPZVFgPEuYOxEIBEJTO09//uHapdfjb3+7h3r17aNuWjxpCv60fPgNFArTVCJHLVwxeIO7G6xXwMA5C2hJE1IY1KnKUUGsZ2hIDsgSPTT1tY4fVp2UtpZkqfptYqFs5X7JlduBOKLu1FqT1ErNJy5o2FT1+4vVK+XESZlOY7BkYWZHn/EuYTd6PMltpfqODZSJ7QmtbLBZdOIs2KOxeiC1rHE3YwVzF6d2U2eR776gi4ogOlPANAMjD4/QcEGa7tsO9v/1twGyA+unq5DnZN5cY66djNreLvIGQX5nZ5Lk8wmxrW17XnXjTJd3nzexUGT4pszea6k3d6jJtkGeQQ0S+/0IsxoLkDbiqLFJvHgDJEW2JJVJVFfYu7OEXN29iZ2eKoxlbLxQUJF4jwd4uSnZ1EpU1/RRuS9MWRIMype+zhReupwzkYVog/u0B5cPgd5bXLWgD2zq0iw4UFvrKBgxZ6GuMQaVVWB/TAN7DRkvJRysTFOI/qRCsWonSxzbj2SCkF4n8fnBwAIAHbRMWBIuMtaXzdpXDb/Cdvv0yxV0226DvMwADyjnHMf2cw3w+h3Mu7Po13Dc0K/KS3irLcRPIrBtbpf4W+9IK8GzlfMmW2aL89K9zZt+8+QtMd3awCIHXlaYQtFhB5idU6nXKFM+8TCdhtsT28zT0HDqZBg5/w3tQODvZOgdSfDSoay26RZsQmw1u2VBnjIHSFZTiYP2clF1iNmNaBWWXQ5AJtYXZuYfpNCInLKXMrqpmI2Zb786M2eJEOQ6zSffZv2hme1/ui5vKRh4/STjd0ZLDIQdI+p30mucNkoGVhdUu2byTpJYPEXu+vHMwRmMymeDKa1fw/vvvA+gXVfNuXsO7WUnm4hHcXeW6p2AYax9uyyFQYrnDtgrnXVAsJRhlWBMSrEl4gndAO28xX8xR1xXMxLBl6zx0pQHL4VdMWG9SaQWtTfD4KZDWHFg0LMjlduFQCVAMkGA29rvAxJ7yCPGh1t211ULEZfvrX/+KP//5z2hDEGXZ1JLuYDwLKd0XSuu31G/4dVXxeZCtdeGQcL5WV3VY4OvWAiLvn2lfyfMuyaoHU3w98p1SGbZyfuS8MhvpbAaOz+yoqBB7vpzz0MaMMtsYDRO8YyRTO8SzIX6k62/KbEraf7AuMdDDed7JK5sGlGeaC7PJA3A+Mruqa5iJYUUuMNvZ4KVUHGFB6QpGs8eP60hwjuKuXhBPb2sKUWRkbSMB/SIYVo6E2aeF9hizZVPL82J2rF9u6ITfwmxn2wGz64qNJ5cpky+K2bkyflxmr1T80i3/kvgqGIxZRfl3XwbJb0J6MxQRNKlgOfqwTqS33KrKYDqd4sqVK3j33XdhrY0uYWMMlNGxI3nwII9p+bIlK4odL0LuwUdh6kGCH0v5SCmIMSZrWciG6Zqw8Ex5BUcEAsOFwCdrLOYtjo6O4KzDpKqjx8oYA+taaK3YG2gML3wOA5TCTjPrfQAWwJHwCQjhXBKChLoh1hvenwlEvGeP5LfffIM7d+6wEur4fM28fy1Pv4QBtGE3LAFe0tBasxWenL2bKn4Ae1skhpfsEvPEXtRSuuu8Gsd5f+yaXOnLPRdjY3grL7/8d2U2kYIiHbxfWGK2qaqVzNZGJeOWZ0skLRQeqtJupBQgoWcSaJPqgx/H8imKzJY1497SErOJHOdOiMxu54vI7LqaQDxWxhi0zkJpzd5AU0GbijdyKAmYT/DeRmYbFTaSBEVvWHTqp7g9c/ssjHVuL4VvvvkWd+7cQdfZEC9QP3dmO2cHZ++mih8Qdj8HHV2Yrci/NMwGes/xSZm90ckdEt8JGMbGkUxzDXUsttEmeaW/w7urvyOfUzKNGBXi4RoNJK97Lxhfp0BxzZYmii5/gI/YUsRx9KTz1FWFD97/FZpJjcVigcm0ga4UA0RzASw8H5jt+Zg3CjoPF83zBKhHmAgNxSYf8uF3ws5+aEVw3qGuK2giWE/9zlzLA5pUH2tQVRqLWQtt+Jiiru3gPHB4eIT/98MPIAVcunQxrL3ooCv2QClNUFpxTKuq6t3cBHgQ2s7yNC8pdmJKAWVqJG33eOsCOJKjzFbZdkS8m6quKzjHm0+qysTTQMh7PH7yCN9+8y3u//wzXMdrE8kDtutC2yIqtGm/sqEv13XNZw1LjMI4jRAGlkxROx+VZq1luPB9E0UzPZkjBYI8XIh08Tgh+dbKceJHpsdDf1apdZl8R0SVLF8sg6EEkJflgb+V48mLZva6bwuVGQeicfCP+JukLCI5swMd+2W2xJvp0K9yC+vn+gd+VdX41fsfoJ40WCwWaKYTqEpDGQ3SYprbyGxSJszUiPLEDGTFKBIGnniq1VOy9lcpkNJw3qGqaxBpXjcWZmGc9cFw5npZ66ErhXa2gDYaRil0LW/AOzo8xA8//D9AES5eusTKSGC8856XF2kFHTZwxOUkxKqr7Vp4zyFqQB4S4ovkvqXt7pN7SNSfIOLZhTEmwuyqruGdQ9dZmBiyiuA94dGTx/j2m2/x88/3YTsH57gTsCdSOoFfYrZzdonZ3jO34fvHvVCbzyPmv40EdebEoqKZnsxRYrYmKjI7agUrxklfl7yN5PfgwObkO/3ny2nTmTJ7bRy/NLE0NECacdndXrbM8sKt0kzZY7bG/Rs6rjCkBxzQI4bLqcIHsTyQzs/fU6Tj+yqpiwpWEIiCN0zh4t4F/PY3t7BYHAFEMLWGrnhbmFdMJwsH63hUaa0jlkIrBJD1ZWGsyA8rgUo8fobgLWBq3mG8WFg457CwFq61MHWNShvI9KEPmqTSGl3bwTqP2WyG7/76V/z004946803sLM7RdcuYNsOdVPBO4uq5p3Jpq5gqoqDfEr9vcfCOThiqElDU6+1IqkM0kcAASDlYwdf1T2JCG3XYTJt0NkO1ntUiuBDAE4CcOcvX+PbO3dgFy1vsXesfqXnk6bKn4jzHHz5wt7eIMAtL5JOvCVaxTtFGIbIcCG/wYHrkEW7tHQ0kgsxomRnna4MnPO9fZK0x8Dk2WCcpGMqTwvAwAs6SG9FWunfW+XvfMnLwGy3cnQjsknAHdMjigpIVEoQjM6Yv2iIwQin/oEssfvEwxaQzefDKo0Lexdx6ze/xdFiASJA1waq0pHZrNpYkLOR2bzaLyh+QM/WkKcHUmLz2mbx9BkFWA9VG3hPsOFUIWsXsK1DXXOQ/zh9GJ5lWrPS5x2fMPHXv36HH3/6CW+8+RamuztYtB261qJqaljnoWs+LamqDarKQJNOkQ3nFlDkoGPgaEDCO8RbGX7nJqIPocxKn+b3vetaNNMJOtvBewtSFR9dGhTnr/9yB3fufIt2wd4+DshPA2anyl/fXxysddjbu7CS2UpjJbOd84Aa1sGF58bSEaQZs02lQzDq1dQ+LrOX08LACzrkb0mZPBmzN97Vm/+9bvADy43wMj1EvPfLi9oxbFpC2MAeBjtHYveYTCe4efNd7O3tgbSCqSoorcIB1OxGd0SAl60hiIpjLrFd0vsfFdmw2JbYA9hMGwAei85hPp+hbTscHR3BO4/d3V2onV2ul9I4PDzE3t4UXefw+MlTGKPx3Xff4auvvsKNG9dw9dpV3rpuNLRRgPeo6xpKE4zE/OIFIMMWoWF4GgqvV/aHTW+KNIH3gzh3VWX4geI8tOa1ILe/+grf3L3LYWjCoNVax1MKNskjKvbiKY2AYGPDhFNJ0pMMJHTCwNM2eEimA5hPRLBePA5VSCtR1LLGOanHJf+7NPZOAol1Y30rL6e8qszOF7WPUduzljZg9rs3b2Jvbw9K8+kNSivo4C3jaAQ8ayDHqY0ge5TZrPiBTwUi/mmmDSuU3QKz+Rxd2w6YvbvDbNGKcHh4iOneHlzX4emTx9DGRGZfu3EjMlubGspoeA/UdR02FJp+nXNS5lCc6AiR8ufKVaGWm9ySKMJsYbGR0DHOQYUNE199dRt3734Da11k+/NkduppG0zVJnkIs8nbAbMRjSV6JZi9seI3NoecWo+rvn/WQDluQ5fAJu7fMUnrLZaz9xZ7F/bwwQcfYCw9wNoAACAASURBVHd3l71RpoZWfN4hhbUWihTI9SdllKyl4c31SwpUao3ztQ6LhcNsNgvRzvtjZ0xlUNcNRxe3PrmeF9H+8MOP+Py/PsdiPsPV136Dvb09tIsZ2q6DNgomBBmWjq4lJE1iCnr4uM4PKD9czuJB4b0PW+hdAAp7F621MErh6dOnuH37Nu7duzc44/E4+c/n84EXJA1um1qJcmSPlCsFD/yyN1o8AnJt13VwUGiahhVrpdDJIuYU0KknemTQj7XVKknrtOrzVZK2wVbOh7yqzAb8KmQXmW29HzDbe4vaVDAh7qrWFI5oU4CjeFJGKZt0bEbv5ApmO+/hFovIbHg/YHZT13yKT5jNcN6jXSygtcaPP/yAz//rc8zmC/zmtavY29vDbNGi61ooo6GVKTI7nXDhtY69cvysme2CkqUDW/mYM/PSMNsVshJva8psBTdgtnMhkPMrwuy1AZzHpgI2yXzsO5s2EBBct5QpbCfoqN73itWmGnP/01sSAOHylSt4++13UNU1utkMWstuqmFkfE2AG90aNty5liqh4honGpal6yzm8znmsxnqusZ0MoHtOhzNZiGwtIVuKtjOYTqdYHa0gLM8EL74059w795f8fu/+zvcuHED5IHJZIKnTx7DkEFVG1hn+yj/SqZ4EX/E6/msJULEufh32/Y7YL//2/f4/vvvMZvN4pmd7BHsr18nR0dHYUefGViJsrtMjhGS6YQUHkSsyktQ2LTc8jt9zUo5A4StT0AbEyeIcnjI603aaUxKaaVpvkyenK2cnbxqzBbF6rjMBlEc1wTgypXLeOftt1HXFWazDkZrjsKgszA3pOGD52+5XshcgL0SKkxAVg7bdZjP55jN5hwYeDJF11nMZkdQSsNah6rRcJ3FZDrF4mgWmf2nP32Bv967h7/7u9/jxo0bgCdMJhOewSEDU1dLzCbxMcQf/8KY7UJMPODlYDZAJ2Y2vIcxup/SP+fMPpbHb5UrMi/UWVuM+ffztDeV9OZS8jpPJ32tSIU1f8BkMsWNGzewf+U1gHjjRF030Mrw4t4AnVg6z+c/Ltcny8cvh6dMAaKUggEwsxZd28JojaY22LuwA6M0mqaB1gau43opYjd7XVW4ffs2/nz7NvYvXcL777+PC7u76LoFQ6euYLSC8xymZhDvK1iMUfGLZ4gXvKdn2CmttTHKvMRV8p6nop33+OLLL3H//n0opdC2bbR627aNLv510sVwNMOQF+lrmUIQK3JwIHwh9EAOEeccjDGoG/bEAmHXJQXvsWOglCzHTSTv9/l4TB/+aV/KpxbWPRi2SuL5k1eV2d4Py76K2RSWpUwnE9y4cQOvXdmHJt7V2tR1mOWQcQLEWRkPFM8Wyh7GXITlNkxZAhhYy8tytDYwdYOdC3vQynCMOK3hOwfveV2icx5VVeP27du4ffvPuHRpH++//z52dy9gEU5YquoKShs476DjUXNlZkM2p71AZnvv8OWXX7xwZruCu2+M2U1TD5ityIcoDn1kjvPM7LWKXynz9LPStEFa8OgWLwz6jRorDMoTd9LU04fh9HzqZRsrPyty/KAnrbC/v49f/OIXmDQTAEDTNGiaKRxxaBNFQQEMW6WU7MZZymfo8UOy7aP3+A29jjrE0uu6Lh4tA/TeyLqqcHQ0g9Yai8UCdV3j8PAQn376KQCPj3/3O1y+vI/OtgB5PHn8CFevXgEI6BYL7O7u9IvDQ5niFG86XZ0oqSWQHAfqYyLgMEYHaPKUzIOf7+Pzzz/HTz/9FK07scoEOvHkjhUilqKkkUtVVX20+WSHpFzvvQ/hEIZ1z39XVYWmaaJVquIuaITppJNZjiIlj0zJO5N7gUppjMlW8Ttf8qKZzfg6udIoChXnuUztUrIlZjvnoTQVmT1tGoAcjFIwpFgBDLwjyKaALI9Yuf7vlNmEbJwRhY0l48yuqhqz4MnKme0B/O53H2P/8mW0toMn4NHjJ7hy9SpAwGLRYWd3N1ECwrrhhNk9p8MHePbM1sagkzh9WuP+zw9eGmaDhtPApd8lZsfd468IszcO4JwnmFuPpYKNAeQ8PEgGlluIiF4bgxuvX8cHv/qAd944xK36WhFIVyCt4cOpHTzWAoA36Nh5/mk5GGQOzaTGdGeCtm15nYgxvJtJecjei7ZtYQy7/f/0p89x//7P+PWvf4333vsltFKwbQutCE1VhYXMnnebDtYFDDd18KJlDXi7pPQNvKhnABBjTDwwm6dDujDgCd988y3u3r2Lhw8ehKjvVXTzV1XVD/AN8pAHYNd1g7M+iSjCSWI3Sf1i+mz2DdLM20OHI6LS4KRVVcGTCrvJ1nv7Nm3PsXRKFnJq3a7L46zu6VZenPx3ZrYxNa6/fgMf/OoDXnfmfAyJRUqj0gStCYrEx+fjUWbWHq/OY8yuJw0mO9MBs6HlWEsAijigsTEAET7/05/w8/37+PWvf41fvvcelNJoW8vlrRpQeLbkzM624QHkoXljMXKl71kyWyvF4WYUR6D49ptvcPfuXTx48PCFMruA7I2ZrShEcwC9EszeeI3fSWXshh4HJKeCTvC2ee+XLLaNvg7AaIW6Ytf81atXcf36dXgA1nnUSsM6DhAKZQDSIPDB2MScgQKNBqWJGn+wNkufpdbkdFpD68uYz+eodBXPzBWrsmlqHBw9woULezg4eILPPvsP7O/v46OPPsLOZAIFPi6o7ebY37+ExWIBXSns7Ezj9nUuUKbUhLmDTe7EaR8SVWUwny+CBYmw64st4jt37uDg4UPMkiN1FosF5vM5plOGq7RHPqjTdpX30jUmAlFpS4kdJcAR2LAluRxfT6YaRGQtCoUHgEDJIdSJylNyx5GTWJrPKv2tvHh5FZgtEyScRj4zslEKUNrAVPWA2YCHdxZa1YCzqCoDE05P5O0cirfAeheiMZSpHbksU6qlz5JZm3o6xWWtI7PlzFzhTN00eHR0gL0LF/Dk4AD/8dlnkdmTyQ5PO5PHvGtxaX8fi8UCqtKY7uwMmJ2vS4wnJm1A7dMy21QVFoHJCKzUSkVmP3x4gPl89kKZHWexsnRLzAbRgNkAK6og9Uowe+3JHaJJA4jz5eKijQsf0bthU+00nz/PX28k3uf3aqlyJRdpfL2U3HLe0VWeQFNrDqKpwt5421nsX7yEjz/+GHVVg5TGk8OneGP/NczbDl4CiLre2uP8fdwNm84dyCkcUiYd8uq6LpY87WDWcryhds6/m6oOnqcQv85aAB7zOR/FNp93uHfvHgCPv//973Hj+nX4juMrec/rGObzOZpJg7qukk0LMr0LeCcABpwNMfCo0Kgj96E0VTT2nfRz5zwmkxqHh7NBW3jv8fnnn+PevXsgClHrAzS01jg64rM3eUewHPq9fL99dp/TvMWqEms6HeDpVIMEfu5sBw+EHd8+BiM1xuDChQsMFlBcRN51HTy47HLv1rVPaWqm1K45OHPLT8azfC+1jLfyasjLwGyfz84G2ZTZ+ZdXMdt7DMYynyQUdpR2Fpcu7kdma0V4evgEr+2/ga6dQwcvH4XTkvoABhR3w6ZZyykcUialOOSVMDud6vXeByYT3LwFQKjDmbS81Iw4agF4t2pV1+jmc9y7dw8ewO9///e4fv0Gus6Hk5L8gNlV8EqlzAY8exoE2pYDHXMFy/fqrJjtnUM9mWB2eDhoi5eN2d47dLYD4COzJeh/ymyCi5s1u47PsTfGxHu3rn1edmZvtMav9N7L4gnIGyudrlia2sgAlnZO+TtN13kPOEBrwmQ6wbVr13D96uvsUiaFnd2LOJovYOoaPgn0GTtG+GcVNHN3bw7H/m+ekh02+/C7s9kMly7t4ehwgbbt8OMPP+DDDz/ElStXeEMI+RDEk08X0ZWJ6wbTxaJxZoCzhPOAG4Q3eLbHODFIe2/ZZMIbV7744gt8+913mM1nSw+qsxSxFGXqYNA26b0Clj4jRdBQcaFzBHPhYbbpCFo1tVB6gK679mUZu1t5NvIqMbv3/Ink3hbK0nWAA0jryOzXr16PzL64u4PF/Ah1bRDO9chGJ50ZswM+B7NMBCwxe+/SJSwOj9C1LX744cfI7Lbt4MlweDAApAmm0nHd4HCBvx8wm41KJyUIG3yfLbMNEL1lzWQCozW++OILfPfdty8NswEqMltBLzG77DQ63TRuX47jXXvWY3el4pcPzFXXjL3/LDubSAkksRxhnUG4cFAmFW5w+ndqBYsoIuxfvIj3f/UrvPHmm2ytgHDh4kXMFy2a6QXE44LEFcw5ReOLJ0qHMigvIV5RtoblGBqpK+DDcULi0G9MBQ1gUhs8ffwIWil8+N6vsLOzA+8sVM1TGyDeKMHH+3BIg0HZKBwFJ+UOhY8O8cL0xlneZxmYvDtMrEGHTz/9FN/cvYv5fFEESD5gSmsdxrwO+Xf7oJ/DtRbxmkDY3GJTRNCmiutE+muHazg8EHeKr5LlB+Fy3LC8/Hnd1tV9K6+OvArMZk9br/ilZaJwhnr6d4nZRAoXL+7jV796H2+++UZYU6tx8eIFtIs5LkybeCynimOb+g1/Ar3Crt34m/pPiw9zfsEeRHZNgoTd4ZuVaQBomHqCR4+fQimNX733IXZ2dmCdh6kVoAw0sTJbVRXv5NV6WDYCANeXW+At1H6OzEbYGeusxaeffoq7d7/BYj5/KZjtsexlI1KojF5idqqk+9CuslN8lZwHZh/bb1gqyIu0Jkvu0bRMHsNOPvT4DXfOmgQgRLxIlR/kGq9duYwP3n8Pu7u7eHJ4xAttTQVreWDz9wJ8KOz9ScclDWZ6l8oJsIdROi0QjmrrtxOBV5ZJfdL+xy/29qZ4/PgIu7u8+eO9997D3t5eWESrURk+b1hrgjYGplK90jcwoMVDytO9UemTCwtBrsYG5Emkqljhc87h8HCGpmnw+PFj/Od//icePHyI/li61QfQr5K875aAJO+lcafSvp6GdJF1IrImREIBiPWYJh9f0maDeQwg6Wfyef7eWJ3HpNSOWyXxfMt5YzayTU+rmK2UGTBbKQ0iBW00Ll95De+9z0Gbjw6fQCtCZSqQtaBgtPVHcyKss14P7fTZ4n2/wQBgR0PKbKE2SVrS/iGt6d4ejh4/xmR3d4nZuqqgTMV+Sa053FaVKH0Js2NLeoTpXoAVwaC+Fm71WTJbVxUQwqjMDg8HzH748EE8lu5FMzsN6bKO2cN7H16/Isw+luK3DhpLGvYZWxWbSlFL9sMAzmld4mLRQlpKcRyoN268gbfeeisuIDVao+ssJjs7sM5BmypYdzIIxZvTDz7Jm3+Wyzow4AadtlTHzNoMGSvN19d1hUuXLuHw8IjXq4TjahTxwdVGKxDS6V0vpe7f8wwMR6wAOu9AKWSekYjSF+sG4LvvvsOdO3cwn8+DQTsOkE3d5qU+LOmloQDSPOQz7/m8XlBY+5gcGcRT1MtjJPY9IOknm0tpPKX9ufTZujbI6/6ixuxWno2cZ2b7YGiuYnaJ2qQUJpPpErO1NrBdh52dCZyzqELkAxmNbPPSwMhNmQ1feEiPMHsU2umsToAAafYiVXWNS5cu4ejwcMBsIi670iYeJ8dZLzOblUsPkAMcnznL+T5jaifHpr2szGZOe7BO547FbJyQ2i8rszde41fKvKRRjxXwWUlehtLNG9WqiT9LdxSlEb8luvvl/cv4xc2buHTxEhazGUwzRVXVgCdUVQ07b4MSRfDkM48fgZQvne41KJMohvFHDSOOl6eBB246HB0tsLMzQdd57Ozsxvh3ithC9F4OLM8USu+D1RjySmY4hHe5y7vYnmcki8UCANA0NabTCdq2w3/913/hp59+Qtu2QFC60gO683s8Nhg2taBkt1gJVIP3PCvE8p26rovH5aTl2aQMpc9L0wf532keqyzNdXlvlb/zK/+dmS2nKF3ev4ybN3+BSxcvYTZbYNoY1FUF8kBdVWjnNq7K9iTTr+zlIYBDrZTO9xqUaXhKSsrsntiZh6evBgBgcXSEyc4OfNdhd2cnxr/TJDMxfD553FiSKsWB2VF3lcQDtFNml8pyliLMrpsGk+kUXdsOmO08e9u2zH45mH2sNX6bVHrdTTxrycGxdIPSMoQBmX8ma0SU6u0pcf82dYMbN27gF7/8BYcZWXR8uHdVoZ5MQlyiGkisMyKxxPpsVrXHWjDLxzkDafiB/O3CAtcnT55gMplAGz5X1hgFY6gPIkwE78VKC39jaEOLd9J5URyHn+VlP4t7TiSHcPPGmsePH+OPf/wjHj16FPIdtx5LFtRJJN1NJekMlN8kG3nfGD7mh5SJgAvfjvdOFPmB4j0igwfGCEDS9/Lvluq+DmAly/t5KgVbOZ28CszOkA0ZL+lnKbNlcJWYbaoK3WIOpRWqSmMyqdG2LeqqQgjYwKccZSzFGk/KaZlN2d/WugGzldEcCswYUDidIyCbNx0iXSM8pLZ4J72EZdDZZoZnyGx4D9J6idnIeP2yMduEEDuRefEfREU+VbzH5Lwwe+Op3uPcjOdtPebHlyyBzCc7KDPryzsfPXtGa1DY6WW0RlMZTJoar125gmtXrwFeBQ+aglYK0+kU9x8eYG9/B84intjB1p5P/kX/r/dxsKaWYko77l8+drawbSQqlFkLiLsQk0mF+/cPMJ1O+XQOANZ1cI4waRpUlebYcZrDEIDAi/dCuaWsPku+l3FAnOU9b5oK3gNdZwFoPHr4EF99+SXaxYKn2G03GhdRylJygZesqXygpt8vQVKu8wA8KXhuQBABRleoTA1PQ4h4Yuj00I92+kbKXwkgY3Uaq2fp77G6539vFb/zKeeZ2TJbwu+lV3p456NnT2sD2ZurtYGpGtTNBFeuvIZrV69BeURmK6UxnU5x8PA+dvb3AOsQT+yABN7iPPqJ1DAWqF8vLswePLej8ijjJWxCKY3PkAURUE0mOLh/n+PZWQ4L0zkLcg5NM+G1c6Q4yLQEfJajM6NfMaN2kuUqle4s73nVNIDn0CgawMOHj/Dll19hsWihtQkhVMap/TyYDXgOxIw+pm+lDWpTgchvzOxNlL+XndkrFT+jgkvUOijF7mfyFgQFTUClCa6zUADqEF/G2g5QrBh1ybz/WKVWWRs84BB316xyA4uku7vkek0mDGMuSyyR4mPQQIS2W6CupjG6O3kLchZv37iO33z4IXZ2dmGtxWQyQTVpoJVCO59jZ3cXbbuAMXXQwTx3GoT+4Vkxa1s7uDE6XOu8BTnuUkoRrOXzCDVYSePFdcTrQLg5ggUyVGABj/nRHJPawLZzKPLYmTYgBWil+XQPo6CMHuhyFFx4XMz+E44dhd4jGDeR9VeVjFprbfQ4DqybMKhYz+Q2VyEwqWyKEWeibS0rqRVbuf/7H/8nHj96CNgW1iKecZv2gZJbP+8faXnkPEd5Ly/v0GO37GGU73SOp8+rykBXDaxnY4IfALJDrODVAFjhTyTv32PTIem13lrY8OM9x4vUWkMn0eyB5bMdffiu1ENpDQ/Adl0omxq0a2kcb+UlFMVnuDobYoOShvXEa8NIg3QF2zkAfKoFgHDKAqCUhnPdmTAboFMx25BmPsarwiuFEF8NWHQtplUNOUXJeoJ1hOs33saHH/4GuyHA8WQyQTOpoJTGfN5id3cHi7blZ1bGbBDx3jUP2LYdjr9QJusdKAQ0pXBKhTAbpPh4XMfrrREU2JzZoljOj+Yw9QTz1sKTQjPdARRBKw1oBWWIZ2yS72rhBnkMgmx5C3gXPYLhIRNXAqL4G4EfrsBAuX8uehcVFDylO6GZ2ra1vBml4tmk//mP/xsPHz1GawFYG8+4TfvAi2I2XAetFUxVoanCaVSOn2uK+vZZVrb8mTDbWj9gtlISg1KvZDbgYW1fD6154xA7SHxcwrUJs9dO9ZIvRf9ejg4/cDMm1+Xa+6YAWSebuEQlfdkNK4E54/Ug3rxgLYzWgLwmhUnToKkrXH3tMq7fuMaBIZWG0oYVKVKA4vAd0ThNPXLEse9CYJTkgT9sx9haQcHl9DwUpZ0QsfkFILklAwxvNLPXh8PKJXRNud2WvHzAYDo1malEiqDBvZS8V0wvkUAVKnopAS5fb1kBda1hLaCJ8OTRE/z59m3Mjo6gFB/w7Vd06BwoaTlX9b8x2JQ+F49E57gu4nmQ6WlOd9lCWwKJeBJWTHusq1sKGRWUvnSRswQ0LdXdJ2ENiCgq0+n1zjnM5/ONztLcyosX7iPsCVoizQpmS3/1WB4XL4LZcTds4ofjUhJAHNBea1bcrHVQZNA0E1R1g8uvXcW1G9eDAUQwWkVmexUMz2BFD3a7EkBwMfpdidkJsaOCS6T4GlLR2IsXo8xsSXH4cKagVLFhzGmNeW8K1E6nUSkWECm107Rkh6v35XsTr/dhG2DwUir+IPkOQdc1YC2INJ48eoLbt/+Mo6NZZLYbWS8peTwPZsN7wHVQQJzhk+lpn8wKrmJ2QPYLY7ZSQ8XSp33sGMzeaKp30GELbsuSlpvPqacV3iS/mA8B0WZJ3h/rGGMdeEw82KtpDJ+EYa2FqTgA74ULF/D222/jjRtv8DZ9zZ4RCott4/EtidM9X9PRl2vgpMqw3F8D9PEEh3UZD/ibWzYisgZGOtYmbVO4bcMyYnkwuGSjhbw/9pDh92iQXikXazuQJtz5+mt88cUXmB0dxajv6SA9qYz1n/zzse96j3hcEocCqAfxodbmj2ASZErsJus+4jW+36ku9zg9iUEWwI8aaEsP2/49qYv3fBrM1uN3vuRFM9sX3j8rZgO8W7UOx3JZa6Eqs8RspYjXY2sFFaZK4zGJEA75UWbn0C4xG7FOy7EEczfIoAZnyGwkxv9IRU7N7EylKuTAnmPShK+/voMvvvgCR0ezAbPHG3ozOS2zIc/3wOy6qo7FbKF2rsQeh9n8y79wZq89qzdPfEzjTuFSuraUZn5t6bUMtzzttKPmWvVQycDSmEhviQKiixXOsTWgNLxzuPraa7h58yYu7O3Bdi4of+ySjQnLoCBazkjyInaTi6VQAmy8XlE8JHwYaLIHT1rfFB4Djx/17nABiRxlNCbSKeGHSuqgfNl9SMuQHpqdXy/3I8bKX4JJdl+UQtcu8Mc//hE//vjj4Mgp79x4ATeUTYBa6t/y24VwALIrTGJAbXKI9lmUcdm7Xv48X/Bcuq5kOYvl6JyLRyxt5eWXl4HZgUxnyuyc2rKUwYnXXWk45/Haa1dx8+ZN7O1d4GVIio9L1OJRgehqzOQyRcKmiQDtTZgN3/N2aJidjtlKreGIeA/ZVVsu3ymZHakd2i1vKxGlFBZtV2S2y6Z6TyKvCrNXGQNSnmfN7I0Uv7wx0/fSzpxruse5z2MWYAlEm1iPOViAaN8Nm90DVVXFQVBpDaUVnHN488038WY4qcMTu95J8UHePmzIIO97qy+ZE+UpCrYq+7ZJsx2uPUjLr2h4HmEEBfxSh5By5zc53fWWhhhYLTw4e26Nud/79/Lt+WNWarRKJPK+2NzU/3C78RoIrQkP7h/g3//932MeEjJAEfXrWE4h6yxI+SwFSHwfQ0BrrQeu9U0hkl+3qhwlSUNa9GtGhrv41lm0Yxalc3wwedu2G9VlKy9eTsvs41D7eTC7SO2M2VpXRWYT+TB7QiAFDqvlAe8p4U3PbB/JlDxcB8+zcWZzrL2zZ/Y6LxkrfT20x5id1uOkzI5RanNog3i9sNY4uP+gyGwijn16Wtkyu0/7NMxeq/itstDGLMrY8EgP0/bFmzFWqeSv4ufpT+mzktIHACSGWz/eWZGwHNeJ14Vo7O3t4d1338X+/j4WbQtTNUCY4lVhXz0H+kwGNg1zHKwoJAEYBu2Rfuy9dM6+g6aAKIGnNF2QW46xnTbo2EOX9LJIEqnFmHbAsQGZAkhU0FTxy/MgAr65+w2++OKLOFBmsxmfp7i2FutlrO/kklvp8VrFO8JMCLVwFuVZJ3mfLo2nUl8ofXfsoZ2mY61F27YxuOlWXn45LbMBOjWzSz3lJMzuNbLAzsTjRKRgrQPJGtuM2W27QFMZKN2fgMTZOuZsgdmcS89poqEavPRADtAmUHwunDWzNxl2qYexKFm+x2U2ESKzB4pfngfRKLPXKbCbyFkw2+hqy2wcc41f6f2S5pm+Jx1A3ktvyqp8YuURVKhCR12n9acKqOxuGqpfLNZaaKK4K0Ypwrvvvot3330XdV2jbcPBzzpYdVrO60usQZLt/vGdmBHRcHFvKqn7d7luWScYuY8ymCWvZXiEtMpfL6bHRmT5Hq0CSLpeofTdVOEWxU9ep9cdHc3w2Wef4cGDBwOL1DkHfQZKSNpXS1IasOkPKYW6aeIAy3eUbfKwTNuuNPDHvlMCRTwyKun3Mq2xCiS5MpCOT7EcJ5NJMcDpVl5eeZHMjr6zUzAbcaFgmdo2bCSQ3eek1IDZtm0HzJYTjYac8Zxu8qw5DrOpUDfkyvUpmJ0/Y1aJD16/Z8Vs5Iof0vf4utnR0SiziU7Pj9MyWylC09RbZmNDj19asdR6SStbbDBa3SBpuqW/iShae2k5xiCSlqsfnLSEDcped22LejIJx5ixB/CXN2/i2uuvg4jPteWo7BrK8Bo/T8RrO4i3rxdt1TBwuVzZBSODVNqMkvHF1w2Vsdyqye9J/vo4AFnT9wf5rtpeX7QqpUzyIy8yRj58eIDPP/8cXdfFI5eqqgp9op/aOI1sYkHl9Y0QAaHKFgfnD9O14n3cRbnpg3qsjPkiYZlCyMufl28sb5mG6LoOOzs7W8XvnMjLwGyZVTkNs5eVvSG127bDZFJDacPfIIWbN3+J11+/BiKCMRqk+Lx1bWRNIIfjUMTx65ddAL1yyErbsJ5jxnBss4Rv3svau2XFeVNmH8dQ34SHJ2V23wwklU1uT1/Kg4cPR5l9Rsg+FbMJ6tTM9sE6OO/M3ujkjrSj5IVPC5Jq0dFqw1A73rSBJT2t1GCBYzkeAQAAFRFJREFUrOQ3ll7JQvVxF44b7DaTaVX+yEMZBfIel/cv491338WFC7vwLuz4DWv7EKZ5SSl+L6x8QJaXyk7vkCJE6yurryiHWmloPQSA1jq0qyyW5QHYdd0g5k86WIeR7fs80vYtCccS5OmQdIeRfFU6l7V2sDA4nR7q67NsofEABKzzqCvFMY2chdYmAJejk969exdffvnlwBJSSnF9fb+rd2xwpXmnkE23zo+1Rf4wSnfASRqm6qcL8rU6x1YAR8pSsu5K9cvbNwXLcfJK7+fR0REWi0UEyFlMjWzl2ctpmU1JOidltlL6zJidnqIuzJZNat4Byih4T5HZuxcuwDmP2hgo5cUuB5FM+UodewNX8vIxFItY3L1HTozvvNwgjrlHiZcmZbaVdlbsVHgWzCal4AIXB7tCw3fPgtkAwTsLVdUcO9SFEGjg9dZEWMlsnyiJW2a/eGZvpPhJwXIX5Fgj9Y24DJBNG1g+V0rB+b5yJc24lD9bQb3iFUEk6aOf2q2bBq6zHNSRFN5+6y1cv3YNTd2wtaOCV494XZ8KFo9fiqWUgrU3GBURZAlpbIOC9ei9h9IcC6rvJH3ARtd1sfSDemIIEXl9nIe1DEwpc2lHkPccvFQgkuebXieSDwL2cNFgl5f3rD5zlmxKfvbZZ/jp558HAxngKR6JIzUGxRxeaTvJ++v6YQks8j6Hb6lOBIk0LdDQqi9BtzTQ5XV+j0vtPpZm6bNUEZA4UBcvXtwqfedITstsJA9PSe95Mxu9aiYph38pTu02TQ3bOY6yQAZvvfU2rl27jqZuACJBNng614GDxnOaZWJjAG2OoWeHbbCC2SoZTz4Zm13nkhqcLbOjAZwo+6V2dd6eitkAb2IcRFPwYfOic9H599lnn+Hnn38qMlvitZ53ZvPXx8tdev0yMnvtGr9SR89l9EZkDbRq4JfyHbuRY58v5UEAOQQHNYXDtRAfuARWytiraKGUxrRpcPOdd3Dp4qVg0Xh08HzihZZNHeK3ptgH1nUnUYJL9QyvVny3HAogHxzpuorSQJLiLpUjjuXyQONBHNYfpNZ3Aqy8vOk1MS0iwHPgUKUoKnpVpeE94J2D1gpPDw/xhz/8ga1YAPP5nNfthPAA69t6aDmm5VgFh1zSNpbPZTeYVnq0359ENnmo5uOnVJ9V3xsDbWo5OudweHgYFwivUha28nLKeWc25FQM/gO9QRreD8evWfDpJE0zxTvv3MSli5fCEW5MbW1UXNvnZVOHJIPBi7KMjK/IxZVfPTtmo7TWcANme/F6hdM1TsJsClqddxzOTBQ9XVXBw+ihtMbh4VP84Q9/gLWs5OTMXtfWW2aXv/esmL1xHL/875JFuEpDX6e9jwFG7LNS3qmU8ogjnSjGgRdRRPE0C4SG8s5xANB33sHe3oWYlwegTQVoDVDYq+s9QMv1y9tb/iQZQcnrvN3ku8u/e0+cWFKpRTWoM9Z3yJIsl2VoefH0b39EkAAknzJYZZkg5uFgtIaz/LfRwGLRQXnAGIW7d+/is88+i1MTadmob4hiPUp1z62stJ75d/J6p9NgAhBj+JzQdY/EtQ/Nwv0aK39+X/J2lrYpXVfOun8ISP1kR+LTp0/RdR2m0+mxH/5bebFy3pkd7WkC+Lzb9HM5GYOv44eex4ULF/DOO2/jwt5ekpdHZbQgO+yuRTypY5D30hhJlJC0bFjm5Bi0iWIlXhizXfCy+qQ+x2W2VNN5Ph/ZB8UO2qBbLACvoIzZiNljGHmezF6trq9ndvpMXlf+l5nZG+3qHdMgxzTy9HOMAGOTjs6KxvjNyBsxz0PsV1G0cmu2/z6hDhbM66+/juvXr2M6ncqF3HmMhlOaY/hl1gtFPPnYr2IHCW42htb4Vu7B9UvllACa/H5pN1I+cIv3C+OdSsrSpz2EVlwvgT48Qr6OoGSllTqh9zwN07U+KtZt22Ja13DO41//9V9xcHCASc1R3yVmFxB2HGb1X6pnNihzuG2qyOTWYxr/SSmFbsUxRJsIG/NlgKSvV3lscvivsjBXAUY+k11hWms0TRPBspXzJadhNttoJ2c2MD7G1jE79MyoaI0xmwBUVQ3vscRsIkRma+U4hl/2wKcwQekBJNpd/xmF4zMLzBAmpNenLUPyvTNgNjB+r6QsKZvT91KWS7iZkzJboO3bLirWbduirqfwzkVmm3pSZHZ/7m9ZnhezvevWJ7JSeidMqdxpOZa++RIxe+Op3vR32rCr4OKz91Y1RpqHvE7TSLXjvDFG80iUKfKABnvrfNbZCUBd1zCK8M4772B/fx/GGHZrE6Br3gkEcZFTbwkJKG14QydZKw9Qcixtqb369sw7VLBU/fC7afunbV1Ke3NQ99J3mOEi2WG5ygtuV6UvCl5adnnddTwdUNcaBwdP8c///M9omga2W6DrOjRNg/l8XlAgxwdMbknl7TPWNmWlvAeIWI5iTJyVrAJI6eGQA3GVd2UVNNP7Ibvx+F5w2AMA2wDO50xOw2wMPGwnYzYSj99pmA1PIPBGETGaB8Z6XYOUGTDbOQBEqGo5DqtnNNIyEMF7WXmdUNuHTXwhzMsqZqfB+0PCA2g/b2aLk2QpOHTI5yTMlpmpvC/ZwAld13h6cBCZvejsS83ssyP2+Wb2iad614koVB7Lg3uTzi35EWFp4OT5pIAZ5OER/WcDC7IwkAFg7+JFvPPOO5hOJnDWAc6y1Rh2LzFviMHgh5swlsqVvCICtCe49Fov0w/yM/xWnhopxJ1iqfWYL9TdyHrLxPuhmzyFVQ+RME1Ay9vQS1DP78mwnpyncw7GGHTWoq5rAMDXX3+Nr776CnVd48nsaDCIVg2UQWtlA0wgkJa3dN9KAJHvC0AiOINXYbxNV1u4IeGlvrhubCzBZu29HbZ/6TORtm2xWCxQVRWapmHAh/AAWzkfclpmB/XhVMxGQdnJ81nFbKG2KJGUeVnSel28uId33nkHk8kUzjpYh8hs8agTsQGuPAabMAot0P9LBPIaRIkClTEbPp/7yVJS9MyYjaR9x5hNIS+QOhWzU2gLs63tisw+mj15pZldQPaxmb3+1j57Zm881Tv295j1yL8B8Rylnx0HRqWOs2xorc6DqB/SrPzJe72T3juHq1ev4s0338SkmbCy4x0qVUFrjS58n3eHidLHO319+gCOeaWVwMACZJz1U899WcteJJK1hEot1TMdICexHpeKGpQzl+3epQiOIbjygKCSRlnpk3pQDOMyMQadBbRWWCwc/u3f/g2Hh4fh6BlerDqfzwfrGo4r0kZpWQQAadlKlljaxv3aGIJ3/kytR8krfb0WlFh/jzeFiFIKi8UCi8UCk8kEVVVhsWCP63w+P0FttvIi5aTMhvDpjJmdQ3sds4OVLYQEgsGeMts5v8Rs5xGZDXSs/FCI3UdhXTexB3GA3ZzaXh7yvYexxOwxv78PdVVquZ7PgtnwfonZsiQHWX4nZXYM42ImgO2gtIZbLAbMbrvupWQ2ASFsz9lS+7jM7g2acXkezD6Wxy9/L7cWli/GUjyn/PrcAsmvIXG/e1HZAMCF+6fQD73eUu2zD9OLYTOG/E3BClQhhdoYaEV48/p1vH7lCibTCZztAK+gqwqkDRwADwUNBQr58m9ERU7qrMRyJQK8aIJSX3YY9svDPNdH0ooWhQ+sJCRLB4V/kaPDn95iLJmiXv4Z6Xdi3BEyqxAKmvqDzilk6EO5vGcw9LXEwBMVB6lUQbFiyXEVeTrdOYeHDx7g//7H/4FShCdPDuG9R2MMnjx5gslkktekLJRcE7qGWOmksqmD5Pr++bSc9nBtDMXrN1H9Vg1yn2ac3FRK38+rRn2BvVyLMnRSeyTLFWKQSfnkjEfnOKwR4ANE2q3id47kZWG2iixhcSHtZWJjidlC7n6M+cgcobYxNUhpXL/+Jq5ceR2T6QSddVAeqCoNowmAg0qozd+OI2bAbAprcojAe/aoHynRZej7qII9seVziuO591z2zoAxaK9jdoT/GEYCtHNmKxAU8WEDkj5RuD48D4XZUs70dvZphTcVwXkHoTaCAvngwUP8n//4vyClcPiEvX3GNEvMXklKSq5Zw+yBZ6Wg9ImkzO4fCR6nZbY8l/m61J4Z8+RRiuzgxOnv+VLZC9BO7ZMSs63jsEYewGKxQHtaxa8vCxdQLAnRvGUdgQSIrOs6HnzM28hXL9LMrQwAA/duDPzoe0uPrZug0ZOGJs1KBPWddAAoeCy8g/RxHdqWQeBBHqi1grcWv/7gA0ynDRaLWdy1ubCWLQVVwzsNB4KGgiJR/gB430MgakKJrUoE5zj+HCkFbwy3kbfw3sFbrk9Vad6JRrxNHgCUFkvXo/Wsfkr0+dgbwo/SZWsiWsgefUibpLggwFuCsw7OAt7ZAHDAkIZWfL4hGaDtOnTOg0KcLlL9cUgAYK2LUw9LpaBeSa5qg7qa4sGDh7hyZR+PHj/Gnbtf489/+Qqz+RFMpUC+iutFnHPhzEdOS5uSNelDPR28CzHMgsXtvIUhA9JcZgpTISTADg8bR1JWin1YmRqmnvDgEg4r4jU+mazzrAxbZPBFyNRtfBgknxW/4xyg0Htlo0Xfj1Ot5UDw8ECNaXFsM605wOrBwQNY22FnZ4q2XWA2O4K1dqv0nVM5KbNJHrinYDY8czVlNgUjVpOKzPaJcpUz2/kFK1tc+sBABQ82ppWuYa3HBx/8Gs10itliEXdtWruAdx61ArTzIDhW/kiUAHlIh/T9ANkQRdM6Vu+UIhjDdbPeccBiGwIDVxW0qeBJc5w7AKRDzDoQnG8jL2J9EmbztePMRjCQl6hNAFnPS5Ksg42bJwiaDCrF05wwhK5r4V0HF56bWlFy7CjgksDOwzIA4nn18DB1hWlV4+GDB9i/cgWPHz/C13fv4Ku//BlH8xlUZVB5KjKbACijl5gdaVRgtvUuMlsrgpMwP9S7Wjw8QD3LpQ/XRmFSGzZigwLL6S639XGYnd4HccxEB03y+fDR0H8ndKklZtvQd/h4wdBOzgV1IjzXELzWYbw+ODhAZy2mOztYtC2OZrONmb2R4icF3ER89pBa9b3cTVq8BjpJk6048aZRHEF9GkUrlDgUp/Hod1shxPAjdmG/9dZbuHLlMuq65g4q4DMMGwEOQQUvXp77qkZJ6yPKllhqiecpvJfXoK/ScTpoQZaMpdChbB+nLxqpIX1FJrYr2bIHILVCSp6AvKziom7qGs2khgdvrvnk03/HwcFBn4ZPvIWDdMtra1LrOS3TSFMM6pBLfGCaCnVdR4A55+Adg5w9Y8M0TjoldhaSe3PSB3/ahvl18tCXNNIzJNPPtnK+5CTM7h+s69Mcu06j53Agdu9N61WamEZxHJAHYAFvIFENuGwKRBrWerz11lu4fOUKK6+mj5qgTDDqg2GvQEHxlBJt0C5LD27Pimp0SzFM+/eyOggbs7oeW2KZMXg2eOtinL6c2YbUM2N2XTeoJw0Aj7qu8e+ffrIRs/vekFXvGMzularVzK6MXmI2XHCYJNPFeZtsIq8KszdW/FLJb+zyg1ksNwoDfvyGlSzIQWX9sHOgoLEDiUKV5u99/IDCQCVR/IigSEXP2a1bt3DjxvV4lp/zHsawp8smR/cgy6P0+kQibVj+cGBBpIPk5PmGtXxynE83PDQ8/qBXbqwNVlPiOcrv6aYDo21bNHWNyWQS1yn8y7/8S1wrIhCRNIdTz2Lvle/JGEDSfpZDL14fwCWHZdd1FXdLsdLnR58dY23yrGXU4CmMzbxdnHNo2zZa/DpYmxISIAXRVs6vbMpsClOLZ8lsGh0OQ2pvymzxnN26dQvXb9xIzl91qIzhsep7j8ogxzNktvfSPoU2kguyup2G2ZKmMNt3tshslShI3tozZXZdNyditngNpaypnDWzq7reMnsNs9cqfqWOuqTNrwRJWbvOK55rtPE9nw0rysoUrMjU6Bp0JN+nIx5Igiz85MW+VV3j1q1buHz5SuxApBTqugJpjc56KNNvBU/zH7VYcbzOFF26nk3TUpvndTud4pesEbCWp3gDbCNAlIqKdry3MjtSuKfS+QbQT5V2sNXtCXHhr1x/+/Zt3L17N7a/92H6fMmQ9gPPZSp5e4y99t6DVD81k+UQ66O1RlVVyUHj/T1QxA+aQdvg+ABZd//W398hHEqWYVruEkQWi0WclhGIyL3ZxvE7f3JaZgPLSp18timzBwN3hNkp3MeYLR5IYTYf2cZsvnXrFq5cvhyZoRSzXGuCtx3IKKTj46yZLazw4s18zsyG5SPUcmaLon1WzObK+Y2YDahRZo95/DZlNk/3lpXsTZntsv6ft8smclpm++y6F8HsE0/1SsJjFiQRDQy6VQNNKpffDE6Dig95ySMqfUkZi3lF2IR58kTx25lO8fbbb6NpGsxmR9DeoG4athjA6wZUlkf6emW+m0oG4OTtpbRXDZbVeUBmyeNgZesxTF+STKUEgCRtu3Rfkvfzcqdu5yFI5AKPyWQSt5wrpfBP//RPmIU1CrFvob9n66QE1VX3hUKBJBh07INhrYwARGseIsMDv03cmZy2R57PusF31mfglh7EqUegJNbaJetR+sXYzsOtnA95UcymkYe85EFJJpsym0JIElH8ptOdyOyj2QzGazQNe3kIEoJKDfJIX58Fs70f+X5BoTgNs4MmPGC2s5anL4liiBphtrTtWTBboO0VNmI24J8Zs9kIQAwGPcZsk6xnleuMrB0MStV/d2afaqo3fV3qTAOKFCQFRwkkeQpsBWYVitMCw5wGFffD91PrSBFhMpmEo05CZ+k61E3Dabh00K53RZ8UJGK1jHFkAOexeh43T7HUAiSlTWK6JcutIHkb5NZj0N8TxY8XxHbeo+s6aK3xySefwFqLxWKRJjyo4yZtm0Mkh16pzLkIRIwxUFr1sA1TCWI9IrG0Sh6Vs5DV93eYRwki+ec5bNOYT2Itjnl1tnJ+ZVNmryb2ZsxGptgtTfXGj4e5bcpsIhWZDaLgBfNomnqJ2WMzA2fB7Dg7MALtZ8ls53hG5FkxO4c2KalTt5LZvb74cjJb63HD53kwe2kobJm9la1sZStb2cpWtrKVrWxlK1vZyla2spWtbGUrW9nKVrayla1sZStb2cpWtrKVrWxlK1vZyla2spWtbGUrW9nKVrayla1sZStb2cpWtrKVrWxlK1vZyla2spWtbGUr51n+P9ziP6wpAMnmAAAAAElFTkSuQmCC)"
      ],
      "metadata": {
        "id": "oqM6_kW9Bt7N"
      }
    },
    {
      "cell_type": "markdown",
      "source": [
        "As the next step, we will detect the face, crop it and resize to a dimension of 256x256. On this cropped face we want to detect the face landmarks out of which we will obtain 3D coordinates. As we only care about the 2D coordinates we are dropping the third column, leaving us with the 2D coordinates."
      ],
      "metadata": {
        "id": "RR1ku0CHP1_N"
      }
    },
    {
      "cell_type": "code",
      "source": [
        "# Detect the face using MTCNN library\n",
        "bboxes, probs = mtcnn.detect(img_arr)\n",
        "\n",
        "if bboxes is None:\n",
        "    print('no face detected')\n",
        "else:\n",
        "    bbox = utils.pad_bbox(bboxes[0], (orig_w, orig_h), 0.3)\n",
        "    face_w = bbox[2] - bbox[0]\n",
        "    face_h = bbox[3] - bbox[1]\n",
        "    assert face_w == face_h\n",
        "print('Face is detected. l: %d, t: %d, r: %d, b: %d'\n",
        "      % (bbox[0], bbox[1], bbox[2], bbox[3]))\n",
        "\n",
        "face_img = img_arr[bbox[1]:bbox[3], bbox[0]:bbox[2], :]\n",
        "resized_face_img = cv2.resize(face_img, (tar_size, tar_size))\n",
        "\n",
        "# lms stands short for landmarks\n",
        "lms = fa.get_landmarks_from_image(resized_face_img)[0] # Detect landmarks\n",
        "lms = lms[:, :2][None, ...] # Take only the X, Y and drop the third axis, Z (3D to 2D)\n",
        "lms = torch.tensor(lms, dtype=torch.float32, device=device)\n",
        "img_tensor = torch.tensor(\n",
        "    resized_face_img[None, ...], dtype=torch.float32, device=device)\n",
        "\n",
        "print('Landmarks detected.')"
      ],
      "metadata": {
        "id": "2t_4dgzwN30j",
        "colab": {
          "base_uri": "https://localhost:8080/"
        },
        "outputId": "1f16737b-548c-4325-cc1e-589b2440b8ce"
      },
      "execution_count": null,
      "outputs": [
        {
          "output_type": "stream",
          "name": "stdout",
          "text": [
            "Face is detected. l: 58, t: 28, r: 214, b: 184\n",
            "Landmarks detected.\n"
          ]
        }
      ]
    },
    {
      "cell_type": "markdown",
      "source": [
        "We have drawn the landmarks on the face just for visualization purposes, the image can be seen below."
      ],
      "metadata": {
        "id": "2srLxJaiAY7n"
      }
    },
    {
      "cell_type": "markdown",
      "source": [
        "![image.png](data:image/png;base64,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)"
      ],
      "metadata": {
        "id": "6kF6EVfPBjfP"
      }
    },
    {
      "cell_type": "markdown",
      "source": [
        "The next step is performing a rigid transformation. This transformation aims to calculate the rotation and translation coefficients. It will take the landmarks that we just detected and try and overlap them as best as it can over the generic face model that we loaded in. It will not deform the landmarks but just perform the basic translation and rotation. So, we expect in our coefficient vector to find 6 values modified as we have 3 values for rotation and 3 for rotation."
      ],
      "metadata": {
        "id": "0XtL8_oJBM4d"
      }
    },
    {
      "cell_type": "markdown",
      "source": [
        "Our coefficients can be found inside the `recon_model.get_packed_tensors()` function, so we have a 257 long vector. In the beggining this vector consists of only zeros, and after the rigid we want to find some values modified."
      ],
      "metadata": {
        "id": "IZrZOZFtCG4e"
      }
    },
    {
      "cell_type": "code",
      "source": [
        "recon_model.get_packed_tensors()"
      ],
      "metadata": {
        "colab": {
          "base_uri": "https://localhost:8080/"
        },
        "id": "vvPPctbmCPT_",
        "outputId": "ebc2f070-eea4-4aa5-b7ff-b869a10c16dd"
      },
      "execution_count": null,
      "outputs": [
        {
          "output_type": "execute_result",
          "data": {
            "text/plain": [
              "tensor([[0., 0., 0., 0., 0., 0., 0., 0., 0., 0., 0., 0., 0., 0., 0., 0., 0., 0., 0., 0., 0., 0., 0., 0.,\n",
              "         0., 0., 0., 0., 0., 0., 0., 0., 0., 0., 0., 0., 0., 0., 0., 0., 0., 0., 0., 0., 0., 0., 0., 0.,\n",
              "         0., 0., 0., 0., 0., 0., 0., 0., 0., 0., 0., 0., 0., 0., 0., 0., 0., 0., 0., 0., 0., 0., 0., 0.,\n",
              "         0., 0., 0., 0., 0., 0., 0., 0., 0., 0., 0., 0., 0., 0., 0., 0., 0., 0., 0., 0., 0., 0., 0., 0.,\n",
              "         0., 0., 0., 0., 0., 0., 0., 0., 0., 0., 0., 0., 0., 0., 0., 0., 0., 0., 0., 0., 0., 0., 0., 0.,\n",
              "         0., 0., 0., 0., 0., 0., 0., 0., 0., 0., 0., 0., 0., 0., 0., 0., 0., 0., 0., 0., 0., 0., 0., 0.,\n",
              "         0., 0., 0., 0., 0., 0., 0., 0., 0., 0., 0., 0., 0., 0., 0., 0., 0., 0., 0., 0., 0., 0., 0., 0.,\n",
              "         0., 0., 0., 0., 0., 0., 0., 0., 0., 0., 0., 0., 0., 0., 0., 0., 0., 0., 0., 0., 0., 0., 0., 0.,\n",
              "         0., 0., 0., 0., 0., 0., 0., 0., 0., 0., 0., 0., 0., 0., 0., 0., 0., 0., 0., 0., 0., 0., 0., 0.,\n",
              "         0., 0., 0., 0., 0., 0., 0., 0., 0., 0., 0., 0., 0., 0., 0., 0., 0., 0., 0., 0., 0., 0., 0., 0.,\n",
              "         0., 0., 0., 0., 0., 0., 0., 0., 0., 0., 0., 0., 0., 0., 0., 0., 0.]],\n",
              "       device='cuda:0', grad_fn=<CatBackward0>)"
            ]
          },
          "metadata": {},
          "execution_count": 55
        }
      ]
    },
    {
      "cell_type": "code",
      "source": [
        "print('start rigid fitting')\n",
        "rigid_optimizer = torch.optim.Adam([recon_model.get_rot_tensor(),\n",
        "                                    recon_model.get_trans_tensor()],\n",
        "                                    lr=rf_lr)\n",
        "lm_weights = utils.get_lm_weights(device)\n",
        "for i in tqdm(range(first_rf_iters)):\n",
        "    rigid_optimizer.zero_grad()\n",
        "    pred_dict = recon_model(recon_model.get_packed_tensors(), render=False)\n",
        "    lm_loss_val = losses.lm_loss(\n",
        "        pred_dict['lms_proj'], lms, lm_weights, img_size=tar_size)\n",
        "    total_loss = lm_loss_w * lm_loss_val\n",
        "    total_loss.backward()\n",
        "    rigid_optimizer.step()\n",
        "print('done rigid fitting. lm_loss: %f' %\n",
        "      lm_loss_val.detach().cpu().numpy())"
      ],
      "metadata": {
        "id": "HKFQmMNtOHaz",
        "colab": {
          "base_uri": "https://localhost:8080/"
        },
        "outputId": "6ea79e27-e37e-453e-a281-a606832d14bd"
      },
      "execution_count": null,
      "outputs": [
        {
          "output_type": "stream",
          "name": "stdout",
          "text": [
            "start rigid fitting\n"
          ]
        },
        {
          "output_type": "stream",
          "name": "stderr",
          "text": [
            "100%|██████████| 1000/1000 [00:04<00:00, 221.74it/s]"
          ]
        },
        {
          "output_type": "stream",
          "name": "stdout",
          "text": [
            "done rigid fitting. lm_loss: 0.000075\n"
          ]
        },
        {
          "output_type": "stream",
          "name": "stderr",
          "text": [
            "\n"
          ]
        }
      ]
    },
    {
      "cell_type": "markdown",
      "source": [
        "After the rigid transformation we can print out our coefficients and find that only 6 zeros were modified and now have some values. These are the rotation and translation coefficients and we printed them out below"
      ],
      "metadata": {
        "id": "mosmZYIECXh0"
      }
    },
    {
      "cell_type": "code",
      "source": [
        "print(f\"Rotation    {recon_model.get_packed_tensors()[0, 224:227].cpu().detach().numpy()}\")\n",
        "print(f\"Translation {recon_model.get_packed_tensors()[0, 254:257].cpu().detach().numpy()}\")"
      ],
      "metadata": {
        "colab": {
          "base_uri": "https://localhost:8080/"
        },
        "id": "SsfpiP5MCdTs",
        "outputId": "933dd180-baf7-4cbf-b716-988ec59c6f7b"
      },
      "execution_count": null,
      "outputs": [
        {
          "output_type": "stream",
          "name": "stdout",
          "text": [
            "Rotation    [ 0.22985226 -0.0046919  -0.04185119]\n",
            "Translation [ 0.01222747 -0.06925721  0.7250163 ]\n"
          ]
        }
      ]
    },
    {
      "cell_type": "markdown",
      "source": [
        "After the rigid model fitting we can move on and do the non-rigid fitting. This is a slightly more complex process because we are trying to calculate a lot more coefficients. The non-rigid transformation morphs or deforms the mask so that the landmark points fit the face. In the end the result of this process is that we obtain the remaining coefficients that were not calculated in the rigid transformation."
      ],
      "metadata": {
        "id": "zQABdv_gpKTR"
      }
    },
    {
      "cell_type": "code",
      "source": [
        "print('start non-rigid fitting')\n",
        "nonrigid_optimizer = torch.optim.Adam(\n",
        "    [recon_model.get_id_tensor(), recon_model.get_exp_tensor(),\n",
        "      recon_model.get_gamma_tensor(), recon_model.get_tex_tensor(),\n",
        "      recon_model.get_rot_tensor(), recon_model.get_trans_tensor()], lr=nrf_lr)\n",
        "for i in tqdm(range(first_nrf_iters)):\n",
        "    nonrigid_optimizer.zero_grad()\n",
        "\n",
        "    pred_dict = recon_model(recon_model.get_packed_tensors(), render=True)\n",
        "    rendered_img = pred_dict['rendered_img']\n",
        "    lms_proj = pred_dict['lms_proj']\n",
        "    face_texture = pred_dict['face_texture']\n",
        "\n",
        "    mask = rendered_img[:, :, :, 3].detach()\n",
        "\n",
        "    photo_loss_val = losses.photo_loss(\n",
        "        rendered_img[:, :, :, :3], img_tensor, mask > 0)\n",
        "\n",
        "    lm_loss_val = losses.lm_loss(lms_proj, lms, lm_weights,\n",
        "                                  img_size=tar_size)\n",
        "    id_reg_loss = losses.get_l2(recon_model.get_id_tensor())\n",
        "    exp_reg_loss = losses.get_l2(recon_model.get_exp_tensor())\n",
        "    tex_reg_loss = losses.get_l2(recon_model.get_tex_tensor())\n",
        "    tex_loss_val = losses.reflectance_loss(\n",
        "        face_texture, recon_model.get_skinmask())\n",
        "\n",
        "    loss = lm_loss_val*lm_loss_w + \\\n",
        "        id_reg_loss*id_reg_w + \\\n",
        "        exp_reg_loss*exp_reg_w + \\\n",
        "        tex_reg_loss*tex_reg_w + \\\n",
        "        tex_loss_val*tex_w + \\\n",
        "        photo_loss_val*rgb_loss_w\n",
        "\n",
        "    loss.backward()\n",
        "    nonrigid_optimizer.step()\n",
        "\n",
        "loss_str = ''\n",
        "loss_str += 'lm_loss: %f\\t' % lm_loss_val.detach().cpu().numpy()\n",
        "loss_str += 'photo_loss: %f\\t' % photo_loss_val.detach().cpu().numpy()\n",
        "loss_str += 'tex_loss: %f\\t' % tex_loss_val.detach().cpu().numpy()\n",
        "loss_str += 'id_reg_loss: %f\\t' % id_reg_loss.detach().cpu().numpy()\n",
        "loss_str += 'exp_reg_loss: %f\\t' % exp_reg_loss.detach().cpu().numpy()\n",
        "loss_str += 'tex_reg_loss: %f\\t' % tex_reg_loss.detach().cpu().numpy()\n",
        "print('done non rigid fitting.', loss_str)"
      ],
      "metadata": {
        "id": "FiVemi35OiOX",
        "colab": {
          "base_uri": "https://localhost:8080/"
        },
        "outputId": "6b164c89-f088-42c1-d083-e004878d5d4b"
      },
      "execution_count": null,
      "outputs": [
        {
          "output_type": "stream",
          "name": "stdout",
          "text": [
            "start non-rigid fitting\n"
          ]
        },
        {
          "output_type": "stream",
          "name": "stderr",
          "text": [
            "100%|██████████| 500/500 [00:33<00:00, 15.11it/s]"
          ]
        },
        {
          "output_type": "stream",
          "name": "stdout",
          "text": [
            "done non rigid fitting. lm_loss: 0.000055\tphoto_loss: 0.055718\ttex_loss: 0.008171\tid_reg_loss: 4.150595\texp_reg_loss: 1.915752\ttex_reg_loss: 115.029221\t\n"
          ]
        },
        {
          "output_type": "stream",
          "name": "stderr",
          "text": [
            "\n"
          ]
        }
      ]
    },
    {
      "cell_type": "markdown",
      "source": [
        "And finally, we will see the process of how to fit our mesh on the face. We will pass the coefficients that we have calculated. Also we set the flag `render=True` to create/render our image. We will blend the original image with the mask image and obtain our composed image, or final image.\n",
        "\n",
        "We will also save the coefficients we just calculated, save our image and also the 3D mesh object. This file can also be opened with any 3D viewer and explored further from there as well. The final result will be saved in the directory that we defined in the beggining, `res_folder`. By default this will be the folder `/content/`.\n",
        "\n"
      ],
      "metadata": {
        "id": "ZFrdztAspZYE"
      }
    },
    {
      "cell_type": "code",
      "source": [
        "with torch.no_grad():\n",
        "    coeffs = recon_model.get_packed_tensors()\n",
        "    pred_dict = recon_model(coeffs, render=True)\n",
        "    rendered_img = pred_dict['rendered_img']\n",
        "    rendered_img = rendered_img.cpu().numpy().squeeze()\n",
        "    out_img = rendered_img[:, :, :3].astype(np.uint8)\n",
        "    out_mask = (rendered_img[:, :, 3] > 0).astype(np.uint8)\n",
        "    resized_out_img = cv2.resize(out_img, (face_w, face_h))\n",
        "    resized_mask = cv2.resize(\n",
        "        out_mask, (face_w, face_h), cv2.INTER_NEAREST)[..., None]\n",
        "\n",
        "    composed_img = img_arr.copy()\n",
        "    composed_face = composed_img[bbox[1]:bbox[3], bbox[0]:bbox[2], :] * \\\n",
        "        (1 - resized_mask) + resized_out_img * resized_mask\n",
        "    composed_img[bbox[1]:bbox[3], bbox[0]:bbox[2], :] = composed_face\n",
        "\n",
        "    utils.mymkdirs(res_folder)\n",
        "    basename = os.path.basename(img_path)[:-4]\n",
        "    # save the composed image\n",
        "    out_composed_img_path = os.path.join(\n",
        "        res_folder, basename + '_composed_img.jpg')\n",
        "    cv2.imwrite(out_composed_img_path, composed_img[:, :, ::-1])\n",
        "    # save the coefficients\n",
        "    out_coeff_path = os.path.join(\n",
        "        res_folder, basename + '_coeffs.npy')\n",
        "    np.save(out_coeff_path,\n",
        "            coeffs.detach().cpu().numpy().squeeze())\n",
        "\n",
        "    # save the mesh into obj format\n",
        "    out_obj_path = os.path.join(\n",
        "        res_folder, basename+'_mesh.obj')\n",
        "    vs = pred_dict['vs'].cpu().numpy().squeeze()\n",
        "    tri = pred_dict['tri'].cpu().numpy().squeeze()\n",
        "    color = pred_dict['color'].cpu().numpy().squeeze()\n",
        "    utils.save_obj(out_obj_path, vs, tri+1, color)\n",
        "\n",
        "    print('composed image is saved at %s' % res_folder)"
      ],
      "metadata": {
        "id": "BKuR5LlZL-NI",
        "colab": {
          "base_uri": "https://localhost:8080/"
        },
        "outputId": "bbee25cd-b438-45a2-baf5-7a6d42e4544a"
      },
      "execution_count": null,
      "outputs": [
        {
          "output_type": "stream",
          "name": "stdout",
          "text": [
            "composed image is saved at /content/\n"
          ]
        }
      ]
    }
  ]
}