{
 "cells": [
  {
   "cell_type": "code",
   "execution_count": 1,
   "metadata": {},
   "outputs": [],
   "source": [
    "import tensorflow as tf\n",
    "from tensorflow.examples.tutorials.mnist import input_data\n",
    "import numpy as np\n",
    "import matplotlib.pyplot as plt\n",
    "import cv2\n",
    "from sklearn.utils import shuffle\n",
    "plt.style.use('ggplot')"
   ]
  },
  {
   "cell_type": "markdown",
   "metadata": {},
   "source": [
    "In\tthis\tpost,\twe\twill\tbuild\ta\tnetwork\tthat\tcan\trecognize\thandwritten\tnumbers.\tFor\tachieving\tthis\tgoal, we\tuse\tMNIST\t(for\tmore\tinformation,\trefer\tto\thttp://yann.lecun.com/exdb/mnist/),\ta\tdatabase\tof\thandwritten\tdigits .\n",
    "The MNIST dataset contains the 28x28 pixel images of handwritten digits from 0 to 9, and their labels, 55K for the training set and 10K for the test set and remaining 5K for validation. The MNIST dataset is the most widely used data set, including in TensorFlow examples and tutorials. "
   ]
  },
  {
   "cell_type": "code",
   "execution_count": 3,
   "metadata": {},
   "outputs": [
    {
     "name": "stdout",
     "output_type": "stream",
     "text": [
      "Extracting MNIST_data\\train-images-idx3-ubyte.gz\n",
      "Extracting MNIST_data\\train-labels-idx1-ubyte.gz\n",
      "Extracting MNIST_data\\t10k-images-idx3-ubyte.gz\n",
      "Extracting MNIST_data\\t10k-labels-idx1-ubyte.gz\n",
      "\n",
      "mnist_data is:  <class 'tensorflow.contrib.learn.python.learn.datasets.base.Datasets'>\n"
     ]
    }
   ],
   "source": [
    "# load MNIST dataset\n",
    "mnist_data = input_data.read_data_sets('MNIST_data', reshape = False, one_hot =  True)\n",
    "print()\n",
    "print('mnist_data is: ', type(mnist_data))"
   ]
  },
  {
   "cell_type": "markdown",
   "metadata": {},
   "source": [
    "mnist_data contains images and their labels for both training and testing. Let's see what are the shapes of these sets."
   ]
  },
  {
   "cell_type": "code",
   "execution_count": 4,
   "metadata": {},
   "outputs": [
    {
     "name": "stdout",
     "output_type": "stream",
     "text": [
      "Shape of training set is (55000, 28, 28, 1).\n",
      "Shape of one-hot labels for training set is (55000, 10).\n"
     ]
    }
   ],
   "source": [
    "print('Shape of training set is {}.' .format(mnist_data.train.images.shape))\n",
    "print('Shape of one-hot labels for training set is {}.'.format(mnist_data.train.labels.shape))"
   ]
  },
  {
   "cell_type": "markdown",
   "metadata": {},
   "source": [
    "We can see that our training set has 55000 28x28 images. The labels are one-hot vectors, that's why the shape of labels matrix is (55000, 10).\n",
    "Now we will see what are dimensions for testing data?"
   ]
  },
  {
   "cell_type": "code",
   "execution_count": 5,
   "metadata": {},
   "outputs": [
    {
     "name": "stdout",
     "output_type": "stream",
     "text": [
      "Shape of testing set is (10000, 28, 28, 1).\n",
      "Shape of one-hot labels for testing set is (10000, 10).\n"
     ]
    }
   ],
   "source": [
    "print('Shape of testing set is {}.' .format(mnist_data.test.images.shape))\n",
    "print('Shape of one-hot labels for testing set is {}.'.format(mnist_data.test.labels.shape))"
   ]
  },
  {
   "cell_type": "markdown",
   "metadata": {},
   "source": [
    "The remainig 5000 images are used for validation.\n"
   ]
  },
  {
   "cell_type": "code",
   "execution_count": 6,
   "metadata": {},
   "outputs": [
    {
     "name": "stdout",
     "output_type": "stream",
     "text": [
      "Shape of validation set is (5000, 28, 28, 1).\n",
      "Shape of one-hot labels for validation set is (5000, 10).\n"
     ]
    }
   ],
   "source": [
    "print('Shape of validation set is {}.' .format(mnist_data.validation.images.shape))\n",
    "print('Shape of one-hot labels for validation set is {}.'.format(mnist_data.validation.labels.shape))"
   ]
  },
  {
   "cell_type": "code",
   "execution_count": 7,
   "metadata": {},
   "outputs": [],
   "source": [
    "X_train, y_train = mnist_data.train.images, mnist_data.train.labels\n",
    "X_test, y_test = mnist_data.test.images, mnist_data.test.labels\n",
    "X_validation, y_validation = mnist_data.validation.images, mnist_data.validation.labels"
   ]
  },
  {
   "cell_type": "code",
   "execution_count": 8,
   "metadata": {},
   "outputs": [
    {
     "name": "stdout",
     "output_type": "stream",
     "text": [
      "<class 'numpy.ndarray'>\n",
      "(28, 28, 1)\n",
      "<class 'numpy.ndarray'>\n",
      "(10,)\n"
     ]
    }
   ],
   "source": [
    "image_5th = X_train[5]\n",
    "label_5th = y_train[5]\n",
    "print(type(image_5th))\n",
    "print(image_5th.shape)\n",
    "print(type(label_5th))\n",
    "print(label_5th.shape)"
   ]
  },
  {
   "cell_type": "markdown",
   "metadata": {},
   "source": [
    "Let's now plot one image from training dataset."
   ]
  },
  {
   "cell_type": "code",
   "execution_count": 9,
   "metadata": {},
   "outputs": [
    {
     "data": {
      "image/png": "[encoded data removed]",
      "text/plain": [
       "<Figure size 432x288 with 1 Axes>"
      ]
     },
     "metadata": {
      "needs_background": "light"
     },
     "output_type": "display_data"
    }
   ],
   "source": [
    "plt.imshow(image_5th.squeeze(), cmap = 'gray')\n",
    "plt.title('This is number ' + str(np.argmax(label_5th)))\n",
    "plt.show()"
   ]
  },
  {
   "cell_type": "markdown",
   "metadata": {},
   "source": [
    "We know that LeNet-5 paper uses 32x32 images, and here we have 28x28 images, so we will now pad these images to get images of size 32x32. More about padding you can see in these posts...links"
   ]
  },
  {
   "cell_type": "code",
   "execution_count": 10,
   "metadata": {},
   "outputs": [],
   "source": [
    "X_train = np.pad(X_train, ((0,0),(2,2),(2,2),(0,0)), 'constant')\n",
    "X_test= np.pad(X_test, ((0,0),(2,2),(2,2),(0,0)), 'constant')\n",
    "X_validation = np.pad(X_validation, ((0,0),(2,2),(2,2),(0,0)), 'constant')"
   ]
  },
  {
   "cell_type": "code",
   "execution_count": 11,
   "metadata": {},
   "outputs": [
    {
     "name": "stdout",
     "output_type": "stream",
     "text": [
      "Shape of training set is (55000, 32, 32, 1).\n",
      "Shape of testing set is (10000, 32, 32, 1).\n",
      "Shape of validation set is (5000, 32, 32, 1).\n"
     ]
    }
   ],
   "source": [
    "print('Shape of training set is {}.' .format(X_train.shape))\n",
    "print('Shape of testing set is {}.' .format(X_test.shape))\n",
    "print('Shape of validation set is {}.' .format(X_validation.shape))"
   ]
  },
  {
   "cell_type": "markdown",
   "metadata": {},
   "source": [
    "Now, we will make a function that calculates the outputs of LeNet-5 convolutional neural network. LeNet family of models were introduced by Yann LeCun.\n",
    "Yann\tle\tCun\tproposed a family\tof ConvNets\tnamed\tLeNet\ttrained\tfor\trecognizing\tMNIST\thandwritten\tcharacters\t.\tThe\tkey\tintuition\there\tis\tto\thave\tlow-layers\talternating convolution\toperations\twith\taverage-pooling\toperations.\tThe\tconvolution\toperations\tare\tbased\ton\tcarefully chosen\tlocal\treceptive\tfields\twith\tshared\tweights\tfor\tmultiple\tfeature\tmaps.\tThen,\thigher\tlevels\tare\tfully connected\tlayers\tbased\ton\ta\ttraditional\tMLP\twith\thidden\tlayers\tand\tsoftmax\tas\tthe\toutput\tlayer.\n",
    "\t"
   ]
  },
  {
   "cell_type": "code",
   "execution_count": 12,
   "metadata": {},
   "outputs": [],
   "source": [
    "def LeNet(X):\n",
    "    \n",
    "    W1 = tf.Variable(tf.random_normal([5,5,1,6])*0.01)\n",
    "    b1 = tf.Variable(tf.zeros([6]))\n",
    "    Z1 = tf.nn.conv2d(X, W1, strides = [1,1,1,1], padding = 'VALID')\n",
    "    A1 = tf.nn.relu(Z1+b1)\n",
    "    \n",
    "    P1 = tf.nn.avg_pool(A1, ksize = [1,2,2,1], strides = [1,2,2,1], padding = 'VALID')\n",
    "    \n",
    "    W2 = tf.Variable(tf.random_normal([5,5,6,16])*0.01)\n",
    "    b2 = tf.Variable(tf.zeros([16]))\n",
    "    Z2 = tf.nn.conv2d(P1, W2, strides = [1,1,1,1], padding = 'VALID')\n",
    "    A2 = tf.nn.relu(Z2+b2)\n",
    "    \n",
    "    P2 = tf.nn.avg_pool(A2, ksize = [1,2,2,1], strides = [1,2,2,1], padding = 'SAME')\n",
    "    \n",
    "    P = tf.contrib.layers.flatten(P2)\n",
    "        \n",
    "    W3 = tf.Variable(tf.random_normal([400,120])*0.01)\n",
    "    b3 = tf.Variable(tf.zeros([120]))\n",
    "    Z3 = tf.matmul(P, W3)\n",
    "    A3 = tf.nn.relu(Z3+b3)\n",
    "    \n",
    "    W4 = tf.Variable(tf.random_normal([120,84])*0.01)\n",
    "    b4 = tf.Variable(tf.zeros([84]))\n",
    "    Z4 = tf.matmul(A3, W4)\n",
    "    A4 = tf.nn.relu(Z4+b4)\n",
    "    \n",
    "    W5 = tf.Variable(tf.random_normal([84,10])*0.01)\n",
    "    b5 = tf.Variable(tf.zeros([10]))\n",
    "    Z5 = tf.matmul(A4, W5)\n",
    "    A5 = Z5 # we don't use softmax function here becauce softmax_cross_entropy_with_logits() \n",
    "            # internally uses softmax to scale the output\n",
    "    \n",
    "    logits = A5\n",
    "    \n",
    "    return logits"
   ]
  },
  {
   "cell_type": "markdown",
   "metadata": {},
   "source": [
    "A placeholder is a tensor where the data will be passed. These Tensorflow object aren't specific values but will recive input during computation. So, those are elements where labels or targets will be supplies. By defining placeholders in the folllowing way we allow our program to calculate the following opperations for a single image, a batch of images or for the hole set."
   ]
  },
  {
   "cell_type": "code",
   "execution_count": 13,
   "metadata": {},
   "outputs": [],
   "source": [
    "# defing placeholders\n",
    "x_input = tf.placeholder(tf.float32, (None,32,32,1)) # here None means any shape\n",
    "y_input = tf.placeholder(tf.float32, (None,10)) # y is for one-hot labels"
   ]
  },
  {
   "cell_type": "markdown",
   "metadata": {},
   "source": [
    "This function computes the softmax entropy between the model (the estimated value logits) and the actual value of y_input. The entropy function is used when the output belongs to one class and not more than one class. As in our example, the image can only belong to one of the digits."
   ]
  },
  {
   "cell_type": "code",
   "execution_count": 14,
   "metadata": {},
   "outputs": [],
   "source": [
    "logits = LeNet(x_input)\n",
    "loss_op = tf.reduce_mean(tf.nn.softmax_cross_entropy_with_logits_v2(logits = logits, labels = y_input))\n",
    "optimizer = tf.train.AdamOptimizer(learning_rate = 0.001)\n",
    "training = optimizer.minimize(loss_op)"
   ]
  },
  {
   "cell_type": "code",
   "execution_count": 15,
   "metadata": {},
   "outputs": [],
   "source": [
    "correct_predicitons = tf.equal(tf.argmax(logits, 1), tf.argmax(y_input, 1))\n",
    "accuracy_opp = tf.reduce_mean(tf.cast(correct_predicitons, tf.float32))"
   ]
  },
  {
   "cell_type": "code",
   "execution_count": 21,
   "metadata": {},
   "outputs": [
    {
     "name": "stdout",
     "output_type": "stream",
     "text": [
      "Accuracy on training set is: 0.9945 and loss is 0.0165.\n",
      "Accuracy on testing set is: 0.9867 and loss is 0.0490.\n"
     ]
    }
   ],
   "source": [
    "num_epochs = 20\n",
    "num_batch = 200\n",
    "batch_size = 128\n",
    "num_examples = X_train.shape[0]\n",
    "accuracy = []\n",
    "loss_all = []\n",
    "val_all = []\n",
    "\n",
    "saver = tf.train.Saver()\n",
    "\n",
    "X_train, y_train = shuffle(X_train, y_train)\n",
    "\n",
    "with tf.Session() as sess:\n",
    "    \n",
    "    sess.run(tf.global_variables_initializer()) # variables initialization\n",
    "    for i in range(num_epochs):\n",
    "        X_train, y_train = shuffle(X_train, y_train)\n",
    "        for delta in range(0, num_examples, batch_size): # training in batches\n",
    "            end = delta + batch_size\n",
    "            X_batch = X_train[delta:end]\n",
    "            y_batch = y_train[delta:end]\n",
    "            \n",
    "            _, acc_batches, loss = sess.run([training, accuracy_opp, loss_op], feed_dict = {x_input : X_batch,\n",
    "                                                                                                y_input : y_batch})\n",
    "            accuracy.append(acc_batches)\n",
    "            loss_all.append(loss)\n",
    "        \n",
    "        val = sess.run(accuracy_opp,feed_dict = {x_input : X_validation,y_input : y_validation})\n",
    "        val_all.append(val)\n",
    "           \n",
    "    \n",
    "    accuracy_train, loss_train = sess.run([accuracy_opp, loss_op], feed_dict = {x_input : X_train,\n",
    "                                                                                y_input : y_train})      \n",
    "    \n",
    "    accuracy_test, loss_test = sess.run([accuracy_opp, loss_op], feed_dict = {x_input : X_test,\n",
    "                                                                              y_input : y_test})  \n",
    "    \n",
    "    print('Accuracy on training set is: %0.4f and loss is %.4f.' %(accuracy_train, loss_train))\n",
    "    print('Accuracy on testing set is: %0.4f and loss is %.4f.'%(accuracy_test, loss_test))\n",
    "\n",
    "    \n",
    "    saver.save(sess, \"/tmp/model.ckpt\")"
   ]
  },
  {
   "cell_type": "code",
   "execution_count": 25,
   "metadata": {},
   "outputs": [
    {
     "data": {
      "image/png": "[encoded data removed]",
      "text/plain": [
       "<Figure size 864x360 with 2 Axes>"
      ]
     },
     "metadata": {
      "needs_background": "light"
     },
     "output_type": "display_data"
    }
   ],
   "source": [
    "plt.figure(figsize = (12,5))\n",
    "plt.subplot(121)\n",
    "plt.plot(np.linspace(0,len(accuracy), len(accuracy)), accuracy)\n",
    "plt.title('Accuracy on validation set')\n",
    "plt.xlabel('Epochs')\n",
    "plt.subplot(122)\n",
    "plt.plot(np.linspace(0,len(loss_all), len(loss_all)), loss_all)\n",
    "plt.title('Loss calculated on all batches')\n",
    "plt.xlabel('Epochs')\n",
    "plt.show()"
   ]
  },
  {
   "cell_type": "code",
   "execution_count": 34,
   "metadata": {},
   "outputs": [
    {
     "name": "stdout",
     "output_type": "stream",
     "text": [
      "INFO:tensorflow:Restoring parameters from /tmp/model.ckpt\n"
     ]
    },
    {
     "data": {
      "image/png": "[encoded data removed]",
      "text/plain": [
       "<Figure size 1440x720 with 10 Axes>"
      ]
     },
     "metadata": {
      "needs_background": "light"
     },
     "output_type": "display_data"
    }
   ],
   "source": [
    "labels_onehot = np.eye(10)\n",
    "fig = plt.figure(figsize=(20, 10))\n",
    "\n",
    "with tf.Session() as sess:\n",
    "    saver.restore(sess, \"/tmp/model.ckpt\")\n",
    "    \n",
    "    for i in range(10):\n",
    "        \n",
    "        image = plt.imread('num_'+str(i)+'.png')\n",
    "        image_re = cv2.resize(image, (32,32))\n",
    "        gray_image = cv2.cvtColor(image_re, cv2.COLOR_BGR2GRAY)\n",
    "        image_final = gray_image.reshape(1,32,32,1)\n",
    "        \n",
    "        acc, l=sess.run([accuracy_opp, logits], feed_dict={x_input: image_final,\n",
    "                                       y_input: labels_onehot[i].reshape(1,10).astype('float32')})\n",
    "        \n",
    "        plt.subplot(2,5,int(i+1))\n",
    "        plt.imshow(image, cmap='gray')\n",
    "        plt.title('Recognizer as ' + str(np.argmax(l))+ ', accuracy = '+ str(acc), fontsize = 12)\n",
    "    plt.show()"
   ]
  }
 ],
 "metadata": {
  "kernelspec": {
   "display_name": "Python 3",
   "language": "python",
   "name": "python3"
  },
  "language_info": {
   "codemirror_mode": {
    "name": "ipython",
    "version": 3
   },
   "file_extension": ".py",
   "mimetype": "text/x-python",
   "name": "python",
   "nbconvert_exporter": "python",
   "pygments_lexer": "ipython3",
   "version": "3.6.8"
  }
 },
 "nbformat": 4,
 "nbformat_minor": 2
}
