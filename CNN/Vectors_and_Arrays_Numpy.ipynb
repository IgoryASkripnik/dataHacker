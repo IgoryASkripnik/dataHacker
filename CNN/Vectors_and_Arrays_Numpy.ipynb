{
  "nbformat": 4,
  "nbformat_minor": 0,
  "metadata": {
    "colab": {
      "name": "Vectors and Arrays Numpy.ipynb",
      "provenance": [],
      "collapsed_sections": []
    },
    "kernelspec": {
      "name": "python3",
      "display_name": "Python 3"
    }
  },
  "cells": [
    {
      "cell_type": "code",
      "metadata": {
        "id": "lVPJMOFB-4zo",
        "colab_type": "code",
        "colab": {}
      },
      "source": [
        "# Import NumPy\n",
        "import numpy as np"
      ],
      "execution_count": 0,
      "outputs": []
    },
    {
      "cell_type": "code",
      "metadata": {
        "id": "7kvj-vGj-yZL",
        "colab_type": "code",
        "colab": {}
      },
      "source": [
        "# Create an array\n",
        "ar = [1.0, 2.0, 3.0]\n",
        "ar = np.array(ar)"
      ],
      "execution_count": 0,
      "outputs": []
    },
    {
      "cell_type": "code",
      "metadata": {
        "id": "xNUoTFTc_AnY",
        "colab_type": "code",
        "outputId": "eafaca50-6dc2-4fef-f6b7-32d49ae6921e",
        "colab": {
          "base_uri": "https://localhost:8080/",
          "height": 68
        }
      },
      "source": [
        "# Display an array\n",
        "print(ar)\n",
        "# Display an array shape\n",
        "print(\"Data shape:\", a.shape)\n",
        "# Display an array data type\n",
        "print(\"Data type:\", a.dtype)"
      ],
      "execution_count": 0,
      "outputs": [
        {
          "output_type": "stream",
          "text": [
            "[1. 2. 3.]\n",
            "Data shape: (3,)\n",
            "Data type: float64\n"
          ],
          "name": "stdout"
        }
      ]
    },
    {
      "cell_type": "code",
      "metadata": {
        "id": "DaoYGA-X_SpM",
        "colab_type": "code",
        "outputId": "ecf5b0f1-001f-4b35-ae90-0cfd657edc48",
        "colab": {
          "base_uri": "https://localhost:8080/",
          "height": 68
        }
      },
      "source": [
        "# We can also create a zero vector using zeros function\n",
        "\n",
        "a = np.zeros([3,3])\n",
        "print(a)"
      ],
      "execution_count": 0,
      "outputs": [
        {
          "output_type": "stream",
          "text": [
            "[[0. 0. 0.]\n",
            " [0. 0. 0.]\n",
            " [0. 0. 0.]]\n"
          ],
          "name": "stdout"
        }
      ]
    },
    {
      "cell_type": "code",
      "metadata": {
        "id": "PHAqT12k_gWe",
        "colab_type": "code",
        "outputId": "712e8f4a-eb20-47c3-cd4e-2dcb447379ae",
        "colab": {
          "base_uri": "https://localhost:8080/",
          "height": 85
        }
      },
      "source": [
        "# We can also create a ones vector using ones function\n",
        "\n",
        "a = np.ones([7])\n",
        "b = np.ones([3,3])\n",
        "\n",
        "print(\"a:\", a)\n",
        "print(\"b:\", b)"
      ],
      "execution_count": 0,
      "outputs": [
        {
          "output_type": "stream",
          "text": [
            "a: [1. 1. 1. 1. 1. 1. 1.]\n",
            "b: [[1. 1. 1.]\n",
            " [1. 1. 1.]\n",
            " [1. 1. 1.]]\n"
          ],
          "name": "stdout"
        }
      ]
    },
    {
      "cell_type": "code",
      "metadata": {
        "id": "glDaKotsD3pb",
        "colab_type": "code",
        "outputId": "c95b5db7-7100-4c4f-ae6f-ac08b5b2e2e3",
        "colab": {
          "base_uri": "https://localhost:8080/",
          "height": 153
        }
      },
      "source": [
        "# We can also create a Diagonal matrix using eye function\n",
        "\n",
        "a = np.eye(3)\n",
        "print(\"eye\\n\", a)\n",
        "\n",
        "b = np.identity(3)\n",
        "print(\"identity\\n\", b)"
      ],
      "execution_count": 0,
      "outputs": [
        {
          "output_type": "stream",
          "text": [
            "eye\n",
            " [[1. 0. 0.]\n",
            " [0. 1. 0.]\n",
            " [0. 0. 1.]]\n",
            "identity\n",
            " [[1. 0. 0.]\n",
            " [0. 1. 0.]\n",
            " [0. 0. 1.]]\n"
          ],
          "name": "stdout"
        }
      ]
    },
    {
      "cell_type": "code",
      "metadata": {
        "id": "se9JuzhBHKec",
        "colab_type": "code",
        "outputId": "de478c79-f912-4656-ca67-cd3a2f0a92b0",
        "colab": {
          "base_uri": "https://localhost:8080/",
          "height": 68
        }
      },
      "source": [
        "# The main difference is that with eye the diagonal can may be offset.\n",
        "# Identity only fills the main diagonal.\n",
        "\n",
        "a = np.eye(3,5)\n",
        "print(a)\n",
        "\n",
        "# The following code will produce the data type not understood error.\n",
        "#b = np.identity(3,5)\n",
        "#print(b)"
      ],
      "execution_count": 0,
      "outputs": [
        {
          "output_type": "stream",
          "text": [
            "[[1. 0. 0. 0. 0.]\n",
            " [0. 1. 0. 0. 0.]\n",
            " [0. 0. 1. 0. 0.]]\n"
          ],
          "name": "stdout"
        }
      ]
    },
    {
      "cell_type": "code",
      "metadata": {
        "id": "LGSzEMwHArgf",
        "colab_type": "code",
        "outputId": "cbc26887-20f2-4ee5-b382-ed937d80aa38",
        "colab": {
          "base_uri": "https://localhost:8080/",
          "height": 34
        }
      },
      "source": [
        "# Horiontal Stack\n",
        "\n",
        "vec1 = np.array([5,1,3])\n",
        "vec2 = np.array([2,3,4])\n",
        "\n",
        "res = np.hstack((vec1,vec2))\n",
        "print(res)"
      ],
      "execution_count": 0,
      "outputs": [
        {
          "output_type": "stream",
          "text": [
            "[5 1 3 2 3 4]\n"
          ],
          "name": "stdout"
        }
      ]
    },
    {
      "cell_type": "code",
      "metadata": {
        "id": "x9NLz2O9A6iq",
        "colab_type": "code",
        "outputId": "adae6589-8bf0-46e8-f116-882e04732971",
        "colab": {
          "base_uri": "https://localhost:8080/",
          "height": 51
        }
      },
      "source": [
        "# Vertical Stack\n",
        "\n",
        "vec1 = np.array([5,1,3])\n",
        "vec2 = np.array([2,3,4])\n",
        "\n",
        "res = np.vstack((vec1,vec2))\n",
        "print(res)"
      ],
      "execution_count": 0,
      "outputs": [
        {
          "output_type": "stream",
          "text": [
            "[[5 1 3]\n",
            " [2 3 4]]\n"
          ],
          "name": "stdout"
        }
      ]
    },
    {
      "cell_type": "code",
      "metadata": {
        "id": "5cf89yTIA-yi",
        "colab_type": "code",
        "outputId": "5b1e6836-c1a0-4838-d1eb-7009560e8618",
        "colab": {
          "base_uri": "https://localhost:8080/",
          "height": 51
        }
      },
      "source": [
        "# Stack\n",
        "\n",
        "vec1 = np.array([5,1,3])\n",
        "vec2 = np.array([2,3,4])\n",
        "\n",
        "res = np.stack((vec1,vec2), axis=0)\n",
        "\n",
        "print(res)"
      ],
      "execution_count": 0,
      "outputs": [
        {
          "output_type": "stream",
          "text": [
            "[[5 1 3]\n",
            " [2 3 4]]\n"
          ],
          "name": "stdout"
        }
      ]
    },
    {
      "cell_type": "code",
      "metadata": {
        "id": "KkhETZ1zBSI_",
        "colab_type": "code",
        "outputId": "65a2a8ef-afd8-4992-84c0-e8f69d316a7c",
        "colab": {
          "base_uri": "https://localhost:8080/",
          "height": 68
        }
      },
      "source": [
        "# Stack\n",
        "\n",
        "vec1 = np.array([5,1,3])\n",
        "vec2 = np.array([2,3,4])\n",
        "\n",
        "res = np.stack((vec1,vec2), axis=1)\n",
        "\n",
        "print(res)"
      ],
      "execution_count": 0,
      "outputs": [
        {
          "output_type": "stream",
          "text": [
            "[[5 2]\n",
            " [1 3]\n",
            " [3 4]]\n"
          ],
          "name": "stdout"
        }
      ]
    },
    {
      "cell_type": "markdown",
      "metadata": {
        "id": "8WbVry8YCBhT",
        "colab_type": "text"
      },
      "source": [
        "\n",
        "\n",
        "---\n",
        "\n"
      ]
    },
    {
      "cell_type": "code",
      "metadata": {
        "id": "SBSdNUyrCBLj",
        "colab_type": "code",
        "colab": {}
      },
      "source": [
        "import numpy as np"
      ],
      "execution_count": 0,
      "outputs": []
    },
    {
      "cell_type": "code",
      "metadata": {
        "id": "fDsdrr6pCEau",
        "colab_type": "code",
        "colab": {}
      },
      "source": [
        "# List to Array\n",
        "\n",
        "# One-dimensional list\n",
        "l = [1,3,5]\n",
        "a = np.array(l)\n",
        "\n",
        "# Two-dimensional list\n",
        "l = [[1,3,5],[4,4,2],[7,1,1]]\n",
        "a = np.array(l)"
      ],
      "execution_count": 0,
      "outputs": []
    },
    {
      "cell_type": "code",
      "metadata": {
        "id": "hF-m9q_9CEYd",
        "colab_type": "code",
        "outputId": "29ef8547-258e-480a-bd16-1192beac35f2",
        "colab": {
          "base_uri": "https://localhost:8080/",
          "height": 102
        }
      },
      "source": [
        "# Indexing one-dimensional arrays\n",
        "\n",
        "a = np.array([1, 2, 3, 4, 5, 6])\n",
        "\n",
        "print(\"a[0]:\", a[0])\n",
        "print(\"a[5]:\", a[5])\n",
        "print(\"a[:3]:\", a[:3])\n",
        "print(\"a[1:3]:\", a[1:3])\n",
        "print(\"a[1:-2]:\", a[1:-2])"
      ],
      "execution_count": 0,
      "outputs": [
        {
          "output_type": "stream",
          "text": [
            "a[0]: 1\n",
            "a[5]: 6\n",
            "a[:3]: [1 2 3]\n",
            "a[1:3]: [2 3]\n",
            "a[1:-2]: [2 3 4]\n"
          ],
          "name": "stdout"
        }
      ]
    },
    {
      "cell_type": "code",
      "metadata": {
        "id": "wk2B3cdcE8wH",
        "colab_type": "code",
        "outputId": "6a071122-c1f1-4c1a-f3a1-9990e2426a6e",
        "colab": {
          "base_uri": "https://localhost:8080/",
          "height": 153
        }
      },
      "source": [
        "# Indexing two-dimensional arrays\n",
        "\n",
        "a = np.array([[1, 2, 3], [4, 5, 6]])\n",
        "\n",
        "print(\"a.shape:\", a.shape)\n",
        "\n",
        "print(\"a[0]:\", a[0])\n",
        "print(\"a[1]:\", a[1])\n",
        "\n",
        "print(\"a[:,0]:\", a[:,0])\n",
        "print(\"a[:,1]:\", a[:,1])\n",
        "print(\"a[:,2]:\", a[:,2])\n",
        "#\n",
        "print(\"a[0,0]:\", a[0,0])\n",
        "print(\"a[2,2]:\", a[1,2])"
      ],
      "execution_count": 0,
      "outputs": [
        {
          "output_type": "stream",
          "text": [
            "a.shape: (2, 3)\n",
            "a[0]: [1 2 3]\n",
            "a[1]: [4 5 6]\n",
            "a[:,0]: [1 4]\n",
            "a[:,1]: [2 5]\n",
            "a[:,2]: [3 6]\n",
            "a[0,0]: 1\n",
            "a[2,2]: 6\n"
          ],
          "name": "stdout"
        }
      ]
    },
    {
      "cell_type": "code",
      "metadata": {
        "id": "VE5xOWS4Hutb",
        "colab_type": "code",
        "outputId": "5b4cfa4d-5771-4198-f75f-bcf5c87b453e",
        "colab": {
          "base_uri": "https://localhost:8080/",
          "height": 85
        }
      },
      "source": [
        "# Slicing\n",
        "\n",
        "data = np.array([[5, 5, 0],\n",
        "                 [2, 1, 0],\n",
        "                 [5, 7, 1]])\n",
        "\n",
        "X, y = data[:, :-1], data[:, -1]\n",
        "print(\"X:\", X)\n",
        "print(\"y:\", y)"
      ],
      "execution_count": 0,
      "outputs": [
        {
          "output_type": "stream",
          "text": [
            "X: [[5 5]\n",
            " [2 1]\n",
            " [5 7]]\n",
            "y: [0 0 1]\n"
          ],
          "name": "stdout"
        }
      ]
    },
    {
      "cell_type": "code",
      "metadata": {
        "id": "_Nt4myWOJoQA",
        "colab_type": "code",
        "outputId": "8cc69389-b69e-4457-9451-fbb7bf056453",
        "colab": {
          "base_uri": "https://localhost:8080/",
          "height": 136
        }
      },
      "source": [
        "# Reshaping\n",
        "\n",
        "a = np.array([[1, 2, 3], [4, 5, 6]])\n",
        "print(\"Before reshaping:\", a.shape)\n",
        "print(a)\n",
        "\n",
        "a = a.reshape((3,2))\n",
        "print(\"After reshaping:\", a.shape)\n",
        "print(a)"
      ],
      "execution_count": 0,
      "outputs": [
        {
          "output_type": "stream",
          "text": [
            "Before reshaping: (2, 3)\n",
            "[[1 2 3]\n",
            " [4 5 6]]\n",
            "After reshaping: (3, 2)\n",
            "[[1 2]\n",
            " [3 4]\n",
            " [5 6]]\n"
          ],
          "name": "stdout"
        }
      ]
    },
    {
      "cell_type": "code",
      "metadata": {
        "id": "4-_opJD4T0HZ",
        "colab_type": "code",
        "outputId": "54cfeb52-7d13-446e-e060-53eca22065d2",
        "colab": {
          "base_uri": "https://localhost:8080/",
          "height": 34
        }
      },
      "source": [
        "# Scalars and one-dimensional arrays\n",
        "# The result will be calculated as follow\n",
        "# res = [s+a[0], s+a[1], s*a[2]]\n",
        "\n",
        "s = 3\n",
        "\n",
        "a = np.array([1,2,3])\n",
        "\n",
        "res = a + s\n",
        "print(res)"
      ],
      "execution_count": 0,
      "outputs": [
        {
          "output_type": "stream",
          "text": [
            "[4 5 6]\n"
          ],
          "name": "stdout"
        }
      ]
    },
    {
      "cell_type": "code",
      "metadata": {
        "id": "rLSWEyY2VJxq",
        "colab_type": "code",
        "outputId": "c1f061dc-ee63-4b58-9a98-f29a99a36c76",
        "colab": {
          "base_uri": "https://localhost:8080/",
          "height": 51
        }
      },
      "source": [
        "# Scalars and two-dimensional arrays\n",
        "# The result will be calculated as follow\n",
        "# res = [[s+a[0,0], s+a[0,1], s*a[0,2]],[s+a[1,0], s+a[1,1], s*a[1,2]]]\n",
        "\n",
        "s = 3\n",
        "\n",
        "a = np.array([[1,2,3],[4,5,6]])\n",
        "\n",
        "res = a + s\n",
        "print(res)"
      ],
      "execution_count": 0,
      "outputs": [
        {
          "output_type": "stream",
          "text": [
            "[[4 5 6]\n",
            " [7 8 9]]\n"
          ],
          "name": "stdout"
        }
      ]
    },
    {
      "cell_type": "code",
      "metadata": {
        "id": "J0ORvTRHVgU-",
        "colab_type": "code",
        "outputId": "8d7239ce-0420-40bc-d883-45b9938267d9",
        "colab": {
          "base_uri": "https://localhost:8080/",
          "height": 51
        }
      },
      "source": [
        "# Broadcasting one-dimensional array to two-dimensional array\n",
        "# In this case, b will be converted to two-dimensional array and added to a\n",
        "\n",
        "a = np.array([1,2,3])\n",
        "b = np.array([[1,2,3],[4,5,6]])\n",
        "\n",
        "res = a + b\n",
        "print(res)"
      ],
      "execution_count": 0,
      "outputs": [
        {
          "output_type": "stream",
          "text": [
            "[[2 4 6]\n",
            " [5 7 9]]\n"
          ],
          "name": "stdout"
        }
      ]
    },
    {
      "cell_type": "markdown",
      "metadata": {
        "id": "J1kHGgDt-ysH",
        "colab_type": "text"
      },
      "source": [
        "\n",
        "\n",
        "---\n",
        "\n"
      ]
    },
    {
      "cell_type": "code",
      "metadata": {
        "id": "064nKPFb5YHi",
        "colab_type": "code",
        "colab": {}
      },
      "source": [
        "# Import NumPy\n",
        "import numpy as np"
      ],
      "execution_count": 0,
      "outputs": []
    },
    {
      "cell_type": "code",
      "metadata": {
        "id": "egFkqFml5giG",
        "colab_type": "code",
        "outputId": "6b8eea44-92c5-413f-a84b-0e10850897a1",
        "colab": {
          "base_uri": "https://localhost:8080/",
          "height": 34
        }
      },
      "source": [
        "# Vector can be represented as a NumPy array\n",
        "# Create a vector\n",
        "vec = np.array([5,1,3])\n",
        "\n",
        "print(vec)"
      ],
      "execution_count": 0,
      "outputs": [
        {
          "output_type": "stream",
          "text": [
            "[5 1 3]\n"
          ],
          "name": "stdout"
        }
      ]
    },
    {
      "cell_type": "code",
      "metadata": {
        "id": "MyDt2WTc5wMY",
        "colab_type": "code",
        "outputId": "34ba7c98-fbbb-47f7-f690-d43b91fdda02",
        "colab": {
          "base_uri": "https://localhost:8080/",
          "height": 34
        }
      },
      "source": [
        "# Addition\n",
        "\n",
        "vec1 = np.array([5,1,3])\n",
        "vec2 = np.array([2,3,4])\n",
        "\n",
        "res = vec1 + vec2\n",
        "print(res)"
      ],
      "execution_count": 0,
      "outputs": [
        {
          "output_type": "stream",
          "text": [
            "[7 4 7]\n"
          ],
          "name": "stdout"
        }
      ]
    },
    {
      "cell_type": "code",
      "metadata": {
        "id": "a7F1I8_Q6NgW",
        "colab_type": "code",
        "outputId": "cd3c5e29-8607-4683-b553-9e9d162cd087",
        "colab": {
          "base_uri": "https://localhost:8080/",
          "height": 34
        }
      },
      "source": [
        "res = []\n",
        "\n",
        "for i in range(len(vec1)):\n",
        "  res.append(vec1[i] + vec2[i])\n",
        "\n",
        "res = np.array(res)\n",
        "print(res)"
      ],
      "execution_count": 0,
      "outputs": [
        {
          "output_type": "stream",
          "text": [
            "[7 4 7]\n"
          ],
          "name": "stdout"
        }
      ]
    },
    {
      "cell_type": "code",
      "metadata": {
        "id": "ruzHqUkH8mMJ",
        "colab_type": "code",
        "outputId": "65afb915-42a3-420b-f6fc-c4a252daa9b6",
        "colab": {
          "base_uri": "https://localhost:8080/",
          "height": 34
        }
      },
      "source": [
        "# Subtraction\n",
        "\n",
        "vec1 = np.array([5,1,3])\n",
        "vec2 = np.array([2,3,4])\n",
        "\n",
        "res = vec1 - vec2\n",
        "print(res)"
      ],
      "execution_count": 0,
      "outputs": [
        {
          "output_type": "stream",
          "text": [
            "[ 3 -2 -1]\n"
          ],
          "name": "stdout"
        }
      ]
    },
    {
      "cell_type": "code",
      "metadata": {
        "id": "kiFf_BCp70LA",
        "colab_type": "code",
        "outputId": "9f043358-a668-4c7b-e0d1-9d08ed87540f",
        "colab": {
          "base_uri": "https://localhost:8080/",
          "height": 34
        }
      },
      "source": [
        "# Multiplication\n",
        "\n",
        "vec1 = np.array([5,1,3])\n",
        "vec2 = np.array([2,3,4])\n",
        "\n",
        "res = vec1 * vec2\n",
        "print(res)"
      ],
      "execution_count": 0,
      "outputs": [
        {
          "output_type": "stream",
          "text": [
            "[10  3 12]\n"
          ],
          "name": "stdout"
        }
      ]
    },
    {
      "cell_type": "code",
      "metadata": {
        "id": "OkdoI61B84CK",
        "colab_type": "code",
        "outputId": "761ffdd6-5b5c-4346-c7d3-ea775c8c5a87",
        "colab": {
          "base_uri": "https://localhost:8080/",
          "height": 34
        }
      },
      "source": [
        "# Division\n",
        "\n",
        "vec1 = np.array([10,9,12])\n",
        "vec2 = np.array([2,3,4])\n",
        "\n",
        "res = vec1 / vec2\n",
        "# Note that all results will be converter to float value\n",
        "print(res)"
      ],
      "execution_count": 0,
      "outputs": [
        {
          "output_type": "stream",
          "text": [
            "[5. 3. 3.]\n"
          ],
          "name": "stdout"
        }
      ]
    },
    {
      "cell_type": "code",
      "metadata": {
        "id": "mEEiNmO-9E9C",
        "colab_type": "code",
        "outputId": "c38dd2d3-b56c-4385-ca03-ecdd73a2fe9c",
        "colab": {
          "base_uri": "https://localhost:8080/",
          "height": 51
        }
      },
      "source": [
        "# Dot product\n",
        "# The result will be calculated as follow\n",
        "# res = vec1[0]*vec2[0] + vec1[1]*vec2[1] + vec1[2]*vec2[2]\n",
        "\n",
        "vec1 = np.array([5,1,3])\n",
        "vec2 = np.array([2,3,4])\n",
        "\n",
        "res = vec1.dot(vec2)\n",
        "\n",
        "print(res)\n",
        "print(res.dtype)"
      ],
      "execution_count": 0,
      "outputs": [
        {
          "output_type": "stream",
          "text": [
            "25\n",
            "int64\n"
          ],
          "name": "stdout"
        }
      ]
    },
    {
      "cell_type": "code",
      "metadata": {
        "id": "SjFjW3Ct9QNn",
        "colab_type": "code",
        "outputId": "4daa26ec-721a-442a-a44a-d1be15dc870d",
        "colab": {
          "base_uri": "https://localhost:8080/",
          "height": 51
        }
      },
      "source": [
        "# Vector-Scalar Multiplication\n",
        "\n",
        "# The result will be calculated as follow\n",
        "# res = s*vec1[0] + s*vec1[1] + s*vec1[2]\n",
        "\n",
        "s = 3\n",
        "vec1 = np.array([5,1,3])\n",
        "\n",
        "res = s * vec1\n",
        "\n",
        "print(res)\n",
        "print(type(res))"
      ],
      "execution_count": 0,
      "outputs": [
        {
          "output_type": "stream",
          "text": [
            "[15  3  9]\n",
            "<class 'numpy.ndarray'>\n"
          ],
          "name": "stdout"
        }
      ]
    },
    {
      "cell_type": "markdown",
      "metadata": {
        "id": "wBCxvLGCWNYQ",
        "colab_type": "text"
      },
      "source": [
        "\n",
        "\n",
        "---\n",
        "\n"
      ]
    },
    {
      "cell_type": "code",
      "metadata": {
        "id": "HGvflMVt-bbF",
        "colab_type": "code",
        "colab": {}
      },
      "source": [
        "import numpy as np\n",
        "import matplotlib.pyplot as plt"
      ],
      "execution_count": 0,
      "outputs": []
    },
    {
      "cell_type": "code",
      "metadata": {
        "id": "69upS1UsWaPE",
        "colab_type": "code",
        "outputId": "bbb8582d-d3ac-46e9-b21c-6ccb7fcd0f74",
        "colab": {
          "base_uri": "https://localhost:8080/",
          "height": 265
        }
      },
      "source": [
        "vec = np.array([[1,4],[5,-2]])\n",
        "origin = np.zeros(vec.shape) # origin point\n",
        "\n",
        "plt.quiver(*origin, *vec, color=['r','g','b'], scale=21)\n",
        "plt.show()"
      ],
      "execution_count": 0,
      "outputs": [
        {
          "output_type": "display_data",
          "data": {
            "image/png": "[encoded data removed]",
            "text/plain": [
              "<Figure size 432x288 with 1 Axes>"
            ]
          },
          "metadata": {
            "tags": []
          }
        }
      ]
    },
    {
      "cell_type": "code",
      "metadata": {
        "id": "FDKPeuEMX1gf",
        "colab_type": "code",
        "outputId": "3494e848-f8d7-44da-ec03-1777422f3126",
        "colab": {
          "base_uri": "https://localhost:8080/",
          "height": 248
        }
      },
      "source": [
        "from mpl_toolkits.mplot3d import Axes3D\n",
        "\n",
        "fig = plt.figure()\n",
        "ax = fig.gca(projection='3d')\n",
        "\n",
        "vec = np.array([[1,-10],[1,-10],[1,20]])\n",
        "origin = np.zeros(vec.shape) # origin point\n",
        "\n",
        "ax.quiver(*origin, *vec, length=0.05, normalize=True)\n",
        "plt.show()"
      ],
      "execution_count": 0,
      "outputs": [
        {
          "output_type": "display_data",
          "data": {
            "image/png": "[encoded data removed]",
            "text/plain": [
              "<Figure size 432x288 with 1 Axes>"
            ]
          },
          "metadata": {
            "tags": []
          }
        }
      ]
    }
  ]
}