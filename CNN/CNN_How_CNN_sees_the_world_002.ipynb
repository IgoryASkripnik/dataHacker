{
  "nbformat": 4,
  "nbformat_minor": 0,
  "metadata": {
    "colab": {
      "name": "CNN_How_CNN_sees_the_world_002.ipynb",
      "version": "0.3.2",
      "provenance": [],
      "include_colab_link": true
    },
    "language_info": {
      "codemirror_mode": {
        "name": "ipython",
        "version": 3
      },
      "file_extension": ".py",
      "mimetype": "text/x-python",
      "name": "python",
      "nbconvert_exporter": "python",
      "pygments_lexer": "ipython3",
      "version": "3.6.8"
    },
    "kernelspec": {
      "display_name": "Python 3",
      "language": "python",
      "name": "python3"
    }
  },
  "cells": [
    {
      "cell_type": "markdown",
      "metadata": {
        "id": "view-in-github",
        "colab_type": "text"
      },
      "source": [
        "<a href=\"https://colab.research.google.com/github/maticvl/dataHacker/blob/master/CNN/CNN_How_CNN_sees_the_world_002.ipynb\" target=\"_parent\"><img src=\"https://colab.research.google.com/assets/colab-badge.svg\" alt=\"Open In Colab\"/></a>"
      ]
    },
    {
      "cell_type": "code",
      "metadata": {
        "id": "vEa7EqC18mQr",
        "colab_type": "code",
        "colab": {},
        "outputId": "d572626b-979f-4689-880c-717a84548a9f"
      },
      "source": [
        "import numpy as np\n",
        "import matplotlib.pyplot as plt\n",
        "from keras.applications.inception_v3 import InceptionV3, preprocess_input, decode_predictions\n",
        "from keras.preprocessing.image import load_img, img_to_array, array_to_img\n",
        "from keras import backend as K\n",
        "import scipy\n",
        "import cv2"
      ],
      "execution_count": 0,
      "outputs": [
        {
          "output_type": "stream",
          "text": [
            "Using TensorFlow backend.\n"
          ],
          "name": "stderr"
        }
      ]
    },
    {
      "cell_type": "code",
      "metadata": {
        "id": "Fe5BDVRj8mRC",
        "colab_type": "code",
        "colab": {}
      },
      "source": [
        "model = InceptionV3(weights = 'imagenet')"
      ],
      "execution_count": 0,
      "outputs": []
    },
    {
      "cell_type": "code",
      "metadata": {
        "id": "RXoeq9TP8mRz",
        "colab_type": "code",
        "colab": {},
        "outputId": "0377b1b0-ab8d-4b16-818e-4e05bfb657d5"
      },
      "source": [
        "model.output"
      ],
      "execution_count": 0,
      "outputs": [
        {
          "output_type": "execute_result",
          "data": {
            "text/plain": [
              "<tf.Tensor 'predictions/Softmax:0' shape=(?, 1000) dtype=float32>"
            ]
          },
          "metadata": {
            "tags": []
          },
          "execution_count": 3
        }
      ]
    },
    {
      "cell_type": "code",
      "metadata": {
        "id": "Y51ZqJ9u8mSC",
        "colab_type": "code",
        "colab": {}
      },
      "source": [
        "def preprocess(image_path):\n",
        "    # load the image in the PIL format\n",
        "    img = load_img(image_path, target_size = (299,299))\n",
        "    # make a NumPy array of it\n",
        "    img = img_to_array(img)\n",
        "    # make a 4D tensor \n",
        "    img = np.expand_dims(img, axis = 0)\n",
        "    # preprocessing steps for feeding the image through the inception_v3 \n",
        "    img = preprocess_input(img)\n",
        "    return img"
      ],
      "execution_count": 0,
      "outputs": []
    },
    {
      "cell_type": "code",
      "metadata": {
        "id": "_Bu1R6pk8mSK",
        "colab_type": "code",
        "colab": {}
      },
      "source": [
        "def get_heatmap(model, img_path):\n",
        "    image = preprocess(img_path)\n",
        "    predictions = model.predict(image)\n",
        "    data = decode_predictions(predictions, top = 3)[0]\n",
        "    for i in range(3):\n",
        "        print('The image was recognized as ',data[i][1],'with propability ',data[i][2])\n",
        "    # the class which was recognized\n",
        "    softmax_position = np.argmax(predictions)\n",
        "    class_output = model.output[:,softmax_position]\n",
        "    \n",
        "    last_conv_layer = model.get_layer('conv2d_94')\n",
        "    \n",
        "    grads = K.gradients(class_output, last_conv_layer.output)[0]\n",
        "    pooled_grads = K.mean(grads, axis = (0,1,2))\n",
        "    \n",
        "    # defining a function\n",
        "    iterate = K.function([model.input], [pooled_grads, last_conv_layer.output[0]])\n",
        "    \n",
        "    pooled_grads_value, conv_layer_values = iterate([image])\n",
        "    \n",
        "    n_channels = grads.get_shape().as_list()[-1]\n",
        "    \n",
        "    for i in range(n_channels):\n",
        "        conv_layer_values[:,:,i] *= pooled_grads_value[i]\n",
        "    \n",
        "    heatmap = np.mean(conv_layer_values, axis = -1)\n",
        "    heatmap = np.maximum(heatmap, 0)\n",
        "    heatmap /= np.max(heatmap)\n",
        "    \n",
        "    return heatmap\n"
      ],
      "execution_count": 0,
      "outputs": []
    },
    {
      "cell_type": "code",
      "metadata": {
        "id": "LAQzM-z18mTa",
        "colab_type": "code",
        "colab": {}
      },
      "source": [
        "def apply_heatmap(image_path, heatmap):\n",
        "    img = cv2.imread(image_path)\n",
        "    heatmap = cv2.resize(heatmap, (img.shape[1], img.shape[0]))\n",
        "    heatmap = np.uint8(255 * heatmap)\n",
        "    heatmap = cv2.applyColorMap(heatmap, cv2.COLORMAP_JET)\n",
        "    superimposed_img = heatmap * 0.4 + img\n",
        "    name = ''.join(list(image_path)[:-4])+'heatmap.jpg'\n",
        "    cv2.imwrite(name, superimposed_img) "
      ],
      "execution_count": 0,
      "outputs": []
    },
    {
      "cell_type": "code",
      "metadata": {
        "id": "vBXb4-Jd8mTj",
        "colab_type": "code",
        "colab": {},
        "outputId": "e6bda3a9-2843-4bd4-a639-7c8d28327cb1"
      },
      "source": [
        "heatmap1 = get_heatmap(model, 'cat1.jpg')\n",
        "apply_heatmap('cat1.jpg', heatmap1)"
      ],
      "execution_count": 0,
      "outputs": [
        {
          "output_type": "stream",
          "text": [
            "The image was recognized as  Egyptian_cat with propability  0.8151559\n",
            "The image was recognized as  Siamese_cat with propability  0.035323225\n",
            "The image was recognized as  Angora with propability  0.014066448\n"
          ],
          "name": "stdout"
        }
      ]
    },
    {
      "cell_type": "code",
      "metadata": {
        "id": "xl0VwHzV8mTz",
        "colab_type": "code",
        "colab": {},
        "outputId": "c591989b-eecd-431e-d416-817326fe1f4c"
      },
      "source": [
        "heatmap1 = get_heatmap(model, 'cat2.jpg')\n",
        "apply_heatmap('cat2.jpg', heatmap1)"
      ],
      "execution_count": 0,
      "outputs": [
        {
          "output_type": "stream",
          "text": [
            "The image was recognized as  Persian_cat with propability  0.9629857\n",
            "The image was recognized as  Angora with propability  0.0011527061\n",
            "The image was recognized as  Japanese_spaniel with propability  0.0010082541\n"
          ],
          "name": "stdout"
        }
      ]
    },
    {
      "cell_type": "code",
      "metadata": {
        "id": "5XA-ZVBY8mUk",
        "colab_type": "code",
        "colab": {},
        "outputId": "a590608b-fc2f-437a-8059-585898d54159"
      },
      "source": [
        "heatmap1 = get_heatmap(model, 'english.jpg')\n",
        "apply_heatmap('english.jpg', heatmap1)"
      ],
      "execution_count": 0,
      "outputs": [
        {
          "output_type": "stream",
          "text": [
            "The image was recognized as  English_foxhound with propability  0.81746376\n",
            "The image was recognized as  Walker_hound with propability  0.07744286\n",
            "The image was recognized as  German_short-haired_pointer with propability  0.004564064\n"
          ],
          "name": "stdout"
        }
      ]
    },
    {
      "cell_type": "code",
      "metadata": {
        "id": "0PGADWZ48mUy",
        "colab_type": "code",
        "colab": {},
        "outputId": "da619ed2-2089-4d37-ee41-747aa6df4770"
      },
      "source": [
        "heatmap1 = get_heatmap(model, 'retriver.jpg')\n",
        "apply_heatmap('retriver.jpg', heatmap1)"
      ],
      "execution_count": 0,
      "outputs": [
        {
          "output_type": "stream",
          "text": [
            "The image was recognized as  golden_retriever with propability  0.84519035\n",
            "The image was recognized as  Labrador_retriever with propability  0.0436717\n",
            "The image was recognized as  Brittany_spaniel with propability  0.0041955807\n"
          ],
          "name": "stdout"
        }
      ]
    },
    {
      "cell_type": "code",
      "metadata": {
        "id": "0mGSpu_48mU7",
        "colab_type": "code",
        "colab": {},
        "outputId": "edd73895-500c-4559-e369-757423641129"
      },
      "source": [
        "heatmap1 = get_heatmap(model, 'jackrussel2.jpg')\n",
        "apply_heatmap('jackrussel2.jpg', heatmap1)"
      ],
      "execution_count": 0,
      "outputs": [
        {
          "output_type": "stream",
          "text": [
            "The image was recognized as  toy_terrier with propability  0.42212814\n",
            "The image was recognized as  English_foxhound with propability  0.17712013\n",
            "The image was recognized as  wire-haired_fox_terrier with propability  0.07007175\n"
          ],
          "name": "stdout"
        }
      ]
    },
    {
      "cell_type": "code",
      "metadata": {
        "id": "CXVEIecr8mVo",
        "colab_type": "code",
        "colab": {},
        "outputId": "4cc437c3-9888-4a09-8769-4c87761f291c"
      },
      "source": [
        "heatmap1 = get_heatmap(model, 'labrador.jpg')\n",
        "apply_heatmap('labrador.jpg', heatmap1)"
      ],
      "execution_count": 0,
      "outputs": [
        {
          "output_type": "stream",
          "text": [
            "The image was recognized as  Labrador_retriever with propability  0.91528267\n",
            "The image was recognized as  golden_retriever with propability  0.046072792\n",
            "The image was recognized as  Chesapeake_Bay_retriever with propability  0.0040103914\n"
          ],
          "name": "stdout"
        }
      ]
    }
  ]
}