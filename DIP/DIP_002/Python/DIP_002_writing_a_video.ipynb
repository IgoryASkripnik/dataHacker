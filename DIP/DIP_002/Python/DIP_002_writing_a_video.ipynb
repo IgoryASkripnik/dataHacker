{
 "cells": [
  {
   "cell_type": "code",
   "execution_count": 5,
   "metadata": {},
   "outputs": [],
   "source": [
    "# Necessary imports\n",
    "import cv2\n",
    "import numpy as np\n",
    " \n",
    "# Create a VideoCapture object\n",
    "cap = cv2.VideoCapture(0)\n",
    " \n",
    "# Check if camera opened successfully\n",
    "if (cap.isOpened() == False): \n",
    "    print(\"Unable to read camera feed\")\n",
    "\n",
    "# Default resolutions of the frame are obtained.The default resolutions are system dependent.\n",
    "# We convert the resolutions from float to integer.\n",
    "frame_width = int(cap.get(3))\n",
    "frame_height = int(cap.get(4))\n",
    " \n",
    "# Define the codec and create VideoWriter object.The output is stored in 'output_py.avi' file.\n",
    "out = cv2.VideoWriter('output_py.avi',cv2.VideoWriter_fourcc('M','J','P','G'), 10, (frame_width,frame_height))\n",
    " \n",
    "while(True):\n",
    "    \n",
    "    ret, frame = cap.read()\n",
    "\n",
    "    if ret == True: \n",
    "\n",
    "        # Write the frame into the file 'output_py.avi'\n",
    "        out.write(frame)\n",
    "\n",
    "    # Display the resulting frame    \n",
    "    cv2.imshow('frame',frame)\n",
    "\n",
    "    # Press Q on keyboard to stop recording\n",
    "    if cv2.waitKey(1) & 0xFF == ord('q'):\n",
    "        break\n",
    "\n",
    "\n",
    "# When everything done, release the video capture and video write objects\n",
    "cap.release()\n",
    "out.release()\n",
    " \n",
    "# Closes all the frames\n",
    "cv2.destroyAllWindows() "
   ]
  }
 ],
 "metadata": {
  "kernelspec": {
   "display_name": "Python 3",
   "language": "python",
   "name": "python3"
  },
  "language_info": {
   "codemirror_mode": {
    "name": "ipython",
    "version": 3
   },
   "file_extension": ".py",
   "mimetype": "text/x-python",
   "name": "python",
   "nbconvert_exporter": "python",
   "pygments_lexer": "ipython3",
   "version": "3.6.8"
  }
 },
 "nbformat": 4,
 "nbformat_minor": 2
}
