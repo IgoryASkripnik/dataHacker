{
  "nbformat": 4,
  "nbformat_minor": 0,
  "metadata": {
    "colab": {
      "private_outputs": true,
      "provenance": [],
      "authorship_tag": "ABX9TyPEx/iQTXL084egsePqbGsP",
      "include_colab_link": true
    },
    "kernelspec": {
      "name": "python3",
      "display_name": "Python 3"
    },
    "language_info": {
      "name": "python"
    }
  },
  "cells": [
    {
      "cell_type": "markdown",
      "metadata": {
        "id": "view-in-github",
        "colab_type": "text"
      },
      "source": [
        "<a href=\"https://colab.research.google.com/github/IgoryASkripnik/dataHacker/blob/master/SIA_V2_%D0%A0%D0%B0%D1%81%D0%BF%D0%BE%D0%B7%D0%BD%D0%B0%D0%B2%D0%B0%D0%BD%D0%B8%D0%B5_%D0%BD%D0%BE%D0%BC%D0%B5%D1%80%D0%BE%D0%B2_%D0%B0%D0%B2%D1%82%D0%BE%D0%BC%D0%BE%D0%B1%D0%B8%D0%BB%D0%B5%D0%B9.ipynb\" target=\"_parent\"><img src=\"https://colab.research.google.com/assets/colab-badge.svg\" alt=\"Open In Colab\"/></a>"
      ]
    },
    {
      "cell_type": "markdown",
      "source": [
        "# Загрузка библиотек"
      ],
      "metadata": {
        "id": "u5dG1HfK82Gm"
      }
    },
    {
      "cell_type": "code",
      "source": [
        "import matplotlib.pyplot as plt\n",
        "!pip install pytesseract\n",
        "!sudo apt install tesseract-ocr\n",
        "import pytesseract\n",
        "import cv2"
      ],
      "metadata": {
        "id": "W7lf6IZJ88sw"
      },
      "execution_count": null,
      "outputs": []
    },
    {
      "cell_type": "code",
      "source": [
        "# Подключение Google disk\n",
        "\n",
        "import os\n",
        "from google.colab import drive\n",
        "drive.mount('/content/drive')\n",
        "Elements_Dir = '/content/drive/MyDrive/GSS/Elements/'\n",
        "if not os.path.exists(os.path.join(Elements_Dir, 'sample_data')):\n",
        "  drive.mount('/content/drive')                  # Монтируем Гуглдиск\n",
        "image = \"/content/drive/MyDrive/test.jpg\"\n",
        "#pytesseract.pytesseract.tesseract_cmd = r'/usr/bin/tesseract'\n",
        "text = pytesseract.image_to_string(image, lang='rus')\n"
      ],
      "metadata": {
        "id": "7VKIR9f6CB3D"
      },
      "execution_count": null,
      "outputs": []
    },
    {
      "cell_type": "code",
      "source": [
        "!sudo apt install tesseract-ocr"
      ],
      "metadata": {
        "id": "gWIZCUKSDv2I"
      },
      "execution_count": null,
      "outputs": []
    }
  ]
}