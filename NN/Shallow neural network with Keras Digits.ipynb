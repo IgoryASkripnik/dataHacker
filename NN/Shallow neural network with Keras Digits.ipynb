{
  "nbformat": 4,
  "nbformat_minor": 0,
  "metadata": {
    "colab": {
      "name": "Shallow_neural_network_with_Keras_Digits.ipynb",
      "provenance": [],
      "collapsed_sections": []
    },
    "kernelspec": {
      "name": "python3",
      "display_name": "Python 3"
    }
  },
  "cells": [
    {
      "cell_type": "markdown",
      "metadata": {
        "id": "Qvgi-JMWWE7G",
        "colab_type": "text"
      },
      "source": [
        "# Solving a digits classification problem- Shallow neural network with Keras"
      ]
    },
    {
      "cell_type": "markdown",
      "metadata": {
        "id": "SmbLjfZbDvVn",
        "colab_type": "text"
      },
      "source": [
        "Author: Davor Jordačević"
      ]
    },
    {
      "cell_type": "markdown",
      "metadata": {
        "id": "WhkOyrVJEYam",
        "colab_type": "text"
      },
      "source": [
        "Keras is a high-level neural networks API, written in Python and capable of running on top of TensorFlow, CNTK, or Theano. "
      ]
    },
    {
      "cell_type": "code",
      "metadata": {
        "id": "hW3bMJKTWA4J",
        "colab_type": "code",
        "outputId": "2127a369-cd68-4611-a933-33935eed017f",
        "colab": {
          "base_uri": "https://localhost:8080/",
          "height": 34
        }
      },
      "source": [
        "import numpy as np\n",
        "import matplotlib.pyplot as plt\n",
        "import keras\n",
        "import warnings\n",
        "from mpl_toolkits import mplot3d\n",
        "from matplotlib import cm\n",
        "from keras.models import Sequential\n",
        "from keras.layers import Dense\n",
        "from keras.optimizers import adam\n",
        "from keras.utils import np_utils\n",
        "from sklearn import datasets\n",
        "from sklearn.model_selection import train_test_split\n",
        "from sklearn.model_selection import StratifiedKFold\n",
        "from sklearn.model_selection import cross_val_score\n",
        "warnings.filterwarnings(\"ignore\")"
      ],
      "execution_count": 0,
      "outputs": [
        {
          "output_type": "stream",
          "text": [
            "Using TensorFlow backend.\n"
          ],
          "name": "stderr"
        }
      ]
    },
    {
      "cell_type": "markdown",
      "metadata": {
        "id": "hnyYTfqKEknD",
        "colab_type": "text"
      },
      "source": [
        "# 1. Load the digit dataset"
      ]
    },
    {
      "cell_type": "code",
      "metadata": {
        "id": "c7hQexApWZGB",
        "colab_type": "code",
        "outputId": "c47c2ccb-5569-412b-8128-6491c52a5fdf",
        "colab": {
          "base_uri": "https://localhost:8080/",
          "height": 34
        }
      },
      "source": [
        "digits = datasets.load_digits()\n",
        "X_digits = digits.data\n",
        "y_digits = digits.target\n",
        "\n",
        "digits.keys()"
      ],
      "execution_count": 0,
      "outputs": [
        {
          "output_type": "execute_result",
          "data": {
            "text/plain": [
              "dict_keys(['data', 'target', 'target_names', 'images', 'DESCR'])"
            ]
          },
          "metadata": {
            "tags": []
          },
          "execution_count": 2
        }
      ]
    },
    {
      "cell_type": "markdown",
      "metadata": {
        "id": "1SuTLSKrFcK7",
        "colab_type": "text"
      },
      "source": [
        "### 1.1 Spliting data into train and test sets"
      ]
    },
    {
      "cell_type": "code",
      "metadata": {
        "id": "xnuuumc3WjsC",
        "colab_type": "code",
        "outputId": "88029238-1aae-41ab-dcbd-9de7f35f5027",
        "colab": {
          "base_uri": "https://localhost:8080/",
          "height": 85
        }
      },
      "source": [
        "print(X_digits.shape)\n",
        "print(y_digits.shape)\n",
        "print(type(X_digits))\n",
        "print(type(y_digits))\n",
        "\n",
        "# Spliting data into train and test\n",
        "X_train, X_test, y_train, y_test = train_test_split(X_digits, y_digits, test_size=0.33, random_state=42)"
      ],
      "execution_count": 0,
      "outputs": [
        {
          "output_type": "stream",
          "text": [
            "(1797, 64)\n",
            "(1797,)\n",
            "<class 'numpy.ndarray'>\n",
            "<class 'numpy.ndarray'>\n"
          ],
          "name": "stdout"
        }
      ]
    },
    {
      "cell_type": "markdown",
      "metadata": {
        "id": "GWH4dB55FjWh",
        "colab_type": "text"
      },
      "source": [
        "### 1.2 Checking the shape of the input data"
      ]
    },
    {
      "cell_type": "code",
      "metadata": {
        "id": "udxYNeo7X3FC",
        "colab_type": "code",
        "outputId": "3b6aa777-35d8-472c-c62d-37207b1aab60",
        "colab": {
          "base_uri": "https://localhost:8080/",
          "height": 85
        }
      },
      "source": [
        "print('x_train:\\t{}' .format(X_train.shape))\n",
        "print('y_train:\\t{}' .format(y_train.shape))\n",
        "print('x_test:\\t\\t{}'.format(X_test.shape))\n",
        "print('y_test:\\t\\t{}'.format(y_test.shape))"
      ],
      "execution_count": 0,
      "outputs": [
        {
          "output_type": "stream",
          "text": [
            "x_train:\t(1203, 64)\n",
            "y_train:\t(1203,)\n",
            "x_test:\t\t(594, 64)\n",
            "y_test:\t\t(594,)\n"
          ],
          "name": "stdout"
        }
      ]
    },
    {
      "cell_type": "markdown",
      "metadata": {
        "id": "LsyiXQEPFyTR",
        "colab_type": "text"
      },
      "source": [
        "### 1.3 Plot first 64 digits"
      ]
    },
    {
      "cell_type": "markdown",
      "metadata": {
        "id": "yUc3oyTaF_lt",
        "colab_type": "text"
      },
      "source": [
        "Now we can plot some digits to see how they look.\n",
        "\n",
        "*digits.target* contain real value for each image in *digits.images*"
      ]
    },
    {
      "cell_type": "code",
      "metadata": {
        "id": "nEVXBPVxWo5P",
        "colab_type": "code",
        "outputId": "b56ff543-03a1-4bd5-ecdf-d59f6915cb6e",
        "colab": {
          "base_uri": "https://localhost:8080/",
          "height": 463
        }
      },
      "source": [
        "# set up the figure\n",
        "fig = plt.figure(figsize=(6, 6))\n",
        "fig.subplots_adjust(left=0, right=1, bottom=0, top=1, hspace=0.05, wspace=0.05)\n",
        "\n",
        "# plot the digits: each image is 8x8 pixels\n",
        "for i in range(64):\n",
        "    ax = fig.add_subplot(8, 8, i + 1, xticks=[], yticks=[])\n",
        "    ax.imshow(digits.images[i], cmap=plt.cm.binary, interpolation='nearest')\n",
        "    \n",
        "    # label the image with the target value\n",
        "    ax.text(0, 7, str(digits.target[i]))"
      ],
      "execution_count": 0,
      "outputs": [
        {
          "output_type": "display_data",
          "data": {
            "image/png": "[encoded data removed]",
            "text/plain": [
              "<Figure size 432x432 with 64 Axes>"
            ]
          },
          "metadata": {
            "tags": []
          }
        }
      ]
    },
    {
      "cell_type": "markdown",
      "metadata": {
        "id": "8M7sv5aKHO8u",
        "colab_type": "text"
      },
      "source": [
        "### 1.4 One Hot Encoding"
      ]
    },
    {
      "cell_type": "markdown",
      "metadata": {
        "id": "eXSiCvV5HOct",
        "colab_type": "text"
      },
      "source": [
        "Many machine learning algorithms cannot operate on label data directly. They require all input variables and output variables to be numeric.\n",
        "\n",
        "This means that categorical data must be converted to a numerical form."
      ]
    },
    {
      "cell_type": "code",
      "metadata": {
        "id": "5fd0jduAcB33",
        "colab_type": "code",
        "colab": {}
      },
      "source": [
        "# one hot encode outputs\n",
        "y_train = np_utils.to_categorical(y_train)\n",
        "y_test = np_utils.to_categorical(y_test)\n",
        "num_classes = y_test.shape[1]"
      ],
      "execution_count": 0,
      "outputs": []
    },
    {
      "cell_type": "markdown",
      "metadata": {
        "id": "whMqOSODFtZK",
        "colab_type": "text"
      },
      "source": [
        "# 2. Implementing a Neural Network"
      ]
    },
    {
      "cell_type": "markdown",
      "metadata": {
        "id": "02jtZOiiH60k",
        "colab_type": "text"
      },
      "source": [
        "### 2.1 Hyperparameters"
      ]
    },
    {
      "cell_type": "code",
      "metadata": {
        "id": "4V-FW8jVX63r",
        "colab_type": "code",
        "colab": {}
      },
      "source": [
        "# Hyperparameters\n",
        "training_epochs = 100 # Total number of training epochs\n",
        "learning_rate = 0.01 # The learning rate"
      ],
      "execution_count": 0,
      "outputs": []
    },
    {
      "cell_type": "markdown",
      "metadata": {
        "id": "BB1jrI_jH-LD",
        "colab_type": "text"
      },
      "source": [
        "### 2.2 Creating a model"
      ]
    },
    {
      "cell_type": "markdown",
      "metadata": {
        "id": "_e6qDza_ICoj",
        "colab_type": "text"
      },
      "source": [
        "Our model will have 2 layers, with 64(*height x width*) neurons in the input layer and 10 neurons in the output layer.\n",
        "We will use normal initializer that generates tensors with a normal distribution.\n",
        "\n",
        "The optimizer we'll use is **Adam** .It is an optimization algorithm that can be used instead of the classical stochastic gradient descent procedure to update network weights iterative based on training data. Adam is a popular algorithm in the field of deep learning because it achieves good results fast. Default parameters follow those provided in the original paper. \n",
        "\n",
        "To make this work in keras we need to compile a model. An important choice to make is the loss function. We use the **categorical_crossentropy** loss because it measures the probability error in discrete classification tasks in which the classes are mutually exclusive (each entry is in exactly one class)."
      ]
    },
    {
      "cell_type": "code",
      "metadata": {
        "id": "7gr1pPJgX61j",
        "colab_type": "code",
        "outputId": "a0364a2c-03e3-40e6-8ef0-beff59cf615a",
        "colab": {
          "base_uri": "https://localhost:8080/",
          "height": 204
        }
      },
      "source": [
        "# create a model\n",
        "def create_model():\n",
        "  model = Sequential()\n",
        "  # Input layer\n",
        "  model.add(Dense(64, input_dim=64, kernel_initializer='normal',\n",
        "            kernel_regularizer= keras.regularizers.l2(0.01),activation='tanh'))\n",
        "  # Output layer\n",
        "  model.add(Dense(10, activation='softmax'))\n",
        " \n",
        "  # Compile a model\n",
        "  model.compile(loss='categorical_crossentropy', optimizer=adam(learning_rate), metrics=['accuracy'])\n",
        "  return model\n",
        "model = create_model()\n",
        "model.summary()"
      ],
      "execution_count": 0,
      "outputs": [
        {
          "output_type": "stream",
          "text": [
            "_________________________________________________________________\n",
            "Layer (type)                 Output Shape              Param #   \n",
            "=================================================================\n",
            "dense_1 (Dense)              (None, 64)                4160      \n",
            "_________________________________________________________________\n",
            "dense_2 (Dense)              (None, 10)                650       \n",
            "=================================================================\n",
            "Total params: 4,810\n",
            "Trainable params: 4,810\n",
            "Non-trainable params: 0\n",
            "_________________________________________________________________\n"
          ],
          "name": "stdout"
        }
      ]
    },
    {
      "cell_type": "markdown",
      "metadata": {
        "id": "6EvcG3osJTn3",
        "colab_type": "text"
      },
      "source": [
        "### 2.3 Train the mode"
      ]
    },
    {
      "cell_type": "markdown",
      "metadata": {
        "id": "SzCPgWtaJVbn",
        "colab_type": "text"
      },
      "source": [
        "Let's trains the model for a given number of epochs."
      ]
    },
    {
      "cell_type": "code",
      "metadata": {
        "id": "xpaHdxMsX6x6",
        "colab_type": "code",
        "colab": {}
      },
      "source": [
        "results = model.fit(\n",
        " X_train, y_train,\n",
        " epochs= training_epochs,\n",
        " batch_size = 516,\n",
        " validation_data = (X_test, y_test),\n",
        " verbose = 0\n",
        ")"
      ],
      "execution_count": 0,
      "outputs": []
    },
    {
      "cell_type": "markdown",
      "metadata": {
        "id": "A2J9-tnLJYIW",
        "colab_type": "text"
      },
      "source": [
        "### 2.4 Test the model"
      ]
    },
    {
      "cell_type": "markdown",
      "metadata": {
        "id": "3ZKU8VLpJbWk",
        "colab_type": "text"
      },
      "source": [
        "Model can generate output predictions for the input samples."
      ]
    },
    {
      "cell_type": "code",
      "metadata": {
        "id": "AYK4prZ2YY5E",
        "colab_type": "code",
        "colab": {}
      },
      "source": [
        "prediction_values = model.predict_classes(X_test)"
      ],
      "execution_count": 0,
      "outputs": []
    },
    {
      "cell_type": "markdown",
      "metadata": {
        "id": "6InzOUqfJaxN",
        "colab_type": "text"
      },
      "source": [
        "### 2.5 Accuracy"
      ]
    },
    {
      "cell_type": "markdown",
      "metadata": {
        "id": "yr-RAE_MjljU",
        "colab_type": "text"
      },
      "source": [
        "Test-Accuracy :"
      ]
    },
    {
      "cell_type": "code",
      "metadata": {
        "id": "uZiHPMfIYpNw",
        "colab_type": "code",
        "outputId": "44caa6a5-c3ed-4879-a6e3-bb3378428ac4",
        "colab": {
          "base_uri": "https://localhost:8080/",
          "height": 34
        }
      },
      "source": [
        "print(\"Test-Accuracy:\",\"%.2f%%\" % (np.mean(results.history[\"val_acc\"])*100))"
      ],
      "execution_count": 0,
      "outputs": [
        {
          "output_type": "stream",
          "text": [
            "Test-Accuracy: 96.22%\n"
          ],
          "name": "stdout"
        }
      ]
    },
    {
      "cell_type": "markdown",
      "metadata": {
        "id": "Nxsdsse8Jiih",
        "colab_type": "text"
      },
      "source": [
        "### 2.6 Evaluate the model to see the accuracy"
      ]
    },
    {
      "cell_type": "markdown",
      "metadata": {
        "id": "KFMbkie9JkJW",
        "colab_type": "text"
      },
      "source": [
        "Now we can check the accuracy of our model"
      ]
    },
    {
      "cell_type": "code",
      "metadata": {
        "id": "n2DTxPRAYpLg",
        "colab_type": "code",
        "outputId": "e0ddeed0-0d92-4ebb-898b-7fae19efb49d",
        "colab": {
          "base_uri": "https://localhost:8080/",
          "height": 119
        }
      },
      "source": [
        "print(\"Evaluating on training set...\")\n",
        "(loss, accuracy) = model.evaluate(X_train,y_train)\n",
        "print(\"loss={:.4f}, accuracy: {:.4f}%\".format(loss,accuracy * 100))\n",
        "\n",
        "\n",
        "print(\"Evaluating on testing set...\")\n",
        "(loss, accuracy) = model.evaluate(X_test, y_test)\n",
        "print(\"loss={:.4f}, accuracy: {:.4f}%\".format(loss,accuracy * 100))"
      ],
      "execution_count": 0,
      "outputs": [
        {
          "output_type": "stream",
          "text": [
            "Evaluating on training set...\n",
            "1203/1203 [==============================] - 0s 20us/step\n",
            "loss=0.0353, accuracy: 100.0000%\n",
            "Evaluating on testing set...\n",
            "594/594 [==============================] - 0s 19us/step\n",
            "loss=0.1051, accuracy: 97.4747%\n"
          ],
          "name": "stdout"
        }
      ]
    },
    {
      "cell_type": "markdown",
      "metadata": {
        "id": "WvB7Wmz_JnS7",
        "colab_type": "text"
      },
      "source": [
        "### 2.7 Summarize history for accuracy"
      ]
    },
    {
      "cell_type": "code",
      "metadata": {
        "id": "Gj0ghedxYpJK",
        "colab_type": "code",
        "outputId": "7f612e53-7a47-4bdc-d73f-2e4af2810f8b",
        "colab": {
          "base_uri": "https://localhost:8080/",
          "height": 393
        }
      },
      "source": [
        "# summarize history for accuracy\n",
        "plt.plot(results.history['acc'])\n",
        "plt.plot(results.history['val_acc'])\n",
        "plt.title('model accuracy')\n",
        "plt.ylabel('accuracy')\n",
        "plt.xlabel('epoch')\n",
        "plt.legend(['train', 'test'], loc='down right')"
      ],
      "execution_count": 0,
      "outputs": [
        {
          "output_type": "execute_result",
          "data": {
            "text/plain": [
              "<matplotlib.legend.Legend at 0x7fc661df1278>"
            ]
          },
          "metadata": {
            "tags": []
          },
          "execution_count": 13
        },
        {
          "output_type": "display_data",
          "data": {
            "image/png": "[encoded data removed]",
            "text/plain": [
              "<Figure size 576x396 with 1 Axes>"
            ]
          },
          "metadata": {
            "tags": []
          }
        }
      ]
    },
    {
      "cell_type": "markdown",
      "metadata": {
        "id": "-bf-Ig5WJq26",
        "colab_type": "text"
      },
      "source": [
        "### 2.8 Summarize history for loss"
      ]
    },
    {
      "cell_type": "code",
      "metadata": {
        "id": "pphKtdvYY0Nz",
        "colab_type": "code",
        "outputId": "aa4521c5-2ca1-46eb-bfd5-e512cc35d951",
        "colab": {
          "base_uri": "https://localhost:8080/",
          "height": 461
        }
      },
      "source": [
        "# summarize history for loss\n",
        "plt.plot(results.history['loss'])\n",
        "plt.plot(results.history['val_loss'])\n",
        "plt.title('model loss')\n",
        "plt.ylabel('loss')\n",
        "plt.xlabel('epoch')\n",
        "plt.legend(['train', 'test'], loc='upper right')\n",
        "\n",
        "max_loss = np.max(results.history['loss'])\n",
        "min_loss = np.min(results.history['loss'])\n",
        "print(\"Maximum Loss : {:.4f}\".format(max_loss))\n",
        "print(\"\")\n",
        "print(\"Minimum Loss : {:.4f}\".format(min_loss))\n",
        "print(\"\")\n",
        "print(\"Loss difference : {:.4f}\".format((max_loss - min_loss)))"
      ],
      "execution_count": 0,
      "outputs": [
        {
          "output_type": "stream",
          "text": [
            "Maximum Loss : 2.5555\n",
            "\n",
            "Minimum Loss : 0.0368\n",
            "\n",
            "Loss difference : 2.5187\n"
          ],
          "name": "stdout"
        },
        {
          "output_type": "display_data",
          "data": {
            "image/png": "[encoded data removed]",
            "text/plain": [
              "<Figure size 576x396 with 1 Axes>"
            ]
          },
          "metadata": {
            "tags": []
          }
        }
      ]
    },
    {
      "cell_type": "markdown",
      "metadata": {
        "id": "nHfiLBxpHvPE",
        "colab_type": "text"
      },
      "source": [
        "# 3. Visualization"
      ]
    },
    {
      "cell_type": "markdown",
      "metadata": {
        "id": "UExzNG6WJzqG",
        "colab_type": "text"
      },
      "source": [
        "### 3.3 Display the test set and predictions"
      ]
    },
    {
      "cell_type": "code",
      "metadata": {
        "id": "G-IZtwjDWBWG",
        "colab_type": "code",
        "outputId": "075d4852-4614-45a6-bac5-f4e5e92e0548",
        "colab": {
          "base_uri": "https://localhost:8080/",
          "height": 506
        }
      },
      "source": [
        "# set up the figure\n",
        "fig = plt.figure(figsize=(15, 7))\n",
        "fig.subplots_adjust(left=0, right=1, bottom=0, top=1, hspace=0.05, wspace=0.05)\n",
        "\n",
        "# plot the digits: each image is 8x8 pixels\n",
        "for i in range(120):\n",
        "    ax = fig.add_subplot(6, 20, i + 1, xticks=[], yticks=[])\n",
        "    ax.imshow(X_test[i,:].reshape((8,8)),cmap=plt.cm.gray_r, interpolation='nearest')\n",
        "    \n",
        "    # label the image with the target value\n",
        "    ax.text(0, 7, str(prediction_values[i]))"
      ],
      "execution_count": 0,
      "outputs": [
        {
          "output_type": "display_data",
          "data": {
            "image/png": "[encoded data removed]",
            "text/plain": [
              "<Figure size 1080x504 with 120 Axes>"
            ]
          },
          "metadata": {
            "tags": []
          }
        }
      ]
    },
    {
      "cell_type": "markdown",
      "metadata": {
        "id": "0T-63fnSJyT5",
        "colab_type": "text"
      },
      "source": [
        "### 3.2 Display the weights and biases of our model"
      ]
    },
    {
      "cell_type": "code",
      "metadata": {
        "id": "GrdnWl9Jc7n6",
        "colab_type": "code",
        "outputId": "fa48d0d7-a343-4432-c1b9-3674b19f6b05",
        "colab": {
          "base_uri": "https://localhost:8080/",
          "height": 2720
        }
      },
      "source": [
        "# Input layer\n",
        "weights0 = model.layers[0].get_weights()[0]\n",
        "biases0 = model.layers[0].get_weights()[1]\n",
        "print(\"Input layer weights\",weights0.shape,\":\\n\",weights0)\n",
        "print(\"Input layer biases\",biases0.shape,\":\\n\",biases0)\n",
        "\n",
        "\n",
        "# Output layer\n",
        "weights1 = model.layers[1].get_weights()[0]\n",
        "biases1 = model.layers[1].get_weights()[1]\n",
        "print(\"\\nOutput layer weights\",weights1.shape,\":\\n\",weights1)\n",
        "print(\"Output layer biases\",biases1.shape,\":\\n\",biases1)"
      ],
      "execution_count": 0,
      "outputs": [
        {
          "output_type": "stream",
          "text": [
            "Input layer weights (64, 64) :\n",
            " [[-5.9166725e-09  1.6740165e-11 -1.2997414e-08 ... -5.1955165e-09\n",
            "  -2.7143665e-10 -3.0589875e-09]\n",
            " [-1.0141629e-03 -1.4527570e-04  3.3891038e-03 ...  9.0785492e-03\n",
            "  -8.5311505e-04 -4.8067262e-03]\n",
            " [-1.7864341e-02 -1.8866219e-02 -4.0795352e-02 ...  5.5042554e-02\n",
            "   4.7605701e-02 -6.7474875e-03]\n",
            " ...\n",
            " [-5.2632387e-03 -2.5555544e-02  6.2801637e-02 ...  1.6831189e-02\n",
            "  -3.5198450e-02  5.8510620e-03]\n",
            " [ 6.6477405e-03 -2.0994550e-02  5.5299912e-02 ... -4.6451971e-02\n",
            "  -3.4394532e-03  2.5845164e-02]\n",
            " [-6.0498918e-04 -2.7246892e-02  1.9452751e-02 ...  1.2866711e-02\n",
            "   1.3447737e-02  1.7824076e-02]]\n",
            "Input layer biases (64,) :\n",
            " [-0.02080582  0.03954124 -0.03852064 -0.01613663 -0.03723038  0.0213472\n",
            " -0.04167084  0.02874641 -0.04507355 -0.09190588 -0.03722895 -0.03585697\n",
            "  0.03326237  0.11097312  0.09195423 -0.0611003   0.05671839 -0.03425475\n",
            " -0.10884117 -0.21280532 -0.02081346 -0.11751508  0.01059069 -0.01125959\n",
            "  0.04462831  0.04956888  0.06956676 -0.0289256   0.08143441  0.0114936\n",
            "  0.05949606 -0.02238753 -0.10455906 -0.00703314 -0.00166364  0.02363332\n",
            " -0.00264951  0.08759756  0.11095984 -0.02991846 -0.01341011  0.04522599\n",
            "  0.10760778  0.06890433 -0.08618029  0.02153482 -0.02885276  0.04278398\n",
            " -0.03253435  0.05530687  0.04005881  0.01074606  0.14660317  0.03345395\n",
            " -0.03854239 -0.01984604 -0.00930749  0.02627257  0.03217994 -0.02212281\n",
            " -0.10081378 -0.08748931  0.12754695 -0.03024256]\n",
            "\n",
            "Output layer weights (64, 10) :\n",
            " [[ 0.64152646  0.36371556 -0.06682207 -0.06441785 -0.2990921  -0.18378974\n",
            "  -0.18143582 -0.13422921 -0.43890336  0.13596086]\n",
            " [-0.46958405 -0.59819174 -0.7491414   0.17591903  0.22983685 -0.3293845\n",
            "   0.6093275   0.03293231  0.3964882   0.0243729 ]\n",
            " [ 0.1775495   0.7396833   0.36504918 -0.47819307  0.18604818 -0.18058638\n",
            "  -0.11036661 -0.32512695 -0.10863679  0.12389509]\n",
            " [-0.30632392  0.22868896  0.10832305 -0.09942599  0.07919653  0.20738116\n",
            "   0.22703815 -0.24457905  0.12406775  0.2220942 ]\n",
            " [-0.02073833  0.79146713 -0.48932484 -0.3315302  -0.05329862  0.8328473\n",
            "   0.6163587  -0.0242435  -0.2579631  -0.41336283]\n",
            " [ 0.38629514 -0.1731983   0.07347522 -0.41503334 -0.07769805  0.5078037\n",
            "   0.45928523  0.5617247  -0.31891096 -0.71698433]\n",
            " [-0.06387868 -0.00427893 -0.10879561 -0.09870297  0.18145241  0.08549902\n",
            "   0.21693909  0.02337891 -0.05313774 -0.0879144 ]\n",
            " [-0.06794577 -0.3004356  -0.5575877  -0.41428176  0.3966813   0.32953453\n",
            "  -0.38425487  0.0405453  -0.1526597   0.21871427]\n",
            " [ 0.23838165 -0.24797289 -0.18271972 -0.16420895 -0.2696257   0.6461972\n",
            "  -0.22222428 -0.22783242 -0.47668085 -0.36902067]\n",
            " [-0.3659349   0.3210589  -0.34356228 -0.47377947  0.16124386 -0.42412344\n",
            "  -0.09037609  0.1569137  -0.16094607 -0.12440371]\n",
            " [-0.32294786  0.08255166  0.39176935  0.31110182 -0.46277443  0.12199093\n",
            "  -0.37837565  0.3517204  -0.06326377  0.3099198 ]\n",
            " [ 0.47961867  0.24897191 -0.18587859  0.16016445  0.49849176 -0.19828296\n",
            "  -0.42213058  0.02018341 -0.16205935 -0.2198975 ]\n",
            " [ 0.42712325 -0.38174695 -0.6173362  -0.3086321   0.0346459   0.6054877\n",
            "   0.28579876 -0.27613127 -0.48679096  0.4661638 ]\n",
            " [-0.11047909  0.27056202 -0.06871606 -0.02482006  0.04377295 -0.05372671\n",
            "   0.00453639  0.20796287 -0.22715148 -0.26141003]\n",
            " [-0.25813964 -0.08712406  0.16804504  0.09076603  0.25148    -0.06551841\n",
            "  -0.01490146  0.12434398  0.16725793 -0.13485923]\n",
            " [ 0.1493129  -0.01193759  0.03737587 -0.10198317  0.15821502  0.04879118\n",
            "   0.1691107   0.22048691  0.15083776 -0.14511514]\n",
            " [-0.21902852  0.24078846 -0.16958427  0.02172792 -0.11765391 -0.21495111\n",
            "  -0.05958671 -0.18172996  0.05768922 -0.07457807]\n",
            " [ 0.1045939  -0.04667819  0.37567237 -0.29485452 -0.4773892   0.07441903\n",
            "   0.33837247 -0.25912282  0.05226647  0.36692163]\n",
            " [-0.23400073  0.17345145  0.2155185   0.20984937  0.11616324 -0.11614234\n",
            "   0.36786333  0.14178082  0.04687621 -0.08116   ]\n",
            " [-0.1651994   0.09004071 -0.13150147  0.11456837 -0.26532415  0.2586079\n",
            "   0.1719657   0.04872857  0.03224701 -0.28026322]\n",
            " [ 0.33025336 -0.05329037 -0.41273898 -0.70262647 -0.00130647 -0.54078215\n",
            "  -0.00980215  0.43766078  0.680633    0.447271  ]\n",
            " [ 0.4161987   0.1205597  -0.04739615 -0.05454419 -0.67321306  0.19066827\n",
            "   0.4532521  -0.2030248   0.7747696   0.03060712]\n",
            " [-0.25806633 -0.2542605   0.5043397   0.17907609 -0.3973366   0.51664376\n",
            "   0.5200855   0.25858074  0.14933373 -0.43338653]\n",
            " [-0.33695027  0.1456664  -0.3376524  -0.32916296  0.2862402   0.05227603\n",
            "   0.2997253   0.18517372 -0.42001584 -0.07868437]\n",
            " [-0.28584814  0.42068487 -0.42545867  0.24099176  0.34169737  0.31522202\n",
            "  -0.5049884   0.24049199 -0.25016278 -0.35100043]\n",
            " [ 0.07857076  0.2619501   0.13862275  0.1750026   0.12706317 -0.16909415\n",
            "  -0.2930651  -0.16077319 -0.23116414  0.24631645]\n",
            " [ 0.18941586 -0.41814438  0.09448536  0.02541878 -0.0723689   0.09286634\n",
            "  -0.16563669  0.5069197  -0.29285166 -0.1702935 ]\n",
            " [-0.13578032  0.7154411   0.6246245  -0.40016815 -0.47959968  0.06468245\n",
            "  -0.3466493   0.20762913  0.24664174  0.44840223]\n",
            " [ 0.2859152  -0.09403023 -0.34475297 -0.34975576  0.38343003 -0.1584123\n",
            "   0.35030308 -0.23203647  0.3623893  -0.16161376]\n",
            " [ 0.35822242 -0.4857899  -0.5473191  -0.4990622   0.4632431   0.15264927\n",
            "  -0.3300551   0.4220046  -0.6078575   0.4559299 ]\n",
            " [ 0.17175888 -0.10259555  0.06494381 -0.152191    0.18024878 -0.14274031\n",
            "  -0.12511371  0.23971479  0.01450433 -0.09881744]\n",
            " [-0.5457644   0.30852002  0.2288779   0.05382057 -0.1655806   0.26618925\n",
            "  -0.78544545  0.10112131  0.29839075  0.18039982]\n",
            " [-0.29415014  0.7605074  -0.47876358 -0.07680579  0.442863    0.06937763\n",
            "   0.57730573 -0.26563385 -0.5682402  -0.31009775]\n",
            " [ 0.01313871  0.5290803  -0.25948143 -0.42911124 -0.04699853 -0.51190454\n",
            "   0.52123934  0.61395895  0.12240984 -0.44587302]\n",
            " [ 0.17391711  0.40816334  0.18842681 -0.29521018  0.54476124  0.1385763\n",
            "   0.42822513 -0.42761758  0.01867133  0.18407395]\n",
            " [ 0.25774375 -0.09007376  0.5787106  -0.41376892  0.13368353 -0.3384795\n",
            "   0.35016283  0.49351847  0.04599402 -0.881473  ]\n",
            " [-0.16747022  0.03043373  0.14336881 -0.03067566 -0.02360826 -0.4611191\n",
            "   0.32844192  0.38332963  0.4641855  -0.0959427 ]\n",
            " [ 0.03019865 -0.08911877 -0.02455904 -0.14347899 -0.04742847 -0.25087196\n",
            "  -0.1743301  -0.1192847  -0.24569786  0.00697117]\n",
            " [ 0.39297232 -0.27547124  0.17510788  0.02670934 -0.00693827 -0.3398746\n",
            "   0.35123473  0.19136156 -0.15989901  0.1007069 ]\n",
            " [ 0.44525942  0.57857525 -0.21598783  0.17022885 -0.5451872   0.3465192\n",
            "  -0.30065724 -0.6060791   0.08371359  0.3403875 ]\n",
            " [-0.4334035   0.13399692  0.23619892  0.3624674  -0.08176454  0.3345065\n",
            "   0.3944074   0.13367374 -0.7077752  -0.1203738 ]\n",
            " [ 0.29563773 -0.34741968  0.5483836   0.21728483  0.31610987 -0.21895604\n",
            "   0.36422077 -0.2369328   0.01553267 -0.17847058]\n",
            " [ 0.30639797 -0.5009919  -0.07853485 -0.07976073 -0.7857442   0.25620264\n",
            "  -0.1275351  -0.00222992  0.5649713  -0.04549912]\n",
            " [ 0.16955946 -0.11186881 -0.09853967  0.20335914  0.08373792 -0.16659442\n",
            "   0.15596062 -0.22368164  0.26430774  0.14728811]\n",
            " [-0.43752745  0.4298893  -0.5264596  -0.3836431   0.14095789  0.61321336\n",
            "  -0.5082067   0.40433025 -0.27603847  0.1388981 ]\n",
            " [ 0.15606964 -0.14301935  0.56379867  0.14151558 -0.066755    0.6687829\n",
            "   0.4840642   0.250338   -0.11452304 -0.3715007 ]\n",
            " [ 0.299697   -0.12394299  0.06472029 -0.08667649  0.2991384   0.41536424\n",
            "   0.16230732 -0.33900592  0.27198514 -0.3269666 ]\n",
            " [ 0.02414634  0.14421767 -0.11928866 -0.17005256 -0.1059599  -0.15307151\n",
            "   0.08793645  0.16385645 -0.01126812 -0.03470776]\n",
            " [-0.3862008   0.31099182  0.08156129  0.19142388  0.40375784  0.27714124\n",
            "  -0.6590537   0.17569734 -0.5408007  -0.37281516]\n",
            " [ 0.21919276 -0.25504136 -0.08773486  0.26782355 -0.36627874 -0.3597355\n",
            "  -0.32372588  0.17378378 -0.62139153  0.6029219 ]\n",
            " [-0.1561808  -0.3934761   0.09978376 -0.35528058  0.52273166  0.4152345\n",
            "  -0.26216528 -0.5075322   0.24589851  0.3653828 ]\n",
            " [ 0.09970683 -0.25582555  0.28350672 -0.7635838   0.43827856 -0.7147976\n",
            "   0.28785685  0.2321951   0.17300087  0.21676682]\n",
            " [ 0.1091048  -0.01171888 -0.03660511 -0.1560245   0.30857953  0.20118448\n",
            "  -0.00575214 -0.26000527 -0.07145143 -0.15977915]\n",
            " [ 0.07603588  0.38263422  0.23253702  0.20690924 -0.25179428 -0.27322128\n",
            "   0.10271756 -0.44461492  0.45583564 -0.541775  ]\n",
            " [ 0.11960736 -0.44665354 -0.3165565  -0.19922115 -0.40813026  0.43196118\n",
            "  -0.29047212 -0.2723658   0.43200457  0.4580074 ]\n",
            " [ 0.2899606  -0.05288724 -0.11287289 -0.20704807  0.26841223 -0.171633\n",
            "   0.11776672 -0.29655585  0.2105774  -0.12835485]\n",
            " [-0.2704994   0.310041   -0.44743916 -0.3143194   0.55759275 -0.1462367\n",
            "   0.11674671  0.30995488  0.7646005  -0.29237172]\n",
            " [ 0.16826004 -0.4453157  -0.4178262  -0.4913512   0.50014096  0.60844886\n",
            "  -0.4500643  -0.16791138 -0.5490886   0.44910896]\n",
            " [ 0.01020008 -0.19086523 -0.7429208   0.31361786  0.16679363 -0.04122353\n",
            "  -0.32879046  0.22224088  0.50900006  0.07410796]\n",
            " [ 0.30957973 -0.05054909  0.47463498 -0.2725122  -0.339725    0.20490262\n",
            "   0.5944745  -0.23749672 -0.5437535   0.19927496]\n",
            " [ 0.2585739  -0.06525629  0.24002574 -0.03559605 -0.2556871  -0.23504096\n",
            "   0.2577791   0.1883041   0.00862189  0.02661588]\n",
            " [ 0.4280597   0.3255605  -0.20236042 -0.273632    0.0782267   0.64762795\n",
            "   0.27395117 -0.51807404  0.5047885  -0.58065736]\n",
            " [ 0.22960927 -0.34685522  0.5075389  -0.18192126  0.44353235 -0.05628624\n",
            "  -0.1356642   0.45081466  0.06805719 -0.2748264 ]\n",
            " [ 0.25253478  0.23768775  0.88793033 -0.5121115  -0.0347507  -0.36389115\n",
            "  -0.43286324 -0.21961229 -0.23987262 -0.37100056]]\n",
            "Output layer biases (10,) :\n",
            " [-0.0384086   0.05542977 -0.01429009 -0.00256099  0.07930902  0.00126825\n",
            " -0.06212511  0.01715545 -0.01613026 -0.01564882]\n"
          ],
          "name": "stdout"
        }
      ]
    },
    {
      "cell_type": "markdown",
      "metadata": {
        "id": "Br9IipDkDtAd",
        "colab_type": "text"
      },
      "source": [
        "\n",
        "\n",
        "---\n",
        "\n",
        "\n",
        "\n",
        "---\n",
        "\n",
        "\n",
        "For more informations, visit http://datahacker.rs/ .\n",
        "\n",
        "\n",
        "---\n",
        "\n",
        "\n",
        "\n",
        "---\n",
        "\n"
      ]
    }
  ]
}